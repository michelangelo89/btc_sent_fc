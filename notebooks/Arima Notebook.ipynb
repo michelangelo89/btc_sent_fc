{
 "cells": [
  {
   "cell_type": "markdown",
   "id": "dfe8d27d",
   "metadata": {},
   "source": [
    "# imports"
   ]
  },
  {
   "cell_type": "code",
   "execution_count": 1,
   "id": "4f401e02",
   "metadata": {},
   "outputs": [],
   "source": [
    "import pandas as pd\n",
    "import numpy as np"
   ]
  },
  {
   "cell_type": "code",
   "execution_count": 25,
   "id": "fd91da55",
   "metadata": {},
   "outputs": [],
   "source": [
    "from statsmodels.graphics.tsaplots import plot_pacf, plot_acf\n",
    "from pmdarima.arima.utils import ndiffs\n",
    "from statsmodels.tsa.arima.model import ARIMA\n",
    "import pmdarima as pm\n",
    "import matplotlib.pyplot as plt\n",
    "from statsmodels.tsa.seasonal import seasonal_decompose"
   ]
  },
  {
   "cell_type": "code",
   "execution_count": 3,
   "id": "3af44b43",
   "metadata": {},
   "outputs": [],
   "source": [
    "from statsmodels.tsa.stattools import adfuller"
   ]
  },
  {
   "cell_type": "markdown",
   "id": "c22d2392",
   "metadata": {},
   "source": [
    "# csv to dataframe"
   ]
  },
  {
   "cell_type": "code",
   "execution_count": 4,
   "id": "e1181b9c",
   "metadata": {},
   "outputs": [],
   "source": [
    "raw_data_df = pd.read_csv('/home/mrstoian/code/mrstoian/btc_sent_fc/raw_data/coinbase_2014-2021.csv')"
   ]
  },
  {
   "cell_type": "code",
   "execution_count": 5,
   "id": "f9089ecc",
   "metadata": {
    "scrolled": true
   },
   "outputs": [
    {
     "data": {
      "text/html": [
       "<div>\n",
       "<style scoped>\n",
       "    .dataframe tbody tr th:only-of-type {\n",
       "        vertical-align: middle;\n",
       "    }\n",
       "\n",
       "    .dataframe tbody tr th {\n",
       "        vertical-align: top;\n",
       "    }\n",
       "\n",
       "    .dataframe thead th {\n",
       "        text-align: right;\n",
       "    }\n",
       "</style>\n",
       "<table border=\"1\" class=\"dataframe\">\n",
       "  <thead>\n",
       "    <tr style=\"text-align: right;\">\n",
       "      <th></th>\n",
       "      <th>time</th>\n",
       "      <th>close</th>\n",
       "      <th>high</th>\n",
       "      <th>low</th>\n",
       "      <th>open</th>\n",
       "      <th>volumeto</th>\n",
       "      <th>volumefrom</th>\n",
       "      <th>mean_price</th>\n",
       "      <th>volumefrom_USD</th>\n",
       "      <th>volume_net</th>\n",
       "      <th>volume_gross</th>\n",
       "      <th>volume_gross_30</th>\n",
       "    </tr>\n",
       "  </thead>\n",
       "  <tbody>\n",
       "    <tr>\n",
       "      <th>0</th>\n",
       "      <td>2014-12-01</td>\n",
       "      <td>370.00</td>\n",
       "      <td>370.00</td>\n",
       "      <td>300.00</td>\n",
       "      <td>300.00</td>\n",
       "      <td>1.953000e+01</td>\n",
       "      <td>0.05656</td>\n",
       "      <td>335.000</td>\n",
       "      <td>1.894760e+01</td>\n",
       "      <td>5.824000e-01</td>\n",
       "      <td>3.847760e+01</td>\n",
       "      <td>NaN</td>\n",
       "    </tr>\n",
       "    <tr>\n",
       "      <th>1</th>\n",
       "      <td>2014-12-02</td>\n",
       "      <td>378.00</td>\n",
       "      <td>378.00</td>\n",
       "      <td>370.00</td>\n",
       "      <td>370.00</td>\n",
       "      <td>5.675070e+03</td>\n",
       "      <td>15.01000</td>\n",
       "      <td>374.000</td>\n",
       "      <td>5.613740e+03</td>\n",
       "      <td>6.133000e+01</td>\n",
       "      <td>1.128881e+04</td>\n",
       "      <td>NaN</td>\n",
       "    </tr>\n",
       "    <tr>\n",
       "      <th>2</th>\n",
       "      <td>2014-12-03</td>\n",
       "      <td>378.00</td>\n",
       "      <td>378.00</td>\n",
       "      <td>377.01</td>\n",
       "      <td>378.00</td>\n",
       "      <td>2.065200e+02</td>\n",
       "      <td>0.54660</td>\n",
       "      <td>377.505</td>\n",
       "      <td>2.063442e+02</td>\n",
       "      <td>1.757670e-01</td>\n",
       "      <td>4.128642e+02</td>\n",
       "      <td>NaN</td>\n",
       "    </tr>\n",
       "    <tr>\n",
       "      <th>3</th>\n",
       "      <td>2014-12-04</td>\n",
       "      <td>377.10</td>\n",
       "      <td>378.00</td>\n",
       "      <td>377.10</td>\n",
       "      <td>378.00</td>\n",
       "      <td>3.771000e+00</td>\n",
       "      <td>0.01000</td>\n",
       "      <td>377.550</td>\n",
       "      <td>3.775500e+00</td>\n",
       "      <td>-4.500000e-03</td>\n",
       "      <td>7.546500e+00</td>\n",
       "      <td>NaN</td>\n",
       "    </tr>\n",
       "    <tr>\n",
       "      <th>4</th>\n",
       "      <td>2014-12-06</td>\n",
       "      <td>378.00</td>\n",
       "      <td>378.00</td>\n",
       "      <td>377.10</td>\n",
       "      <td>377.10</td>\n",
       "      <td>5.670000e+00</td>\n",
       "      <td>0.01500</td>\n",
       "      <td>377.550</td>\n",
       "      <td>5.663250e+00</td>\n",
       "      <td>6.750000e-03</td>\n",
       "      <td>1.133325e+01</td>\n",
       "      <td>NaN</td>\n",
       "    </tr>\n",
       "    <tr>\n",
       "      <th>...</th>\n",
       "      <td>...</td>\n",
       "      <td>...</td>\n",
       "      <td>...</td>\n",
       "      <td>...</td>\n",
       "      <td>...</td>\n",
       "      <td>...</td>\n",
       "      <td>...</td>\n",
       "      <td>...</td>\n",
       "      <td>...</td>\n",
       "      <td>...</td>\n",
       "      <td>...</td>\n",
       "      <td>...</td>\n",
       "    </tr>\n",
       "    <tr>\n",
       "      <th>2509</th>\n",
       "      <td>2021-11-18</td>\n",
       "      <td>56898.00</td>\n",
       "      <td>60977.21</td>\n",
       "      <td>56514.13</td>\n",
       "      <td>60351.51</td>\n",
       "      <td>1.566051e+09</td>\n",
       "      <td>26742.24000</td>\n",
       "      <td>58745.670</td>\n",
       "      <td>1.570991e+09</td>\n",
       "      <td>-4.939710e+06</td>\n",
       "      <td>3.137042e+09</td>\n",
       "      <td>1.702896e+09</td>\n",
       "    </tr>\n",
       "    <tr>\n",
       "      <th>2510</th>\n",
       "      <td>2021-11-19</td>\n",
       "      <td>58122.16</td>\n",
       "      <td>58412.12</td>\n",
       "      <td>55625.00</td>\n",
       "      <td>56898.00</td>\n",
       "      <td>1.062148e+09</td>\n",
       "      <td>18548.35000</td>\n",
       "      <td>57018.560</td>\n",
       "      <td>1.057600e+09</td>\n",
       "      <td>4.548207e+06</td>\n",
       "      <td>2.119749e+09</td>\n",
       "      <td>1.689764e+09</td>\n",
       "    </tr>\n",
       "    <tr>\n",
       "      <th>2511</th>\n",
       "      <td>2021-11-20</td>\n",
       "      <td>59760.76</td>\n",
       "      <td>59900.00</td>\n",
       "      <td>57423.35</td>\n",
       "      <td>58122.16</td>\n",
       "      <td>4.448062e+08</td>\n",
       "      <td>7582.40000</td>\n",
       "      <td>58661.675</td>\n",
       "      <td>4.447963e+08</td>\n",
       "      <td>9.868630e+03</td>\n",
       "      <td>8.896024e+08</td>\n",
       "      <td>1.618839e+09</td>\n",
       "    </tr>\n",
       "    <tr>\n",
       "      <th>2512</th>\n",
       "      <td>2021-11-21</td>\n",
       "      <td>58671.21</td>\n",
       "      <td>60070.00</td>\n",
       "      <td>58509.69</td>\n",
       "      <td>59760.76</td>\n",
       "      <td>3.945169e+08</td>\n",
       "      <td>6660.78000</td>\n",
       "      <td>59289.845</td>\n",
       "      <td>3.949166e+08</td>\n",
       "      <td>-3.996892e+05</td>\n",
       "      <td>7.894335e+08</td>\n",
       "      <td>1.574183e+09</td>\n",
       "    </tr>\n",
       "    <tr>\n",
       "      <th>2513</th>\n",
       "      <td>2021-11-22</td>\n",
       "      <td>58395.12</td>\n",
       "      <td>59526.51</td>\n",
       "      <td>56641.56</td>\n",
       "      <td>58671.21</td>\n",
       "      <td>3.892775e+08</td>\n",
       "      <td>6736.85000</td>\n",
       "      <td>58084.035</td>\n",
       "      <td>3.913034e+08</td>\n",
       "      <td>-2.025900e+06</td>\n",
       "      <td>7.805810e+08</td>\n",
       "      <td>1.572979e+09</td>\n",
       "    </tr>\n",
       "  </tbody>\n",
       "</table>\n",
       "<p>2514 rows × 12 columns</p>\n",
       "</div>"
      ],
      "text/plain": [
       "           time     close      high       low      open      volumeto  \\\n",
       "0    2014-12-01    370.00    370.00    300.00    300.00  1.953000e+01   \n",
       "1    2014-12-02    378.00    378.00    370.00    370.00  5.675070e+03   \n",
       "2    2014-12-03    378.00    378.00    377.01    378.00  2.065200e+02   \n",
       "3    2014-12-04    377.10    378.00    377.10    378.00  3.771000e+00   \n",
       "4    2014-12-06    378.00    378.00    377.10    377.10  5.670000e+00   \n",
       "...         ...       ...       ...       ...       ...           ...   \n",
       "2509 2021-11-18  56898.00  60977.21  56514.13  60351.51  1.566051e+09   \n",
       "2510 2021-11-19  58122.16  58412.12  55625.00  56898.00  1.062148e+09   \n",
       "2511 2021-11-20  59760.76  59900.00  57423.35  58122.16  4.448062e+08   \n",
       "2512 2021-11-21  58671.21  60070.00  58509.69  59760.76  3.945169e+08   \n",
       "2513 2021-11-22  58395.12  59526.51  56641.56  58671.21  3.892775e+08   \n",
       "\n",
       "       volumefrom  mean_price  volumefrom_USD    volume_net  volume_gross  \\\n",
       "0         0.05656     335.000    1.894760e+01  5.824000e-01  3.847760e+01   \n",
       "1        15.01000     374.000    5.613740e+03  6.133000e+01  1.128881e+04   \n",
       "2         0.54660     377.505    2.063442e+02  1.757670e-01  4.128642e+02   \n",
       "3         0.01000     377.550    3.775500e+00 -4.500000e-03  7.546500e+00   \n",
       "4         0.01500     377.550    5.663250e+00  6.750000e-03  1.133325e+01   \n",
       "...           ...         ...             ...           ...           ...   \n",
       "2509  26742.24000   58745.670    1.570991e+09 -4.939710e+06  3.137042e+09   \n",
       "2510  18548.35000   57018.560    1.057600e+09  4.548207e+06  2.119749e+09   \n",
       "2511   7582.40000   58661.675    4.447963e+08  9.868630e+03  8.896024e+08   \n",
       "2512   6660.78000   59289.845    3.949166e+08 -3.996892e+05  7.894335e+08   \n",
       "2513   6736.85000   58084.035    3.913034e+08 -2.025900e+06  7.805810e+08   \n",
       "\n",
       "      volume_gross_30  \n",
       "0                 NaN  \n",
       "1                 NaN  \n",
       "2                 NaN  \n",
       "3                 NaN  \n",
       "4                 NaN  \n",
       "...               ...  \n",
       "2509     1.702896e+09  \n",
       "2510     1.689764e+09  \n",
       "2511     1.618839e+09  \n",
       "2512     1.574183e+09  \n",
       "2513     1.572979e+09  \n",
       "\n",
       "[2514 rows x 12 columns]"
      ]
     },
     "execution_count": 5,
     "metadata": {},
     "output_type": "execute_result"
    }
   ],
   "source": [
    "raw_data_df['time'] = pd.to_datetime(raw_data_df['time'])\n",
    "raw_data_df"
   ]
  },
  {
   "cell_type": "code",
   "execution_count": 6,
   "id": "0be1e50f",
   "metadata": {},
   "outputs": [],
   "source": [
    "raw_data_df = raw_data_df[raw_data_df['time'] >= \"2016-01-01\"]"
   ]
  },
  {
   "cell_type": "code",
   "execution_count": 7,
   "id": "ea8daa7d",
   "metadata": {},
   "outputs": [],
   "source": [
    "raw_data_df.set_index('time', inplace=True)"
   ]
  },
  {
   "cell_type": "code",
   "execution_count": 8,
   "id": "2d6f4ec9",
   "metadata": {},
   "outputs": [],
   "source": [
    "gross_volume_df = raw_data_df[['volume_gross']]"
   ]
  },
  {
   "cell_type": "code",
   "execution_count": 9,
   "id": "9167c807",
   "metadata": {},
   "outputs": [
    {
     "data": {
      "text/html": [
       "<div>\n",
       "<style scoped>\n",
       "    .dataframe tbody tr th:only-of-type {\n",
       "        vertical-align: middle;\n",
       "    }\n",
       "\n",
       "    .dataframe tbody tr th {\n",
       "        vertical-align: top;\n",
       "    }\n",
       "\n",
       "    .dataframe thead th {\n",
       "        text-align: right;\n",
       "    }\n",
       "</style>\n",
       "<table border=\"1\" class=\"dataframe\">\n",
       "  <thead>\n",
       "    <tr style=\"text-align: right;\">\n",
       "      <th></th>\n",
       "      <th>volume_gross</th>\n",
       "    </tr>\n",
       "    <tr>\n",
       "      <th>time</th>\n",
       "      <th></th>\n",
       "    </tr>\n",
       "  </thead>\n",
       "  <tbody>\n",
       "    <tr>\n",
       "      <th>2016-01-01</th>\n",
       "      <td>3.371161e+06</td>\n",
       "    </tr>\n",
       "    <tr>\n",
       "      <th>2016-01-02</th>\n",
       "      <td>2.852855e+06</td>\n",
       "    </tr>\n",
       "    <tr>\n",
       "      <th>2016-01-03</th>\n",
       "      <td>3.376339e+06</td>\n",
       "    </tr>\n",
       "    <tr>\n",
       "      <th>2016-01-04</th>\n",
       "      <td>5.063019e+06</td>\n",
       "    </tr>\n",
       "    <tr>\n",
       "      <th>2016-01-05</th>\n",
       "      <td>4.434725e+06</td>\n",
       "    </tr>\n",
       "    <tr>\n",
       "      <th>...</th>\n",
       "      <td>...</td>\n",
       "    </tr>\n",
       "    <tr>\n",
       "      <th>2021-11-18</th>\n",
       "      <td>3.137042e+09</td>\n",
       "    </tr>\n",
       "    <tr>\n",
       "      <th>2021-11-19</th>\n",
       "      <td>2.119749e+09</td>\n",
       "    </tr>\n",
       "    <tr>\n",
       "      <th>2021-11-20</th>\n",
       "      <td>8.896024e+08</td>\n",
       "    </tr>\n",
       "    <tr>\n",
       "      <th>2021-11-21</th>\n",
       "      <td>7.894335e+08</td>\n",
       "    </tr>\n",
       "    <tr>\n",
       "      <th>2021-11-22</th>\n",
       "      <td>7.805810e+08</td>\n",
       "    </tr>\n",
       "  </tbody>\n",
       "</table>\n",
       "<p>2153 rows × 1 columns</p>\n",
       "</div>"
      ],
      "text/plain": [
       "            volume_gross\n",
       "time                    \n",
       "2016-01-01  3.371161e+06\n",
       "2016-01-02  2.852855e+06\n",
       "2016-01-03  3.376339e+06\n",
       "2016-01-04  5.063019e+06\n",
       "2016-01-05  4.434725e+06\n",
       "...                  ...\n",
       "2021-11-18  3.137042e+09\n",
       "2021-11-19  2.119749e+09\n",
       "2021-11-20  8.896024e+08\n",
       "2021-11-21  7.894335e+08\n",
       "2021-11-22  7.805810e+08\n",
       "\n",
       "[2153 rows x 1 columns]"
      ]
     },
     "execution_count": 9,
     "metadata": {},
     "output_type": "execute_result"
    }
   ],
   "source": [
    "gross_volume_df"
   ]
  },
  {
   "cell_type": "markdown",
   "id": "e73e48b9",
   "metadata": {},
   "source": [
    "# finding the hyperparameter i"
   ]
  },
  {
   "cell_type": "code",
   "execution_count": 10,
   "id": "be3afda6",
   "metadata": {},
   "outputs": [
    {
     "name": "stderr",
     "output_type": "stream",
     "text": [
      "/tmp/ipykernel_2584/2540036761.py:1: SettingWithCopyWarning: \n",
      "A value is trying to be set on a copy of a slice from a DataFrame.\n",
      "Try using .loc[row_indexer,col_indexer] = value instead\n",
      "\n",
      "See the caveats in the documentation: https://pandas.pydata.org/pandas-docs/stable/user_guide/indexing.html#returning-a-view-versus-a-copy\n",
      "  gross_volume_df['log'] = np.log(gross_volume_df.volume_gross)\n"
     ]
    }
   ],
   "source": [
    "gross_volume_df['log'] = np.log(gross_volume_df.volume_gross)"
   ]
  },
  {
   "cell_type": "code",
   "execution_count": 11,
   "id": "04d77bfe",
   "metadata": {},
   "outputs": [
    {
     "data": {
      "image/png": "[encoded data removed]",
      "text/plain": [
       "<Figure size 1440x288 with 3 Axes>"
      ]
     },
     "metadata": {
      "needs_background": "light"
     },
     "output_type": "display_data"
    }
   ],
   "source": [
    "# Let's check the first diffs\n",
    "zero_diff = gross_volume_df.log\n",
    "first_order_diff = gross_volume_df.log.diff(1)\n",
    "second_order_diff = gross_volume_df.log.diff(1).diff(1)\n",
    "\n",
    "\n",
    "fig, (ax1, ax2, ax3) = plt.subplots(1, 3, figsize=(20,4))\n",
    "ax1.plot(zero_diff); ax1.set_title('Original Series')\n",
    "ax2.plot(first_order_diff); ax2.set_title('1st Order Differencing')\n",
    "ax3.plot(second_order_diff); ax3.set_title('2nd Order Differencing');"
   ]
  },
  {
   "cell_type": "code",
   "execution_count": 12,
   "id": "e6537e7e",
   "metadata": {},
   "outputs": [
    {
     "data": {
      "image/png": "[encoded data removed]",
      "text/plain": [
       "<Figure size 432x288 with 4 Axes>"
      ]
     },
     "metadata": {
      "needs_background": "light"
     },
     "output_type": "display_data"
    }
   ],
   "source": [
    "result_mul = seasonal_decompose(gross_volume_df['log'], model='multiplicative',period=7)\n",
    "result_mul.plot();"
   ]
  },
  {
   "cell_type": "code",
   "execution_count": 13,
   "id": "11da2a09",
   "metadata": {},
   "outputs": [
    {
     "name": "stderr",
     "output_type": "stream",
     "text": [
      "/tmp/ipykernel_2584/165657168.py:2: SettingWithCopyWarning: \n",
      "A value is trying to be set on a copy of a slice from a DataFrame.\n",
      "Try using .loc[row_indexer,col_indexer] = value instead\n",
      "\n",
      "See the caveats in the documentation: https://pandas.pydata.org/pandas-docs/stable/user_guide/indexing.html#returning-a-view-versus-a-copy\n",
      "  gross_volume_df['deseasonalized'] = gross_volume_df.log/result_mul.seasonal\n"
     ]
    }
   ],
   "source": [
    "# Let's remove seasons\n",
    "gross_volume_df['deseasonalized'] = gross_volume_df.log/result_mul.seasonal"
   ]
  },
  {
   "cell_type": "code",
   "execution_count": 14,
   "id": "1dcb1fe9",
   "metadata": {},
   "outputs": [],
   "source": [
    "linearized_df = gross_volume_df"
   ]
  },
  {
   "cell_type": "code",
   "execution_count": 15,
   "id": "e0983b33",
   "metadata": {},
   "outputs": [
    {
     "data": {
      "image/png": "[encoded data removed]",
      "text/plain": [
       "<Figure size 1080x288 with 2 Axes>"
      ]
     },
     "metadata": {
      "needs_background": "light"
     },
     "output_type": "display_data"
    }
   ],
   "source": [
    "plt.figure(figsize=(15,4)); plt.subplot(1,2,1); plt.plot(gross_volume_df.volume_gross);\n",
    "plt.title('Gross Volume', fontsize=16);\n",
    "\n",
    "plt.subplot(1,2,2); plt.plot(linearized_df['deseasonalized'])\n",
    "plt.title('Deseasonalized', fontsize=16);"
   ]
  },
  {
   "cell_type": "code",
   "execution_count": 16,
   "id": "599d329c",
   "metadata": {},
   "outputs": [
    {
     "data": {
      "text/plain": [
       "1"
      ]
     },
     "execution_count": 16,
     "metadata": {},
     "output_type": "execute_result"
    }
   ],
   "source": [
    "# automatically estimate differencing term\n",
    "ndiffs(linearized_df['deseasonalized'])"
   ]
  },
  {
   "cell_type": "code",
   "execution_count": 17,
   "id": "52530507",
   "metadata": {},
   "outputs": [],
   "source": [
    "# take the first order diff -> d=1\n",
    "first_order_diff_lin = linearized_df.deseasonalized"
   ]
  },
  {
   "cell_type": "code",
   "execution_count": 18,
   "id": "28835936",
   "metadata": {},
   "outputs": [
    {
     "data": {
      "text/plain": [
       "0.36666634943928733"
      ]
     },
     "execution_count": 18,
     "metadata": {},
     "output_type": "execute_result"
    }
   ],
   "source": [
    "adfuller(first_order_diff_lin)[1] #checking the p-val"
   ]
  },
  {
   "cell_type": "code",
   "execution_count": 19,
   "id": "0fbcf7c8",
   "metadata": {},
   "outputs": [
    {
     "name": "stderr",
     "output_type": "stream",
     "text": [
      "/home/mrstoian/.pyenv/versions/3.8.12/envs/btc_sent_fc/lib/python3.8/site-packages/statsmodels/graphics/tsaplots.py:348: FutureWarning: The default method 'yw' can produce PACF values outside of the [-1,1] interval. After 0.13, the default will change tounadjusted Yule-Walker ('ywm'). You can use this method now by setting method='ywm'.\n",
      "  warnings.warn(\n"
     ]
    },
    {
     "data": {
      "image/png": "[encoded data removed]",
      "text/plain": [
       "<Figure size 1152x180 with 3 Axes>"
      ]
     },
     "metadata": {
      "needs_background": "light"
     },
     "output_type": "display_data"
    }
   ],
   "source": [
    "# ACF / PACF analysis of y_diff linearized\n",
    "fig, axes = plt.subplots(1,3, figsize=(16,2.5))\n",
    "axes[0].plot(first_order_diff_lin); axes[0].set_title('1st Order Differencing')\n",
    "plot_acf(first_order_diff_lin, ax=axes[1]);\n",
    "plot_pacf(first_order_diff_lin, ax=axes[2], c='r');"
   ]
  },
  {
   "cell_type": "code",
   "execution_count": 20,
   "id": "00a85a36",
   "metadata": {},
   "outputs": [
    {
     "data": {
      "image/png": "[encoded data removed]",
      "text/plain": [
       "<Figure size 432x288 with 1 Axes>"
      ]
     },
     "execution_count": 20,
     "metadata": {},
     "output_type": "execute_result"
    },
    {
     "data": {
      "image/png": "[encoded data removed]",
      "text/plain": [
       "<Figure size 432x288 with 1 Axes>"
      ]
     },
     "metadata": {
      "needs_background": "light"
     },
     "output_type": "display_data"
    }
   ],
   "source": [
    "plot_acf(first_order_diff_lin) # q=3"
   ]
  },
  {
   "cell_type": "code",
   "execution_count": 21,
   "id": "342d1314",
   "metadata": {},
   "outputs": [
    {
     "name": "stderr",
     "output_type": "stream",
     "text": [
      "/home/mrstoian/.pyenv/versions/3.8.12/envs/btc_sent_fc/lib/python3.8/site-packages/statsmodels/graphics/tsaplots.py:348: FutureWarning: The default method 'yw' can produce PACF values outside of the [-1,1] interval. After 0.13, the default will change tounadjusted Yule-Walker ('ywm'). You can use this method now by setting method='ywm'.\n",
      "  warnings.warn(\n"
     ]
    },
    {
     "data": {
      "image/png": "[encoded data removed]",
      "text/plain": [
       "<Figure size 432x288 with 1 Axes>"
      ]
     },
     "execution_count": 21,
     "metadata": {},
     "output_type": "execute_result"
    },
    {
     "data": {
      "image/png": "[encoded data removed]",
      "text/plain": [
       "<Figure size 432x288 with 1 Axes>"
      ]
     },
     "metadata": {
      "needs_background": "light"
     },
     "output_type": "display_data"
    }
   ],
   "source": [
    "plot_pacf(first_order_diff_lin)"
   ]
  },
  {
   "cell_type": "code",
   "execution_count": 22,
   "id": "ba41c02c",
   "metadata": {},
   "outputs": [
    {
     "name": "stdout",
     "output_type": "stream",
     "text": [
      "Performing stepwise search to minimize aic\n",
      " ARIMA(1,1,1)(0,0,0)[0] intercept   : AIC=2000.760, Time=1.60 sec\n",
      " ARIMA(0,1,0)(0,0,0)[0] intercept   : AIC=2453.551, Time=0.45 sec\n",
      " ARIMA(1,1,0)(0,0,0)[0] intercept   : AIC=2282.189, Time=0.18 sec\n",
      " ARIMA(0,1,1)(0,0,0)[0] intercept   : AIC=2094.723, Time=1.04 sec\n",
      " ARIMA(0,1,0)(0,0,0)[0]             : AIC=2451.628, Time=0.16 sec\n",
      " ARIMA(2,1,1)(0,0,0)[0] intercept   : AIC=1997.771, Time=1.30 sec\n",
      " ARIMA(2,1,0)(0,0,0)[0] intercept   : AIC=2136.019, Time=0.33 sec\n",
      " ARIMA(3,1,1)(0,0,0)[0] intercept   : AIC=1999.039, Time=1.77 sec\n",
      " ARIMA(2,1,2)(0,0,0)[0] intercept   : AIC=1999.623, Time=2.68 sec\n",
      " ARIMA(1,1,2)(0,0,0)[0] intercept   : AIC=1997.767, Time=1.32 sec\n",
      " ARIMA(0,1,2)(0,0,0)[0] intercept   : AIC=1998.169, Time=0.66 sec\n",
      " ARIMA(1,1,3)(0,0,0)[0] intercept   : AIC=1996.629, Time=3.55 sec\n",
      " ARIMA(0,1,3)(0,0,0)[0] intercept   : AIC=1997.327, Time=2.01 sec\n",
      " ARIMA(2,1,3)(0,0,0)[0] intercept   : AIC=1998.453, Time=8.62 sec\n",
      " ARIMA(1,1,4)(0,0,0)[0] intercept   : AIC=1998.515, Time=2.83 sec\n",
      " ARIMA(0,1,4)(0,0,0)[0] intercept   : AIC=1998.017, Time=3.08 sec\n",
      " ARIMA(2,1,4)(0,0,0)[0] intercept   : AIC=1997.178, Time=9.16 sec\n",
      " ARIMA(1,1,3)(0,0,0)[0]             : AIC=1995.607, Time=1.12 sec\n",
      " ARIMA(0,1,3)(0,0,0)[0]             : AIC=1996.340, Time=0.60 sec\n",
      " ARIMA(1,1,2)(0,0,0)[0]             : AIC=1996.782, Time=0.51 sec\n",
      " ARIMA(2,1,3)(0,0,0)[0]             : AIC=1997.397, Time=1.92 sec\n",
      " ARIMA(1,1,4)(0,0,0)[0]             : AIC=1997.471, Time=1.26 sec\n",
      " ARIMA(0,1,2)(0,0,0)[0]             : AIC=1997.085, Time=0.46 sec\n",
      " ARIMA(0,1,4)(0,0,0)[0]             : AIC=1996.959, Time=0.74 sec\n",
      " ARIMA(2,1,2)(0,0,0)[0]             : AIC=1998.610, Time=0.77 sec\n",
      " ARIMA(2,1,4)(0,0,0)[0]             : AIC=1994.971, Time=4.91 sec\n",
      " ARIMA(3,1,4)(0,0,0)[0]             : AIC=2001.397, Time=3.91 sec\n",
      " ARIMA(2,1,5)(0,0,0)[0]             : AIC=1994.169, Time=6.95 sec\n",
      " ARIMA(1,1,5)(0,0,0)[0]             : AIC=1988.100, Time=3.29 sec\n",
      " ARIMA(0,1,5)(0,0,0)[0]             : AIC=1994.960, Time=0.84 sec\n",
      " ARIMA(1,1,5)(0,0,0)[0] intercept   : AIC=1989.845, Time=9.70 sec\n",
      "\n",
      "Best model:  ARIMA(1,1,5)(0,0,0)[0]          \n",
      "Total fit time: 77.788 seconds\n"
     ]
    }
   ],
   "source": [
    "smodel = pm.auto_arima(first_order_diff_lin,\n",
    "                       start_p=1, max_p=7,\n",
    "                       start_q=1, max_q=5,\n",
    "                       seasonal=False,\n",
    "                       trace=True)"
   ]
  },
  {
   "cell_type": "code",
   "execution_count": 26,
   "id": "23f93a70",
   "metadata": {},
   "outputs": [
    {
     "name": "stderr",
     "output_type": "stream",
     "text": [
      "/home/mrstoian/.pyenv/versions/3.8.12/envs/btc_sent_fc/lib/python3.8/site-packages/statsmodels/tsa/base/tsa_model.py:593: ValueWarning: A date index has been provided, but it has no associated frequency information and so will be ignored when e.g. forecasting.\n",
      "  warnings.warn('A date index has been provided, but it has no'\n",
      "/home/mrstoian/.pyenv/versions/3.8.12/envs/btc_sent_fc/lib/python3.8/site-packages/statsmodels/tsa/base/tsa_model.py:593: ValueWarning: A date index has been provided, but it has no associated frequency information and so will be ignored when e.g. forecasting.\n",
      "  warnings.warn('A date index has been provided, but it has no'\n",
      "/home/mrstoian/.pyenv/versions/3.8.12/envs/btc_sent_fc/lib/python3.8/site-packages/statsmodels/tsa/base/tsa_model.py:593: ValueWarning: A date index has been provided, but it has no associated frequency information and so will be ignored when e.g. forecasting.\n",
      "  warnings.warn('A date index has been provided, but it has no'\n"
     ]
    },
    {
     "data": {
      "text/html": [
       "<table class=\"simpletable\">\n",
       "<caption>SARIMAX Results</caption>\n",
       "<tr>\n",
       "  <th>Dep. Variable:</th>    <td>deseasonalized</td>  <th>  No. Observations:  </th>   <td>2153</td>  \n",
       "</tr>\n",
       "<tr>\n",
       "  <th>Model:</th>            <td>ARIMA(1, 1, 5)</td>  <th>  Log Likelihood     </th> <td>-987.050</td>\n",
       "</tr>\n",
       "<tr>\n",
       "  <th>Date:</th>            <td>Wed, 24 Nov 2021</td> <th>  AIC                </th> <td>1988.100</td>\n",
       "</tr>\n",
       "<tr>\n",
       "  <th>Time:</th>                <td>17:49:34</td>     <th>  BIC                </th> <td>2027.819</td>\n",
       "</tr>\n",
       "<tr>\n",
       "  <th>Sample:</th>                  <td>0</td>        <th>  HQIC               </th> <td>2002.630</td>\n",
       "</tr>\n",
       "<tr>\n",
       "  <th></th>                      <td> - 2153</td>     <th>                     </th>     <td> </td>   \n",
       "</tr>\n",
       "<tr>\n",
       "  <th>Covariance Type:</th>        <td>opg</td>       <th>                     </th>     <td> </td>   \n",
       "</tr>\n",
       "</table>\n",
       "<table class=\"simpletable\">\n",
       "<tr>\n",
       "     <td></td>       <th>coef</th>     <th>std err</th>      <th>z</th>      <th>P>|z|</th>  <th>[0.025</th>    <th>0.975]</th>  \n",
       "</tr>\n",
       "<tr>\n",
       "  <th>ar.L1</th>  <td>    0.8493</td> <td>    0.075</td> <td>   11.311</td> <td> 0.000</td> <td>    0.702</td> <td>    0.996</td>\n",
       "</tr>\n",
       "<tr>\n",
       "  <th>ma.L1</th>  <td>   -1.2953</td> <td>    0.076</td> <td>  -17.047</td> <td> 0.000</td> <td>   -1.444</td> <td>   -1.146</td>\n",
       "</tr>\n",
       "<tr>\n",
       "  <th>ma.L2</th>  <td>    0.1697</td> <td>    0.046</td> <td>    3.658</td> <td> 0.000</td> <td>    0.079</td> <td>    0.261</td>\n",
       "</tr>\n",
       "<tr>\n",
       "  <th>ma.L3</th>  <td>    0.1370</td> <td>    0.037</td> <td>    3.683</td> <td> 0.000</td> <td>    0.064</td> <td>    0.210</td>\n",
       "</tr>\n",
       "<tr>\n",
       "  <th>ma.L4</th>  <td>    0.0841</td> <td>    0.034</td> <td>    2.497</td> <td> 0.013</td> <td>    0.018</td> <td>    0.150</td>\n",
       "</tr>\n",
       "<tr>\n",
       "  <th>ma.L5</th>  <td>   -0.0606</td> <td>    0.022</td> <td>   -2.761</td> <td> 0.006</td> <td>   -0.104</td> <td>   -0.018</td>\n",
       "</tr>\n",
       "<tr>\n",
       "  <th>sigma2</th> <td>    0.1465</td> <td>    0.003</td> <td>   53.387</td> <td> 0.000</td> <td>    0.141</td> <td>    0.152</td>\n",
       "</tr>\n",
       "</table>\n",
       "<table class=\"simpletable\">\n",
       "<tr>\n",
       "  <th>Ljung-Box (L1) (Q):</th>     <td>0.00</td> <th>  Jarque-Bera (JB):  </th> <td>1060.82</td>\n",
       "</tr>\n",
       "<tr>\n",
       "  <th>Prob(Q):</th>                <td>0.96</td> <th>  Prob(JB):          </th>  <td>0.00</td>  \n",
       "</tr>\n",
       "<tr>\n",
       "  <th>Heteroskedasticity (H):</th> <td>0.91</td> <th>  Skew:              </th>  <td>0.57</td>  \n",
       "</tr>\n",
       "<tr>\n",
       "  <th>Prob(H) (two-sided):</th>    <td>0.18</td> <th>  Kurtosis:          </th>  <td>6.25</td>  \n",
       "</tr>\n",
       "</table><br/><br/>Warnings:<br/>[1] Covariance matrix calculated using the outer product of gradients (complex-step)."
      ],
      "text/plain": [
       "<class 'statsmodels.iolib.summary.Summary'>\n",
       "\"\"\"\n",
       "                               SARIMAX Results                                \n",
       "==============================================================================\n",
       "Dep. Variable:         deseasonalized   No. Observations:                 2153\n",
       "Model:                 ARIMA(1, 1, 5)   Log Likelihood                -987.050\n",
       "Date:                Wed, 24 Nov 2021   AIC                           1988.100\n",
       "Time:                        17:49:34   BIC                           2027.819\n",
       "Sample:                             0   HQIC                          2002.630\n",
       "                               - 2153                                         \n",
       "Covariance Type:                  opg                                         \n",
       "==============================================================================\n",
       "                 coef    std err          z      P>|z|      [0.025      0.975]\n",
       "------------------------------------------------------------------------------\n",
       "ar.L1          0.8493      0.075     11.311      0.000       0.702       0.996\n",
       "ma.L1         -1.2953      0.076    -17.047      0.000      -1.444      -1.146\n",
       "ma.L2          0.1697      0.046      3.658      0.000       0.079       0.261\n",
       "ma.L3          0.1370      0.037      3.683      0.000       0.064       0.210\n",
       "ma.L4          0.0841      0.034      2.497      0.013       0.018       0.150\n",
       "ma.L5         -0.0606      0.022     -2.761      0.006      -0.104      -0.018\n",
       "sigma2         0.1465      0.003     53.387      0.000       0.141       0.152\n",
       "===================================================================================\n",
       "Ljung-Box (L1) (Q):                   0.00   Jarque-Bera (JB):              1060.82\n",
       "Prob(Q):                              0.96   Prob(JB):                         0.00\n",
       "Heteroskedasticity (H):               0.91   Skew:                             0.57\n",
       "Prob(H) (two-sided):                  0.18   Kurtosis:                         6.25\n",
       "===================================================================================\n",
       "\n",
       "Warnings:\n",
       "[1] Covariance matrix calculated using the outer product of gradients (complex-step).\n",
       "\"\"\""
      ]
     },
     "execution_count": 26,
     "metadata": {},
     "output_type": "execute_result"
    }
   ],
   "source": [
    "arima = ARIMA(first_order_diff_lin, order=(1,1,5))\n",
    "arima = arima.fit()\n",
    "arima.summary()"
   ]
  },
  {
   "cell_type": "code",
   "execution_count": 27,
   "id": "7d019e7e",
   "metadata": {},
   "outputs": [
    {
     "data": {
      "text/plain": [
       "2153"
      ]
     },
     "execution_count": 27,
     "metadata": {},
     "output_type": "execute_result"
    }
   ],
   "source": [
    "len(first_order_diff_lin)"
   ]
  },
  {
   "cell_type": "code",
   "execution_count": 28,
   "id": "653acf15",
   "metadata": {},
   "outputs": [
    {
     "name": "stderr",
     "output_type": "stream",
     "text": [
      "/home/mrstoian/.pyenv/versions/3.8.12/envs/btc_sent_fc/lib/python3.8/site-packages/statsmodels/tsa/base/tsa_model.py:593: ValueWarning: A date index has been provided, but it has no associated frequency information and so will be ignored when e.g. forecasting.\n",
      "  warnings.warn('A date index has been provided, but it has no'\n",
      "/home/mrstoian/.pyenv/versions/3.8.12/envs/btc_sent_fc/lib/python3.8/site-packages/statsmodels/tsa/base/tsa_model.py:593: ValueWarning: A date index has been provided, but it has no associated frequency information and so will be ignored when e.g. forecasting.\n",
      "  warnings.warn('A date index has been provided, but it has no'\n",
      "/home/mrstoian/.pyenv/versions/3.8.12/envs/btc_sent_fc/lib/python3.8/site-packages/statsmodels/tsa/base/tsa_model.py:593: ValueWarning: A date index has been provided, but it has no associated frequency information and so will be ignored when e.g. forecasting.\n",
      "  warnings.warn('A date index has been provided, but it has no'\n"
     ]
    }
   ],
   "source": [
    "# Create a correct Training/Test split to predict the last 50 points\n",
    "train = first_order_diff_lin.head(2100)\n",
    "test = first_order_diff_lin.tail(53)\n",
    "\n",
    "# Build Model\n",
    "arima = ARIMA(train, order=(1,1,5))  \n",
    "arima = arima.fit()"
   ]
  },
  {
   "cell_type": "code",
   "execution_count": 30,
   "id": "5e614dce",
   "metadata": {},
   "outputs": [
    {
     "name": "stderr",
     "output_type": "stream",
     "text": [
      "/home/mrstoian/.pyenv/versions/3.8.12/envs/btc_sent_fc/lib/python3.8/site-packages/statsmodels/tsa/base/tsa_model.py:390: ValueWarning: No supported index is available. Prediction results will be given with an integer index beginning at `start`.\n",
      "  warnings.warn('No supported index is available.'\n"
     ]
    }
   ],
   "source": [
    "forecast = arima.get_forecast(53)\n",
    "yhat = forecast.predicted_mean\n",
    "yhat_conf_int = forecast.conf_int(alpha=0.05)"
   ]
  },
  {
   "cell_type": "code",
   "execution_count": 34,
   "id": "0b4b69a4",
   "metadata": {
    "collapsed": true
   },
   "outputs": [
    {
     "data": {
      "text/plain": [
       "2100    20.621948\n",
       "2101    20.608558\n",
       "2102    20.605070\n",
       "2103    20.621488\n",
       "2104    20.630833\n",
       "2105    20.638741\n",
       "2106    20.645435\n",
       "2107    20.651101\n",
       "2108    20.655897\n",
       "2109    20.659955\n",
       "2110    20.663391\n",
       "2111    20.666298\n",
       "2112    20.668759\n",
       "2113    20.670842\n",
       "2114    20.672605\n",
       "2115    20.674098\n",
       "2116    20.675361\n",
       "2117    20.676430\n",
       "2118    20.677334\n",
       "2119    20.678100\n",
       "2120    20.678748\n",
       "2121    20.679297\n",
       "2122    20.679761\n",
       "2123    20.680154\n",
       "2124    20.680487\n",
       "2125    20.680768\n",
       "2126    20.681007\n",
       "2127    20.681208\n",
       "2128    20.681379\n",
       "2129    20.681524\n",
       "2130    20.681646\n",
       "2131    20.681749\n",
       "2132    20.681837\n",
       "2133    20.681911\n",
       "2134    20.681974\n",
       "2135    20.682027\n",
       "2136    20.682072\n",
       "2137    20.682110\n",
       "2138    20.682142\n",
       "2139    20.682170\n",
       "2140    20.682193\n",
       "2141    20.682212\n",
       "2142    20.682229\n",
       "2143    20.682243\n",
       "2144    20.682255\n",
       "2145    20.682265\n",
       "2146    20.682273\n",
       "2147    20.682280\n",
       "2148    20.682286\n",
       "2149    20.682291\n",
       "2150    20.682296\n",
       "2151    20.682299\n",
       "2152    20.682303\n",
       "Name: predicted_mean, dtype: float64"
      ]
     },
     "execution_count": 34,
     "metadata": {},
     "output_type": "execute_result"
    }
   ],
   "source": [
    "yhat"
   ]
  },
  {
   "cell_type": "code",
   "execution_count": 35,
   "id": "28314177",
   "metadata": {},
   "outputs": [],
   "source": [
    "# We define here a \"Plot forecast vs. real\", which also shows historical train set\n",
    "\n",
    "def plot_forecast(fc, train, test, upper=None, lower=None):\n",
    "    is_confidence_int = isinstance(upper, np.ndarray) and isinstance(lower, np.ndarray)\n",
    "    # Prepare plot series\n",
    "    fc_series = pd.Series(fc, index=test.index)\n",
    "    lower_series = pd.Series(upper, index=test.index) if is_confidence_int else None\n",
    "    upper_series = pd.Series(lower, index=test.index) if is_confidence_int else None\n",
    "\n",
    "    # Plot\n",
    "    plt.figure(figsize=(10,4), dpi=100)\n",
    "    plt.plot(train, label='training', color='black')\n",
    "    plt.plot(test, label='actual', color='black', ls='--')\n",
    "    plt.plot(fc_series, label='forecast', color='orange')\n",
    "    if is_confidence_int:\n",
    "        plt.fill_between(lower_series.index, lower_series, upper_series, color='k', alpha=.15)\n",
    "    plt.title('Forecast vs Actuals')\n",
    "    plt.legend(loc='upper left', fontsize=8);"
   ]
  },
  {
   "cell_type": "code",
   "execution_count": 37,
   "id": "8f571bd8",
   "metadata": {},
   "outputs": [
    {
     "data": {
      "text/html": [
       "<div>\n",
       "<style scoped>\n",
       "    .dataframe tbody tr th:only-of-type {\n",
       "        vertical-align: middle;\n",
       "    }\n",
       "\n",
       "    .dataframe tbody tr th {\n",
       "        vertical-align: top;\n",
       "    }\n",
       "\n",
       "    .dataframe thead th {\n",
       "        text-align: right;\n",
       "    }\n",
       "</style>\n",
       "<table border=\"1\" class=\"dataframe\">\n",
       "  <thead>\n",
       "    <tr style=\"text-align: right;\">\n",
       "      <th></th>\n",
       "      <th>lower deseasonalized</th>\n",
       "      <th>upper deseasonalized</th>\n",
       "    </tr>\n",
       "  </thead>\n",
       "  <tbody>\n",
       "    <tr>\n",
       "      <th>2100</th>\n",
       "      <td>19.868244</td>\n",
       "      <td>21.375652</td>\n",
       "    </tr>\n",
       "    <tr>\n",
       "      <th>2101</th>\n",
       "      <td>19.746945</td>\n",
       "      <td>21.470170</td>\n",
       "    </tr>\n",
       "    <tr>\n",
       "      <th>2102</th>\n",
       "      <td>19.705403</td>\n",
       "      <td>21.504737</td>\n",
       "    </tr>\n",
       "    <tr>\n",
       "      <th>2103</th>\n",
       "      <td>19.692767</td>\n",
       "      <td>21.550210</td>\n",
       "    </tr>\n",
       "    <tr>\n",
       "      <th>2104</th>\n",
       "      <td>19.663597</td>\n",
       "      <td>21.598068</td>\n",
       "    </tr>\n",
       "    <tr>\n",
       "      <th>2105</th>\n",
       "      <td>19.638287</td>\n",
       "      <td>21.639196</td>\n",
       "    </tr>\n",
       "    <tr>\n",
       "      <th>2106</th>\n",
       "      <td>19.615812</td>\n",
       "      <td>21.675059</td>\n",
       "    </tr>\n",
       "    <tr>\n",
       "      <th>2107</th>\n",
       "      <td>19.595463</td>\n",
       "      <td>21.706740</td>\n",
       "    </tr>\n",
       "    <tr>\n",
       "      <th>2108</th>\n",
       "      <td>19.576737</td>\n",
       "      <td>21.735057</td>\n",
       "    </tr>\n",
       "    <tr>\n",
       "      <th>2109</th>\n",
       "      <td>19.559271</td>\n",
       "      <td>21.760640</td>\n",
       "    </tr>\n",
       "    <tr>\n",
       "      <th>2110</th>\n",
       "      <td>19.542798</td>\n",
       "      <td>21.783983</td>\n",
       "    </tr>\n",
       "    <tr>\n",
       "      <th>2111</th>\n",
       "      <td>19.527121</td>\n",
       "      <td>21.805476</td>\n",
       "    </tr>\n",
       "    <tr>\n",
       "      <th>2112</th>\n",
       "      <td>19.512088</td>\n",
       "      <td>21.825430</td>\n",
       "    </tr>\n",
       "    <tr>\n",
       "      <th>2113</th>\n",
       "      <td>19.497587</td>\n",
       "      <td>21.844097</td>\n",
       "    </tr>\n",
       "    <tr>\n",
       "      <th>2114</th>\n",
       "      <td>19.483530</td>\n",
       "      <td>21.861681</td>\n",
       "    </tr>\n",
       "    <tr>\n",
       "      <th>2115</th>\n",
       "      <td>19.469847</td>\n",
       "      <td>21.878349</td>\n",
       "    </tr>\n",
       "    <tr>\n",
       "      <th>2116</th>\n",
       "      <td>19.456484</td>\n",
       "      <td>21.894237</td>\n",
       "    </tr>\n",
       "    <tr>\n",
       "      <th>2117</th>\n",
       "      <td>19.443400</td>\n",
       "      <td>21.909459</td>\n",
       "    </tr>\n",
       "    <tr>\n",
       "      <th>2118</th>\n",
       "      <td>19.430561</td>\n",
       "      <td>21.924108</td>\n",
       "    </tr>\n",
       "    <tr>\n",
       "      <th>2119</th>\n",
       "      <td>19.417938</td>\n",
       "      <td>21.938263</td>\n",
       "    </tr>\n",
       "    <tr>\n",
       "      <th>2120</th>\n",
       "      <td>19.405509</td>\n",
       "      <td>21.951988</td>\n",
       "    </tr>\n",
       "    <tr>\n",
       "      <th>2121</th>\n",
       "      <td>19.393256</td>\n",
       "      <td>21.965338</td>\n",
       "    </tr>\n",
       "    <tr>\n",
       "      <th>2122</th>\n",
       "      <td>19.381164</td>\n",
       "      <td>21.978359</td>\n",
       "    </tr>\n",
       "    <tr>\n",
       "      <th>2123</th>\n",
       "      <td>19.369220</td>\n",
       "      <td>21.991089</td>\n",
       "    </tr>\n",
       "    <tr>\n",
       "      <th>2124</th>\n",
       "      <td>19.357413</td>\n",
       "      <td>22.003561</td>\n",
       "    </tr>\n",
       "    <tr>\n",
       "      <th>2125</th>\n",
       "      <td>19.345735</td>\n",
       "      <td>22.015802</td>\n",
       "    </tr>\n",
       "    <tr>\n",
       "      <th>2126</th>\n",
       "      <td>19.334178</td>\n",
       "      <td>22.027835</td>\n",
       "    </tr>\n",
       "    <tr>\n",
       "      <th>2127</th>\n",
       "      <td>19.322736</td>\n",
       "      <td>22.039681</td>\n",
       "    </tr>\n",
       "    <tr>\n",
       "      <th>2128</th>\n",
       "      <td>19.311402</td>\n",
       "      <td>22.051356</td>\n",
       "    </tr>\n",
       "    <tr>\n",
       "      <th>2129</th>\n",
       "      <td>19.300172</td>\n",
       "      <td>22.062876</td>\n",
       "    </tr>\n",
       "    <tr>\n",
       "      <th>2130</th>\n",
       "      <td>19.289041</td>\n",
       "      <td>22.074251</td>\n",
       "    </tr>\n",
       "    <tr>\n",
       "      <th>2131</th>\n",
       "      <td>19.278005</td>\n",
       "      <td>22.085494</td>\n",
       "    </tr>\n",
       "    <tr>\n",
       "      <th>2132</th>\n",
       "      <td>19.267062</td>\n",
       "      <td>22.096613</td>\n",
       "    </tr>\n",
       "    <tr>\n",
       "      <th>2133</th>\n",
       "      <td>19.256207</td>\n",
       "      <td>22.107616</td>\n",
       "    </tr>\n",
       "    <tr>\n",
       "      <th>2134</th>\n",
       "      <td>19.245438</td>\n",
       "      <td>22.118510</td>\n",
       "    </tr>\n",
       "    <tr>\n",
       "      <th>2135</th>\n",
       "      <td>19.234752</td>\n",
       "      <td>22.129302</td>\n",
       "    </tr>\n",
       "    <tr>\n",
       "      <th>2136</th>\n",
       "      <td>19.224147</td>\n",
       "      <td>22.139997</td>\n",
       "    </tr>\n",
       "    <tr>\n",
       "      <th>2137</th>\n",
       "      <td>19.213621</td>\n",
       "      <td>22.150599</td>\n",
       "    </tr>\n",
       "    <tr>\n",
       "      <th>2138</th>\n",
       "      <td>19.203172</td>\n",
       "      <td>22.161113</td>\n",
       "    </tr>\n",
       "    <tr>\n",
       "      <th>2139</th>\n",
       "      <td>19.192797</td>\n",
       "      <td>22.171542</td>\n",
       "    </tr>\n",
       "    <tr>\n",
       "      <th>2140</th>\n",
       "      <td>19.182496</td>\n",
       "      <td>22.181890</td>\n",
       "    </tr>\n",
       "    <tr>\n",
       "      <th>2141</th>\n",
       "      <td>19.172265</td>\n",
       "      <td>22.192159</td>\n",
       "    </tr>\n",
       "    <tr>\n",
       "      <th>2142</th>\n",
       "      <td>19.162105</td>\n",
       "      <td>22.202353</td>\n",
       "    </tr>\n",
       "    <tr>\n",
       "      <th>2143</th>\n",
       "      <td>19.152012</td>\n",
       "      <td>22.212474</td>\n",
       "    </tr>\n",
       "    <tr>\n",
       "      <th>2144</th>\n",
       "      <td>19.141986</td>\n",
       "      <td>22.222523</td>\n",
       "    </tr>\n",
       "    <tr>\n",
       "      <th>2145</th>\n",
       "      <td>19.132025</td>\n",
       "      <td>22.232504</td>\n",
       "    </tr>\n",
       "    <tr>\n",
       "      <th>2146</th>\n",
       "      <td>19.122128</td>\n",
       "      <td>22.242418</td>\n",
       "    </tr>\n",
       "    <tr>\n",
       "      <th>2147</th>\n",
       "      <td>19.112294</td>\n",
       "      <td>22.252266</td>\n",
       "    </tr>\n",
       "    <tr>\n",
       "      <th>2148</th>\n",
       "      <td>19.102521</td>\n",
       "      <td>22.262051</td>\n",
       "    </tr>\n",
       "    <tr>\n",
       "      <th>2149</th>\n",
       "      <td>19.092809</td>\n",
       "      <td>22.271774</td>\n",
       "    </tr>\n",
       "    <tr>\n",
       "      <th>2150</th>\n",
       "      <td>19.083156</td>\n",
       "      <td>22.281436</td>\n",
       "    </tr>\n",
       "    <tr>\n",
       "      <th>2151</th>\n",
       "      <td>19.073560</td>\n",
       "      <td>22.291039</td>\n",
       "    </tr>\n",
       "    <tr>\n",
       "      <th>2152</th>\n",
       "      <td>19.064022</td>\n",
       "      <td>22.300583</td>\n",
       "    </tr>\n",
       "  </tbody>\n",
       "</table>\n",
       "</div>"
      ],
      "text/plain": [
       "      lower deseasonalized  upper deseasonalized\n",
       "2100             19.868244             21.375652\n",
       "2101             19.746945             21.470170\n",
       "2102             19.705403             21.504737\n",
       "2103             19.692767             21.550210\n",
       "2104             19.663597             21.598068\n",
       "2105             19.638287             21.639196\n",
       "2106             19.615812             21.675059\n",
       "2107             19.595463             21.706740\n",
       "2108             19.576737             21.735057\n",
       "2109             19.559271             21.760640\n",
       "2110             19.542798             21.783983\n",
       "2111             19.527121             21.805476\n",
       "2112             19.512088             21.825430\n",
       "2113             19.497587             21.844097\n",
       "2114             19.483530             21.861681\n",
       "2115             19.469847             21.878349\n",
       "2116             19.456484             21.894237\n",
       "2117             19.443400             21.909459\n",
       "2118             19.430561             21.924108\n",
       "2119             19.417938             21.938263\n",
       "2120             19.405509             21.951988\n",
       "2121             19.393256             21.965338\n",
       "2122             19.381164             21.978359\n",
       "2123             19.369220             21.991089\n",
       "2124             19.357413             22.003561\n",
       "2125             19.345735             22.015802\n",
       "2126             19.334178             22.027835\n",
       "2127             19.322736             22.039681\n",
       "2128             19.311402             22.051356\n",
       "2129             19.300172             22.062876\n",
       "2130             19.289041             22.074251\n",
       "2131             19.278005             22.085494\n",
       "2132             19.267062             22.096613\n",
       "2133             19.256207             22.107616\n",
       "2134             19.245438             22.118510\n",
       "2135             19.234752             22.129302\n",
       "2136             19.224147             22.139997\n",
       "2137             19.213621             22.150599\n",
       "2138             19.203172             22.161113\n",
       "2139             19.192797             22.171542\n",
       "2140             19.182496             22.181890\n",
       "2141             19.172265             22.192159\n",
       "2142             19.162105             22.202353\n",
       "2143             19.152012             22.212474\n",
       "2144             19.141986             22.222523\n",
       "2145             19.132025             22.232504\n",
       "2146             19.122128             22.242418\n",
       "2147             19.112294             22.252266\n",
       "2148             19.102521             22.262051\n",
       "2149             19.092809             22.271774\n",
       "2150             19.083156             22.281436\n",
       "2151             19.073560             22.291039\n",
       "2152             19.064022             22.300583"
      ]
     },
     "execution_count": 37,
     "metadata": {},
     "output_type": "execute_result"
    }
   ],
   "source": [
    "yhat_conf_int"
   ]
  },
  {
   "cell_type": "code",
   "execution_count": 38,
   "id": "7b07baf2",
   "metadata": {},
   "outputs": [
    {
     "data": {
      "image/png": "[encoded data removed]",
      "text/plain": [
       "<Figure size 1000x400 with 1 Axes>"
      ]
     },
     "metadata": {
      "needs_background": "light"
     },
     "output_type": "display_data"
    }
   ],
   "source": [
    "plot_forecast(yhat, train, test, yhat_conf_int['lower deseasonalized'], yhat_conf_int['upper deseasonalized'])"
   ]
  },
  {
   "cell_type": "code",
   "execution_count": 41,
   "id": "4d4cb4d0",
   "metadata": {},
   "outputs": [
    {
     "data": {
      "text/plain": [
       "time\n",
       "2021-10-01    21.173029\n",
       "2021-10-02    20.677987\n",
       "2021-10-03    20.797801\n",
       "2021-10-04    20.946434\n",
       "2021-10-05    21.161412\n",
       "2021-10-06    21.541353\n",
       "2021-10-07    21.065444\n",
       "2021-10-08    20.871761\n",
       "2021-10-09    20.797130\n",
       "2021-10-10    21.104193\n",
       "2021-10-11    21.067639\n",
       "2021-10-12    21.129009\n",
       "2021-10-13    21.035997\n",
       "2021-10-14    20.871481\n",
       "2021-10-15    21.742100\n",
       "2021-10-16    21.282686\n",
       "2021-10-17    21.188503\n",
       "2021-10-18    21.547840\n",
       "2021-10-19    21.374016\n",
       "2021-10-20    21.462946\n",
       "2021-10-21    21.642207\n",
       "2021-10-22    21.331784\n",
       "2021-10-23    20.854846\n",
       "2021-10-24    21.122194\n",
       "2021-10-25    20.931117\n",
       "2021-10-26    21.000446\n",
       "2021-10-27    21.351093\n",
       "2021-10-28    21.385727\n",
       "2021-10-29    21.222932\n",
       "2021-10-30    20.879198\n",
       "2021-10-31    21.108284\n",
       "2021-11-01    21.019437\n",
       "2021-11-02    21.132311\n",
       "2021-11-03    21.022245\n",
       "2021-11-04    20.856356\n",
       "2021-11-05    20.845302\n",
       "2021-11-06    20.801843\n",
       "2021-11-07    20.717859\n",
       "2021-11-08    21.498896\n",
       "2021-11-09    21.295745\n",
       "2021-11-10    21.466739\n",
       "2021-11-11    20.830708\n",
       "2021-11-12    21.133935\n",
       "2021-11-13    20.789649\n",
       "2021-11-14    20.838390\n",
       "2021-11-15    20.961062\n",
       "2021-11-16    21.699758\n",
       "2021-11-17    21.456143\n",
       "2021-11-18    21.680779\n",
       "2021-11-19    21.327402\n",
       "2021-11-20    20.941747\n",
       "2021-11-21    20.844254\n",
       "2021-11-22    20.413913\n",
       "Name: deseasonalized, dtype: float64"
      ]
     },
     "execution_count": 41,
     "metadata": {},
     "output_type": "execute_result"
    }
   ],
   "source": [
    "test #actuals"
   ]
  },
  {
   "cell_type": "code",
   "execution_count": 40,
   "id": "46a8b463",
   "metadata": {},
   "outputs": [
    {
     "data": {
      "text/plain": [
       "2100    20.621948\n",
       "2101    20.608558\n",
       "2102    20.605070\n",
       "2103    20.621488\n",
       "2104    20.630833\n",
       "2105    20.638741\n",
       "2106    20.645435\n",
       "2107    20.651101\n",
       "2108    20.655897\n",
       "2109    20.659955\n",
       "2110    20.663391\n",
       "2111    20.666298\n",
       "2112    20.668759\n",
       "2113    20.670842\n",
       "2114    20.672605\n",
       "2115    20.674098\n",
       "2116    20.675361\n",
       "2117    20.676430\n",
       "2118    20.677334\n",
       "2119    20.678100\n",
       "2120    20.678748\n",
       "2121    20.679297\n",
       "2122    20.679761\n",
       "2123    20.680154\n",
       "2124    20.680487\n",
       "2125    20.680768\n",
       "2126    20.681007\n",
       "2127    20.681208\n",
       "2128    20.681379\n",
       "2129    20.681524\n",
       "2130    20.681646\n",
       "2131    20.681749\n",
       "2132    20.681837\n",
       "2133    20.681911\n",
       "2134    20.681974\n",
       "2135    20.682027\n",
       "2136    20.682072\n",
       "2137    20.682110\n",
       "2138    20.682142\n",
       "2139    20.682170\n",
       "2140    20.682193\n",
       "2141    20.682212\n",
       "2142    20.682229\n",
       "2143    20.682243\n",
       "2144    20.682255\n",
       "2145    20.682265\n",
       "2146    20.682273\n",
       "2147    20.682280\n",
       "2148    20.682286\n",
       "2149    20.682291\n",
       "2150    20.682296\n",
       "2151    20.682299\n",
       "2152    20.682303\n",
       "Name: predicted_mean, dtype: float64"
      ]
     },
     "execution_count": 40,
     "metadata": {},
     "output_type": "execute_result"
    }
   ],
   "source": [
    "yhat.tail(53) # predictions"
   ]
  },
  {
   "cell_type": "code",
   "execution_count": null,
   "id": "7b30f222",
   "metadata": {},
   "outputs": [],
   "source": []
  }
 ],
 "metadata": {
  "kernelspec": {
   "display_name": "Python 3 (ipykernel)",
   "language": "python",
   "name": "python3"
  },
  "language_info": {
   "codemirror_mode": {
    "name": "ipython",
    "version": 3
   },
   "file_extension": ".py",
   "mimetype": "text/x-python",
   "name": "python",
   "nbconvert_exporter": "python",
   "pygments_lexer": "ipython3",
   "version": "3.8.12"
  },
  "toc": {
   "base_numbering": 1,
   "nav_menu": {},
   "number_sections": true,
   "sideBar": true,
   "skip_h1_title": false,
   "title_cell": "Table of Contents",
   "title_sidebar": "Contents",
   "toc_cell": false,
   "toc_position": {},
   "toc_section_display": true,
   "toc_window_display": true
  },
  "varInspector": {
   "cols": {
    "lenName": 16,
    "lenType": 16,
    "lenVar": 40
   },
   "kernels_config": {
    "python": {
     "delete_cmd_postfix": "",
     "delete_cmd_prefix": "del ",
     "library": "var_list.py",
     "varRefreshCmd": "print(var_dic_list())"
    },
    "r": {
     "delete_cmd_postfix": ") ",
     "delete_cmd_prefix": "rm(",
     "library": "var_list.r",
     "varRefreshCmd": "cat(var_dic_list()) "
    }
   },
   "types_to_exclude": [
    "module",
    "function",
    "builtin_function_or_method",
    "instance",
    "_Feature"
   ],
   "window_display": false
  }
 },
 "nbformat": 4,
 "nbformat_minor": 5
}
