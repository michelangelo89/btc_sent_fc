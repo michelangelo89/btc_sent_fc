{
 "cells": [
  {
   "cell_type": "markdown",
   "metadata": {},
   "source": [
    "## Blockchain"
   ]
  },
  {
   "cell_type": "code",
   "execution_count": 42,
   "metadata": {},
   "outputs": [
    {
     "name": "stdout",
     "output_type": "stream",
     "text": [
      "The autoreload extension is already loaded. To reload it, use:\n",
      "  %reload_ext autoreload\n"
     ]
    }
   ],
   "source": [
    "import matplotlib\n",
    "%matplotlib inline\n",
    "import numpy as np\n",
    "import pandas as pd\n",
    "import datetime\n",
    "\n",
    "import seaborn as sns\n",
    "\n",
    "%load_ext autoreload\n",
    "%autoreload 2"
   ]
  },
  {
   "cell_type": "code",
   "execution_count": 8,
   "metadata": {
    "scrolled": true
   },
   "outputs": [],
   "source": [
    "# df['data'] = df['data'].apply(lambda x: pd.Timestamp(x).strftime('%Y-%m-%d'))"
   ]
  },
  {
   "cell_type": "markdown",
   "metadata": {},
   "source": [
    "# Merging in-chain Dataframe"
   ]
  },
  {
   "cell_type": "code",
   "execution_count": null,
   "metadata": {},
   "outputs": [],
   "source": []
  },
  {
   "cell_type": "code",
   "execution_count": 9,
   "metadata": {},
   "outputs": [],
   "source": [
    "import os\n",
    "data_path = '../raw_data'\n",
    "dateparse = lambda x: pd.Timestamp(x).strftime('%Y-%m-%d')\n",
    "\n",
    "d = {}\n",
    "lis = []\n",
    "\n",
    "for filename in os.listdir('../raw_data'):\n",
    "    if filename.endswith(\".csv\"): \n",
    "        filename_ = filename.replace('.csv','')\n",
    "        lis.append(filename_)\n",
    "        d[filename_] = pd.read_csv(os.path.join(data_path, filename),\n",
    "                             parse_dates=['Timestamp'], date_parser= dateparse, \n",
    "                             index_col='Timestamp')\n"
   ]
  },
  {
   "cell_type": "code",
   "execution_count": 10,
   "metadata": {},
   "outputs": [],
   "source": [
    "df_describe =pd.DataFrame()\n",
    "\n",
    "for k, v in d.items():\n",
    "    df_ = d[k].describe()\n",
    "    df_describe = pd.concat([df_describe, df_],axis=1)\n",
    "    "
   ]
  },
  {
   "cell_type": "code",
   "execution_count": 14,
   "metadata": {},
   "outputs": [],
   "source": [
    "import pickle\n",
    "with open('saved_dictionary.pkl', 'wb') as f:\n",
    "    pickle.dump(d, f)"
   ]
  },
  {
   "cell_type": "code",
   "execution_count": 15,
   "metadata": {},
   "outputs": [],
   "source": [
    "with open('saved_dictionary.pkl', 'rb') as f:\n",
    "        loaded_dict = pickle.load(f)"
   ]
  },
  {
   "cell_type": "markdown",
   "metadata": {},
   "source": [
    "## Glassnode\n",
    "\n",
    "    - api keys\n",
    "    21JXvnWb8iqfgMs4c1RInHqiy0s"
   ]
  },
  {
   "cell_type": "code",
   "execution_count": 16,
   "metadata": {},
   "outputs": [],
   "source": [
    "import json\n",
    "import requests\n",
    "import pandas as pd\n",
    "# insert your API key here\n",
    "API_KEY = '21JXvnWb8iqfgMs4c1RInHqiy0s'\n",
    "# make API request\n",
    "res = requests.get('https://api.glassnode.com/v1/metrics/addresses/active_count',\n",
    "    params={'a': 'BTC', 'api_key': API_KEY})\n",
    "# convert to pandas dataframe\n",
    "df_active_add = pd.read_json(res.text, convert_dates=['t'])\n"
   ]
  },
  {
   "cell_type": "code",
   "execution_count": 66,
   "metadata": {},
   "outputs": [],
   "source": [
    "P = [\n",
    "    {\n",
    "        \"path\": \"/v1/metrics/addresses/count\",\n",
    "      \"assets\": [{\"symbol\": \"BTC\",\n",
    "                \"name\": \"Bitcoin\",\n",
    "                \"isERC20\": False,\n",
    "                \"isStablecoin\": False,\n",
    "                \"exchanges\": [\"aggregated\",\"binance\"]}],\n",
    "      \"currencies\": [\"NATIVE\"],\n",
    "      \"resolutions\": [\"24h\"],\n",
    "      \"formats\": [\"CSV\"]\n",
    "     }\n",
    "    ]\n"
   ]
  },
  {
   "cell_type": "code",
   "execution_count": 68,
   "metadata": {},
   "outputs": [
    {
     "data": {
      "text/plain": [
       "1637929877.054941"
      ]
     },
     "execution_count": 68,
     "metadata": {},
     "output_type": "execute_result"
    }
   ],
   "source": [
    "import time\n",
    "\n",
    "time.time()"
   ]
  },
  {
   "cell_type": "markdown",
   "metadata": {},
   "source": [
    "### ADDRESS API"
   ]
  },
  {
   "cell_type": "code",
   "execution_count": 141,
   "metadata": {},
   "outputs": [],
   "source": [
    "list_addresses = ['sending_to_exchanges_count',\n",
    "                  'receiving_from_exchanges_count',\n",
    "                  'count','sending_count','receiving_count',\n",
    "                  'active_count','new_non_zero_count',\n",
    "                  'accumulation_count','accumulation_balance',\n",
    "                  'min_point_zero_1_count','min_1_count',\n",
    "                  'min_10_count','min_100_count','min_1k_count',\n",
    "                 'profit_relative','min_1m_usd_count']\n"
   ]
  },
  {
   "cell_type": "code",
   "execution_count": 167,
   "metadata": {},
   "outputs": [],
   "source": [
    "API_KEY = '21JXvnWb8iqfgMs4c1RInHqiy0s'\n",
    "# make API request\n",
    "ls = []\n",
    "for i in list_addresses:\n",
    "    res = requests.get(f'https://api.glassnode.com/v1/metrics/addresses/{i}',\n",
    "        params={'a': 'BTC',\n",
    "                'api_key': API_KEY})\n",
    "    \n",
    "    if res.ok:\n",
    "        df_temp = pd.read_json(res.text, convert_dates=['t'])\n",
    "        df_temp.columns = ['date', i]\n",
    "        ls.append(df_temp)\n",
    "    else:\n",
    "        ls.append('')"
   ]
  },
  {
   "cell_type": "code",
   "execution_count": 168,
   "metadata": {},
   "outputs": [],
   "source": []
  },
  {
   "cell_type": "code",
   "execution_count": 179,
   "metadata": {},
   "outputs": [],
   "source": [
    "ls_new = [x for x in ls if len(x)!=0]\n",
    "reset_df = pd.concat(ls_new,axis=0)\n",
    "addresses_df = reset_df.groupby(\"date\").mean()"
   ]
  },
  {
   "cell_type": "code",
   "execution_count": 235,
   "metadata": {},
   "outputs": [
    {
     "data": {
      "text/html": [
       "<div>\n",
       "<style scoped>\n",
       "    .dataframe tbody tr th:only-of-type {\n",
       "        vertical-align: middle;\n",
       "    }\n",
       "\n",
       "    .dataframe tbody tr th {\n",
       "        vertical-align: top;\n",
       "    }\n",
       "\n",
       "    .dataframe thead th {\n",
       "        text-align: right;\n",
       "    }\n",
       "</style>\n",
       "<table border=\"1\" class=\"dataframe\">\n",
       "  <thead>\n",
       "    <tr style=\"text-align: right;\">\n",
       "      <th></th>\n",
       "      <th>count</th>\n",
       "      <th>sending_count</th>\n",
       "      <th>receiving_count</th>\n",
       "      <th>active_count</th>\n",
       "      <th>new_non_zero_count</th>\n",
       "      <th>min_point_zero_1_count</th>\n",
       "      <th>min_1_count</th>\n",
       "      <th>min_10_count</th>\n",
       "      <th>min_100_count</th>\n",
       "      <th>min_1k_count</th>\n",
       "    </tr>\n",
       "    <tr>\n",
       "      <th>date</th>\n",
       "      <th></th>\n",
       "      <th></th>\n",
       "      <th></th>\n",
       "      <th></th>\n",
       "      <th></th>\n",
       "      <th></th>\n",
       "      <th></th>\n",
       "      <th></th>\n",
       "      <th></th>\n",
       "      <th></th>\n",
       "    </tr>\n",
       "  </thead>\n",
       "  <tbody>\n",
       "    <tr>\n",
       "      <th>2009-01-03</th>\n",
       "      <td>1.0</td>\n",
       "      <td>0.0</td>\n",
       "      <td>0.0</td>\n",
       "      <td>0.0</td>\n",
       "      <td>1.0</td>\n",
       "      <td>1.0</td>\n",
       "      <td>1.0</td>\n",
       "      <td>1.0</td>\n",
       "      <td>0.0</td>\n",
       "      <td>0.0</td>\n",
       "    </tr>\n",
       "    <tr>\n",
       "      <th>2009-01-04</th>\n",
       "      <td>1.0</td>\n",
       "      <td>0.0</td>\n",
       "      <td>0.0</td>\n",
       "      <td>0.0</td>\n",
       "      <td>0.0</td>\n",
       "      <td>1.0</td>\n",
       "      <td>1.0</td>\n",
       "      <td>1.0</td>\n",
       "      <td>0.0</td>\n",
       "      <td>0.0</td>\n",
       "    </tr>\n",
       "    <tr>\n",
       "      <th>2009-01-05</th>\n",
       "      <td>1.0</td>\n",
       "      <td>0.0</td>\n",
       "      <td>0.0</td>\n",
       "      <td>0.0</td>\n",
       "      <td>0.0</td>\n",
       "      <td>1.0</td>\n",
       "      <td>1.0</td>\n",
       "      <td>1.0</td>\n",
       "      <td>0.0</td>\n",
       "      <td>0.0</td>\n",
       "    </tr>\n",
       "    <tr>\n",
       "      <th>2009-01-06</th>\n",
       "      <td>1.0</td>\n",
       "      <td>0.0</td>\n",
       "      <td>0.0</td>\n",
       "      <td>0.0</td>\n",
       "      <td>0.0</td>\n",
       "      <td>1.0</td>\n",
       "      <td>1.0</td>\n",
       "      <td>1.0</td>\n",
       "      <td>0.0</td>\n",
       "      <td>0.0</td>\n",
       "    </tr>\n",
       "    <tr>\n",
       "      <th>2009-01-07</th>\n",
       "      <td>1.0</td>\n",
       "      <td>0.0</td>\n",
       "      <td>0.0</td>\n",
       "      <td>0.0</td>\n",
       "      <td>0.0</td>\n",
       "      <td>1.0</td>\n",
       "      <td>1.0</td>\n",
       "      <td>1.0</td>\n",
       "      <td>0.0</td>\n",
       "      <td>0.0</td>\n",
       "    </tr>\n",
       "    <tr>\n",
       "      <th>...</th>\n",
       "      <td>...</td>\n",
       "      <td>...</td>\n",
       "      <td>...</td>\n",
       "      <td>...</td>\n",
       "      <td>...</td>\n",
       "      <td>...</td>\n",
       "      <td>...</td>\n",
       "      <td>...</td>\n",
       "      <td>...</td>\n",
       "      <td>...</td>\n",
       "    </tr>\n",
       "    <tr>\n",
       "      <th>2021-11-21</th>\n",
       "      <td>905267890.0</td>\n",
       "      <td>543592.0</td>\n",
       "      <td>586289.0</td>\n",
       "      <td>852963.0</td>\n",
       "      <td>377997.0</td>\n",
       "      <td>NaN</td>\n",
       "      <td>NaN</td>\n",
       "      <td>NaN</td>\n",
       "      <td>NaN</td>\n",
       "      <td>NaN</td>\n",
       "    </tr>\n",
       "    <tr>\n",
       "      <th>2021-11-22</th>\n",
       "      <td>905701634.0</td>\n",
       "      <td>572842.0</td>\n",
       "      <td>676630.0</td>\n",
       "      <td>923541.0</td>\n",
       "      <td>433744.0</td>\n",
       "      <td>NaN</td>\n",
       "      <td>NaN</td>\n",
       "      <td>NaN</td>\n",
       "      <td>NaN</td>\n",
       "      <td>NaN</td>\n",
       "    </tr>\n",
       "    <tr>\n",
       "      <th>2021-11-23</th>\n",
       "      <td>906158240.0</td>\n",
       "      <td>535121.0</td>\n",
       "      <td>700994.0</td>\n",
       "      <td>912653.0</td>\n",
       "      <td>456606.0</td>\n",
       "      <td>NaN</td>\n",
       "      <td>NaN</td>\n",
       "      <td>NaN</td>\n",
       "      <td>NaN</td>\n",
       "      <td>NaN</td>\n",
       "    </tr>\n",
       "    <tr>\n",
       "      <th>2021-11-24</th>\n",
       "      <td>906636940.0</td>\n",
       "      <td>685890.0</td>\n",
       "      <td>737173.0</td>\n",
       "      <td>1084135.0</td>\n",
       "      <td>478700.0</td>\n",
       "      <td>NaN</td>\n",
       "      <td>NaN</td>\n",
       "      <td>NaN</td>\n",
       "      <td>NaN</td>\n",
       "      <td>NaN</td>\n",
       "    </tr>\n",
       "    <tr>\n",
       "      <th>2021-11-25</th>\n",
       "      <td>907114489.0</td>\n",
       "      <td>556695.0</td>\n",
       "      <td>741219.0</td>\n",
       "      <td>979243.0</td>\n",
       "      <td>477549.0</td>\n",
       "      <td>NaN</td>\n",
       "      <td>NaN</td>\n",
       "      <td>NaN</td>\n",
       "      <td>NaN</td>\n",
       "      <td>NaN</td>\n",
       "    </tr>\n",
       "  </tbody>\n",
       "</table>\n",
       "<p>4710 rows × 10 columns</p>\n",
       "</div>"
      ],
      "text/plain": [
       "                  count  sending_count  receiving_count  active_count  \\\n",
       "date                                                                    \n",
       "2009-01-03          1.0            0.0              0.0           0.0   \n",
       "2009-01-04          1.0            0.0              0.0           0.0   \n",
       "2009-01-05          1.0            0.0              0.0           0.0   \n",
       "2009-01-06          1.0            0.0              0.0           0.0   \n",
       "2009-01-07          1.0            0.0              0.0           0.0   \n",
       "...                 ...            ...              ...           ...   \n",
       "2021-11-21  905267890.0       543592.0         586289.0      852963.0   \n",
       "2021-11-22  905701634.0       572842.0         676630.0      923541.0   \n",
       "2021-11-23  906158240.0       535121.0         700994.0      912653.0   \n",
       "2021-11-24  906636940.0       685890.0         737173.0     1084135.0   \n",
       "2021-11-25  907114489.0       556695.0         741219.0      979243.0   \n",
       "\n",
       "            new_non_zero_count  min_point_zero_1_count  min_1_count  \\\n",
       "date                                                                  \n",
       "2009-01-03                 1.0                     1.0          1.0   \n",
       "2009-01-04                 0.0                     1.0          1.0   \n",
       "2009-01-05                 0.0                     1.0          1.0   \n",
       "2009-01-06                 0.0                     1.0          1.0   \n",
       "2009-01-07                 0.0                     1.0          1.0   \n",
       "...                        ...                     ...          ...   \n",
       "2021-11-21            377997.0                     NaN          NaN   \n",
       "2021-11-22            433744.0                     NaN          NaN   \n",
       "2021-11-23            456606.0                     NaN          NaN   \n",
       "2021-11-24            478700.0                     NaN          NaN   \n",
       "2021-11-25            477549.0                     NaN          NaN   \n",
       "\n",
       "            min_10_count  min_100_count  min_1k_count  \n",
       "date                                                   \n",
       "2009-01-03           1.0            0.0           0.0  \n",
       "2009-01-04           1.0            0.0           0.0  \n",
       "2009-01-05           1.0            0.0           0.0  \n",
       "2009-01-06           1.0            0.0           0.0  \n",
       "2009-01-07           1.0            0.0           0.0  \n",
       "...                  ...            ...           ...  \n",
       "2021-11-21           NaN            NaN           NaN  \n",
       "2021-11-22           NaN            NaN           NaN  \n",
       "2021-11-23           NaN            NaN           NaN  \n",
       "2021-11-24           NaN            NaN           NaN  \n",
       "2021-11-25           NaN            NaN           NaN  \n",
       "\n",
       "[4710 rows x 10 columns]"
      ]
     },
     "execution_count": 235,
     "metadata": {},
     "output_type": "execute_result"
    }
   ],
   "source": [
    "addresses_df"
   ]
  },
  {
   "cell_type": "code",
   "execution_count": 211,
   "metadata": {},
   "outputs": [
    {
     "data": {
      "text/plain": [
       "<AxesSubplot:xlabel='date'>"
      ]
     },
     "execution_count": 211,
     "metadata": {},
     "output_type": "execute_result"
    },
    {
     "data": {
      "image/png": "[encoded data removed]",
      "text/plain": [
       "<Figure size 432x288 with 1 Axes>"
      ]
     },
     "metadata": {
      "needs_background": "light"
     },
     "output_type": "display_data"
    }
   ],
   "source": [
    "addresses_df['min_10_count'].plot()"
   ]
  },
  {
   "cell_type": "markdown",
   "metadata": {},
   "source": [
    "### Blockchain API"
   ]
  },
  {
   "cell_type": "code",
   "execution_count": 180,
   "metadata": {},
   "outputs": [],
   "source": [
    "list_blockchain = ['utxo_count',\n",
    "       'utxo_created_count',\n",
    "       'utxo_spent_count',\n",
    "       'utxo_created_value_sum',\n",
    "       'utxo_created_value_mean',\n",
    "       'utxo_profit_count',\n",
    "       'utxo_loss_count',\n",
    "       'utxo_profit_relative',\n",
    "       'block_size_mean',\n",
    "       ]"
   ]
  },
  {
   "cell_type": "code",
   "execution_count": 181,
   "metadata": {},
   "outputs": [],
   "source": [
    "API_KEY = '21JXvnWb8iqfgMs4c1RInHqiy0s'\n",
    "# make API request\n",
    "ls = []\n",
    "for i in list_blockchain:\n",
    "    res = requests.get(f'https://api.glassnode.com/v1/metrics/blockchain/{i}',\n",
    "        params={'a': 'BTC',\n",
    "                'api_key': API_KEY})\n",
    "    \n",
    "    if res.ok:\n",
    "        df_temp = pd.read_json(res.text, convert_dates=['t'])\n",
    "        df_temp.columns = ['date', i]\n",
    "        ls.append(df_temp)\n",
    "    else:\n",
    "        ls.append('')"
   ]
  },
  {
   "cell_type": "code",
   "execution_count": 183,
   "metadata": {},
   "outputs": [],
   "source": [
    "ls_new = [x for x in ls if len(x)!=0]\n",
    "reset_df = pd.concat(ls_new,axis=0)\n",
    "blockchain_df = reset_df.groupby(\"date\").mean()"
   ]
  },
  {
   "cell_type": "code",
   "execution_count": 220,
   "metadata": {},
   "outputs": [
    {
     "name": "stdout",
     "output_type": "stream",
     "text": [
      "<class 'pandas.core.frame.DataFrame'>\n",
      "RangeIndex: 4710 entries, 0 to 4709\n",
      "Data columns (total 8 columns):\n",
      " #   Column  Non-Null Count  Dtype  \n",
      "---  ------  --------------  -----  \n",
      " 0   0       4710 non-null   float64\n",
      " 1   1       4710 non-null   float64\n",
      " 2   2       4710 non-null   float64\n",
      " 3   3       4710 non-null   float64\n",
      " 4   4       4710 non-null   float64\n",
      " 5   5       4710 non-null   float64\n",
      " 6   6       4710 non-null   float64\n",
      " 7   7       4710 non-null   float64\n",
      "dtypes: float64(8)\n",
      "memory usage: 294.5 KB\n"
     ]
    }
   ],
   "source": [
    "import numpy as np\n",
    "from sklearn.impute import KNNImputer\n",
    "imputer = KNNImputer(n_neighbors=5)\n",
    "pd.DataFrame(imputer.fit_transform(blockchain_df)).info()\n"
   ]
  },
  {
   "cell_type": "code",
   "execution_count": 212,
   "metadata": {},
   "outputs": [
    {
     "data": {
      "text/plain": [
       "<AxesSubplot:xlabel='date'>"
      ]
     },
     "execution_count": 212,
     "metadata": {},
     "output_type": "execute_result"
    },
    {
     "data": {
      "image/png": "[encoded data removed]",
      "text/plain": [
       "<Figure size 432x288 with 1 Axes>"
      ]
     },
     "metadata": {
      "needs_background": "light"
     },
     "output_type": "display_data"
    }
   ],
   "source": [
    "blockchain_df['utxo_profit_count'].plot()"
   ]
  },
  {
   "cell_type": "markdown",
   "metadata": {},
   "source": [
    "# Create whole Data set"
   ]
  },
  {
   "cell_type": "code",
   "execution_count": null,
   "metadata": {},
   "outputs": [],
   "source": [
    "#import pandas as pd\n",
    "#from functools import reduce\n",
    "\n",
    "# compile the list of dataframes you want to merge\n",
    "#data_frames = [loaded_dict[k] for k,v in loaded_dict.items()]\n",
    "#df_merged = reduce(lambda  left, right: pd.merge(left,right,on=['Timestamp'],\n",
    "#                                            how='outer'), data_frames)"
   ]
  },
  {
   "cell_type": "code",
   "execution_count": 17,
   "metadata": {},
   "outputs": [],
   "source": []
  },
  {
   "cell_type": "code",
   "execution_count": 18,
   "metadata": {},
   "outputs": [],
   "source": [
    "df_active_add.columns = ['Timestamp','active_account']"
   ]
  },
  {
   "cell_type": "code",
   "execution_count": 19,
   "metadata": {},
   "outputs": [],
   "source": [
    "final_df_2016 = pd.concat([final_df.reset_index(), df_active_add]\n",
    "         ).groupby(\"Timestamp\").mean().interpolate(method='linear',axis=0).loc['2016':]\n"
   ]
  },
  {
   "cell_type": "code",
   "execution_count": 26,
   "metadata": {},
   "outputs": [],
   "source": [
    "final_df_2016.to_csv('final_df_2016.csv',index=True)"
   ]
  },
  {
   "cell_type": "code",
   "execution_count": 29,
   "metadata": {
    "scrolled": true
   },
   "outputs": [
    {
     "data": {
      "text/html": [
       "<div>\n",
       "<style scoped>\n",
       "    .dataframe tbody tr th:only-of-type {\n",
       "        vertical-align: middle;\n",
       "    }\n",
       "\n",
       "    .dataframe tbody tr th {\n",
       "        vertical-align: top;\n",
       "    }\n",
       "\n",
       "    .dataframe thead th {\n",
       "        text-align: right;\n",
       "    }\n",
       "</style>\n",
       "<table border=\"1\" class=\"dataframe\">\n",
       "  <thead>\n",
       "    <tr style=\"text-align: right;\">\n",
       "      <th></th>\n",
       "      <th>n-transactions-per-block</th>\n",
       "      <th>difficulty</th>\n",
       "      <th>utxo-count</th>\n",
       "      <th>mvrv</th>\n",
       "      <th>nvt</th>\n",
       "      <th>avg-block-size</th>\n",
       "      <th>n-transactions-excluding-popular</th>\n",
       "      <th>n-unique-addresses</th>\n",
       "      <th>median-confirmation-time</th>\n",
       "      <th>n-payments</th>\n",
       "      <th>...</th>\n",
       "      <th>mempool-growth</th>\n",
       "      <th>mempool-size</th>\n",
       "      <th>blocks-size</th>\n",
       "      <th>hash-rate</th>\n",
       "      <th>n-transactions-total</th>\n",
       "      <th>n-payments-per-block</th>\n",
       "      <th>avg-confirmation-time</th>\n",
       "      <th>nvts</th>\n",
       "      <th>transaction-fees-usd</th>\n",
       "      <th>active_account</th>\n",
       "    </tr>\n",
       "    <tr>\n",
       "      <th>Timestamp</th>\n",
       "      <th></th>\n",
       "      <th></th>\n",
       "      <th></th>\n",
       "      <th></th>\n",
       "      <th></th>\n",
       "      <th></th>\n",
       "      <th></th>\n",
       "      <th></th>\n",
       "      <th></th>\n",
       "      <th></th>\n",
       "      <th></th>\n",
       "      <th></th>\n",
       "      <th></th>\n",
       "      <th></th>\n",
       "      <th></th>\n",
       "      <th></th>\n",
       "      <th></th>\n",
       "      <th></th>\n",
       "      <th></th>\n",
       "      <th></th>\n",
       "      <th></th>\n",
       "    </tr>\n",
       "  </thead>\n",
       "  <tbody>\n",
       "    <tr>\n",
       "      <th>2016-01-01</th>\n",
       "      <td>1041.690770</td>\n",
       "      <td>1.038803e+11</td>\n",
       "      <td>3.338612e+07</td>\n",
       "      <td>1.438947</td>\n",
       "      <td>13.175163</td>\n",
       "      <td>0.571189</td>\n",
       "      <td>151110.666667</td>\n",
       "      <td>263121.000000</td>\n",
       "      <td>7.333333</td>\n",
       "      <td>NaN</td>\n",
       "      <td>...</td>\n",
       "      <td>NaN</td>\n",
       "      <td>NaN</td>\n",
       "      <td>54592.003253</td>\n",
       "      <td>7.705155e+05</td>\n",
       "      <td>1.011267e+08</td>\n",
       "      <td>NaN</td>\n",
       "      <td>NaN</td>\n",
       "      <td>6.430930</td>\n",
       "      <td>13896.175481</td>\n",
       "      <td>316489.0</td>\n",
       "    </tr>\n",
       "    <tr>\n",
       "      <th>2016-01-02</th>\n",
       "      <td>1027.848276</td>\n",
       "      <td>1.038803e+11</td>\n",
       "      <td>3.343719e+07</td>\n",
       "      <td>1.435261</td>\n",
       "      <td>14.288515</td>\n",
       "      <td>0.579744</td>\n",
       "      <td>146859.333333</td>\n",
       "      <td>290170.000000</td>\n",
       "      <td>7.233333</td>\n",
       "      <td>NaN</td>\n",
       "      <td>...</td>\n",
       "      <td>NaN</td>\n",
       "      <td>NaN</td>\n",
       "      <td>54670.707780</td>\n",
       "      <td>7.601179e+05</td>\n",
       "      <td>1.012783e+08</td>\n",
       "      <td>NaN</td>\n",
       "      <td>NaN</td>\n",
       "      <td>6.406957</td>\n",
       "      <td>13798.467773</td>\n",
       "      <td>419389.0</td>\n",
       "    </tr>\n",
       "    <tr>\n",
       "      <th>2016-01-03</th>\n",
       "      <td>1072.431759</td>\n",
       "      <td>1.038803e+11</td>\n",
       "      <td>3.348825e+07</td>\n",
       "      <td>1.431575</td>\n",
       "      <td>15.401867</td>\n",
       "      <td>0.600422</td>\n",
       "      <td>142608.000000</td>\n",
       "      <td>317219.000000</td>\n",
       "      <td>7.133333</td>\n",
       "      <td>NaN</td>\n",
       "      <td>...</td>\n",
       "      <td>NaN</td>\n",
       "      <td>NaN</td>\n",
       "      <td>54759.271865</td>\n",
       "      <td>7.497203e+05</td>\n",
       "      <td>1.014362e+08</td>\n",
       "      <td>NaN</td>\n",
       "      <td>NaN</td>\n",
       "      <td>6.382985</td>\n",
       "      <td>13975.989027</td>\n",
       "      <td>394047.0</td>\n",
       "    </tr>\n",
       "    <tr>\n",
       "      <th>2016-01-04</th>\n",
       "      <td>1117.015243</td>\n",
       "      <td>1.038803e+11</td>\n",
       "      <td>3.353932e+07</td>\n",
       "      <td>1.427888</td>\n",
       "      <td>16.515219</td>\n",
       "      <td>0.621101</td>\n",
       "      <td>152435.333333</td>\n",
       "      <td>344268.000000</td>\n",
       "      <td>7.905556</td>\n",
       "      <td>NaN</td>\n",
       "      <td>...</td>\n",
       "      <td>NaN</td>\n",
       "      <td>NaN</td>\n",
       "      <td>54847.835949</td>\n",
       "      <td>7.393227e+05</td>\n",
       "      <td>1.015941e+08</td>\n",
       "      <td>NaN</td>\n",
       "      <td>NaN</td>\n",
       "      <td>6.359013</td>\n",
       "      <td>14153.510280</td>\n",
       "      <td>418253.0</td>\n",
       "    </tr>\n",
       "    <tr>\n",
       "      <th>2016-01-05</th>\n",
       "      <td>1161.598726</td>\n",
       "      <td>1.038803e+11</td>\n",
       "      <td>3.353985e+07</td>\n",
       "      <td>1.427604</td>\n",
       "      <td>13.651511</td>\n",
       "      <td>0.641779</td>\n",
       "      <td>162262.666667</td>\n",
       "      <td>350924.000000</td>\n",
       "      <td>8.677778</td>\n",
       "      <td>NaN</td>\n",
       "      <td>...</td>\n",
       "      <td>NaN</td>\n",
       "      <td>NaN</td>\n",
       "      <td>54936.400034</td>\n",
       "      <td>7.483729e+05</td>\n",
       "      <td>1.017520e+08</td>\n",
       "      <td>NaN</td>\n",
       "      <td>NaN</td>\n",
       "      <td>6.361890</td>\n",
       "      <td>14331.031533</td>\n",
       "      <td>434786.0</td>\n",
       "    </tr>\n",
       "    <tr>\n",
       "      <th>...</th>\n",
       "      <td>...</td>\n",
       "      <td>...</td>\n",
       "      <td>...</td>\n",
       "      <td>...</td>\n",
       "      <td>...</td>\n",
       "      <td>...</td>\n",
       "      <td>...</td>\n",
       "      <td>...</td>\n",
       "      <td>...</td>\n",
       "      <td>...</td>\n",
       "      <td>...</td>\n",
       "      <td>...</td>\n",
       "      <td>...</td>\n",
       "      <td>...</td>\n",
       "      <td>...</td>\n",
       "      <td>...</td>\n",
       "      <td>...</td>\n",
       "      <td>...</td>\n",
       "      <td>...</td>\n",
       "      <td>...</td>\n",
       "      <td>...</td>\n",
       "    </tr>\n",
       "    <tr>\n",
       "      <th>2021-11-18</th>\n",
       "      <td>2054.611695</td>\n",
       "      <td>2.267415e+13</td>\n",
       "      <td>7.682603e+07</td>\n",
       "      <td>2.437422</td>\n",
       "      <td>2.814664</td>\n",
       "      <td>1.270386</td>\n",
       "      <td>275592.333333</td>\n",
       "      <td>725020.000000</td>\n",
       "      <td>7.297222</td>\n",
       "      <td>695747.0</td>\n",
       "      <td>...</td>\n",
       "      <td>1412.433333</td>\n",
       "      <td>4905390.0</td>\n",
       "      <td>375623.175341</td>\n",
       "      <td>1.671497e+08</td>\n",
       "      <td>6.877094e+08</td>\n",
       "      <td>4831.576389</td>\n",
       "      <td>17.654845</td>\n",
       "      <td>4.914937</td>\n",
       "      <td>771114.080949</td>\n",
       "      <td>983663.0</td>\n",
       "    </tr>\n",
       "    <tr>\n",
       "      <th>2021-11-19</th>\n",
       "      <td>2078.240876</td>\n",
       "      <td>2.267415e+13</td>\n",
       "      <td>7.692242e+07</td>\n",
       "      <td>2.423386</td>\n",
       "      <td>3.531133</td>\n",
       "      <td>1.275837</td>\n",
       "      <td>262180.666667</td>\n",
       "      <td>678741.666667</td>\n",
       "      <td>7.027778</td>\n",
       "      <td>689992.0</td>\n",
       "      <td>...</td>\n",
       "      <td>1606.650000</td>\n",
       "      <td>2925761.5</td>\n",
       "      <td>375815.154429</td>\n",
       "      <td>1.667887e+08</td>\n",
       "      <td>6.880043e+08</td>\n",
       "      <td>5036.437956</td>\n",
       "      <td>18.174117</td>\n",
       "      <td>4.835233</td>\n",
       "      <td>757058.299599</td>\n",
       "      <td>968315.0</td>\n",
       "    </tr>\n",
       "    <tr>\n",
       "      <th>2021-11-20</th>\n",
       "      <td>2078.240876</td>\n",
       "      <td>2.267415e+13</td>\n",
       "      <td>7.701882e+07</td>\n",
       "      <td>2.409351</td>\n",
       "      <td>4.247603</td>\n",
       "      <td>1.275837</td>\n",
       "      <td>248769.000000</td>\n",
       "      <td>632463.333333</td>\n",
       "      <td>6.758333</td>\n",
       "      <td>623208.0</td>\n",
       "      <td>...</td>\n",
       "      <td>725.850000</td>\n",
       "      <td>946133.0</td>\n",
       "      <td>375815.154429</td>\n",
       "      <td>1.664277e+08</td>\n",
       "      <td>6.880043e+08</td>\n",
       "      <td>4297.986207</td>\n",
       "      <td>18.693389</td>\n",
       "      <td>4.755529</td>\n",
       "      <td>757058.299599</td>\n",
       "      <td>857699.0</td>\n",
       "    </tr>\n",
       "    <tr>\n",
       "      <th>2021-11-21</th>\n",
       "      <td>2078.240876</td>\n",
       "      <td>2.267415e+13</td>\n",
       "      <td>7.711521e+07</td>\n",
       "      <td>2.409351</td>\n",
       "      <td>4.247603</td>\n",
       "      <td>1.275837</td>\n",
       "      <td>248769.000000</td>\n",
       "      <td>586185.000000</td>\n",
       "      <td>6.758333</td>\n",
       "      <td>570982.0</td>\n",
       "      <td>...</td>\n",
       "      <td>2829.833333</td>\n",
       "      <td>689541.0</td>\n",
       "      <td>375815.154429</td>\n",
       "      <td>1.660667e+08</td>\n",
       "      <td>6.880043e+08</td>\n",
       "      <td>4325.621212</td>\n",
       "      <td>18.693389</td>\n",
       "      <td>4.755529</td>\n",
       "      <td>757058.299599</td>\n",
       "      <td>852963.0</td>\n",
       "    </tr>\n",
       "    <tr>\n",
       "      <th>2021-11-22</th>\n",
       "      <td>2078.240876</td>\n",
       "      <td>2.267415e+13</td>\n",
       "      <td>7.711521e+07</td>\n",
       "      <td>2.409351</td>\n",
       "      <td>4.247603</td>\n",
       "      <td>1.275837</td>\n",
       "      <td>248769.000000</td>\n",
       "      <td>586185.000000</td>\n",
       "      <td>6.758333</td>\n",
       "      <td>570982.0</td>\n",
       "      <td>...</td>\n",
       "      <td>2829.833333</td>\n",
       "      <td>689541.0</td>\n",
       "      <td>375815.154429</td>\n",
       "      <td>1.660667e+08</td>\n",
       "      <td>6.880043e+08</td>\n",
       "      <td>4325.621212</td>\n",
       "      <td>18.693389</td>\n",
       "      <td>4.755529</td>\n",
       "      <td>757058.299599</td>\n",
       "      <td>923541.0</td>\n",
       "    </tr>\n",
       "  </tbody>\n",
       "</table>\n",
       "<p>2153 rows × 21 columns</p>\n",
       "</div>"
      ],
      "text/plain": [
       "            n-transactions-per-block    difficulty    utxo-count      mvrv  \\\n",
       "Timestamp                                                                    \n",
       "2016-01-01               1041.690770  1.038803e+11  3.338612e+07  1.438947   \n",
       "2016-01-02               1027.848276  1.038803e+11  3.343719e+07  1.435261   \n",
       "2016-01-03               1072.431759  1.038803e+11  3.348825e+07  1.431575   \n",
       "2016-01-04               1117.015243  1.038803e+11  3.353932e+07  1.427888   \n",
       "2016-01-05               1161.598726  1.038803e+11  3.353985e+07  1.427604   \n",
       "...                              ...           ...           ...       ...   \n",
       "2021-11-18               2054.611695  2.267415e+13  7.682603e+07  2.437422   \n",
       "2021-11-19               2078.240876  2.267415e+13  7.692242e+07  2.423386   \n",
       "2021-11-20               2078.240876  2.267415e+13  7.701882e+07  2.409351   \n",
       "2021-11-21               2078.240876  2.267415e+13  7.711521e+07  2.409351   \n",
       "2021-11-22               2078.240876  2.267415e+13  7.711521e+07  2.409351   \n",
       "\n",
       "                  nvt  avg-block-size  n-transactions-excluding-popular  \\\n",
       "Timestamp                                                                 \n",
       "2016-01-01  13.175163        0.571189                     151110.666667   \n",
       "2016-01-02  14.288515        0.579744                     146859.333333   \n",
       "2016-01-03  15.401867        0.600422                     142608.000000   \n",
       "2016-01-04  16.515219        0.621101                     152435.333333   \n",
       "2016-01-05  13.651511        0.641779                     162262.666667   \n",
       "...               ...             ...                               ...   \n",
       "2021-11-18   2.814664        1.270386                     275592.333333   \n",
       "2021-11-19   3.531133        1.275837                     262180.666667   \n",
       "2021-11-20   4.247603        1.275837                     248769.000000   \n",
       "2021-11-21   4.247603        1.275837                     248769.000000   \n",
       "2021-11-22   4.247603        1.275837                     248769.000000   \n",
       "\n",
       "            n-unique-addresses  median-confirmation-time  n-payments  ...  \\\n",
       "Timestamp                                                             ...   \n",
       "2016-01-01       263121.000000                  7.333333         NaN  ...   \n",
       "2016-01-02       290170.000000                  7.233333         NaN  ...   \n",
       "2016-01-03       317219.000000                  7.133333         NaN  ...   \n",
       "2016-01-04       344268.000000                  7.905556         NaN  ...   \n",
       "2016-01-05       350924.000000                  8.677778         NaN  ...   \n",
       "...                        ...                       ...         ...  ...   \n",
       "2021-11-18       725020.000000                  7.297222    695747.0  ...   \n",
       "2021-11-19       678741.666667                  7.027778    689992.0  ...   \n",
       "2021-11-20       632463.333333                  6.758333    623208.0  ...   \n",
       "2021-11-21       586185.000000                  6.758333    570982.0  ...   \n",
       "2021-11-22       586185.000000                  6.758333    570982.0  ...   \n",
       "\n",
       "            mempool-growth  mempool-size    blocks-size     hash-rate  \\\n",
       "Timestamp                                                               \n",
       "2016-01-01             NaN           NaN   54592.003253  7.705155e+05   \n",
       "2016-01-02             NaN           NaN   54670.707780  7.601179e+05   \n",
       "2016-01-03             NaN           NaN   54759.271865  7.497203e+05   \n",
       "2016-01-04             NaN           NaN   54847.835949  7.393227e+05   \n",
       "2016-01-05             NaN           NaN   54936.400034  7.483729e+05   \n",
       "...                    ...           ...            ...           ...   \n",
       "2021-11-18     1412.433333     4905390.0  375623.175341  1.671497e+08   \n",
       "2021-11-19     1606.650000     2925761.5  375815.154429  1.667887e+08   \n",
       "2021-11-20      725.850000      946133.0  375815.154429  1.664277e+08   \n",
       "2021-11-21     2829.833333      689541.0  375815.154429  1.660667e+08   \n",
       "2021-11-22     2829.833333      689541.0  375815.154429  1.660667e+08   \n",
       "\n",
       "            n-transactions-total  n-payments-per-block  avg-confirmation-time  \\\n",
       "Timestamp                                                                       \n",
       "2016-01-01          1.011267e+08                   NaN                    NaN   \n",
       "2016-01-02          1.012783e+08                   NaN                    NaN   \n",
       "2016-01-03          1.014362e+08                   NaN                    NaN   \n",
       "2016-01-04          1.015941e+08                   NaN                    NaN   \n",
       "2016-01-05          1.017520e+08                   NaN                    NaN   \n",
       "...                          ...                   ...                    ...   \n",
       "2021-11-18          6.877094e+08           4831.576389              17.654845   \n",
       "2021-11-19          6.880043e+08           5036.437956              18.174117   \n",
       "2021-11-20          6.880043e+08           4297.986207              18.693389   \n",
       "2021-11-21          6.880043e+08           4325.621212              18.693389   \n",
       "2021-11-22          6.880043e+08           4325.621212              18.693389   \n",
       "\n",
       "                nvts  transaction-fees-usd  active_account  \n",
       "Timestamp                                                   \n",
       "2016-01-01  6.430930          13896.175481        316489.0  \n",
       "2016-01-02  6.406957          13798.467773        419389.0  \n",
       "2016-01-03  6.382985          13975.989027        394047.0  \n",
       "2016-01-04  6.359013          14153.510280        418253.0  \n",
       "2016-01-05  6.361890          14331.031533        434786.0  \n",
       "...              ...                   ...             ...  \n",
       "2021-11-18  4.914937         771114.080949        983663.0  \n",
       "2021-11-19  4.835233         757058.299599        968315.0  \n",
       "2021-11-20  4.755529         757058.299599        857699.0  \n",
       "2021-11-21  4.755529         757058.299599        852963.0  \n",
       "2021-11-22  4.755529         757058.299599        923541.0  \n",
       "\n",
       "[2153 rows x 21 columns]"
      ]
     },
     "execution_count": 29,
     "metadata": {},
     "output_type": "execute_result"
    }
   ],
   "source": [
    "pd.read_csv(os.path.join('final_df_2016.csv'), index_col=0 ,parse_dates=True)\n"
   ]
  },
  {
   "cell_type": "markdown",
   "metadata": {},
   "source": [
    "# Target"
   ]
  },
  {
   "cell_type": "code",
   "execution_count": 30,
   "metadata": {},
   "outputs": [],
   "source": [
    "data_path = '../raw_data/additional'\n",
    "coinbase_v = pd.read_csv(os.path.join(data_path, 'coinbase_2014-2021.csv'), index_col=0 ,parse_dates=True)"
   ]
  },
  {
   "cell_type": "code",
   "execution_count": 31,
   "metadata": {},
   "outputs": [],
   "source": [
    "data_path = '../raw_data/additional'\n",
    "BTC_v = pd.read_csv(os.path.join(data_path, 'trade-volume.csv'), index_col=0 ,parse_dates=True)\n"
   ]
  },
  {
   "cell_type": "markdown",
   "metadata": {},
   "source": [
    "## EDA"
   ]
  },
  {
   "cell_type": "code",
   "execution_count": 32,
   "metadata": {},
   "outputs": [
    {
     "name": "stdout",
     "output_type": "stream",
     "text": [
      "<class 'pandas.core.frame.DataFrame'>\n",
      "DatetimeIndex: 2153 entries, 2016-01-01 to 2021-11-22\n",
      "Data columns (total 21 columns):\n",
      " #   Column                            Non-Null Count  Dtype  \n",
      "---  ------                            --------------  -----  \n",
      " 0   n-transactions-per-block          2153 non-null   float64\n",
      " 1   difficulty                        2153 non-null   float64\n",
      " 2   utxo-count                        2153 non-null   float64\n",
      " 3   mvrv                              2153 non-null   float64\n",
      " 4   nvt                               2153 non-null   float64\n",
      " 5   avg-block-size                    2153 non-null   float64\n",
      " 6   n-transactions-excluding-popular  2153 non-null   float64\n",
      " 7   n-unique-addresses                2153 non-null   float64\n",
      " 8   median-confirmation-time          2153 non-null   float64\n",
      " 9   n-payments                        1422 non-null   float64\n",
      " 10  miners-revenue                    2153 non-null   float64\n",
      " 11  mempool-growth                    1991 non-null   float64\n",
      " 12  mempool-size                      1988 non-null   float64\n",
      " 13  blocks-size                       2153 non-null   float64\n",
      " 14  hash-rate                         2153 non-null   float64\n",
      " 15  n-transactions-total              2153 non-null   float64\n",
      " 16  n-payments-per-block              1422 non-null   float64\n",
      " 17  avg-confirmation-time             2043 non-null   float64\n",
      " 18  nvts                              2153 non-null   float64\n",
      " 19  transaction-fees-usd              2153 non-null   float64\n",
      " 20  active_account                    2153 non-null   float64\n",
      "dtypes: float64(21)\n",
      "memory usage: 370.0 KB\n"
     ]
    }
   ],
   "source": [
    "final_df_2016.info()"
   ]
  },
  {
   "cell_type": "code",
   "execution_count": 33,
   "metadata": {},
   "outputs": [],
   "source": [
    "df = final_df_2016.drop(columns=['n-payments-per-block','n-payments']).dropna()\n"
   ]
  },
  {
   "cell_type": "code",
   "execution_count": null,
   "metadata": {},
   "outputs": [],
   "source": []
  },
  {
   "cell_type": "code",
   "execution_count": 34,
   "metadata": {},
   "outputs": [],
   "source": [
    "import math\n",
    "import scipy as sp\n",
    "from scipy import stats\n",
    "import numpy as np\n",
    "import pandas as pd\n",
    "import matplotlib.pyplot as plt\n",
    "import statsmodels.api as sm\n",
    "import seaborn as sns\n",
    "sns.set()\n",
    "\n",
    "from sklearn.preprocessing import StandardScaler,RobustScaler\n",
    "\n",
    "from statsmodels.graphics.tsaplots import plot_acf\n",
    "from statsmodels.graphics.tsaplots import plot_pacf\n",
    "from statsmodels.tsa.stattools import kpss\n",
    "\n",
    "import warnings"
   ]
  },
  {
   "cell_type": "code",
   "execution_count": null,
   "metadata": {},
   "outputs": [],
   "source": [
    "#creating new dataframe for scaled feature values by first copying the original dataframe\n",
    "df_features_scaled = df.copy()\n",
    "\n",
    "#substituting unscaled feature values by scaled values using sklearn StandardScaler\n",
    "scaler = RobustScaler()\n",
    "df_features_scaled.iloc[:,:] = scaler.fit_transform(df_features_scaled.iloc[:,:])\n",
    "\n",
    "#drawing figure with title and single axis. Size and resolution are specified\n",
    "plt.figure(figsize=(18,6),dpi=600);\n",
    "plt.title('Comparison of scaled features',fontsize=22);\n",
    "\n",
    "#setting y axis label\n",
    "plt.ylabel('Scaled values');\n",
    "\n",
    "#rotating x axis ticks by 90 degrees\n",
    "plt.xticks(rotation=90);\n",
    "\n",
    "#drawing boxplot of scaled feature values\n",
    "sns.boxplot(data=df_features_scaled);\n",
    "    "
   ]
  },
  {
   "cell_type": "code",
   "execution_count": null,
   "metadata": {
    "scrolled": false
   },
   "outputs": [],
   "source": [
    "#creating new dataframe for scaled feature values by first copying the original dataframe\n",
    "df_features_scaled = df.copy()\n",
    "\n",
    "#substituting unscaled feature values by scaled values using sklearn StandardScaler\n",
    "scaler = StandardScaler()\n",
    "df_features_scaled.iloc[:,:] = scaler.fit_transform(df_features_scaled.iloc[:,:])\n",
    "\n",
    "#drawing figure with title and single axis. Size and resolution are specified\n",
    "plt.figure(figsize=(18,6),dpi=600);\n",
    "plt.title('Comparison of scaled features',fontsize=22);\n",
    "\n",
    "#setting y axis label\n",
    "plt.ylabel('Scaled values');\n",
    "\n",
    "#rotating x axis ticks by 90 degrees\n",
    "plt.xticks(rotation=90);\n",
    "\n",
    "#drawing boxplot of scaled feature values\n",
    "sns.boxplot(data=df_features_scaled);\n"
   ]
  },
  {
   "cell_type": "code",
   "execution_count": 35,
   "metadata": {},
   "outputs": [],
   "source": [
    "target = coinbase_v.loc['2016-06-14':][['volume_gross']]"
   ]
  },
  {
   "cell_type": "code",
   "execution_count": 36,
   "metadata": {},
   "outputs": [],
   "source": [
    "target_week = target.resample('w').mean()"
   ]
  },
  {
   "cell_type": "code",
   "execution_count": 37,
   "metadata": {},
   "outputs": [],
   "source": [
    "df_week = df.resample('w').mean()\n",
    "scaler = StandardScaler()\n",
    "df_week_scaled = pd.DataFrame(scaler.fit_transform(df_week),\n",
    "                             columns=df_week.columns,\n",
    "                             index= df_week.index)\n"
   ]
  },
  {
   "cell_type": "code",
   "execution_count": 38,
   "metadata": {},
   "outputs": [
    {
     "data": {
      "image/png": "[encoded data removed]",
      "text/plain": [
       "<Figure size 1296x576 with 4 Axes>"
      ]
     },
     "metadata": {},
     "output_type": "display_data"
    }
   ],
   "source": [
    "fig, axs = plt.subplots(2, 2, figsize=(18,8))\n",
    "# keeping just log transform to stay ~ linear\n",
    "target_week['log'] = np.log(target_week.values)\n",
    "\n",
    "# linearized series\n",
    "axs[0,0].plot(target_week.log); axs[0,0].set_title('linearized Series')\n",
    "\n",
    "# Normal differencing\n",
    "axs[0,1].plot(target_week.log.diff(1)); axs[0,1].set_title('1st Order Differencing')\n",
    "\n",
    "# Seasonal differencing\n",
    "axs[1,0].plot(target_week.log.diff(12))\n",
    "axs[1,0].set_title('Seasonal differencing of period 12')\n",
    "\n",
    "# Sesonal + Normal differencing\n",
    "axs[1,1].plot(target_week.log.diff(12).diff(1))\n",
    "axs[1,1].set_title('First order diff of seasonal differencing 12');\n",
    "\n",
    "        \n",
    "\n",
    "        \n",
    "        "
   ]
  },
  {
   "cell_type": "code",
   "execution_count": 39,
   "metadata": {},
   "outputs": [
    {
     "data": {
      "text/plain": [
       "Index(['volume_gross', 'log'], dtype='object')"
      ]
     },
     "execution_count": 39,
     "metadata": {},
     "output_type": "execute_result"
    }
   ],
   "source": [
    "int(len(df_week_scaled)/2)\n",
    "target_week.columns"
   ]
  },
  {
   "cell_type": "code",
   "execution_count": 40,
   "metadata": {},
   "outputs": [],
   "source": [
    "X_train = df_week_scaled.iloc[:142,:]\n",
    "X_test = df_week_scaled.iloc[142:,:]\n",
    "\n",
    "target_week = target.resample('w').mean()\n",
    "\n",
    "y_train = target_week.iloc[:142,:]\n",
    "y_test = target_week.iloc[142:,:]"
   ]
  },
  {
   "cell_type": "code",
   "execution_count": 41,
   "metadata": {
    "scrolled": true
   },
   "outputs": [
    {
     "name": "stdout",
     "output_type": "stream",
     "text": [
      "Performing stepwise search to minimize aic\n",
      " ARIMA(0,0,0)(0,1,1)[12] intercept   : AIC=5221.542, Time=0.42 sec\n",
      " ARIMA(0,0,0)(0,1,0)[12] intercept   : AIC=5228.708, Time=0.05 sec\n",
      " ARIMA(1,0,0)(1,1,0)[12] intercept   : AIC=5201.489, Time=0.39 sec\n",
      " ARIMA(0,0,1)(0,1,1)[12] intercept   : AIC=5203.297, Time=0.56 sec\n",
      " ARIMA(0,0,0)(0,1,0)[12]             : AIC=5730.506, Time=0.06 sec\n",
      " ARIMA(1,0,0)(0,1,0)[12] intercept   : AIC=5218.041, Time=0.13 sec\n",
      " ARIMA(1,0,0)(2,1,0)[12] intercept   : AIC=5197.895, Time=1.03 sec\n",
      " ARIMA(1,0,0)(2,1,1)[12] intercept   : AIC=5194.643, Time=1.49 sec\n",
      " ARIMA(1,0,0)(1,1,1)[12] intercept   : AIC=5192.645, Time=0.59 sec\n",
      " ARIMA(1,0,0)(0,1,1)[12] intercept   : AIC=5190.684, Time=0.43 sec\n",
      " ARIMA(1,0,0)(0,1,2)[12] intercept   : AIC=5192.606, Time=1.16 sec\n",
      " ARIMA(1,0,0)(1,1,2)[12] intercept   : AIC=inf, Time=5.52 sec\n",
      " ARIMA(2,0,0)(0,1,1)[12] intercept   : AIC=5190.584, Time=0.53 sec\n",
      " ARIMA(2,0,0)(0,1,0)[12] intercept   : AIC=5219.952, Time=0.15 sec\n",
      " ARIMA(2,0,0)(1,1,1)[12] intercept   : AIC=5192.576, Time=0.75 sec\n",
      " ARIMA(2,0,0)(0,1,2)[12] intercept   : AIC=5192.584, Time=2.12 sec\n",
      " ARIMA(2,0,0)(1,1,0)[12] intercept   : AIC=5202.663, Time=0.59 sec\n",
      " ARIMA(2,0,0)(1,1,2)[12] intercept   : AIC=inf, Time=5.87 sec\n",
      " ARIMA(2,0,1)(0,1,1)[12] intercept   : AIC=5192.644, Time=1.10 sec\n",
      " ARIMA(1,0,1)(0,1,1)[12] intercept   : AIC=5190.671, Time=0.71 sec\n",
      " ARIMA(2,0,0)(0,1,1)[12]             : AIC=5187.130, Time=0.50 sec\n",
      " ARIMA(2,0,0)(0,1,0)[12]             : AIC=5217.993, Time=0.14 sec\n",
      " ARIMA(2,0,0)(1,1,1)[12]             : AIC=5189.120, Time=0.69 sec\n",
      " ARIMA(2,0,0)(0,1,2)[12]             : AIC=5189.121, Time=1.27 sec\n",
      " ARIMA(2,0,0)(1,1,0)[12]             : AIC=5200.512, Time=0.46 sec\n",
      " ARIMA(2,0,0)(1,1,2)[12]             : AIC=5191.118, Time=1.59 sec\n",
      " ARIMA(1,0,0)(0,1,1)[12]             : AIC=5187.600, Time=0.40 sec\n",
      " ARIMA(2,0,1)(0,1,1)[12]             : AIC=5180.108, Time=1.72 sec\n",
      " ARIMA(2,0,1)(0,1,0)[12]             : AIC=5219.924, Time=0.42 sec\n",
      " ARIMA(2,0,1)(1,1,1)[12]             : AIC=5181.818, Time=1.74 sec\n",
      " ARIMA(2,0,1)(0,1,2)[12]             : AIC=5181.813, Time=3.41 sec\n",
      " ARIMA(2,0,1)(1,1,0)[12]             : AIC=5200.224, Time=1.48 sec\n",
      " ARIMA(2,0,1)(1,1,2)[12]             : AIC=5183.813, Time=4.71 sec\n",
      " ARIMA(1,0,1)(0,1,1)[12]             : AIC=5186.543, Time=0.71 sec\n",
      " ARIMA(2,0,2)(0,1,1)[12]             : AIC=5182.000, Time=1.61 sec\n",
      " ARIMA(1,0,2)(0,1,1)[12]             : AIC=5181.265, Time=1.79 sec\n",
      "\n",
      "Best model:  ARIMA(2,0,1)(0,1,1)[12]          \n",
      "Total fit time: 46.342 seconds\n"
     ]
    }
   ],
   "source": [
    "# Auto-fit the best SARIMAX with help from this exogenous time series\n",
    "import pmdarima as pm\n",
    "sarimax = pm.auto_arima(y_train, exogenous=X_train,\n",
    "                           start_p=0, start_q=0,\n",
    "                           test='adf',\n",
    "                           max_p=2, max_q=2, m=12,\n",
    "                           start_P=0, seasonal=True,\n",
    "                           d=None, D=1, trace=True,\n",
    "                           error_action='ignore',  \n",
    "                           suppress_warnings=True, \n",
    "                           stepwise=True)\n"
   ]
  },
  {
   "cell_type": "code",
   "execution_count": 25,
   "metadata": {},
   "outputs": [
    {
     "name": "stdout",
     "output_type": "stream",
     "text": [
      "Name: pmdarima\r\n",
      "Version: 1.8.4\r\n",
      "Summary: Python's forecast::auto.arima equivalent\r\n",
      "Home-page: http://alkaline-ml.com/pmdarima\r\n",
      "Author: \r\n",
      "Author-email: \r\n",
      "License: MIT\r\n",
      "Location: /Users/michelangelodalessandro/.pyenv/versions/3.8.12/envs/btc_sent_fc/lib/python3.8/site-packages\r\n",
      "Requires: Cython, joblib, numpy, pandas, scikit-learn, scipy, setuptools, statsmodels, urllib3\r\n",
      "Required-by: \r\n"
     ]
    }
   ],
   "source": [
    "from statsmodels.tsa.statespace.sarimax import SARIMAX\n",
    "\n",
    "# Build Model\n",
    "sarima = SARIMAX(train, order=(2, 0, 1),seasonal_order=(0,1,2,12))\n",
    "sarima = sarima.fit()\n",
    "\n",
    "# Forecast\n",
    "results = sarima.get_forecast(len(test), alpha=0.05)\n",
    "forecast = results.predicted_mean\n",
    "confidence_int = results.conf_int()"
   ]
  },
  {
   "cell_type": "code",
   "execution_count": 226,
   "metadata": {},
   "outputs": [
    {
     "data": {
      "text/plain": [
       "'nogaW'"
      ]
     },
     "execution_count": 226,
     "metadata": {},
     "output_type": "execute_result"
    }
   ],
   "source": [
    "'Wagon'[::-1]"
   ]
  },
  {
   "cell_type": "code",
   "execution_count": null,
   "metadata": {},
   "outputs": [],
   "source": [
    "''.join(a)"
   ]
  }
 ],
 "metadata": {
  "kernelspec": {
   "display_name": "btc_sent_fc",
   "language": "python",
   "name": "btc_sent_fc"
  },
  "language_info": {
   "codemirror_mode": {
    "name": "ipython",
    "version": 3
   },
   "file_extension": ".py",
   "mimetype": "text/x-python",
   "name": "python",
   "nbconvert_exporter": "python",
   "pygments_lexer": "ipython3",
   "version": "3.8.12"
  },
  "toc": {
   "base_numbering": 1,
   "nav_menu": {},
   "number_sections": true,
   "sideBar": true,
   "skip_h1_title": false,
   "title_cell": "Table of Contents",
   "title_sidebar": "Contents",
   "toc_cell": false,
   "toc_position": {},
   "toc_section_display": true,
   "toc_window_display": false
  }
 },
 "nbformat": 4,
 "nbformat_minor": 2
}
