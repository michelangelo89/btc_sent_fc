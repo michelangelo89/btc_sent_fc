{
 "cells": [
  {
   "cell_type": "code",
   "execution_count": 1,
   "id": "7d4a866e",
   "metadata": {},
   "outputs": [],
   "source": [
    "import numpy as np\n",
    "import pandas as pd\n",
    "import tweepy\n",
    "import requests\n",
    "import time\n",
    "from datetime import date\n",
    "from datetime import timedelta"
   ]
  },
  {
   "cell_type": "code",
   "execution_count": 2,
   "id": "155c8114",
   "metadata": {},
   "outputs": [],
   "source": [
    "#import key json\n",
    "file_name = \"../keys.json\"\n",
    "with open(file_name, \"r\") as key_file:\n",
    "    keys = json.load(key_file)"
   ]
  },
  {
   "cell_type": "code",
   "execution_count": 3,
   "id": "4f70f466",
   "metadata": {},
   "outputs": [],
   "source": [
    "# asign keys\n",
    "bearer_token = keys['bearer_token']\n",
    "consumer_key = keys['consumer_key']\n",
    "consumer_secret = keys['consumer_secret']\n",
    "access_token = keys['access_token']\n",
    "token_secret = keys['token_secret']"
   ]
  },
  {
   "cell_type": "code",
   "execution_count": 4,
   "id": "9f67d7d5",
   "metadata": {},
   "outputs": [],
   "source": [
    "auth = tweepy.OAuthHandler(consumer_key, consumer_secret)\n",
    "auth.set_access_token(access_token, token_secret)\n",
    "api = tweepy.API(auth)"
   ]
  },
  {
   "cell_type": "markdown",
   "id": "8bc6a143",
   "metadata": {},
   "source": [
    "### Get dates"
   ]
  },
  {
   "cell_type": "code",
   "execution_count": 5,
   "id": "5a11b3a0",
   "metadata": {},
   "outputs": [],
   "source": [
    "# returns a dataframe with dates, having random hours to be used in retrieving tweets\n",
    "\n",
    "def get_dates_df():\n",
    "    \n",
    "    ##### get number of days to loop through #####\n",
    "    def get_days_delta():\n",
    "        delta = date.today()-date(2016, 1, 1)\n",
    "        return delta.days\n",
    "\n",
    "    ##### generate creates a list of dates from today to the start day in get_days_delta() #####\n",
    "    dates_to_check = [(date.today() - timedelta(i)).isoformat() for i in range(get_days_delta())] \n",
    "\n",
    "    ##### generate random times and concat to each date  #####\n",
    "    random_time_dates = []\n",
    "    for i in dates_to_check:\n",
    "        h = '00' #random.randint(0, 24)\n",
    "        m = '00' #random.randint(0, 60)\n",
    "        s = '00' #random.randint(0, 60)\n",
    "\n",
    "        i =  f'{i}T{h}:{m}:{s}.000Z'\n",
    "        random_time_dates.append(i)\n",
    "        \n",
    "    return random_time_dates"
   ]
  },
  {
   "cell_type": "code",
   "execution_count": 28,
   "id": "31c1295a",
   "metadata": {},
   "outputs": [],
   "source": [
    "tweet_dates = get_dates_df()[0:2]\n",
    "\n",
    "# create clusters to split the job\n",
    "# dates_clusters = [tweet_dates[n:n+100] for n in range(0, len(tweet_dates), 100)] \n"
   ]
  },
  {
   "cell_type": "markdown",
   "id": "a793a56f",
   "metadata": {},
   "source": [
    "### Authenticate and define func to connect to api"
   ]
  },
  {
   "cell_type": "code",
   "execution_count": 7,
   "id": "556bb822",
   "metadata": {},
   "outputs": [],
   "source": [
    "search_url = \"https://api.twitter.com/2/tweets/search/all\"\n",
    "query_params = {'query': \"us infrastructure\",\"end_time\": \"2021-11-19T14:44:18.000Z\", \"max_results\":10, \"tweet.fields\":\"public_metrics\"}\n",
    "\n",
    "def bearer_oauth(r):\n",
    "    \"\"\"\n",
    "    Method required by bearer token authentication.\n",
    "    \"\"\"\n",
    "\n",
    "    r.headers[\"Authorization\"] = f\"Bearer {bearer_token}\"\n",
    "    r.headers[\"User-Agent\"] = \"CryptoTrading699\"\n",
    "    return r\n",
    "\n",
    "\n",
    "\n",
    "def connect_to_endpoint(url, params):\n",
    "    response = requests.request(\"GET\", search_url, auth=bearer_oauth, params=params)\n",
    "#     print(response.status_code)\n",
    "    if response.status_code != 200:\n",
    "        raise Exception(response.status_code, response.text)\n",
    "    return response.json()\n",
    "\n"
   ]
  },
  {
   "cell_type": "code",
   "execution_count": 8,
   "id": "4c77a12b",
   "metadata": {},
   "outputs": [],
   "source": [
    "\n",
    "def get_tweets(api_response, max_results=51):\n",
    "    list_tweets = []\n",
    "    \n",
    "    for i in range(0,max_results):\n",
    "        text = api_response['data'][i]['text']\n",
    "        list_tweets.append(text)\n",
    "    return list_tweets \n",
    "\n",
    "\n",
    "def get_tweets_ids(api_response, max_results=51):\n",
    "    list_tweets_ids = []\n",
    "    \n",
    "    for i in range(0,max_results):\n",
    "        ids = api_response['data'][i]['id']\n",
    "        list_tweets_ids.append(ids)\n",
    "    return list_tweets_ids\n",
    "\n",
    "\n",
    "def get_dates(tweet_date, max_results=51):\n",
    "    list_dates = []\n",
    "\n",
    "    for i in range(0,max_results):\n",
    "        list_dates.append(tweet_date)\n",
    "    return list_dates\n",
    "\n",
    "\n",
    "def get_topic(topic, max_results=51):\n",
    "    list_topics = [topic for i in range(0,max_results)]\n",
    "    return list_topics\n"
   ]
  },
  {
   "cell_type": "markdown",
   "id": "a88c7aeb",
   "metadata": {},
   "source": [
    "### pull data from api and asign to dict"
   ]
  },
  {
   "cell_type": "code",
   "execution_count": 31,
   "id": "7100b021",
   "metadata": {
    "scrolled": true
   },
   "outputs": [],
   "source": [
    "# retrieve a dictionary of tweets(max_results) for each date, for each topic\n",
    "def get_tweets_dict(dates, topics, max_results):\n",
    "    tweeter_data = {\n",
    "        'tweet':[],\n",
    "        'tweet_date':[],\n",
    "        'topic':[],\n",
    "        'tweet_id':[],\n",
    "    }\n",
    "    \n",
    "    # loop through dates\n",
    "    for tweet_date in tweet_dates:\n",
    "        # loop through topics\n",
    "        for topic in topics:\n",
    "            query_params = {'query':topic ,\"end_time\": tweet_date, \"max_results\":max_results, \"tweet.fields\":\"public_metrics\"}\n",
    "            json_response = connect_to_endpoint(search_url, query_params)\n",
    "            available_tweets= len(json_response['data'])-1 # get number of tweets returned by the request if \n",
    "\n",
    "            tweeter_data['tweet'] += get_tweets(json_response, max_results=available_tweets)\n",
    "            tweeter_data['tweet_id'] += get_tweets_ids(json_response, max_results=available_tweets)\n",
    "            tweeter_data['tweet_date'] += get_dates(tweet_date, max_results=available_tweets)\n",
    "            tweeter_data['topic'] += get_topic(topic, max_results=available_tweets)\n",
    "\n",
    "            time.sleep(5)\n",
    "            \n",
    "    return tweeter_data"
   ]
  },
  {
   "cell_type": "code",
   "execution_count": null,
   "id": "65c47d50",
   "metadata": {},
   "outputs": [],
   "source": []
  },
  {
   "cell_type": "code",
   "execution_count": 10,
   "id": "176e08bd",
   "metadata": {},
   "outputs": [],
   "source": [
    "# query_params = {'query':topic ,\"end_time\": tweet_date, \"max_results\":20, \"tweet.fields\":\"public_metrics\"}\n",
    "# json_response = connect_to_endpoint(search_url, query_params)\n",
    "# json_response['data']"
   ]
  },
  {
   "cell_type": "code",
   "execution_count": 11,
   "id": "e0bd194f",
   "metadata": {},
   "outputs": [],
   "source": [
    "# df = pd.DataFrame(tweeter_data)"
   ]
  },
  {
   "cell_type": "code",
   "execution_count": 15,
   "id": "196ca500",
   "metadata": {},
   "outputs": [
    {
     "data": {
      "text/plain": [
       "936"
      ]
     },
     "execution_count": 15,
     "metadata": {},
     "output_type": "execute_result"
    }
   ],
   "source": [
    "df =pd.DataFrame(tweeter_data)\n",
    "len(df['tweet_id'].unique())"
   ]
  },
  {
   "cell_type": "code",
   "execution_count": 16,
   "id": "e4af267b",
   "metadata": {},
   "outputs": [],
   "source": [
    "df.to_csv('tweets_subset.csv',index=False)"
   ]
  }
 ],
 "metadata": {
  "kernelspec": {
   "display_name": "Python 3 (ipykernel)",
   "language": "python",
   "name": "python3"
  },
  "language_info": {
   "codemirror_mode": {
    "name": "ipython",
    "version": 3
   },
   "file_extension": ".py",
   "mimetype": "text/x-python",
   "name": "python",
   "nbconvert_exporter": "python",
   "pygments_lexer": "ipython3",
   "version": "3.8.12"
  },
  "toc": {
   "base_numbering": 1,
   "nav_menu": {},
   "number_sections": true,
   "sideBar": true,
   "skip_h1_title": false,
   "title_cell": "Table of Contents",
   "title_sidebar": "Contents",
   "toc_cell": false,
   "toc_position": {},
   "toc_section_display": true,
   "toc_window_display": false
  }
 },
 "nbformat": 4,
 "nbformat_minor": 5
}
