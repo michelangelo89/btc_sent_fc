{
 "cells": [
  {
   "cell_type": "code",
   "execution_count": 46,
   "id": "947556af",
   "metadata": {},
   "outputs": [],
   "source": [
    "import numpy as np\n",
    "import pandas as pd\n",
    "import tweepy\n",
    "import requests\n",
    "import time\n",
    "from datetime import date\n",
    "from datetime import timedelta"
   ]
  },
  {
   "cell_type": "code",
   "execution_count": 49,
   "id": "9bf4f1c3",
   "metadata": {},
   "outputs": [],
   "source": [
    "#import key json\n",
    "file_name = \"../keys.json\"\n",
    "with open(file_name, \"r\") as key_file:\n",
    "    keys = json.load(key_file)"
   ]
  },
  {
   "cell_type": "code",
   "execution_count": 50,
   "id": "e800047f",
   "metadata": {},
   "outputs": [],
   "source": [
    "# asign keys\n",
    "bearer_token = keys['bearer_token']\n",
    "consumer_key = keys['consumer_key']\n",
    "consumer_secret = keys['consumer_secret']\n",
    "access_token = keys['access_token']\n",
    "token_secret = keys['token_secret']"
   ]
  },
  {
   "cell_type": "code",
   "execution_count": 3,
   "id": "6453b5da",
   "metadata": {},
   "outputs": [],
   "source": [
    "auth = tweepy.OAuthHandler(consumer_key, consumer_secret)\n",
    "auth.set_access_token(access_token, token_secret)\n",
    "api = tweepy.API(auth)"
   ]
  },
  {
   "cell_type": "markdown",
   "id": "45c49d6f",
   "metadata": {},
   "source": [
    "### Get dates"
   ]
  },
  {
   "cell_type": "code",
   "execution_count": 4,
   "id": "db3a87a6",
   "metadata": {},
   "outputs": [],
   "source": [
    "# returns a dataframe with dates, having random hours to be used in retrieving tweets\n",
    "\n",
    "def get_dates_df():\n",
    "    \n",
    "    ##### get number of days to loop through #####\n",
    "    def get_days_delta():\n",
    "        delta = date.today()-date(2016, 1, 1)\n",
    "        return delta.days\n",
    "\n",
    "    ##### generate creates a list of dates from today to the start day in get_days_delta() #####\n",
    "    dates_to_check = [(date.today() - timedelta(i)).isoformat() for i in range(get_days_delta())] \n",
    "\n",
    "    ##### generate random times and concat to each date  #####\n",
    "    random_time_dates = []\n",
    "    for i in dates_to_check:\n",
    "        h = '12' #random.randint(0, 24)\n",
    "        m = '00' #random.randint(0, 60)\n",
    "        s = '00' #random.randint(0, 60)\n",
    "\n",
    "        i =  f'{i}T{h}:{m}:{s}.000Z'\n",
    "        random_time_dates.append(i)\n",
    "        \n",
    "    return random_time_dates"
   ]
  },
  {
   "cell_type": "code",
   "execution_count": 30,
   "id": "d6487da4",
   "metadata": {},
   "outputs": [
    {
     "data": {
      "text/plain": [
       "['2021-11-23T12:00:00.000Z',\n",
       " '2021-11-22T12:00:00.000Z',\n",
       " '2021-11-21T12:00:00.000Z',\n",
       " '2021-11-20T12:00:00.000Z']"
      ]
     },
     "execution_count": 30,
     "metadata": {},
     "output_type": "execute_result"
    }
   ],
   "source": [
    "\n",
    "tweet_dates = get_dates_df()[0:4]\n",
    "tweet_dates"
   ]
  },
  {
   "cell_type": "markdown",
   "id": "a9079ff3",
   "metadata": {},
   "source": [
    "### Authenticate and define func to connect to api"
   ]
  },
  {
   "cell_type": "code",
   "execution_count": 7,
   "id": "fc09fea4",
   "metadata": {},
   "outputs": [],
   "source": [
    "search_url = \"https://api.twitter.com/2/tweets/search/all\"\n",
    "query_params = {'query': \"us infrastructure\",\"end_time\": \"2021-11-19T14:44:18.000Z\", \"max_results\":10, \"tweet.fields\":\"public_metrics\"}\n",
    "\n",
    "def bearer_oauth(r):\n",
    "    \"\"\"\n",
    "    Method required by bearer token authentication.\n",
    "    \"\"\"\n",
    "\n",
    "    r.headers[\"Authorization\"] = f\"Bearer {bearer_token}\"\n",
    "    r.headers[\"User-Agent\"] = \"CryptoTrading699\"\n",
    "    return r\n",
    "\n",
    "\n",
    "\n",
    "def connect_to_endpoint(url, params):\n",
    "    response = requests.request(\"GET\", search_url, auth=bearer_oauth, params=params)\n",
    "#     print(response.status_code)\n",
    "    if response.status_code != 200:\n",
    "        raise Exception(response.status_code, response.text)\n",
    "    return response.json()\n",
    "\n"
   ]
  },
  {
   "cell_type": "code",
   "execution_count": 14,
   "id": "1b09875e",
   "metadata": {},
   "outputs": [],
   "source": [
    "\n",
    "def get_tweets(api_response, max_results=10):\n",
    "    list_tweets = []\n",
    "    \n",
    "    for i in range(0,max_results):\n",
    "        text = api_response['data'][i]['text']\n",
    "        list_tweets.append(text)\n",
    "    return list_tweets \n",
    "\n",
    "\n",
    "def get_dates(tweet_date, max_results=10):\n",
    "    list_dates = []\n",
    "\n",
    "    for i in range(0,max_results):\n",
    "        list_dates.append(tweet_date)\n",
    "    return list_dates\n",
    "\n",
    "\n",
    "def get_topic(topic, max_results=10):\n",
    "    list_topics = []\n",
    "\n",
    "    for i in range(0, max_results):\n",
    "        list_topics.append(topic)\n",
    "    return list_topics"
   ]
  },
  {
   "cell_type": "code",
   "execution_count": 18,
   "id": "25ea6fc1",
   "metadata": {},
   "outputs": [],
   "source": [
    "# get_dates(tweet_date, max_results=max_results)"
   ]
  },
  {
   "cell_type": "markdown",
   "id": "e40ce559",
   "metadata": {},
   "source": [
    "### pull data from api and asign to dict"
   ]
  },
  {
   "cell_type": "code",
   "execution_count": 32,
   "id": "28d1a80e",
   "metadata": {},
   "outputs": [],
   "source": [
    "max_results = 30\n",
    "topics = ['US infrastructure', 'US infrastructure', 'Federal Reserve', 'US economy', 'US company, stock', 'US, pension, retirement', 'US inequality', 'living cost', 'US inflation', 'US recession']\n",
    "\n",
    "\n",
    "tweetter_data = {\n",
    "    'tweet':[],\n",
    "    'tweet_date':[],\n",
    "    'topic':[],\n",
    "}\n",
    "\n",
    "\n",
    "#loop through dates\n",
    "for tweet_date in tweet_dates:\n",
    "    # loop through topics\n",
    "    for topic in topics:\n",
    "        query_params = {'query':topic ,\"end_time\": tweet_date, \"max_results\":max_results, \"tweet.fields\":\"public_metrics\"}\n",
    "        json_response = connect_to_endpoint(search_url, query_params)\n",
    "        \n",
    "        tweetter_data['tweet'] += get_tweets(json_response, max_results=max_results-1)\n",
    "        tweetter_data['tweet_date'] += get_dates(tweet_date, max_results=max_results-1)\n",
    "        tweetter_data['topic'] += get_topic(topic, max_results=max_results-1)\n",
    "        time.sleep(3)\n"
   ]
  },
  {
   "cell_type": "code",
   "execution_count": 34,
   "id": "80bb9992",
   "metadata": {},
   "outputs": [],
   "source": [
    "df = pd.DataFrame(tweetter_data)"
   ]
  },
  {
   "cell_type": "code",
   "execution_count": 41,
   "id": "a7a04c4e",
   "metadata": {},
   "outputs": [],
   "source": [
    "df['tweet_date'].unique()"
   ]
  }
 ],
 "metadata": {
  "kernelspec": {
   "display_name": "Python 3 (ipykernel)",
   "language": "python",
   "name": "python3"
  },
  "language_info": {
   "codemirror_mode": {
    "name": "ipython",
    "version": 3
   },
   "file_extension": ".py",
   "mimetype": "text/x-python",
   "name": "python",
   "nbconvert_exporter": "python",
   "pygments_lexer": "ipython3",
   "version": "3.8.12"
  },
  "toc": {
   "base_numbering": 1,
   "nav_menu": {},
   "number_sections": true,
   "sideBar": true,
   "skip_h1_title": false,
   "title_cell": "Table of Contents",
   "title_sidebar": "Contents",
   "toc_cell": false,
   "toc_position": {},
   "toc_section_display": true,
   "toc_window_display": false
  }
 },
 "nbformat": 4,
 "nbformat_minor": 5
}
