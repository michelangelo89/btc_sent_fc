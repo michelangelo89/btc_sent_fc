{
  "cells": [
    {
      "cell_type": "markdown",
      "id": "_9LfUaudC749",
      "metadata": {
        "id": "_9LfUaudC749"
      },
      "source": [
        "\n",
        "# Tweeter Scraper\n"
      ]
    },
    {
      "cell_type": "code",
      "execution_count": null,
      "id": "70d87919",
      "metadata": {
        "id": "70d87919"
      },
      "outputs": [],
      "source": [
        "import numpy as np\n",
        "import pandas as pd\n",
        "import tweepy\n",
        "import requests\n",
        "import time\n",
        "from datetime import date\n",
        "from datetime import timedelta\n",
        "\n",
        "from google.colab import files\n"
      ]
    },
    {
      "cell_type": "code",
      "execution_count": null,
      "id": "ce6313f4",
      "metadata": {
        "id": "ce6313f4"
      },
      "outputs": [],
      "source": [
        "#import key json  "
      ]
    },
    {
      "cell_type": "code",
      "execution_count": null,
      "id": "a94c858d",
      "metadata": {
        "id": "a94c858d"
      },
      "outputs": [],
      "source": [
        "# asign keys\n",
        "bearer_token = ''\n",
        "consumer_key = ''\n",
        "consumer_secret = ''\n",
        "access_token = ''\n",
        "token_secret = ''"
      ]
    },
    {
      "cell_type": "code",
      "execution_count": null,
      "id": "c4eb8164",
      "metadata": {
        "id": "c4eb8164"
      },
      "outputs": [],
      "source": [
        "auth = tweepy.OAuthHandler(consumer_key, consumer_secret)\n",
        "auth.set_access_token(access_token, token_secret)\n",
        "api = tweepy.API(auth)"
      ]
    },
    {
      "cell_type": "markdown",
      "id": "b23ae0d1",
      "metadata": {
        "id": "b23ae0d1"
      },
      "source": [
        "### Get dates"
      ]
    },
    {
      "cell_type": "code",
      "execution_count": null,
      "id": "b4127be8",
      "metadata": {
        "id": "b4127be8"
      },
      "outputs": [],
      "source": [
        "# returns a dataframe with dates, having random hours to be used in retrieving tweets\n",
        "\n",
        "def get_dates_df():\n",
        "    \n",
        "    ##### get number of days to loop through #####\n",
        "    def get_days_delta():\n",
        "        delta = date.today()-date(2016, 1, 1)\n",
        "        return delta.days\n",
        "\n",
        "    ##### generate creates a list of dates from today to the start day in get_days_delta() #####\n",
        "    dates_to_check = [(date.today() - timedelta(i)).isoformat() for i in range(get_days_delta())] \n",
        "\n",
        "    ##### generate random times and concat to each date  #####\n",
        "    random_time_dates = []\n",
        "    for i in dates_to_check:\n",
        "        h = '12' #random.randint(0, 24)\n",
        "        m = '00' #random.randint(0, 60)\n",
        "        s = '00' #random.randint(0, 60)\n",
        "\n",
        "        i =  f'{i}T{h}:{m}:{s}.000Z'\n",
        "        random_time_dates.append(i)\n",
        "        \n",
        "    return random_time_dates"
      ]
    },
    {
      "cell_type": "code",
      "execution_count": null,
      "id": "735c9208",
      "metadata": {
        "id": "735c9208"
      },
      "outputs": [],
      "source": [
        "tweet_dates = get_dates_df()\n",
        "\n",
        "# create clusters to split the job\n",
        "# dates_clusters = [tweet_dates[n:n+500] for n in range(0, len(tweet_dates), 100)] \n",
        "# tweet_dates"
      ]
    },
    {
      "cell_type": "markdown",
      "id": "ebf795e6",
      "metadata": {
        "id": "ebf795e6"
      },
      "source": [
        "### Authenticate and define func to connect to api"
      ]
    },
    {
      "cell_type": "code",
      "execution_count": null,
      "id": "93e01c6e",
      "metadata": {
        "id": "93e01c6e"
      },
      "outputs": [],
      "source": [
        "search_url = \"https://api.twitter.com/2/tweets/search/all\"\n",
        "\n",
        "def bearer_oauth(r):\n",
        "    \"\"\"\n",
        "    Method required by bearer token authentication.\n",
        "    \"\"\"\n",
        "\n",
        "    r.headers[\"Authorization\"] = f\"Bearer {bearer_token}\"\n",
        "    r.headers[\"User-Agent\"] = \"CryptoTrading699\"\n",
        "    return r\n",
        "\n",
        "def connect_to_endpoint(url, params):\n",
        "    response = requests.request(\"GET\", search_url, auth=bearer_oauth, params=params)\n",
        "#     print(response.status_code)\n",
        "    if response.status_code != 200:\n",
        "        raise Exception(response.status_code, response.text)\n",
        "    return response.json()\n",
        "\n"
      ]
    },
    {
      "cell_type": "code",
      "execution_count": null,
      "id": "96ee934a",
      "metadata": {
        "id": "96ee934a"
      },
      "outputs": [],
      "source": [
        "\n",
        "def get_tweets(api_response, max_results=51):\n",
        "    list_tweets = []\n",
        "    \n",
        "    for i in range(0,max_results):\n",
        "        text = api_response['data'][i]['text']\n",
        "        list_tweets.append(text)\n",
        "    return list_tweets \n",
        "\n",
        "\n",
        "def get_tweets_ids(api_response, max_results=51):\n",
        "    list_tweets_ids = []\n",
        "    \n",
        "    for i in range(0,max_results):\n",
        "        ids = api_response['data'][i]['id']\n",
        "        list_tweets_ids.append(ids)\n",
        "    return list_tweets_ids\n",
        "\n",
        "\n",
        "def get_dates(tweet_date, max_results=51):\n",
        "    list_dates = []\n",
        "\n",
        "    for i in range(0,max_results):\n",
        "        list_dates.append(tweet_date)\n",
        "    return list_dates\n",
        "\n",
        "\n",
        "def get_topic(topic, max_results=51):\n",
        "    list_topics = [topic for i in range(0,max_results)]\n",
        "    return list_topics\n"
      ]
    },
    {
      "cell_type": "markdown",
      "id": "ae421815",
      "metadata": {
        "id": "ae421815"
      },
      "source": [
        "### pull data from api and asign to dict"
      ]
    },
    {
      "cell_type": "code",
      "execution_count": null,
      "id": "31de1f5d",
      "metadata": {
        "id": "31de1f5d",
        "scrolled": true
      },
      "outputs": [],
      "source": [
        "# retrieve a dictionary of tweets(max_results) for each date, for each topic\n",
        "def get_tweets_dict(dates, topics, max_results):\n",
        "    tweeter_data = {\n",
        "        'tweet_id':[],\n",
        "        'tweet_date':[],\n",
        "        'tweet':[],\n",
        "        'topic':[],\n",
        "\n",
        "    }\n",
        "    \n",
        "    # loop through dates\n",
        "    for tweet_date in tweet_dates:\n",
        "        # loop through topics\n",
        "        for topic in topics:\n",
        "            query_params = {'query':topic ,\"end_time\": tweet_date, \"max_results\":max_results, \"tweet.fields\":\"public_metrics\"}\n",
        "            json_response = connect_to_endpoint(search_url, query_params)\n",
        "            available_tweets= len(json_response['data'])-1 # get number of tweets returned by the request if \n",
        "\n",
        "            tweeter_data['tweet'] += get_tweets(json_response, max_results=available_tweets)\n",
        "            tweeter_data['tweet_id'] += get_tweets_ids(json_response, max_results=available_tweets)\n",
        "            tweeter_data['tweet_date'] += get_dates(tweet_date, max_results=available_tweets)\n",
        "            tweeter_data['topic'] += get_topic(topic, max_results=available_tweets)\n",
        "\n",
        "            time.sleep(5)\n",
        "            \n",
        "    return tweeter_data"
      ]
    },
    {
      "cell_type": "code",
      "execution_count": null,
      "id": "2c1a423b",
      "metadata": {
        "colab": {
          "background_save": true
        },
        "id": "2c1a423b",
        "outputId": "f2c17041-7a66-4879-e0e8-e9383382fba2"
      },
      "outputs": [
        {
          "ename": "KeyError",
          "evalue": "ignored",
          "output_type": "error",
          "traceback": [
            "\u001b[0;31m---------------------------------------------------------------------------\u001b[0m",
            "\u001b[0;31mKeyError\u001b[0m                                  Traceback (most recent call last)",
            "\u001b[0;32m<ipython-input-33-346f215f0e7f>\u001b[0m in \u001b[0;36m<module>\u001b[0;34m()\u001b[0m\n\u001b[1;32m      3\u001b[0m \u001b[0mtopics\u001b[0m \u001b[0;34m=\u001b[0m \u001b[0;34m[\u001b[0m\u001b[0;34m'us inflation, cost of living'\u001b[0m\u001b[0;34m,\u001b[0m \u001b[0;34m'US, savings, salary'\u001b[0m\u001b[0;34m]\u001b[0m \u001b[0;31m#'US economy','US infrastructure', 'Federal Reserve',  'US company, stock', 'US, savings, pension, retirement', 'US inequality', 'us living cost', 'US inflation', 'US recession','US banking'\u001b[0m\u001b[0;34m\u001b[0m\u001b[0;34m\u001b[0m\u001b[0m\n\u001b[1;32m      4\u001b[0m \u001b[0;34m\u001b[0m\u001b[0m\n\u001b[0;32m----> 5\u001b[0;31m \u001b[0mtweets_dict\u001b[0m \u001b[0;34m=\u001b[0m \u001b[0mget_tweets_dict\u001b[0m\u001b[0;34m(\u001b[0m\u001b[0mtweet_dates\u001b[0m\u001b[0;34m,\u001b[0m \u001b[0mtopics\u001b[0m\u001b[0;34m,\u001b[0m \u001b[0mmax_results\u001b[0m\u001b[0;34m)\u001b[0m\u001b[0;34m\u001b[0m\u001b[0;34m\u001b[0m\u001b[0m\n\u001b[0m",
            "\u001b[0;32m<ipython-input-28-3f683cdbd9d4>\u001b[0m in \u001b[0;36mget_tweets_dict\u001b[0;34m(dates, topics, max_results)\u001b[0m\n\u001b[1;32m     15\u001b[0m             \u001b[0mquery_params\u001b[0m \u001b[0;34m=\u001b[0m \u001b[0;34m{\u001b[0m\u001b[0;34m'query'\u001b[0m\u001b[0;34m:\u001b[0m\u001b[0mtopic\u001b[0m \u001b[0;34m,\u001b[0m\u001b[0;34m\"end_time\"\u001b[0m\u001b[0;34m:\u001b[0m \u001b[0mtweet_date\u001b[0m\u001b[0;34m,\u001b[0m \u001b[0;34m\"max_results\"\u001b[0m\u001b[0;34m:\u001b[0m\u001b[0mmax_results\u001b[0m\u001b[0;34m,\u001b[0m \u001b[0;34m\"tweet.fields\"\u001b[0m\u001b[0;34m:\u001b[0m\u001b[0;34m\"public_metrics\"\u001b[0m\u001b[0;34m}\u001b[0m\u001b[0;34m\u001b[0m\u001b[0;34m\u001b[0m\u001b[0m\n\u001b[1;32m     16\u001b[0m             \u001b[0mjson_response\u001b[0m \u001b[0;34m=\u001b[0m \u001b[0mconnect_to_endpoint\u001b[0m\u001b[0;34m(\u001b[0m\u001b[0msearch_url\u001b[0m\u001b[0;34m,\u001b[0m \u001b[0mquery_params\u001b[0m\u001b[0;34m)\u001b[0m\u001b[0;34m\u001b[0m\u001b[0;34m\u001b[0m\u001b[0m\n\u001b[0;32m---> 17\u001b[0;31m             \u001b[0mavailable_tweets\u001b[0m\u001b[0;34m=\u001b[0m \u001b[0mlen\u001b[0m\u001b[0;34m(\u001b[0m\u001b[0mjson_response\u001b[0m\u001b[0;34m[\u001b[0m\u001b[0;34m'data'\u001b[0m\u001b[0;34m]\u001b[0m\u001b[0;34m)\u001b[0m\u001b[0;34m-\u001b[0m\u001b[0;36m1\u001b[0m \u001b[0;31m# get number of tweets returned by the request if\u001b[0m\u001b[0;34m\u001b[0m\u001b[0;34m\u001b[0m\u001b[0m\n\u001b[0m\u001b[1;32m     18\u001b[0m \u001b[0;34m\u001b[0m\u001b[0m\n\u001b[1;32m     19\u001b[0m             \u001b[0mtweeter_data\u001b[0m\u001b[0;34m[\u001b[0m\u001b[0;34m'tweet'\u001b[0m\u001b[0;34m]\u001b[0m \u001b[0;34m+=\u001b[0m \u001b[0mget_tweets\u001b[0m\u001b[0;34m(\u001b[0m\u001b[0mjson_response\u001b[0m\u001b[0;34m,\u001b[0m \u001b[0mmax_results\u001b[0m\u001b[0;34m=\u001b[0m\u001b[0mavailable_tweets\u001b[0m\u001b[0;34m)\u001b[0m\u001b[0;34m\u001b[0m\u001b[0;34m\u001b[0m\u001b[0m\n",
            "\u001b[0;31mKeyError\u001b[0m: 'data'"
          ]
        }
      ],
      "source": [
        "max_results = 51\n",
        "\n",
        "topics = ['us inflation, cost of living', 'US, savings, salary'] #'US economy','US infrastructure', 'Federal Reserve',  'US company, stock', 'US, savings, pension, retirement', 'US inequality', 'us living cost', 'US inflation', 'US recession','US banking'\n",
        "\n",
        "tweets_dict = get_tweets_dict(tweet_dates, topics, max_results)\n"
      ]
    },
    {
      "cell_type": "code",
      "execution_count": 1,
      "id": "29abe10f",
      "metadata": {
        "colab": {
          "base_uri": "https://localhost:8080/",
          "height": 182
        },
        "id": "29abe10f",
        "outputId": "7aa7f2eb-0fd3-48fd-ad32-666b7583fed0"
      },
      "outputs": [
        {
          "ename": "NameError",
          "evalue": "ignored",
          "output_type": "error",
          "traceback": [
            "\u001b[0;31m---------------------------------------------------------------------------\u001b[0m",
            "\u001b[0;31mNameError\u001b[0m                                 Traceback (most recent call last)",
            "\u001b[0;32m<ipython-input-1-5fe367f34950>\u001b[0m in \u001b[0;36m<module>\u001b[0;34m()\u001b[0m\n\u001b[0;32m----> 1\u001b[0;31m \u001b[0mdf\u001b[0m \u001b[0;34m=\u001b[0m \u001b[0mpd\u001b[0m\u001b[0;34m.\u001b[0m\u001b[0mDataFrame\u001b[0m\u001b[0;34m(\u001b[0m\u001b[0mtweets_dict\u001b[0m\u001b[0;34m)\u001b[0m\u001b[0;34m\u001b[0m\u001b[0;34m\u001b[0m\u001b[0m\n\u001b[0m\u001b[1;32m      2\u001b[0m \u001b[0mdf\u001b[0m\u001b[0;34m\u001b[0m\u001b[0;34m\u001b[0m\u001b[0m\n",
            "\u001b[0;31mNameError\u001b[0m: name 'pd' is not defined"
          ]
        }
      ],
      "source": [
        "df = pd.DataFrame(tweets_dict)\n",
        "df"
      ]
    },
    {
      "cell_type": "code",
      "execution_count": null,
      "id": "2d3b0aa3",
      "metadata": {
        "id": "2d3b0aa3"
      },
      "outputs": [],
      "source": [
        "df.to_csv(r'us_economy.csv', index = False)\n",
        "files.download(\"us_economy.csv\")"
      ]
    }
  ],
  "metadata": {
    "colab": {
      "name": "access_twitter_api.ipynb",
      "provenance": []
    },
    "kernelspec": {
      "display_name": "Python 3 (ipykernel)",
      "language": "python",
      "name": "python3"
    },
    "language_info": {
      "codemirror_mode": {
        "name": "ipython",
        "version": 3
      },
      "file_extension": ".py",
      "mimetype": "text/x-python",
      "name": "python",
      "nbconvert_exporter": "python",
      "pygments_lexer": "ipython3",
      "version": "3.8.12"
    },
    "toc": {
      "base_numbering": 1,
      "nav_menu": {},
      "number_sections": true,
      "sideBar": true,
      "skip_h1_title": false,
      "title_cell": "Table of Contents",
      "title_sidebar": "Contents",
      "toc_cell": false,
      "toc_position": {},
      "toc_section_display": true,
      "toc_window_display": false
    }
  },
  "nbformat": 4,
  "nbformat_minor": 5
}
