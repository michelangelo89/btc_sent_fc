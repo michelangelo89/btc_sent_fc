{
 "cells": [
  {
   "cell_type": "code",
   "execution_count": 1,
   "id": "7d4a866e",
   "metadata": {},
   "outputs": [],
   "source": [
    "import numpy as np\n",
    "import pandas as pd\n",
    "import tweepy\n",
    "import requests\n",
    "import time\n",
    "from datetime import date\n",
    "from datetime import timedelta"
   ]
  },
  {
   "cell_type": "code",
   "execution_count": 7,
   "id": "155c8114",
   "metadata": {},
   "outputs": [],
   "source": [
    "#import key json\n",
    "file_name = \"../keys.json\"\n",
    "with open(file_name, \"r\") as key_file:\n",
    "    keys = json.load(key_file)"
   ]
  },
  {
   "cell_type": "code",
   "execution_count": 8,
   "id": "4f70f466",
   "metadata": {},
   "outputs": [],
   "source": [
    "# asign keys\n",
    "bearer_token = keys['bearer_token']\n",
    "consumer_key = keys['consumer_key']\n",
    "consumer_secret = keys['consumer_secret']\n",
    "access_token = keys['access_token']\n",
    "token_secret = keys['token_secret']"
   ]
  },
  {
   "cell_type": "code",
   "execution_count": 9,
   "id": "9f67d7d5",
   "metadata": {},
   "outputs": [],
   "source": [
    "auth = tweepy.OAuthHandler(consumer_key, consumer_secret)\n",
    "auth.set_access_token(access_token, token_secret)\n",
    "api = tweepy.API(auth)"
   ]
  },
  {
   "cell_type": "markdown",
   "id": "8bc6a143",
   "metadata": {},
   "source": [
    "### Get dates"
   ]
  },
  {
   "cell_type": "code",
   "execution_count": 10,
   "id": "5a11b3a0",
   "metadata": {},
   "outputs": [],
   "source": [
    "# returns a dataframe with dates, having random hours to be used in retrieving tweets\n",
    "\n",
    "def get_dates_df():\n",
    "    \n",
    "    ##### get number of days to loop through #####\n",
    "    def get_days_delta():\n",
    "        delta = date.today()-date(2016, 1, 1)\n",
    "        return delta.days\n",
    "\n",
    "    ##### generate creates a list of dates from today to the start day in get_days_delta() #####\n",
    "    dates_to_check = [(date.today() - timedelta(i)).isoformat() for i in range(get_days_delta())] \n",
    "\n",
    "    ##### generate random times and concat to each date  #####\n",
    "    random_time_dates = []\n",
    "    for i in dates_to_check:\n",
    "        h = '00' #random.randint(0, 24)\n",
    "        m = '00' #random.randint(0, 60)\n",
    "        s = '00' #random.randint(0, 60)\n",
    "\n",
    "        i =  f'{i}T{h}:{m}:{s}.000Z'\n",
    "        random_time_dates.append(i)\n",
    "        \n",
    "    return random_time_dates"
   ]
  },
  {
   "cell_type": "code",
   "execution_count": 11,
   "id": "31c1295a",
   "metadata": {},
   "outputs": [],
   "source": [
    "tweet_dates = get_dates_df()[0:2]\n",
    "\n",
    "# create clusters to split the job\n",
    "# dates_clusters = [tweet_dates[n:n+100] for n in range(0, len(tweet_dates), 100)] \n"
   ]
  },
  {
   "cell_type": "markdown",
   "id": "a793a56f",
   "metadata": {},
   "source": [
    "### Authenticate and define func to connect to api"
   ]
  },
  {
   "cell_type": "code",
   "execution_count": 12,
   "id": "556bb822",
   "metadata": {},
   "outputs": [],
   "source": [
    "search_url = \"https://api.twitter.com/2/tweets/search/all\"\n",
    "query_params = {'query': \"us infrastructure\",\"end_time\": \"2021-11-19T14:44:18.000Z\", \"max_results\":10, \"tweet.fields\":\"public_metrics\"}\n",
    "\n",
    "def bearer_oauth(r):\n",
    "    \"\"\"\n",
    "    Method required by bearer token authentication.\n",
    "    \"\"\"\n",
    "\n",
    "    r.headers[\"Authorization\"] = f\"Bearer {bearer_token}\"\n",
    "    r.headers[\"User-Agent\"] = \"CryptoTrading699\"\n",
    "    return r\n",
    "\n",
    "\n",
    "\n",
    "def connect_to_endpoint(url, params):\n",
    "    response = requests.request(\"GET\", search_url, auth=bearer_oauth, params=params)\n",
    "#     print(response.status_code)\n",
    "    if response.status_code != 200:\n",
    "        raise Exception(response.status_code, response.text)\n",
    "    return response.json()\n",
    "\n"
   ]
  },
  {
   "cell_type": "code",
   "execution_count": 48,
   "id": "93cbbc74",
   "metadata": {},
   "outputs": [
    {
     "data": {
      "text/plain": [
       "<function __main__.bearer_oauth(r)>"
      ]
     },
     "execution_count": 48,
     "metadata": {},
     "output_type": "execute_result"
    }
   ],
   "source": [
    "bearer_oauth"
   ]
  },
  {
   "cell_type": "code",
   "execution_count": 13,
   "id": "4c77a12b",
   "metadata": {},
   "outputs": [],
   "source": [
    "\n",
    "def get_tweets(api_response, max_results=51):\n",
    "    list_tweets = []\n",
    "    \n",
    "    for i in range(0,max_results):\n",
    "        text = api_response['data'][i]['text']\n",
    "        list_tweets.append(text)\n",
    "    return list_tweets \n",
    "\n",
    "\n",
    "def get_tweets_ids(api_response, max_results=51):\n",
    "    list_tweets_ids = []\n",
    "    \n",
    "    for i in range(0,max_results):\n",
    "        ids = api_response['data'][i]['id']\n",
    "        list_tweets_ids.append(ids)\n",
    "    return list_tweets_ids\n",
    "\n",
    "\n",
    "def get_dates(tweet_date, max_results=51):\n",
    "    list_dates = []\n",
    "\n",
    "    for i in range(0,max_results):\n",
    "        list_dates.append(tweet_date)\n",
    "    return list_dates\n",
    "\n",
    "\n",
    "def get_topic(topic, max_results=51):\n",
    "    list_topics = [topic for i in range(0,max_results)]\n",
    "    return list_topics\n"
   ]
  },
  {
   "cell_type": "markdown",
   "id": "a88c7aeb",
   "metadata": {},
   "source": [
    "### pull data from api and asign to dict"
   ]
  },
  {
   "cell_type": "code",
   "execution_count": 16,
   "id": "7100b021",
   "metadata": {
    "scrolled": true
   },
   "outputs": [],
   "source": [
    "# retrieve a dictionary of tweets(max_results) for each date, for each topic\n",
    "def get_tweets_dict(dates, topics, max_results):\n",
    "    tweeter_data = {\n",
    "        'tweet':[],\n",
    "        'tweet_date':[],\n",
    "        'topic':[],\n",
    "        'tweet_id':[],\n",
    "    }\n",
    "    \n",
    "    # loop through dates\n",
    "    for tweet_date in dates:\n",
    "        # loop through topics\n",
    "        for topic in topics:\n",
    "            query_params = {'query':topic ,\"end_time\": tweet_date, \"max_results\":max_results, \"tweet.fields\":\"public_metrics\"}\n",
    "            json_response = connect_to_endpoint(search_url, query_params)\n",
    "            available_tweets= len(json_response['data'])-1 # get number of tweets returned by the request if \n",
    "\n",
    "            tweeter_data['tweet'] += get_tweets(json_response, max_results=available_tweets)\n",
    "            tweeter_data['tweet_id'] += get_tweets_ids(json_response, max_results=available_tweets)\n",
    "            tweeter_data['tweet_date'] += get_dates(tweet_date, max_results=available_tweets)\n",
    "            tweeter_data['topic'] += get_topic(topic, max_results=available_tweets)\n",
    "\n",
    "            time.sleep(5)\n",
    "            \n",
    "    return tweeter_data"
   ]
  },
  {
   "cell_type": "code",
   "execution_count": 17,
   "id": "fea11e03",
   "metadata": {},
   "outputs": [
    {
     "data": {
      "text/plain": [
       "['2021-11-26T00:00:00.000Z', '2021-11-25T00:00:00.000Z']"
      ]
     },
     "execution_count": 17,
     "metadata": {},
     "output_type": "execute_result"
    }
   ],
   "source": [
    "tweet_dates"
   ]
  },
  {
   "cell_type": "code",
   "execution_count": 35,
   "id": "f58cb0dc",
   "metadata": {},
   "outputs": [],
   "source": [
    "topics = [\"economy\"]"
   ]
  },
  {
   "cell_type": "code",
   "execution_count": 43,
   "id": "65c47d50",
   "metadata": {},
   "outputs": [],
   "source": [
    "tweet_dict = get_tweets_dict(tweet_dates, topics, 10)"
   ]
  },
  {
   "cell_type": "code",
   "execution_count": 44,
   "id": "3d87bf04",
   "metadata": {},
   "outputs": [],
   "source": [
    "tweeter_data = tweet_dict"
   ]
  },
  {
   "cell_type": "code",
   "execution_count": 45,
   "id": "79d9acf2",
   "metadata": {},
   "outputs": [
    {
     "data": {
      "text/plain": [
       "{'tweet': ['RT @BenOquist: This is outrageous \\u2066▶️ Senator on the hook for $150,000 in government legal fees . \\u2066@Senator_Patrick\\u2069  https://t.co/cid3ry2M…',\n",
       "  'RT @PalmerReport: So what’s our winning messaging?\\n\\n1) We’ve accomplished a lot this year (strong economy, vaccinations, build back better)…',\n",
       "  'Premium Economy  @LATAM_BRA https://t.co/1ItlgCdYIo',\n",
       "  'RT @thewirehindi: ममता बनर्जी से मुलाकात के बाद भाजपा नेता सुब्रमण्यम स्वामी मोदी सरकार को असफल बताया\\n\\nhttps://t.co/EjwM3xjq72\\n\\n#Subramaniy…',\n",
       "  \"RT @Madisontx76: What do you say to a person who truly believes the economy is much better off now than it was under Trump? \\n\\nI just don't…\",\n",
       "  'RT @Kristy91808800: #drbonniehenry @adriandix don’t  care about #BC residents health or death.  It’s all about optics and the economy',\n",
       "  '@frankoz95967943 @FinanceLancelot @INArteCarloDoss Seriously though if they could somehow devalue by 50% without triggering a meltdown it would actually get them out of the bind and save them ten years of guiding this economy through a gradual devaluation.',\n",
       "  'RT @tanniefm: the city of los angeles needs to be paying bts right now the way armys are driving the local economy… it’s like 200,000 purpl…',\n",
       "  'RT @Dr_D_Robertson: Thank you to the scientists in South Africa who told the world about the new variant.  Even though there is a hit to th…',\n",
       "  'RT @robbystarbuck: If Biden goes forward with forcing all of the Trucking industry into his illegal vaccine mandate — things will get a LOT…',\n",
       "  'RT @faizalhamssin: With or without EPF, it a person earns a pittance for the rest of his life, chances are he will die in poverty.\\n\\nTo reme…',\n",
       "  'RT @Pat300000: Biden is a narcissistic,vicious sociopath pResident that cares only about enriching his family, exercising power &amp; feeding h…',\n",
       "  'RT @Aerycrow: https://t.co/QpAmhMelMb\\n지난 50년간 감세정책의 효과를 분석한결과 낙수효과(Horse and sparrow economy라고도 부른다고합니다)는 효과가 없으며 오히려 빈부의 차이만 심하게 만들었다는 작년(…',\n",
       "  'RT @POTUS: We are experiencing the strongest economic recovery in the world.\\n\\nEven after accounting for inflation, our economy is bigger an…',\n",
       "  'How should the Business Development Bank of Canada be? It’s a question the Liberal government is mandated to consider, new CEO Isabelle Hudon will have to answer, and @CappyMc adroitly explores in this feature about the innovation economy’s foremost funder\\nhttps://t.co/1iVT50xNwq',\n",
       "  'RT @Jim_Jordan: Your Thanksgiving turkey costs more than usual. \\n\\nSo will your Christmas tree. \\n\\nJoe Biden’s America! \\n\\nhttps://t.co/rMUMrB…',\n",
       "  \"RT @RepKatiePorter: The 2020 Silverado Fire threatened ~70,000 buildings in our community. Across California, last year's wildfires devasta…\",\n",
       "  'RT @DeepLearn007: My Article Updated: #AI #MachineLearning Driving Innovation Across the Economy @BBNTimes_en \\n\\nhttps://t.co/mAvoLPry4u\\n\\n@s…'],\n",
       " 'tweet_date': ['2021-11-26T00:00:00.000Z',\n",
       "  '2021-11-26T00:00:00.000Z',\n",
       "  '2021-11-26T00:00:00.000Z',\n",
       "  '2021-11-26T00:00:00.000Z',\n",
       "  '2021-11-26T00:00:00.000Z',\n",
       "  '2021-11-26T00:00:00.000Z',\n",
       "  '2021-11-26T00:00:00.000Z',\n",
       "  '2021-11-26T00:00:00.000Z',\n",
       "  '2021-11-26T00:00:00.000Z',\n",
       "  '2021-11-25T00:00:00.000Z',\n",
       "  '2021-11-25T00:00:00.000Z',\n",
       "  '2021-11-25T00:00:00.000Z',\n",
       "  '2021-11-25T00:00:00.000Z',\n",
       "  '2021-11-25T00:00:00.000Z',\n",
       "  '2021-11-25T00:00:00.000Z',\n",
       "  '2021-11-25T00:00:00.000Z',\n",
       "  '2021-11-25T00:00:00.000Z',\n",
       "  '2021-11-25T00:00:00.000Z'],\n",
       " 'topic': ['economy',\n",
       "  'economy',\n",
       "  'economy',\n",
       "  'economy',\n",
       "  'economy',\n",
       "  'economy',\n",
       "  'economy',\n",
       "  'economy',\n",
       "  'economy',\n",
       "  'economy',\n",
       "  'economy',\n",
       "  'economy',\n",
       "  'economy',\n",
       "  'economy',\n",
       "  'economy',\n",
       "  'economy',\n",
       "  'economy',\n",
       "  'economy'],\n",
       " 'tweet_id': ['1464021076845817860',\n",
       "  '1464021064791506949',\n",
       "  '1464021057602527239',\n",
       "  '1464021053936574464',\n",
       "  '1464021046667923458',\n",
       "  '1464021042893000707',\n",
       "  '1464021041466937346',\n",
       "  '1464021032617062409',\n",
       "  '1464021023028879362',\n",
       "  '1463658688510455811',\n",
       "  '1463658684517474307',\n",
       "  '1463658682688983044',\n",
       "  '1463658677412392962',\n",
       "  '1463658676871483393',\n",
       "  '1463658665706246146',\n",
       "  '1463658665089671178',\n",
       "  '1463658663852261380',\n",
       "  '1463658662346604544']}"
      ]
     },
     "execution_count": 45,
     "metadata": {},
     "output_type": "execute_result"
    }
   ],
   "source": [
    "tweeter_data"
   ]
  },
  {
   "cell_type": "code",
   "execution_count": 10,
   "id": "176e08bd",
   "metadata": {},
   "outputs": [],
   "source": [
    "# query_params = {'query':topic ,\"end_time\": tweet_date, \"max_results\":20, \"tweet.fields\":\"public_metrics\"}\n",
    "# json_response = connect_to_endpoint(search_url, query_params)\n",
    "# json_response['data']"
   ]
  },
  {
   "cell_type": "code",
   "execution_count": 11,
   "id": "e0bd194f",
   "metadata": {},
   "outputs": [],
   "source": [
    "# df = pd.DataFrame(tweeter_data)"
   ]
  },
  {
   "cell_type": "code",
   "execution_count": 46,
   "id": "196ca500",
   "metadata": {
    "scrolled": true
   },
   "outputs": [
    {
     "data": {
      "text/plain": [
       "18"
      ]
     },
     "execution_count": 46,
     "metadata": {},
     "output_type": "execute_result"
    }
   ],
   "source": [
    "df =pd.DataFrame(tweeter_data)\n",
    "len(df['tweet_id'].unique())"
   ]
  },
  {
   "cell_type": "code",
   "execution_count": 47,
   "id": "4f344901",
   "metadata": {},
   "outputs": [
    {
     "data": {
      "text/html": [
       "<div>\n",
       "<style scoped>\n",
       "    .dataframe tbody tr th:only-of-type {\n",
       "        vertical-align: middle;\n",
       "    }\n",
       "\n",
       "    .dataframe tbody tr th {\n",
       "        vertical-align: top;\n",
       "    }\n",
       "\n",
       "    .dataframe thead th {\n",
       "        text-align: right;\n",
       "    }\n",
       "</style>\n",
       "<table border=\"1\" class=\"dataframe\">\n",
       "  <thead>\n",
       "    <tr style=\"text-align: right;\">\n",
       "      <th></th>\n",
       "      <th>tweet</th>\n",
       "      <th>tweet_date</th>\n",
       "      <th>topic</th>\n",
       "      <th>tweet_id</th>\n",
       "    </tr>\n",
       "  </thead>\n",
       "  <tbody>\n",
       "    <tr>\n",
       "      <th>0</th>\n",
       "      <td>RT @BenOquist: This is outrageous ⁦▶️ Senator ...</td>\n",
       "      <td>2021-11-26T00:00:00.000Z</td>\n",
       "      <td>economy</td>\n",
       "      <td>1464021076845817860</td>\n",
       "    </tr>\n",
       "    <tr>\n",
       "      <th>1</th>\n",
       "      <td>RT @PalmerReport: So what’s our winning messag...</td>\n",
       "      <td>2021-11-26T00:00:00.000Z</td>\n",
       "      <td>economy</td>\n",
       "      <td>1464021064791506949</td>\n",
       "    </tr>\n",
       "    <tr>\n",
       "      <th>2</th>\n",
       "      <td>Premium Economy  @LATAM_BRA https://t.co/1Itlg...</td>\n",
       "      <td>2021-11-26T00:00:00.000Z</td>\n",
       "      <td>economy</td>\n",
       "      <td>1464021057602527239</td>\n",
       "    </tr>\n",
       "    <tr>\n",
       "      <th>3</th>\n",
       "      <td>RT @thewirehindi: ममता बनर्जी से मुलाकात के बा...</td>\n",
       "      <td>2021-11-26T00:00:00.000Z</td>\n",
       "      <td>economy</td>\n",
       "      <td>1464021053936574464</td>\n",
       "    </tr>\n",
       "    <tr>\n",
       "      <th>4</th>\n",
       "      <td>RT @Madisontx76: What do you say to a person w...</td>\n",
       "      <td>2021-11-26T00:00:00.000Z</td>\n",
       "      <td>economy</td>\n",
       "      <td>1464021046667923458</td>\n",
       "    </tr>\n",
       "    <tr>\n",
       "      <th>5</th>\n",
       "      <td>RT @Kristy91808800: #drbonniehenry @adriandix ...</td>\n",
       "      <td>2021-11-26T00:00:00.000Z</td>\n",
       "      <td>economy</td>\n",
       "      <td>1464021042893000707</td>\n",
       "    </tr>\n",
       "    <tr>\n",
       "      <th>6</th>\n",
       "      <td>@frankoz95967943 @FinanceLancelot @INArteCarlo...</td>\n",
       "      <td>2021-11-26T00:00:00.000Z</td>\n",
       "      <td>economy</td>\n",
       "      <td>1464021041466937346</td>\n",
       "    </tr>\n",
       "    <tr>\n",
       "      <th>7</th>\n",
       "      <td>RT @tanniefm: the city of los angeles needs to...</td>\n",
       "      <td>2021-11-26T00:00:00.000Z</td>\n",
       "      <td>economy</td>\n",
       "      <td>1464021032617062409</td>\n",
       "    </tr>\n",
       "    <tr>\n",
       "      <th>8</th>\n",
       "      <td>RT @Dr_D_Robertson: Thank you to the scientist...</td>\n",
       "      <td>2021-11-26T00:00:00.000Z</td>\n",
       "      <td>economy</td>\n",
       "      <td>1464021023028879362</td>\n",
       "    </tr>\n",
       "    <tr>\n",
       "      <th>9</th>\n",
       "      <td>RT @robbystarbuck: If Biden goes forward with ...</td>\n",
       "      <td>2021-11-25T00:00:00.000Z</td>\n",
       "      <td>economy</td>\n",
       "      <td>1463658688510455811</td>\n",
       "    </tr>\n",
       "    <tr>\n",
       "      <th>10</th>\n",
       "      <td>RT @faizalhamssin: With or without EPF, it a p...</td>\n",
       "      <td>2021-11-25T00:00:00.000Z</td>\n",
       "      <td>economy</td>\n",
       "      <td>1463658684517474307</td>\n",
       "    </tr>\n",
       "    <tr>\n",
       "      <th>11</th>\n",
       "      <td>RT @Pat300000: Biden is a narcissistic,vicious...</td>\n",
       "      <td>2021-11-25T00:00:00.000Z</td>\n",
       "      <td>economy</td>\n",
       "      <td>1463658682688983044</td>\n",
       "    </tr>\n",
       "    <tr>\n",
       "      <th>12</th>\n",
       "      <td>RT @Aerycrow: https://t.co/QpAmhMelMb\\n지난 50년간...</td>\n",
       "      <td>2021-11-25T00:00:00.000Z</td>\n",
       "      <td>economy</td>\n",
       "      <td>1463658677412392962</td>\n",
       "    </tr>\n",
       "    <tr>\n",
       "      <th>13</th>\n",
       "      <td>RT @POTUS: We are experiencing the strongest e...</td>\n",
       "      <td>2021-11-25T00:00:00.000Z</td>\n",
       "      <td>economy</td>\n",
       "      <td>1463658676871483393</td>\n",
       "    </tr>\n",
       "    <tr>\n",
       "      <th>14</th>\n",
       "      <td>How should the Business Development Bank of Ca...</td>\n",
       "      <td>2021-11-25T00:00:00.000Z</td>\n",
       "      <td>economy</td>\n",
       "      <td>1463658665706246146</td>\n",
       "    </tr>\n",
       "    <tr>\n",
       "      <th>15</th>\n",
       "      <td>RT @Jim_Jordan: Your Thanksgiving turkey costs...</td>\n",
       "      <td>2021-11-25T00:00:00.000Z</td>\n",
       "      <td>economy</td>\n",
       "      <td>1463658665089671178</td>\n",
       "    </tr>\n",
       "    <tr>\n",
       "      <th>16</th>\n",
       "      <td>RT @RepKatiePorter: The 2020 Silverado Fire th...</td>\n",
       "      <td>2021-11-25T00:00:00.000Z</td>\n",
       "      <td>economy</td>\n",
       "      <td>1463658663852261380</td>\n",
       "    </tr>\n",
       "    <tr>\n",
       "      <th>17</th>\n",
       "      <td>RT @DeepLearn007: My Article Updated: #AI #Mac...</td>\n",
       "      <td>2021-11-25T00:00:00.000Z</td>\n",
       "      <td>economy</td>\n",
       "      <td>1463658662346604544</td>\n",
       "    </tr>\n",
       "  </tbody>\n",
       "</table>\n",
       "</div>"
      ],
      "text/plain": [
       "                                                tweet  \\\n",
       "0   RT @BenOquist: This is outrageous ⁦▶️ Senator ...   \n",
       "1   RT @PalmerReport: So what’s our winning messag...   \n",
       "2   Premium Economy  @LATAM_BRA https://t.co/1Itlg...   \n",
       "3   RT @thewirehindi: ममता बनर्जी से मुलाकात के बा...   \n",
       "4   RT @Madisontx76: What do you say to a person w...   \n",
       "5   RT @Kristy91808800: #drbonniehenry @adriandix ...   \n",
       "6   @frankoz95967943 @FinanceLancelot @INArteCarlo...   \n",
       "7   RT @tanniefm: the city of los angeles needs to...   \n",
       "8   RT @Dr_D_Robertson: Thank you to the scientist...   \n",
       "9   RT @robbystarbuck: If Biden goes forward with ...   \n",
       "10  RT @faizalhamssin: With or without EPF, it a p...   \n",
       "11  RT @Pat300000: Biden is a narcissistic,vicious...   \n",
       "12  RT @Aerycrow: https://t.co/QpAmhMelMb\\n지난 50년간...   \n",
       "13  RT @POTUS: We are experiencing the strongest e...   \n",
       "14  How should the Business Development Bank of Ca...   \n",
       "15  RT @Jim_Jordan: Your Thanksgiving turkey costs...   \n",
       "16  RT @RepKatiePorter: The 2020 Silverado Fire th...   \n",
       "17  RT @DeepLearn007: My Article Updated: #AI #Mac...   \n",
       "\n",
       "                  tweet_date    topic             tweet_id  \n",
       "0   2021-11-26T00:00:00.000Z  economy  1464021076845817860  \n",
       "1   2021-11-26T00:00:00.000Z  economy  1464021064791506949  \n",
       "2   2021-11-26T00:00:00.000Z  economy  1464021057602527239  \n",
       "3   2021-11-26T00:00:00.000Z  economy  1464021053936574464  \n",
       "4   2021-11-26T00:00:00.000Z  economy  1464021046667923458  \n",
       "5   2021-11-26T00:00:00.000Z  economy  1464021042893000707  \n",
       "6   2021-11-26T00:00:00.000Z  economy  1464021041466937346  \n",
       "7   2021-11-26T00:00:00.000Z  economy  1464021032617062409  \n",
       "8   2021-11-26T00:00:00.000Z  economy  1464021023028879362  \n",
       "9   2021-11-25T00:00:00.000Z  economy  1463658688510455811  \n",
       "10  2021-11-25T00:00:00.000Z  economy  1463658684517474307  \n",
       "11  2021-11-25T00:00:00.000Z  economy  1463658682688983044  \n",
       "12  2021-11-25T00:00:00.000Z  economy  1463658677412392962  \n",
       "13  2021-11-25T00:00:00.000Z  economy  1463658676871483393  \n",
       "14  2021-11-25T00:00:00.000Z  economy  1463658665706246146  \n",
       "15  2021-11-25T00:00:00.000Z  economy  1463658665089671178  \n",
       "16  2021-11-25T00:00:00.000Z  economy  1463658663852261380  \n",
       "17  2021-11-25T00:00:00.000Z  economy  1463658662346604544  "
      ]
     },
     "execution_count": 47,
     "metadata": {},
     "output_type": "execute_result"
    }
   ],
   "source": [
    "df"
   ]
  },
  {
   "cell_type": "code",
   "execution_count": 16,
   "id": "e4af267b",
   "metadata": {},
   "outputs": [],
   "source": [
    "df.to_csv('tweets_a person w... \t2021-11-26T00:00:00.000Z \teconomy \t1464021046667923458\n",
    "5 \tRT @Kristy91808800: #drbonniehenry @adriandix ... \t2021-11-26T00:00:00.000Z \teconomy \t1464021042893000707\n",
    "6 \t@frankoz95967943 @FinanceLancelot @INArteCarlo... \t2021-11-26T00:00:00.000Z \teconomy \t1464021041466937346\n",
    "7 \tRT @tanniefm: the city of los angeles needs to... \t2021-11-26T00:00:00.000Z \teconomy \t1464021032617062409\n",
    "8 \tRT @Dr_D_Robertson: Thank you to the scientist... \t2021-11-26T00:00:00.000Z \teconomy \t1464021023028879362\n",
    "9 \tRT @robbystarbuck: If Biden goes forward with ... \t2021-11-25T00:00:00.000Z \teconomy \t1463658688510455811\n",
    "10 \tRT @faizalhamssin: With or without EPF, it a p... \t2021-11-25T00:00:00.000Z \teconomy \t1463658684517474307\n",
    "11 \tRT @Pat300000: Biden is a narcissistic,vicious... \t2021-11-25T00:00:00.000Z \teconomy \t1463658682688983044\n",
    "12 \tRT @Aerycrow: https://t.co/QpAmhMelMb\\n지난 50년간... \t2021-11-25T00:00:00.000Z \teconomy \t1463658677412392962\n",
    "13 \tRT @POTUS: We are experiencing the strongest e... \t2021-11-25T00:00:00.000Z \teconomy \t1463658676871483393\n",
    "14 \tHow should the Business Development Bank of Ca... \t2021-11-25T00:00:00.000Z \teconomy \t1463658665706246146\n",
    "15 \tRT @Jim_Jordan: Your Thanksgiving turkey costs... \t2021-11-25T00:00:00.000Z \teconomy \t1463658665089671178\n",
    "16 \tRT @RepKatiePorter: The 2020 Silverado Fire th... \t2021-11-25T00:00:00.000Z \teconomy \t1463658663852261380\n",
    "17 \tRT @DeepLearn007subset.csv',index=False)"
   ]
  }
 ],
 "metadata": {
  "kernelspec": {
   "display_name": "Python 3 (ipykernel)",
   "language": "python",
   "name": "python3"
  },
  "language_info": {
   "codemirror_mode": {
    "name": "ipython",
    "version": 3
   },
   "file_extension": ".py",
   "mimetype": "text/x-python",
   "name": "python",
   "nbconvert_exporter": "python",
   "pygments_lexer": "ipython3",
   "version": "3.8.12"
  },
  "toc": {
   "base_numbering": 1,
   "nav_menu": {},
   "number_sections": true,
   "sideBar": true,
   "skip_h1_title": false,
   "title_cell": "Table of Contents",
   "title_sidebar": "Contents",
   "toc_cell": false,
   "toc_position": {},
   "toc_section_display": true,
   "toc_window_display": false
  },
  "varInspector": {
   "cols": {
    "lenName": 16,
    "lenType": 16,
    "lenVar": 40
   },
   "kernels_config": {
    "python": {
     "delete_cmd_postfix": "",
     "delete_cmd_prefix": "del ",
     "library": "var_list.py",
     "varRefreshCmd": "print(var_dic_list())"
    },
    "r": {
     "delete_cmd_postfix": ") ",
     "delete_cmd_prefix": "rm(",
     "library": "var_list.r",
     "varRefreshCmd": "cat(var_dic_list()) "
    }
   },
   "types_to_exclude": [
    "module",
    "function",
    "builtin_function_or_method",
    "instance",
    "_Feature"
   ],
   "window_display": false
  }
 },
 "nbformat": 4,
 "nbformat_minor": 5
}
