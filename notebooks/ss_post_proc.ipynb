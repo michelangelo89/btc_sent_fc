{
 "cells": [
  {
   "cell_type": "markdown",
   "id": "78765afa",
   "metadata": {
    "heading_collapsed": true
   },
   "source": [
    "# Streaming Data"
   ]
  },
  {
   "cell_type": "code",
   "execution_count": 1,
   "id": "275bdf2d",
   "metadata": {
    "hidden": true
   },
   "outputs": [],
   "source": [
    "%load_ext autoreload"
   ]
  },
  {
   "cell_type": "code",
   "execution_count": 2,
   "id": "bc7c578f",
   "metadata": {
    "hidden": true
   },
   "outputs": [],
   "source": [
    "import requests\n",
    "import numpy as np\n",
    "import pandas as pd\n",
    "import gcsfs\n",
    "import joblib\n",
    "from google.cloud import storage\n",
    "import datetime as dt\n",
    "import matplotlib.pyplot as plt"
   ]
  },
  {
   "cell_type": "code",
   "execution_count": 3,
   "id": "b55d6b0d",
   "metadata": {
    "hidden": true
   },
   "outputs": [],
   "source": [
    "def to_readable_datetime(x):\n",
    "    from datetime import datetime\n",
    "    return datetime.utcfromtimestamp(x).strftime('%Y-%m-%d %H:%M:%S')"
   ]
  },
  {
   "cell_type": "code",
   "execution_count": null,
   "id": "b93f0083",
   "metadata": {
    "hidden": true
   },
   "outputs": [],
   "source": [
    "df = pd.read_csv(\"gcs://wagon-data-750-btc-sent-fc/raw_data/features_2016.csv\",\n",
    "                 index_col=0,\n",
    "                 parse_dates=True)"
   ]
  },
  {
   "cell_type": "code",
   "execution_count": null,
   "id": "ba6530f8",
   "metadata": {
    "hidden": true
   },
   "outputs": [],
   "source": [
    "df.columns"
   ]
  },
  {
   "cell_type": "markdown",
   "id": "f5d06980",
   "metadata": {
    "heading_collapsed": true
   },
   "source": [
    "# Reddit Streaming"
   ]
  },
  {
   "cell_type": "code",
   "execution_count": null,
   "id": "14869dda",
   "metadata": {
    "hidden": true
   },
   "outputs": [],
   "source": [
    "file_name = \"../keys.json\"\n",
    "with open(file_name, \"r\") as key_file:\n",
    "    keys = json.load(key_file)"
   ]
  },
  {
   "cell_type": "code",
   "execution_count": null,
   "id": "36ba55ca",
   "metadata": {
    "hidden": true
   },
   "outputs": [],
   "source": [
    "# note that CLIENT_ID refers to 'personal use script' and SECRET_TOKEN to 'token'\n",
    "auth = requests.auth.HTTPBasicAuth(keys['REDDIT_SCRIPT'], keys[\"REDDIT_TOKEN\"])\n",
    "\n",
    "# here we pass our login method (password), username, and password\n",
    "data = {\n",
    "    'grant_type': 'password',\n",
    "    'username': keys['REDDIT_USERNAME'],\n",
    "    'password': keys['REDDIT_PASSWORD']\n",
    "}\n",
    "\n",
    "# setup our header info, which gives reddit a brief description of our app\n",
    "headers = {'User-Agent': 'MyBot/0.0.1'}\n",
    "\n",
    "# send our request for an OAuth token\n",
    "res = requests.post('https://www.reddit.com/api/v1/access_token',\n",
    "                    auth=auth,\n",
    "                    data=data,\n",
    "                    headers=headers)\n",
    "\n",
    "# convert response to JSON and pull access_token value\n",
    "TOKEN = res.json()['access_token']\n",
    "\n",
    "# add authorization to our headers dictionary\n",
    "headers = {**headers, **{'Authorization': f\"bearer {TOKEN}\"}}\n",
    "\n",
    "# while the token is valid (~2 hours) we just add headers=headers to our requests\n",
    "requests.get('https://oauth.reddit.com/api/v1/me', headers=headers)"
   ]
  },
  {
   "cell_type": "code",
   "execution_count": null,
   "id": "b8589fec",
   "metadata": {
    "hidden": true
   },
   "outputs": [],
   "source": [
    "crypto_url = \"https://oauth.reddit.com/r/CryptoCurrency/top/?sort=top&t=day\""
   ]
  },
  {
   "cell_type": "code",
   "execution_count": null,
   "id": "7de8a6a1",
   "metadata": {
    "hidden": true
   },
   "outputs": [],
   "source": [
    "crypto_req = requests.get(crypto_url, headers=headers)"
   ]
  },
  {
   "cell_type": "code",
   "execution_count": null,
   "id": "cd056594",
   "metadata": {
    "hidden": true
   },
   "outputs": [],
   "source": [
    "reddit_crypto_df = pd.DataFrame()\n",
    "for post in res.json()['data']['children']:\n",
    "    reddit_crypto_df = reddit_crypto_df.append(\n",
    "        {\n",
    "            'date': post[\"data\"][\"created_utc\"],\n",
    "            'subreddit': post['data']['subreddit'],\n",
    "            'title': post['data']['title'],\n",
    "            'selftext': post['data']['selftext'],\n",
    "            'upvote_ratio': post['data']['upvote_ratio'],\n",
    "            'ups': post['data']['ups'],\n",
    "            'downs': post['data']['downs'],\n",
    "            'score': post['data']['score']\n",
    "        },\n",
    "        ignore_index=True)"
   ]
  },
  {
   "cell_type": "code",
   "execution_count": null,
   "id": "8f707934",
   "metadata": {
    "hidden": true
   },
   "outputs": [],
   "source": [
    "reddit_crypto_df[\"date\"] = reddit_crypto_df[\"date\"].map(to_readable_datetime)"
   ]
  },
  {
   "cell_type": "code",
   "execution_count": null,
   "id": "7a1514f3",
   "metadata": {
    "hidden": true
   },
   "outputs": [],
   "source": [
    "econ_url = \"https://oauth.reddit.com/search?q=economy+OR+recession+OR+inflation+OR+shutdown+OR+infrastructure+OR+market+OR+retirement&restrict_sr=&sort=top&t=day\""
   ]
  },
  {
   "cell_type": "code",
   "execution_count": null,
   "id": "7cebbc04",
   "metadata": {
    "hidden": true
   },
   "outputs": [],
   "source": [
    "res = requests.get(econ_url, headers=headers)\n",
    "\n",
    "reddit_df = pd.DataFrame()\n",
    "for post in res.json()['data']['children']:\n",
    "    reddit_df = reddit_df.append(\n",
    "        {\n",
    "            'date': post[\"data\"][\"created_utc\"],\n",
    "            'subreddit': post['data']['subreddit'],\n",
    "            'title': post['data']['title'],\n",
    "            'selftext': post['data']['selftext'],\n",
    "            'upvote_ratio': post['data']['upvote_ratio'],\n",
    "            'ups': post['data']['ups'],\n",
    "            'downs': post['data']['downs'],\n",
    "            'score': post['data']['score']\n",
    "        },\n",
    "        ignore_index=True)\n",
    "reddit_econ_df[\"date\"] = reddit_econ_df[\"date\"]"
   ]
  },
  {
   "cell_type": "code",
   "execution_count": null,
   "id": "2c52589b",
   "metadata": {
    "hidden": true
   },
   "outputs": [],
   "source": [
    "reddit_df"
   ]
  },
  {
   "cell_type": "code",
   "execution_count": null,
   "id": "0eccc348",
   "metadata": {
    "hidden": true
   },
   "outputs": [],
   "source": []
  },
  {
   "cell_type": "code",
   "execution_count": null,
   "id": "817ec0ff",
   "metadata": {
    "hidden": true
   },
   "outputs": [],
   "source": []
  },
  {
   "cell_type": "code",
   "execution_count": null,
   "id": "2a142ffc",
   "metadata": {
    "hidden": true
   },
   "outputs": [],
   "source": [
    "econ_bert = pd.read_csv(\n",
    "    \"gs://wagon-data-750-btc-sent-fc/sent_processed/econ_bert.csv\")[[\n",
    "        \"date\", \"positive\", \"negative\", \"neutral\"\n",
    "    ]]"
   ]
  },
  {
   "cell_type": "code",
   "execution_count": null,
   "id": "eea7f140",
   "metadata": {
    "hidden": true
   },
   "outputs": [],
   "source": [
    "crypto_bert[\"compound\"]"
   ]
  },
  {
   "cell_type": "code",
   "execution_count": null,
   "id": "5163fd3f",
   "metadata": {
    "hidden": true
   },
   "outputs": [],
   "source": [
    "econ_bert[\"compound\"] = (econ_bert.positive - econ_bert.negative) / (\n",
    "    econ_bert.positive + econ_bert.negative)"
   ]
  },
  {
   "cell_type": "code",
   "execution_count": null,
   "id": "4b83cd65",
   "metadata": {
    "hidden": true
   },
   "outputs": [],
   "source": [
    "econ_bert.columns = [\"econ_pos\", \"econ_neg\", \"econ_neu\", \"econ_compound\"]"
   ]
  },
  {
   "cell_type": "code",
   "execution_count": null,
   "id": "da122d0c",
   "metadata": {
    "hidden": true
   },
   "outputs": [],
   "source": [
    "econ_bert.set_index(\"date\", inplace=True)"
   ]
  },
  {
   "cell_type": "code",
   "execution_count": null,
   "id": "a23d6b85",
   "metadata": {
    "hidden": true
   },
   "outputs": [],
   "source": [
    "econ_bert.index = pd.to_datetime(econ_bert.index)"
   ]
  },
  {
   "cell_type": "code",
   "execution_count": null,
   "id": "481b5ba5",
   "metadata": {
    "hidden": true
   },
   "outputs": [],
   "source": [
    "crypto_bert.index = pd.to_datetime(crypto_bert.index)"
   ]
  },
  {
   "cell_type": "code",
   "execution_count": null,
   "id": "0a1b79f7",
   "metadata": {
    "hidden": true
   },
   "outputs": [],
   "source": [
    "df_merge_two.columns"
   ]
  },
  {
   "cell_type": "code",
   "execution_count": null,
   "id": "d72db253",
   "metadata": {
    "hidden": true
   },
   "outputs": [],
   "source": [
    "df_merge_one = pd.merge(df,\n",
    "                        crypto_bert[[\"crypto_pos\", \"crypto_neg\",\n",
    "                                     \"crypto_neu\"]],\n",
    "                        how=\"left\",\n",
    "                        left_index=True,\n",
    "                        right_index=True)"
   ]
  },
  {
   "cell_type": "code",
   "execution_count": null,
   "id": "7fab0db6",
   "metadata": {
    "hidden": true
   },
   "outputs": [],
   "source": [
    "df_merge_two = pd.merge(df_merge_one,\n",
    "                        econ_bert[[\"econ_pos\", \"econ_neg\", \"econ_neu\"]],\n",
    "                        how=\"left\",\n",
    "                        left_index=True,\n",
    "                        right_index=True)"
   ]
  },
  {
   "cell_type": "code",
   "execution_count": null,
   "id": "13146562",
   "metadata": {
    "hidden": true
   },
   "outputs": [],
   "source": [
    "df_merge_two"
   ]
  },
  {
   "cell_type": "code",
   "execution_count": null,
   "id": "d193b101",
   "metadata": {
    "hidden": true
   },
   "outputs": [],
   "source": [
    "crypto_bert.to_csv(\n",
    "    \"gs://wagon-data-750-btc-sent-fc/sent_processed/crypto_bert.csv\")"
   ]
  },
  {
   "cell_type": "code",
   "execution_count": null,
   "id": "eff30a7d",
   "metadata": {
    "hidden": true
   },
   "outputs": [],
   "source": [
    "econ_bert.to_csv(\n",
    "    \"gs://wagon-data-750-btc-sent-fc/sent_processed/econ_bert.csv\")"
   ]
  },
  {
   "cell_type": "code",
   "execution_count": null,
   "id": "e8168268",
   "metadata": {
    "hidden": true
   },
   "outputs": [],
   "source": [
    "df_merge_two.to_csv(\"gs://wagon-750-btc-sent-fc/input_data/input_data_1.csv\")"
   ]
  },
  {
   "cell_type": "code",
   "execution_count": null,
   "id": "1dd8cd90",
   "metadata": {
    "hidden": true
   },
   "outputs": [],
   "source": [
    "economy_keywords = [\n",
    "    \"economy\", \"recession\", \"inflation\", \"shutdown\", \"infrastructure\",\n",
    "    \"market\", \"retirement\"\n",
    "]"
   ]
  },
  {
   "cell_type": "code",
   "execution_count": null,
   "id": "f1a12bbb",
   "metadata": {
    "hidden": true
   },
   "outputs": [],
   "source": [
    "econ_string = \"+OR+\".join(economy_keywords)"
   ]
  },
  {
   "cell_type": "code",
   "execution_count": null,
   "id": "a0602ed4",
   "metadata": {
    "hidden": true
   },
   "outputs": [],
   "source": [
    "econ_string"
   ]
  },
  {
   "cell_type": "code",
   "execution_count": null,
   "id": "54bb0da5",
   "metadata": {
    "hidden": true
   },
   "outputs": [],
   "source": [
    "econ_bert = pd.read_csv(\n",
    "    \"gs://wagon-data-750-btc-sent-fc/sent_processed/econ_bert.csv\",\n",
    "    index_col=0,\n",
    "    parse_dates=True)"
   ]
  },
  {
   "cell_type": "code",
   "execution_count": null,
   "id": "33fa9572",
   "metadata": {
    "hidden": true
   },
   "outputs": [],
   "source": []
  },
  {
   "cell_type": "markdown",
   "id": "dafdc1f9",
   "metadata": {
    "heading_collapsed": true
   },
   "source": [
    "# Twitter collating"
   ]
  },
  {
   "cell_type": "code",
   "execution_count": null,
   "id": "a2dc49b7",
   "metadata": {
    "hidden": true
   },
   "outputs": [],
   "source": [
    "storage_client = storage.Client()\n",
    "\n",
    "# Note: Client.list_blobs requires at least package version 1.17.0.\n",
    "blobs = storage_client.list_blobs(\"wagon-data-750-btc-sent-fc\",\n",
    "                                  prefix=f\"sent_data/tweet_inflation\")\n",
    "blob_list = [blob.name for blob in blobs]\n",
    "blob_list.sort()"
   ]
  },
  {
   "cell_type": "code",
   "execution_count": null,
   "id": "f7bdd8a4",
   "metadata": {
    "hidden": true
   },
   "outputs": [],
   "source": [
    "inflation_bert = pd.DataFrame()\n",
    "for blob in blob_list:\n",
    "    temp_df = pd.read_csv(f\"gcs://wagon-data-750-btc-sent-fc/{blob}\",\n",
    "                          index_col=0,\n",
    "                          parse_dates=True)\n",
    "    inflation_bert = inflation_bert.append(temp_df)"
   ]
  },
  {
   "cell_type": "code",
   "execution_count": null,
   "id": "907b4fa3",
   "metadata": {
    "hidden": true
   },
   "outputs": [],
   "source": [
    "inflation_bert[\"date\"] = pd.to_datetime(inflation_bert[\"date\"]).dt.date"
   ]
  },
  {
   "cell_type": "code",
   "execution_count": null,
   "id": "cf3c04d0",
   "metadata": {
    "hidden": true
   },
   "outputs": [],
   "source": [
    "inflation_grouped = inflation_bert.groupby(\"date\").mean()"
   ]
  },
  {
   "cell_type": "code",
   "execution_count": null,
   "id": "a20b1087",
   "metadata": {
    "hidden": true
   },
   "outputs": [],
   "source": [
    "inflation_grouped.columns = [\"inflation_pos\", \"inflation_neg\", \"inflation_neu\"]"
   ]
  },
  {
   "cell_type": "code",
   "execution_count": null,
   "id": "e3b14dbd",
   "metadata": {
    "hidden": true
   },
   "outputs": [],
   "source": [
    "df_merge_three = pd.merge(df_merge_two,\n",
    "                          inflation_grouped,\n",
    "                          how=\"left\",\n",
    "                          left_index=True,\n",
    "                          right_index=True)"
   ]
  },
  {
   "cell_type": "code",
   "execution_count": null,
   "id": "38e2e76a",
   "metadata": {
    "hidden": true
   },
   "outputs": [],
   "source": [
    "df_merge_three.to_csv(\"gs://wagon-750-btc-sent-fc/input_data/input_data_2.csv\")"
   ]
  },
  {
   "cell_type": "markdown",
   "id": "fd921fb9",
   "metadata": {
    "heading_collapsed": true
   },
   "source": [
    "# Sentiment DF for Website"
   ]
  },
  {
   "cell_type": "code",
   "execution_count": null,
   "id": "b88a985a",
   "metadata": {
    "hidden": true
   },
   "outputs": [],
   "source": [
    "sent_df = df_merge_three[[\n",
    "    \"reddit_econ_sent\", \"reddit_crypto_sent\", \"tweets_sent\"\n",
    "]]"
   ]
  },
  {
   "cell_type": "code",
   "execution_count": null,
   "id": "4d6c99d8",
   "metadata": {
    "hidden": true
   },
   "outputs": [],
   "source": [
    "inflation_bert[\"compound\"] = (inflation_bert.positive - inflation_bert.negative\n",
    "                              ) / (inflation_bert.positive +\n",
    "                                   inflation_bert.negative)"
   ]
  },
  {
   "cell_type": "code",
   "execution_count": null,
   "id": "11767a94",
   "metadata": {
    "hidden": true
   },
   "outputs": [],
   "source": [
    "inflation_grouped = inflation_bert.groupby(\"date\").mean()"
   ]
  },
  {
   "cell_type": "code",
   "execution_count": null,
   "id": "aa27b953",
   "metadata": {
    "hidden": true
   },
   "outputs": [],
   "source": [
    "inflation_grouped.columns = [\n",
    "    \"inflation_pos\", \"inflation_neg\", \"inflation_neu\", \"inflation_compound\"\n",
    "]"
   ]
  },
  {
   "cell_type": "code",
   "execution_count": null,
   "id": "5844c51a",
   "metadata": {
    "hidden": true
   },
   "outputs": [],
   "source": [
    "inflation_grouped.to_csv(\n",
    "    \"gs://wagon-data-750-btc-sent-fc/sent_processed/inflation_bert.csv\")"
   ]
  },
  {
   "cell_type": "code",
   "execution_count": null,
   "id": "a4ab1072",
   "metadata": {
    "hidden": true
   },
   "outputs": [],
   "source": [
    "sent_df_1 = sent_df.merge(inflation_grouped[\"inflation_compound\"],\n",
    "                          left_index=True,\n",
    "                          right_index=True).merge(\n",
    "                              econ_bert[[\"econ_compound\"]],\n",
    "                              left_index=True,\n",
    "                              right_index=True).merge(\n",
    "                                  crypto_bert[[\"crypto_compound\"]],\n",
    "                                  left_index=True,\n",
    "                                  right_index=True)"
   ]
  },
  {
   "cell_type": "code",
   "execution_count": null,
   "id": "fc95f351",
   "metadata": {
    "hidden": true
   },
   "outputs": [],
   "source": [
    "sent_df_1.columns"
   ]
  },
  {
   "cell_type": "code",
   "execution_count": null,
   "id": "1fd437f9",
   "metadata": {
    "hidden": true
   },
   "outputs": [],
   "source": [
    "sent_df_1.drop(\"reddit_econ_sent\", axis=1, inplace=True)\n",
    "sent_df_1.drop(\"reddit_crypto_sent\", axis=1, inplace=True)"
   ]
  },
  {
   "cell_type": "code",
   "execution_count": null,
   "id": "9d28a6dd",
   "metadata": {
    "hidden": true
   },
   "outputs": [],
   "source": [
    "sent_df_1[\"econ_compound\"] = (sent_df_1[\"tweets_sent\"] +\n",
    "                              sent_df_1[\"econ_compound\"]) / 2"
   ]
  },
  {
   "cell_type": "code",
   "execution_count": null,
   "id": "e59e0d31",
   "metadata": {
    "hidden": true
   },
   "outputs": [],
   "source": [
    "sent_df_1.drop(\"tweets_sent\", axis=1, inplace=True)"
   ]
  },
  {
   "cell_type": "code",
   "execution_count": null,
   "id": "f6faf1c3",
   "metadata": {
    "hidden": true
   },
   "outputs": [],
   "source": [
    "sent_df_1.to_csv(\n",
    "    \"gcs://wagon-data-750-btc-sent-fc/website_data/sent_data_1.csv\")"
   ]
  },
  {
   "cell_type": "code",
   "execution_count": null,
   "id": "55304108",
   "metadata": {
    "hidden": true
   },
   "outputs": [],
   "source": [
    "sent_df_1.merge(\n",
    "    df_merge_two[\"volume_gross\"], left_index=True, right_index=True).to_csv(\n",
    "        \"gcs://wagon-data-750-btc-sent-fc/website_data/chart_data_1.csv\")"
   ]
  },
  {
   "cell_type": "markdown",
   "id": "0d0fa856",
   "metadata": {},
   "source": [
    "# Preproc Pipeline"
   ]
  },
  {
   "cell_type": "code",
   "execution_count": 4,
   "id": "21d76edd",
   "metadata": {},
   "outputs": [
    {
     "name": "stderr",
     "output_type": "stream",
     "text": [
      "2021-12-01 16:14:36.385608: W tensorflow/stream_executor/platform/default/dso_loader.cc:64] Could not load dynamic library 'libcudart.so.11.0'; dlerror: libcudart.so.11.0: cannot open shared object file: No such file or directory\n",
      "2021-12-01 16:14:36.385872: I tensorflow/stream_executor/cuda/cudart_stub.cc:29] Ignore above cudart dlerror if you do not have a GPU set up on your machine.\n"
     ]
    }
   ],
   "source": [
    "from Main_package.RNN_model.data import clean_features, clean_test_features"
   ]
  },
  {
   "cell_type": "code",
   "execution_count": 5,
   "id": "bf7becda",
   "metadata": {},
   "outputs": [],
   "source": [
    "big_df = pd.read_csv(\n",
    "    \"gs://wagon-data-750-btc-sent-fc/input_data/features_2016.csv\",\n",
    "    index_col=0,\n",
    "    parse_dates=True)"
   ]
  },
  {
   "cell_type": "code",
   "execution_count": null,
   "id": "c9d1251f",
   "metadata": {},
   "outputs": [],
   "source": [
    "pipeline = clean_features(big_df)"
   ]
  },
  {
   "cell_type": "code",
   "execution_count": null,
   "id": "4aa8b6ab",
   "metadata": {},
   "outputs": [],
   "source": [
    "type(columns)"
   ]
  },
  {
   "cell_type": "code",
   "execution_count": null,
   "id": "3f8f0f94",
   "metadata": {},
   "outputs": [],
   "source": [
    "from sklearn.pipeline import Pipeline\n"
   ]
  },
  {
   "cell_type": "code",
   "execution_count": null,
   "id": "66ad5385",
   "metadata": {},
   "outputs": [],
   "source": []
  },
  {
   "cell_type": "markdown",
   "id": "4301b0f9",
   "metadata": {},
   "source": [
    "# Placeholder prediction array"
   ]
  },
  {
   "cell_type": "code",
   "execution_count": null,
   "id": "e2883e65",
   "metadata": {},
   "outputs": [],
   "source": [
    "url = \"https://cloudsentiment-gijujv7fiq-ew.a.run.app/predict\""
   ]
  },
  {
   "cell_type": "code",
   "execution_count": null,
   "id": "7d309cc4",
   "metadata": {},
   "outputs": [],
   "source": [
    "predict_placeholder = df_merge_three[[\"volume_gross\"]].iloc[-30:]\n",
    "predict_placeholder.columns = [\"volume_actual\"]"
   ]
  },
  {
   "cell_type": "code",
   "execution_count": null,
   "id": "c7864721",
   "metadata": {},
   "outputs": [],
   "source": [
    "big_df = pd.read_csv(\n",
    "    \"gs://wagon-data-750-btc-sent-fc/input_data/features_2016.csv\",\n",
    "    index_col=0,\n",
    "    parse_dates=True)"
   ]
  },
  {
   "cell_type": "code",
   "execution_count": null,
   "id": "d6afcc4a",
   "metadata": {},
   "outputs": [],
   "source": [
    "for i in range(1, 31):\n",
    "    big_df.iloc[-(89 + i):-i].to_csv(\n",
    "        f\"gcs://wagon-data-750-btc-sent-fc/input_data/fake_{i}\")"
   ]
  },
  {
   "cell_type": "code",
   "execution_count": null,
   "id": "252acf2d",
   "metadata": {},
   "outputs": [],
   "source": [
    "fs = gcsfs.GCSFileSystem()\n",
    "with fs.open('wagon-data-750-btc-sent-fc/model/model_RNN_8.joblib') as f:\n",
    "    model = joblib.load(f)\n",
    "from Main_package.RNN_model.data import clean_features\n",
    "\n",
    "def predict(file_name=\"test_2021_11_22.csv\", shape=(1, 89, 61)):\n",
    "    \"\"\"model_name is a string - \"model_name.joblib\"\n",
    "    date is also a string - in the format \"yyyy_mm_dd\"\n",
    "    shape is a 3 part tuple with the input dimensions of the model\"\"\"\n",
    "    X_pred = np.zeros(shape)\n",
    "    X_df = pd.read_csv(\n",
    "        f\"gcs://wagon-data-750-btc-sent-fc/input_data/{file_name}\",\n",
    "        index_col=0,\n",
    "        parse_dates=True)\n",
    "    X_pred[0] = clean_features(X_df)\n",
    "    y_pred = model.predict_on_batch(X_pred)\n",
    "    return np.exp(y_pred[0][0])"
   ]
  },
  {
   "cell_type": "code",
   "execution_count": null,
   "id": "1a5028fe",
   "metadata": {},
   "outputs": [],
   "source": [
    "predictions = []\n",
    "for i in range(1, 31):\n",
    "    predictions.append(predict(file_name=f\"fake_{i}\"))"
   ]
  },
  {
   "cell_type": "code",
   "execution_count": null,
   "id": "01d21254",
   "metadata": {},
   "outputs": [],
   "source": [
    "predict_placeholder[\"volume_pred\"] = predictions"
   ]
  },
  {
   "cell_type": "code",
   "execution_count": null,
   "id": "077407bf",
   "metadata": {},
   "outputs": [],
   "source": [
    "predict_placeholder.loc[dt.datetime(2021,11,23)] = real_volume.loc[dt.datetime(2021,11,22)][\"volume_gross\"]"
   ]
  },
  {
   "cell_type": "code",
   "execution_count": null,
   "id": "86796217",
   "metadata": {},
   "outputs": [],
   "source": [
    "predict_placeholder.drop(dt.datetime(2021,10,24), inplace = True)"
   ]
  },
  {
   "cell_type": "code",
   "execution_count": null,
   "id": "06b56d14",
   "metadata": {},
   "outputs": [],
   "source": [
    "predict_placeholder.to_csv(\"gcs://wagon-data-750-btc-sent-fc/website_data/pred_temp.csv\")"
   ]
  },
  {
   "cell_type": "code",
   "execution_count": null,
   "id": "b76be366",
   "metadata": {},
   "outputs": [],
   "source": [
    "pred = (predict_placeholder[\"volume_pred\"] - np.mean(predict_placeholder[\"volume_pred\"]))/np.std(predict_placeholder[\"volume_pred\"])"
   ]
  },
  {
   "cell_type": "code",
   "execution_count": null,
   "id": "a2aab359",
   "metadata": {},
   "outputs": [],
   "source": [
    "actual = (predict_placeholder[\"volume_actual\"] - np.mean(predict_placeholder[\"volume_actual\"]))/np.std(predict_placeholder[\"volume_actual\"])"
   ]
  },
  {
   "cell_type": "code",
   "execution_count": null,
   "id": "15e0459c",
   "metadata": {},
   "outputs": [],
   "source": [
    "plt.plot(predict_placeholder[\"volume_actual\"])\n",
    "plt.plot(predict_placeholder[\"volume_pred\"])\n",
    "plt.show()"
   ]
  },
  {
   "cell_type": "code",
   "execution_count": null,
   "id": "29ff18fd",
   "metadata": {},
   "outputs": [],
   "source": []
  },
  {
   "cell_type": "code",
   "execution_count": null,
   "id": "2bdad70b",
   "metadata": {},
   "outputs": [],
   "source": []
  },
  {
   "cell_type": "markdown",
   "id": "358b6ccb",
   "metadata": {},
   "source": [
    "## Getting actual value for the 23rd"
   ]
  },
  {
   "cell_type": "code",
   "execution_count": null,
   "id": "50c7e446",
   "metadata": {},
   "outputs": [],
   "source": [
    "real_volume = pd.read_csv(\"../raw_data/coinbase_2021_11.csv\")"
   ]
  },
  {
   "cell_type": "code",
   "execution_count": null,
   "id": "14e54c69",
   "metadata": {},
   "outputs": [],
   "source": [
    "real_volume.set_index(\"time\", inplace = True)"
   ]
  },
  {
   "cell_type": "code",
   "execution_count": null,
   "id": "288018be",
   "metadata": {},
   "outputs": [],
   "source": [
    "real_volume.index = pd.to_datetime(real_volume.index)"
   ]
  },
  {
   "cell_type": "code",
   "execution_count": null,
   "id": "ddb8d3d2",
   "metadata": {},
   "outputs": [],
   "source": [
    "real_volume.loc[dt.datetime(2021,11,22)][\"volume_gross\"]"
   ]
  },
  {
   "cell_type": "code",
   "execution_count": null,
   "id": "1474c81a",
   "metadata": {},
   "outputs": [],
   "source": [
    "temp = pd.read_csv(\"gcs://wagon-data-750-btc-sent-fc/input_data/input_data_1.csv\", index_col = 0, parse_dates = True)"
   ]
  },
  {
   "cell_type": "code",
   "execution_count": null,
   "id": "1d7f76f4",
   "metadata": {},
   "outputs": [],
   "source": [
    "temp[\"volume_gross\"][-1] = real_volume.loc[dt.datetime(2021,11,22)][\"volume_gross\"]"
   ]
  },
  {
   "cell_type": "code",
   "execution_count": null,
   "id": "f63a54c0",
   "metadata": {},
   "outputs": [],
   "source": [
    "temp.to_csv(\"gcs://wagon-data-750-btc-sent-fc/input_data/input_data_1.csv\")"
   ]
  },
  {
   "cell_type": "markdown",
   "id": "4d964e5b",
   "metadata": {},
   "source": [
    "# Text-box stuff"
   ]
  },
  {
   "cell_type": "code",
   "execution_count": null,
   "id": "542c38cd",
   "metadata": {},
   "outputs": [],
   "source": [
    "tweet_df = pd.read_csv(\n",
    "    \"gs://wagon-data-750-btc-sent-fc/tweet_data/inflation_2021-11-22T00:00:00.000Z\"\n",
    ")"
   ]
  },
  {
   "cell_type": "code",
   "execution_count": null,
   "id": "a1c8712d",
   "metadata": {},
   "outputs": [],
   "source": [
    "inflation_tweet_text = tweet_df[\"clean_tweet\"]"
   ]
  },
  {
   "cell_type": "code",
   "execution_count": null,
   "id": "d561204e",
   "metadata": {},
   "outputs": [],
   "source": [
    "inflation_tweet_text[2]"
   ]
  },
  {
   "cell_type": "code",
   "execution_count": null,
   "id": "59fb49c5",
   "metadata": {},
   "outputs": [],
   "source": [
    "len(inflation_tweet_text)"
   ]
  },
  {
   "cell_type": "code",
   "execution_count": null,
   "id": "fa90c1ce",
   "metadata": {},
   "outputs": [],
   "source": [
    "crypto_reddit_df = pd.read_csv(\n",
    "    \"gs://wagon-data-750-btc-sent-fc/raw_data/crypto_reddit.csv\")\n",
    "crypto_reddit_df[\"date\"] = pd.to_datetime(crypto_reddit_df[\"date\"])"
   ]
  },
  {
   "cell_type": "code",
   "execution_count": null,
   "id": "e16b2de4",
   "metadata": {},
   "outputs": [],
   "source": [
    "crypto_reddit_df[crypto_reddit_df[\"date\"] > dt.datetime(2021, 11, 22)][\"title\"]"
   ]
  },
  {
   "cell_type": "code",
   "execution_count": null,
   "id": "3880be5e",
   "metadata": {},
   "outputs": [],
   "source": [
    "crypto_reddit_text = crypto_reddit_df[\n",
    "    crypto_reddit_df[\"date\"] > dt.datetime(2021, 11, 22)][\"title\"]\n",
    "len(crypto_reddit_text)"
   ]
  },
  {
   "cell_type": "code",
   "execution_count": null,
   "id": "633d2709",
   "metadata": {},
   "outputs": [],
   "source": [
    "econ_reddit_df = pd.read_csv(\n",
    "    \"gcs://wagon-data-750-btc-sent-fc/raw_data/reddit_econ_prelim.csv\")"
   ]
  },
  {
   "cell_type": "code",
   "execution_count": null,
   "id": "581a1cb2",
   "metadata": {},
   "outputs": [],
   "source": [
    "econ_reddit_df[\"date\"] = econ_reddit_df[\"date\"].map(to_readable_datetime)"
   ]
  },
  {
   "cell_type": "code",
   "execution_count": null,
   "id": "e9ce8b27",
   "metadata": {},
   "outputs": [],
   "source": [
    "econ_reddit_df[\"date\"] = pd.to_datetime(econ_reddit_df[\"date\"])"
   ]
  },
  {
   "cell_type": "code",
   "execution_count": null,
   "id": "952354ca",
   "metadata": {},
   "outputs": [],
   "source": [
    "econ_reddit_text = econ_reddit_df[\n",
    "    econ_reddit_df[\"date\"] > dt.datetime(2021, 11, 22)][\"title\"]"
   ]
  },
  {
   "cell_type": "code",
   "execution_count": null,
   "id": "afbb91c9",
   "metadata": {},
   "outputs": [],
   "source": [
    "len(econ_reddit_text)"
   ]
  },
  {
   "cell_type": "code",
   "execution_count": null,
   "id": "d284b742",
   "metadata": {},
   "outputs": [],
   "source": [
    "econ_reddit_text[1]"
   ]
  },
  {
   "cell_type": "code",
   "execution_count": null,
   "id": "02d0aabb",
   "metadata": {},
   "outputs": [],
   "source": [
    "text_string = \" \".join(i for i in econ_reddit_text)"
   ]
  },
  {
   "cell_type": "code",
   "execution_count": null,
   "id": "04cab2b6",
   "metadata": {},
   "outputs": [],
   "source": [
    "len(text_string)"
   ]
  },
  {
   "cell_type": "code",
   "execution_count": null,
   "id": "2b1ee587",
   "metadata": {},
   "outputs": [],
   "source": [
    "text_string_1 = \" \".join(i for i in crypto_reddit_text)"
   ]
  },
  {
   "cell_type": "code",
   "execution_count": null,
   "id": "c9268099",
   "metadata": {},
   "outputs": [],
   "source": [
    "len(text_string_1)"
   ]
  },
  {
   "cell_type": "code",
   "execution_count": null,
   "id": "c3cde732",
   "metadata": {},
   "outputs": [],
   "source": [
    "text_string_3 = \" \".join(i for i in inflation_tweet_text)"
   ]
  },
  {
   "cell_type": "code",
   "execution_count": null,
   "id": "14dfd748",
   "metadata": {},
   "outputs": [],
   "source": [
    "len(text_string_3)"
   ]
  },
  {
   "cell_type": "code",
   "execution_count": null,
   "id": "fa32ea19",
   "metadata": {},
   "outputs": [],
   "source": [
    "text_string_4 = text_string_1 + text_string_3 + text_string"
   ]
  },
  {
   "cell_type": "code",
   "execution_count": null,
   "id": "e225f3a5",
   "metadata": {},
   "outputs": [],
   "source": [
    "len(text_string_4)"
   ]
  },
  {
   "cell_type": "code",
   "execution_count": null,
   "id": "15f930c3",
   "metadata": {},
   "outputs": [],
   "source": [
    "text_string_4"
   ]
  },
  {
   "cell_type": "code",
   "execution_count": null,
   "id": "80034c23",
   "metadata": {},
   "outputs": [],
   "source": [
    "text_list = text_string_4.split()"
   ]
  },
  {
   "cell_type": "code",
   "execution_count": null,
   "id": "7ecc594b",
   "metadata": {},
   "outputs": [],
   "source": [
    "text_list"
   ]
  },
  {
   "cell_type": "code",
   "execution_count": null,
   "id": "99bb9aa7",
   "metadata": {},
   "outputs": [],
   "source": [
    "60 * 163"
   ]
  },
  {
   "cell_type": "code",
   "execution_count": null,
   "id": "efa7eaf9",
   "metadata": {},
   "outputs": [],
   "source": [
    "out_string = \", \".join(text_list)"
   ]
  },
  {
   "cell_type": "code",
   "execution_count": null,
   "id": "a2aa2fa5",
   "metadata": {},
   "outputs": [],
   "source": [
    "out_string[3]"
   ]
  },
  {
   "cell_type": "code",
   "execution_count": null,
   "id": "2600404e",
   "metadata": {},
   "outputs": [],
   "source": [
    "fs = gcsfs.GCSFileSystem()\n",
    "with fs.open(\n",
    "        'wagon-data-750-btc-sent-fc/website_data/word_text_2021_11_22.txt',\n",
    "        \"w\") as f:\n",
    "    f.write(out_string)"
   ]
  },
  {
   "cell_type": "code",
   "execution_count": null,
   "id": "df776a80",
   "metadata": {},
   "outputs": [],
   "source": [
    "from collections import Counter"
   ]
  },
  {
   "cell_type": "code",
   "execution_count": null,
   "id": "d43b5862",
   "metadata": {},
   "outputs": [],
   "source": [
    "l_sorted = Counter(text_list).most_common()"
   ]
  },
  {
   "cell_type": "code",
   "execution_count": null,
   "id": "e8da2613",
   "metadata": {},
   "outputs": [],
   "source": [
    "l_sorted"
   ]
  },
  {
   "cell_type": "code",
   "execution_count": null,
   "id": "76c1570a",
   "metadata": {},
   "outputs": [],
   "source": [
    "with fs.open('wagon-data-750-btc-sent-fc/website_data/word_text_2021_11_22.txt', \"rb\") as f:\n",
    "    in_string = f.read().decode()"
   ]
  },
  {
   "cell_type": "code",
   "execution_count": null,
   "id": "9304a485",
   "metadata": {},
   "outputs": [],
   "source": [
    "import string"
   ]
  },
  {
   "cell_type": "code",
   "execution_count": null,
   "id": "1b8adfbe",
   "metadata": {},
   "outputs": [],
   "source": [
    "in_string[3]"
   ]
  },
  {
   "cell_type": "markdown",
   "id": "c493e5c2",
   "metadata": {},
   "source": [
    "# BTC DATA"
   ]
  },
  {
   "cell_type": "code",
   "execution_count": null,
   "id": "912f4fcc",
   "metadata": {},
   "outputs": [],
   "source": [
    "bitcoin_list = [\n",
    "    'n-transactions-per-block', 'difficulty', 'utxo-count', 'mvrv', 'nvt',\n",
    "    'avg-block-size', 'n-transactions-excluding-popular', 'n-unique-addresses',\n",
    "    'median-confirmation-time', 'miners-revenue', 'mempool-growth',\n",
    "    'mempool-size', 'blocks-size', 'hash-rate', 'n-transactions-total',\n",
    "    'avg-confirmation-time', 'nvts', 'transaction-fees-usd', 'active_account'\n",
    "]"
   ]
  },
  {
   "cell_type": "code",
   "execution_count": null,
   "id": "4ade48ba",
   "metadata": {},
   "outputs": [],
   "source": [
    "bitcoin_list"
   ]
  },
  {
   "cell_type": "markdown",
   "id": "1b4ac6b9",
   "metadata": {},
   "source": [
    "## Glassnode?"
   ]
  },
  {
   "cell_type": "code",
   "execution_count": null,
   "id": "66b2f9f2",
   "metadata": {},
   "outputs": [],
   "source": [
    "glassnode_url = \"https://api.glassnode.com/v2/metrics\""
   ]
  },
  {
   "cell_type": "code",
   "execution_count": null,
   "id": "6c185396",
   "metadata": {},
   "outputs": [],
   "source": [
    "active_account = \"addresses/active_count\""
   ]
  },
  {
   "cell_type": "code",
   "execution_count": null,
   "id": "9412f293",
   "metadata": {},
   "outputs": [],
   "source": [
    "import tensorflow as tf"
   ]
  },
  {
   "cell_type": "code",
   "execution_count": null,
   "id": "82171719",
   "metadata": {},
   "outputs": [],
   "source": []
  },
  {
   "cell_type": "code",
   "execution_count": null,
   "id": "168bb2ea",
   "metadata": {},
   "outputs": [],
   "source": [
    "loaded_model = joblib.load(\n",
    "    tf.io.gfile.GFile(\n",
    "        \"gs://wagon-data-750-btc-sent-fc/model/finbert_token.joblib\", \"rb\"))"
   ]
  },
  {
   "cell_type": "code",
   "execution_count": null,
   "id": "29a00da5",
   "metadata": {},
   "outputs": [],
   "source": [
    "loaded_model"
   ]
  },
  {
   "cell_type": "code",
   "execution_count": null,
   "id": "da85a451",
   "metadata": {},
   "outputs": [],
   "source": [
    "fs = gcsfs.GCSFileSystem()\n",
    "with fs.open('wagon-data-750-btc-sent-fc/model/finbert_token.joblib') as f:\n",
    "    model = joblib.load(f)"
   ]
  },
  {
   "cell_type": "code",
   "execution_count": null,
   "id": "a8e40477",
   "metadata": {},
   "outputs": [],
   "source": [
    "model"
   ]
  },
  {
   "cell_type": "code",
   "execution_count": null,
   "id": "ccdee386",
   "metadata": {},
   "outputs": [],
   "source": []
  },
  {
   "cell_type": "code",
   "execution_count": null,
   "id": "23f22849",
   "metadata": {},
   "outputs": [],
   "source": []
  },
  {
   "cell_type": "code",
   "execution_count": null,
   "id": "0bd5c222",
   "metadata": {},
   "outputs": [],
   "source": []
  },
  {
   "cell_type": "code",
   "execution_count": null,
   "id": "767e0d3e",
   "metadata": {},
   "outputs": [],
   "source": []
  },
  {
   "cell_type": "code",
   "execution_count": null,
   "id": "68e51cce",
   "metadata": {},
   "outputs": [],
   "source": [
    "pd.read_csv(\"gs://wagon-data-750-btc-sent-fc/input_data/test_2021_11_22.csv\")"
   ]
  }
 ],
 "metadata": {
  "kernelspec": {
   "display_name": "Python 3 (ipykernel)",
   "language": "python",
   "name": "python3"
  },
  "language_info": {
   "codemirror_mode": {
    "name": "ipython",
    "version": 3
   },
   "file_extension": ".py",
   "mimetype": "text/x-python",
   "name": "python",
   "nbconvert_exporter": "python",
   "pygments_lexer": "ipython3",
   "version": "3.8.12"
  },
  "toc": {
   "base_numbering": 1,
   "nav_menu": {},
   "number_sections": true,
   "sideBar": true,
   "skip_h1_title": false,
   "title_cell": "Table of Contents",
   "title_sidebar": "Contents",
   "toc_cell": false,
   "toc_position": {},
   "toc_section_display": true,
   "toc_window_display": false
  },
  "varInspector": {
   "cols": {
    "lenName": 16,
    "lenType": 16,
    "lenVar": 40
   },
   "kernels_config": {
    "python": {
     "delete_cmd_postfix": "",
     "delete_cmd_prefix": "del ",
     "library": "var_list.py",
     "varRefreshCmd": "print(var_dic_list())"
    },
    "r": {
     "delete_cmd_postfix": ") ",
     "delete_cmd_prefix": "rm(",
     "library": "var_list.r",
     "varRefreshCmd": "cat(var_dic_list()) "
    }
   },
   "types_to_exclude": [
    "module",
    "function",
    "builtin_function_or_method",
    "instance",
    "_Feature"
   ],
   "window_display": false
  }
 },
 "nbformat": 4,
 "nbformat_minor": 5
}
