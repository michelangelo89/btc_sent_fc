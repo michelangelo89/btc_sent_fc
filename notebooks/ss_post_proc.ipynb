{
 "cells": [
  {
   "cell_type": "markdown",
   "id": "78765afa",
   "metadata": {},
   "source": [
    "# Streaming Data"
   ]
  },
  {
   "cell_type": "code",
   "execution_count": 1,
   "id": "32d7d353",
   "metadata": {},
   "outputs": [],
   "source": [
    "%load_ext autoreload"
   ]
  },
  {
   "cell_type": "code",
   "execution_count": 2,
   "id": "bc7c578f",
   "metadata": {},
   "outputs": [],
   "source": [
    "import requests\n",
    "import numpy as np\n",
    "import pandas as pd\n",
    "import gcsfs\n",
    "import joblib\n",
    "from google.cloud import storage\n",
    "import datetime as dt\n",
    "import matplotlib.pyplot as plt\n",
    "import dill"
   ]
  },
  {
   "cell_type": "code",
   "execution_count": 3,
   "id": "b55d6b0d",
   "metadata": {},
   "outputs": [],
   "source": [
    "def to_readable_datetime(x):\n",
    "    from datetime import datetime\n",
    "    return datetime.utcfromtimestamp(x).strftime('%Y-%m-%d %H:%M:%S')"
   ]
  },
  {
   "cell_type": "code",
   "execution_count": 10,
   "id": "b93f0083",
   "metadata": {},
   "outputs": [],
   "source": [
    "df = pd.read_csv(\"gcs://wagon-data-750-btc-sent-fc/input_data/input_data_1.csv\",\n",
    "                 index_col=0,\n",
    "                 parse_dates=True)"
   ]
  },
  {
   "cell_type": "code",
   "execution_count": 12,
   "id": "ba6530f8",
   "metadata": {},
   "outputs": [
    {
     "data": {
      "text/html": [
       "<div>\n",
       "<style scoped>\n",
       "    .dataframe tbody tr th:only-of-type {\n",
       "        vertical-align: middle;\n",
       "    }\n",
       "\n",
       "    .dataframe tbody tr th {\n",
       "        vertical-align: top;\n",
       "    }\n",
       "\n",
       "    .dataframe thead th {\n",
       "        text-align: right;\n",
       "    }\n",
       "</style>\n",
       "<table border=\"1\" class=\"dataframe\">\n",
       "  <thead>\n",
       "    <tr style=\"text-align: right;\">\n",
       "      <th></th>\n",
       "      <th>n-transactions-per-block</th>\n",
       "      <th>difficulty</th>\n",
       "      <th>utxo-count</th>\n",
       "      <th>mvrv</th>\n",
       "      <th>nvt</th>\n",
       "      <th>avg-block-size</th>\n",
       "      <th>n-transactions-excluding-popular</th>\n",
       "      <th>n-unique-addresses</th>\n",
       "      <th>median-confirmation-time</th>\n",
       "      <th>miners-revenue</th>\n",
       "      <th>...</th>\n",
       "      <th>tweets_sent</th>\n",
       "      <th>reddit_crypto_sent</th>\n",
       "      <th>reddit_econ_sent</th>\n",
       "      <th>volume_gross</th>\n",
       "      <th>crypto_pos</th>\n",
       "      <th>crypto_neg</th>\n",
       "      <th>crypto_neu</th>\n",
       "      <th>econ_pos</th>\n",
       "      <th>econ_neg</th>\n",
       "      <th>econ_neu</th>\n",
       "    </tr>\n",
       "  </thead>\n",
       "  <tbody>\n",
       "    <tr>\n",
       "      <th>2021-11-18</th>\n",
       "      <td>2054.611695</td>\n",
       "      <td>2.267415e+13</td>\n",
       "      <td>7.682603e+07</td>\n",
       "      <td>2.437422</td>\n",
       "      <td>2.814664</td>\n",
       "      <td>1.270386</td>\n",
       "      <td>275592.333333</td>\n",
       "      <td>725020.000000</td>\n",
       "      <td>7.297222</td>\n",
       "      <td>5.265043e+07</td>\n",
       "      <td>...</td>\n",
       "      <td>-0.191667</td>\n",
       "      <td>0.129760</td>\n",
       "      <td>0.164820</td>\n",
       "      <td>3.137042e+09</td>\n",
       "      <td>0.145112</td>\n",
       "      <td>0.081628</td>\n",
       "      <td>0.773259</td>\n",
       "      <td>0.130400</td>\n",
       "      <td>0.148810</td>\n",
       "      <td>0.720790</td>\n",
       "    </tr>\n",
       "    <tr>\n",
       "      <th>2021-11-19</th>\n",
       "      <td>2078.240876</td>\n",
       "      <td>2.267415e+13</td>\n",
       "      <td>7.692242e+07</td>\n",
       "      <td>2.423386</td>\n",
       "      <td>3.531133</td>\n",
       "      <td>1.275837</td>\n",
       "      <td>262180.666667</td>\n",
       "      <td>678741.666667</td>\n",
       "      <td>7.027778</td>\n",
       "      <td>4.966713e+07</td>\n",
       "      <td>...</td>\n",
       "      <td>0.155357</td>\n",
       "      <td>0.058168</td>\n",
       "      <td>0.069516</td>\n",
       "      <td>2.119749e+09</td>\n",
       "      <td>0.085474</td>\n",
       "      <td>0.135326</td>\n",
       "      <td>0.779201</td>\n",
       "      <td>0.125548</td>\n",
       "      <td>0.184152</td>\n",
       "      <td>0.690301</td>\n",
       "    </tr>\n",
       "    <tr>\n",
       "      <th>2021-11-20</th>\n",
       "      <td>2078.240876</td>\n",
       "      <td>2.267415e+13</td>\n",
       "      <td>7.701882e+07</td>\n",
       "      <td>2.409351</td>\n",
       "      <td>4.247603</td>\n",
       "      <td>1.275837</td>\n",
       "      <td>248769.000000</td>\n",
       "      <td>632463.333333</td>\n",
       "      <td>6.758333</td>\n",
       "      <td>4.966713e+07</td>\n",
       "      <td>...</td>\n",
       "      <td>0.466667</td>\n",
       "      <td>0.083604</td>\n",
       "      <td>0.014180</td>\n",
       "      <td>8.896024e+08</td>\n",
       "      <td>0.085734</td>\n",
       "      <td>0.178020</td>\n",
       "      <td>0.736247</td>\n",
       "      <td>0.127368</td>\n",
       "      <td>0.070532</td>\n",
       "      <td>0.802100</td>\n",
       "    </tr>\n",
       "    <tr>\n",
       "      <th>2021-11-21</th>\n",
       "      <td>2078.240876</td>\n",
       "      <td>2.267415e+13</td>\n",
       "      <td>7.711521e+07</td>\n",
       "      <td>2.409351</td>\n",
       "      <td>4.247603</td>\n",
       "      <td>1.275837</td>\n",
       "      <td>248769.000000</td>\n",
       "      <td>586185.000000</td>\n",
       "      <td>6.758333</td>\n",
       "      <td>4.966713e+07</td>\n",
       "      <td>...</td>\n",
       "      <td>-0.022500</td>\n",
       "      <td>0.173188</td>\n",
       "      <td>0.206028</td>\n",
       "      <td>7.894335e+08</td>\n",
       "      <td>0.203692</td>\n",
       "      <td>0.095910</td>\n",
       "      <td>0.700399</td>\n",
       "      <td>0.195318</td>\n",
       "      <td>0.055419</td>\n",
       "      <td>0.749263</td>\n",
       "    </tr>\n",
       "    <tr>\n",
       "      <th>2021-11-22</th>\n",
       "      <td>2078.240876</td>\n",
       "      <td>2.267415e+13</td>\n",
       "      <td>7.711521e+07</td>\n",
       "      <td>2.409351</td>\n",
       "      <td>4.247603</td>\n",
       "      <td>1.275837</td>\n",
       "      <td>248769.000000</td>\n",
       "      <td>586185.000000</td>\n",
       "      <td>6.758333</td>\n",
       "      <td>4.966713e+07</td>\n",
       "      <td>...</td>\n",
       "      <td>0.235000</td>\n",
       "      <td>0.159344</td>\n",
       "      <td>0.069456</td>\n",
       "      <td>1.823717e+09</td>\n",
       "      <td>0.103129</td>\n",
       "      <td>0.098261</td>\n",
       "      <td>0.798611</td>\n",
       "      <td>0.140787</td>\n",
       "      <td>0.260983</td>\n",
       "      <td>0.598230</td>\n",
       "    </tr>\n",
       "  </tbody>\n",
       "</table>\n",
       "<p>5 rows × 67 columns</p>\n",
       "</div>"
      ],
      "text/plain": [
       "            n-transactions-per-block    difficulty    utxo-count      mvrv  \\\n",
       "2021-11-18               2054.611695  2.267415e+13  7.682603e+07  2.437422   \n",
       "2021-11-19               2078.240876  2.267415e+13  7.692242e+07  2.423386   \n",
       "2021-11-20               2078.240876  2.267415e+13  7.701882e+07  2.409351   \n",
       "2021-11-21               2078.240876  2.267415e+13  7.711521e+07  2.409351   \n",
       "2021-11-22               2078.240876  2.267415e+13  7.711521e+07  2.409351   \n",
       "\n",
       "                 nvt  avg-block-size  n-transactions-excluding-popular  \\\n",
       "2021-11-18  2.814664        1.270386                     275592.333333   \n",
       "2021-11-19  3.531133        1.275837                     262180.666667   \n",
       "2021-11-20  4.247603        1.275837                     248769.000000   \n",
       "2021-11-21  4.247603        1.275837                     248769.000000   \n",
       "2021-11-22  4.247603        1.275837                     248769.000000   \n",
       "\n",
       "            n-unique-addresses  median-confirmation-time  miners-revenue  ...  \\\n",
       "2021-11-18       725020.000000                  7.297222    5.265043e+07  ...   \n",
       "2021-11-19       678741.666667                  7.027778    4.966713e+07  ...   \n",
       "2021-11-20       632463.333333                  6.758333    4.966713e+07  ...   \n",
       "2021-11-21       586185.000000                  6.758333    4.966713e+07  ...   \n",
       "2021-11-22       586185.000000                  6.758333    4.966713e+07  ...   \n",
       "\n",
       "            tweets_sent  reddit_crypto_sent  reddit_econ_sent  volume_gross  \\\n",
       "2021-11-18    -0.191667            0.129760          0.164820  3.137042e+09   \n",
       "2021-11-19     0.155357            0.058168          0.069516  2.119749e+09   \n",
       "2021-11-20     0.466667            0.083604          0.014180  8.896024e+08   \n",
       "2021-11-21    -0.022500            0.173188          0.206028  7.894335e+08   \n",
       "2021-11-22     0.235000            0.159344          0.069456  1.823717e+09   \n",
       "\n",
       "            crypto_pos  crypto_neg  crypto_neu  econ_pos  econ_neg  econ_neu  \n",
       "2021-11-18    0.145112    0.081628    0.773259  0.130400  0.148810  0.720790  \n",
       "2021-11-19    0.085474    0.135326    0.779201  0.125548  0.184152  0.690301  \n",
       "2021-11-20    0.085734    0.178020    0.736247  0.127368  0.070532  0.802100  \n",
       "2021-11-21    0.203692    0.095910    0.700399  0.195318  0.055419  0.749263  \n",
       "2021-11-22    0.103129    0.098261    0.798611  0.140787  0.260983  0.598230  \n",
       "\n",
       "[5 rows x 67 columns]"
      ]
     },
     "execution_count": 12,
     "metadata": {},
     "output_type": "execute_result"
    }
   ],
   "source": [
    "df.tail()"
   ]
  },
  {
   "cell_type": "markdown",
   "id": "f5d06980",
   "metadata": {
    "heading_collapsed": true
   },
   "source": [
    "# Reddit Streaming"
   ]
  },
  {
   "cell_type": "code",
   "execution_count": null,
   "id": "14869dda",
   "metadata": {
    "hidden": true
   },
   "outputs": [],
   "source": [
    "file_name = \"../keys.json\"\n",
    "with open(file_name, \"r\") as key_file:\n",
    "    keys = json.load(key_file)"
   ]
  },
  {
   "cell_type": "code",
   "execution_count": null,
   "id": "36ba55ca",
   "metadata": {
    "hidden": true
   },
   "outputs": [],
   "source": [
    "# note that CLIENT_ID refers to 'personal use script' and SECRET_TOKEN to 'token'\n",
    "auth = requests.auth.HTTPBasicAuth(keys['REDDIT_SCRIPT'], keys[\"REDDIT_TOKEN\"])\n",
    "\n",
    "# here we pass our login method (password), username, and password\n",
    "data = {\n",
    "    'grant_type': 'password',\n",
    "    'username': keys['REDDIT_USERNAME'],\n",
    "    'password': keys['REDDIT_PASSWORD']\n",
    "}\n",
    "\n",
    "# setup our header info, which gives reddit a brief description of our app\n",
    "headers = {'User-Agent': 'MyBot/0.0.1'}\n",
    "\n",
    "# send our request for an OAuth token\n",
    "res = requests.post('https://www.reddit.com/api/v1/access_token',\n",
    "                    auth=auth,\n",
    "                    data=data,\n",
    "                    headers=headers)\n",
    "\n",
    "# convert response to JSON and pull access_token value\n",
    "TOKEN = res.json()['access_token']\n",
    "\n",
    "# add authorization to our headers dictionary\n",
    "headers = {**headers, **{'Authorization': f\"bearer {TOKEN}\"}}\n",
    "\n",
    "# while the token is valid (~2 hours) we just add headers=headers to our requests\n",
    "requests.get('https://oauth.reddit.com/api/v1/me', headers=headers)"
   ]
  },
  {
   "cell_type": "code",
   "execution_count": null,
   "id": "b8589fec",
   "metadata": {
    "hidden": true
   },
   "outputs": [],
   "source": [
    "crypto_url = \"https://oauth.reddit.com/r/CryptoCurrency/top/?sort=top&t=day\""
   ]
  },
  {
   "cell_type": "code",
   "execution_count": null,
   "id": "7de8a6a1",
   "metadata": {
    "hidden": true
   },
   "outputs": [],
   "source": [
    "crypto_req = requests.get(crypto_url, headers=headers)"
   ]
  },
  {
   "cell_type": "code",
   "execution_count": null,
   "id": "cd056594",
   "metadata": {
    "hidden": true
   },
   "outputs": [],
   "source": [
    "reddit_crypto_df = pd.DataFrame()\n",
    "for post in res.json()['data']['children']:\n",
    "    reddit_crypto_df = reddit_crypto_df.append(\n",
    "        {\n",
    "            'date': post[\"data\"][\"created_utc\"],\n",
    "            'subreddit': post['data']['subreddit'],\n",
    "            'title': post['data']['title'],\n",
    "            'selftext': post['data']['selftext'],\n",
    "            'upvote_ratio': post['data']['upvote_ratio'],\n",
    "            'ups': post['data']['ups'],\n",
    "            'downs': post['data']['downs'],\n",
    "            'score': post['data']['score']\n",
    "        },\n",
    "        ignore_index=True)"
   ]
  },
  {
   "cell_type": "code",
   "execution_count": null,
   "id": "8f707934",
   "metadata": {
    "hidden": true
   },
   "outputs": [],
   "source": [
    "reddit_crypto_df[\"date\"] = reddit_crypto_df[\"date\"].map(to_readable_datetime)"
   ]
  },
  {
   "cell_type": "code",
   "execution_count": null,
   "id": "7a1514f3",
   "metadata": {
    "hidden": true
   },
   "outputs": [],
   "source": [
    "econ_url = \"https://oauth.reddit.com/search?q=economy+OR+recession+OR+inflation+OR+shutdown+OR+infrastructure+OR+market+OR+retirement&restrict_sr=&sort=top&t=day\""
   ]
  },
  {
   "cell_type": "code",
   "execution_count": null,
   "id": "7cebbc04",
   "metadata": {
    "hidden": true
   },
   "outputs": [],
   "source": [
    "res = requests.get(econ_url, headers=headers)\n",
    "\n",
    "reddit_df = pd.DataFrame()\n",
    "for post in res.json()['data']['children']:\n",
    "    reddit_df = reddit_df.append(\n",
    "        {\n",
    "            'date': post[\"data\"][\"created_utc\"],\n",
    "            'subreddit': post['data']['subreddit'],\n",
    "            'title': post['data']['title'],\n",
    "            'selftext': post['data']['selftext'],\n",
    "            'upvote_ratio': post['data']['upvote_ratio'],\n",
    "            'ups': post['data']['ups'],\n",
    "            'downs': post['data']['downs'],\n",
    "            'score': post['data']['score']\n",
    "        },\n",
    "        ignore_index=True)\n",
    "reddit_econ_df[\"date\"] = reddit_econ_df[\"date\"]"
   ]
  },
  {
   "cell_type": "code",
   "execution_count": null,
   "id": "2c52589b",
   "metadata": {
    "hidden": true
   },
   "outputs": [],
   "source": [
    "reddit_df"
   ]
  },
  {
   "cell_type": "code",
   "execution_count": null,
   "id": "0eccc348",
   "metadata": {
    "hidden": true
   },
   "outputs": [],
   "source": []
  },
  {
   "cell_type": "code",
   "execution_count": null,
   "id": "817ec0ff",
   "metadata": {
    "hidden": true
   },
   "outputs": [],
   "source": []
  },
  {
   "cell_type": "code",
   "execution_count": null,
   "id": "2a142ffc",
   "metadata": {
    "hidden": true
   },
   "outputs": [],
   "source": [
    "econ_bert = pd.read_csv(\n",
    "    \"gs://wagon-data-750-btc-sent-fc/sent_processed/econ_bert.csv\")[[\n",
    "        \"date\", \"positive\", \"negative\", \"neutral\"\n",
    "    ]]"
   ]
  },
  {
   "cell_type": "code",
   "execution_count": null,
   "id": "eea7f140",
   "metadata": {
    "hidden": true
   },
   "outputs": [],
   "source": [
    "crypto_bert[\"compound\"]"
   ]
  },
  {
   "cell_type": "code",
   "execution_count": null,
   "id": "5163fd3f",
   "metadata": {
    "hidden": true
   },
   "outputs": [],
   "source": [
    "econ_bert[\"compound\"] = (econ_bert.positive - econ_bert.negative) / (\n",
    "    econ_bert.positive + econ_bert.negative)"
   ]
  },
  {
   "cell_type": "code",
   "execution_count": null,
   "id": "4b83cd65",
   "metadata": {
    "hidden": true
   },
   "outputs": [],
   "source": [
    "econ_bert.columns = [\"econ_pos\", \"econ_neg\", \"econ_neu\", \"econ_compound\"]"
   ]
  },
  {
   "cell_type": "code",
   "execution_count": null,
   "id": "da122d0c",
   "metadata": {
    "hidden": true
   },
   "outputs": [],
   "source": [
    "econ_bert.set_index(\"date\", inplace=True)"
   ]
  },
  {
   "cell_type": "code",
   "execution_count": null,
   "id": "a23d6b85",
   "metadata": {
    "hidden": true
   },
   "outputs": [],
   "source": [
    "econ_bert.index = pd.to_datetime(econ_bert.index)"
   ]
  },
  {
   "cell_type": "code",
   "execution_count": null,
   "id": "481b5ba5",
   "metadata": {
    "hidden": true
   },
   "outputs": [],
   "source": [
    "crypto_bert.index = pd.to_datetime(crypto_bert.index)"
   ]
  },
  {
   "cell_type": "code",
   "execution_count": null,
   "id": "0a1b79f7",
   "metadata": {
    "hidden": true
   },
   "outputs": [],
   "source": [
    "df_merge_two.columns"
   ]
  },
  {
   "cell_type": "code",
   "execution_count": null,
   "id": "d72db253",
   "metadata": {
    "hidden": true
   },
   "outputs": [],
   "source": [
    "df_merge_one = pd.merge(df,\n",
    "                        crypto_bert[[\"crypto_pos\", \"crypto_neg\",\n",
    "                                     \"crypto_neu\"]],\n",
    "                        how=\"left\",\n",
    "                        left_index=True,\n",
    "                        right_index=True)"
   ]
  },
  {
   "cell_type": "code",
   "execution_count": null,
   "id": "7fab0db6",
   "metadata": {
    "hidden": true
   },
   "outputs": [],
   "source": [
    "df_merge_two = pd.merge(df_merge_one,\n",
    "                        econ_bert[[\"econ_pos\", \"econ_neg\", \"econ_neu\"]],\n",
    "                        how=\"left\",\n",
    "                        left_index=True,\n",
    "                        right_index=True)"
   ]
  },
  {
   "cell_type": "code",
   "execution_count": null,
   "id": "13146562",
   "metadata": {
    "hidden": true
   },
   "outputs": [],
   "source": [
    "df_merge_two"
   ]
  },
  {
   "cell_type": "code",
   "execution_count": null,
   "id": "d193b101",
   "metadata": {
    "hidden": true
   },
   "outputs": [],
   "source": [
    "crypto_bert.to_csv(\n",
    "    \"gs://wagon-data-750-btc-sent-fc/sent_processed/crypto_bert.csv\")"
   ]
  },
  {
   "cell_type": "code",
   "execution_count": null,
   "id": "eff30a7d",
   "metadata": {
    "hidden": true
   },
   "outputs": [],
   "source": [
    "econ_bert.to_csv(\n",
    "    \"gs://wagon-data-750-btc-sent-fc/sent_processed/econ_bert.csv\")"
   ]
  },
  {
   "cell_type": "code",
   "execution_count": null,
   "id": "e8168268",
   "metadata": {
    "hidden": true
   },
   "outputs": [],
   "source": [
    "df_merge_two.to_csv(\"gs://wagon-750-btc-sent-fc/input_data/input_data_1.csv\")"
   ]
  },
  {
   "cell_type": "code",
   "execution_count": null,
   "id": "1dd8cd90",
   "metadata": {
    "hidden": true
   },
   "outputs": [],
   "source": [
    "economy_keywords = [\n",
    "    \"economy\", \"recession\", \"inflation\", \"shutdown\", \"infrastructure\",\n",
    "    \"market\", \"retirement\"\n",
    "]"
   ]
  },
  {
   "cell_type": "code",
   "execution_count": null,
   "id": "f1a12bbb",
   "metadata": {
    "hidden": true
   },
   "outputs": [],
   "source": [
    "econ_string = \"+OR+\".join(economy_keywords)"
   ]
  },
  {
   "cell_type": "code",
   "execution_count": null,
   "id": "a0602ed4",
   "metadata": {
    "hidden": true
   },
   "outputs": [],
   "source": [
    "econ_string"
   ]
  },
  {
   "cell_type": "code",
   "execution_count": null,
   "id": "54bb0da5",
   "metadata": {
    "hidden": true
   },
   "outputs": [],
   "source": [
    "econ_bert = pd.read_csv(\n",
    "    \"gs://wagon-data-750-btc-sent-fc/sent_processed/econ_bert.csv\",\n",
    "    index_col=0,\n",
    "    parse_dates=True)"
   ]
  },
  {
   "cell_type": "code",
   "execution_count": null,
   "id": "33fa9572",
   "metadata": {
    "hidden": true
   },
   "outputs": [],
   "source": []
  },
  {
   "cell_type": "markdown",
   "id": "dafdc1f9",
   "metadata": {},
   "source": [
    "# Twitter collating"
   ]
  },
  {
   "cell_type": "code",
   "execution_count": 74,
   "id": "a2dc49b7",
   "metadata": {},
   "outputs": [],
   "source": [
    "storage_client = storage.Client()\n",
    "\n",
    "# Note: Client.list_blobs requires at least package version 1.17.0.\n",
    "blobs = storage_client.list_blobs(\"wagon-data-750-btc-sent-fc\",\n",
    "                                  prefix=f\"sent_data/tweet_reccession\")\n",
    "blob_list = [blob.name for blob in blobs]\n",
    "blob_list.sort()"
   ]
  },
  {
   "cell_type": "code",
   "execution_count": 75,
   "id": "da7e7ae5",
   "metadata": {},
   "outputs": [
    {
     "data": {
      "text/plain": [
       "[]"
      ]
     },
     "execution_count": 75,
     "metadata": {},
     "output_type": "execute_result"
    }
   ],
   "source": [
    "blob_list"
   ]
  },
  {
   "cell_type": "code",
   "execution_count": null,
   "id": "f7bdd8a4",
   "metadata": {},
   "outputs": [],
   "source": [
    "inflation_bert = pd.DataFrame()\n",
    "for blob in blob_list:\n",
    "    temp_df = pd.read_csv(f\"gcs://wagon-data-750-btc-sent-fc/{blob}\",\n",
    "                          index_col=0,\n",
    "                          parse_dates=True)\n",
    "    inflation_bert = inflation_bert.append(temp_df)"
   ]
  },
  {
   "cell_type": "code",
   "execution_count": null,
   "id": "907b4fa3",
   "metadata": {},
   "outputs": [],
   "source": [
    "inflation_bert[\"date\"] = pd.to_datetime(inflation_bert[\"date\"]).dt.date"
   ]
  },
  {
   "cell_type": "code",
   "execution_count": null,
   "id": "cf3c04d0",
   "metadata": {},
   "outputs": [],
   "source": [
    "inflation_grouped = inflation_bert.groupby(\"date\").mean()"
   ]
  },
  {
   "cell_type": "code",
   "execution_count": null,
   "id": "a20b1087",
   "metadata": {},
   "outputs": [],
   "source": [
    "inflation_grouped.columns = [\"inflation_pos\", \"inflation_neg\", \"inflation_neu\"]"
   ]
  },
  {
   "cell_type": "code",
   "execution_count": null,
   "id": "e3b14dbd",
   "metadata": {},
   "outputs": [],
   "source": [
    "df_merge_three = pd.merge(df_merge_two,\n",
    "                          inflation_grouped,\n",
    "                          how=\"left\",\n",
    "                          left_index=True,\n",
    "                          right_index=True)"
   ]
  },
  {
   "cell_type": "code",
   "execution_count": null,
   "id": "38e2e76a",
   "metadata": {},
   "outputs": [],
   "source": [
    "df_merge_three.to_csv(\"gs://wagon-750-btc-sent-fc/input_data/input_data_2.csv\")"
   ]
  },
  {
   "cell_type": "markdown",
   "id": "fd921fb9",
   "metadata": {
    "heading_collapsed": true
   },
   "source": [
    "# Sentiment DF for Website"
   ]
  },
  {
   "cell_type": "code",
   "execution_count": null,
   "id": "b88a985a",
   "metadata": {
    "hidden": true
   },
   "outputs": [],
   "source": [
    "sent_df = df_merge_three[[\n",
    "    \"reddit_econ_sent\", \"reddit_crypto_sent\", \"tweets_sent\"\n",
    "]]"
   ]
  },
  {
   "cell_type": "code",
   "execution_count": null,
   "id": "4d6c99d8",
   "metadata": {
    "hidden": true
   },
   "outputs": [],
   "source": [
    "inflation_bert[\"compound\"] = (inflation_bert.positive - inflation_bert.negative\n",
    "                              ) / (inflation_bert.positive +\n",
    "                                   inflation_bert.negative)"
   ]
  },
  {
   "cell_type": "code",
   "execution_count": null,
   "id": "11767a94",
   "metadata": {
    "hidden": true
   },
   "outputs": [],
   "source": [
    "inflation_grouped = inflation_bert.groupby(\"date\").mean()"
   ]
  },
  {
   "cell_type": "code",
   "execution_count": null,
   "id": "aa27b953",
   "metadata": {
    "hidden": true
   },
   "outputs": [],
   "source": [
    "inflation_grouped.columns = [\n",
    "    \"inflation_pos\", \"inflation_neg\", \"inflation_neu\", \"inflation_compound\"\n",
    "]"
   ]
  },
  {
   "cell_type": "code",
   "execution_count": null,
   "id": "5844c51a",
   "metadata": {
    "hidden": true
   },
   "outputs": [],
   "source": [
    "inflation_grouped.to_csv(\n",
    "    \"gs://wagon-data-750-btc-sent-fc/sent_processed/inflation_bert.csv\")"
   ]
  },
  {
   "cell_type": "code",
   "execution_count": null,
   "id": "a4ab1072",
   "metadata": {
    "hidden": true
   },
   "outputs": [],
   "source": [
    "sent_df_1 = sent_df.merge(inflation_grouped[\"inflation_compound\"],\n",
    "                          left_index=True,\n",
    "                          right_index=True).merge(\n",
    "                              econ_bert[[\"econ_compound\"]],\n",
    "                              left_index=True,\n",
    "                              right_index=True).merge(\n",
    "                                  crypto_bert[[\"crypto_compound\"]],\n",
    "                                  left_index=True,\n",
    "                                  right_index=True)"
   ]
  },
  {
   "cell_type": "code",
   "execution_count": null,
   "id": "fc95f351",
   "metadata": {
    "hidden": true
   },
   "outputs": [],
   "source": [
    "sent_df_1.columns"
   ]
  },
  {
   "cell_type": "code",
   "execution_count": null,
   "id": "1fd437f9",
   "metadata": {
    "hidden": true
   },
   "outputs": [],
   "source": [
    "sent_df_1.drop(\"reddit_econ_sent\", axis=1, inplace=True)\n",
    "sent_df_1.drop(\"reddit_crypto_sent\", axis=1, inplace=True)"
   ]
  },
  {
   "cell_type": "code",
   "execution_count": null,
   "id": "9d28a6dd",
   "metadata": {
    "hidden": true
   },
   "outputs": [],
   "source": [
    "sent_df_1[\"econ_compound\"] = (sent_df_1[\"tweets_sent\"] +\n",
    "                              sent_df_1[\"econ_compound\"]) / 2"
   ]
  },
  {
   "cell_type": "code",
   "execution_count": null,
   "id": "e59e0d31",
   "metadata": {
    "hidden": true
   },
   "outputs": [],
   "source": [
    "sent_df_1.drop(\"tweets_sent\", axis=1, inplace=True)"
   ]
  },
  {
   "cell_type": "code",
   "execution_count": null,
   "id": "f6faf1c3",
   "metadata": {
    "hidden": true
   },
   "outputs": [],
   "source": [
    "sent_df_1.to_csv(\n",
    "    \"gcs://wagon-data-750-btc-sent-fc/website_data/sent_data_1.csv\")"
   ]
  },
  {
   "cell_type": "code",
   "execution_count": null,
   "id": "55304108",
   "metadata": {
    "hidden": true
   },
   "outputs": [],
   "source": [
    "sent_df_1.merge(\n",
    "    df_merge_two[\"volume_gross\"], left_index=True, right_index=True).to_csv(\n",
    "        \"gcs://wagon-data-750-btc-sent-fc/website_data/chart_data_1.csv\")"
   ]
  },
  {
   "cell_type": "markdown",
   "id": "0d0fa856",
   "metadata": {
    "heading_collapsed": true
   },
   "source": [
    "# Preproc Pipeline"
   ]
  },
  {
   "cell_type": "code",
   "execution_count": 5,
   "id": "21d76edd",
   "metadata": {
    "hidden": true
   },
   "outputs": [
    {
     "name": "stderr",
     "output_type": "stream",
     "text": [
      "2021-12-01 16:30:26.787751: W tensorflow/stream_executor/platform/default/dso_loader.cc:64] Could not load dynamic library 'libcudart.so.11.0'; dlerror: libcudart.so.11.0: cannot open shared object file: No such file or directory\n",
      "2021-12-01 16:30:26.787800: I tensorflow/stream_executor/cuda/cudart_stub.cc:29] Ignore above cudart dlerror if you do not have a GPU set up on your machine.\n"
     ]
    }
   ],
   "source": [
    "from Main_package.RNN_model.data import clean_features, clean_test_features"
   ]
  },
  {
   "cell_type": "code",
   "execution_count": 50,
   "id": "bf7becda",
   "metadata": {
    "hidden": true
   },
   "outputs": [],
   "source": [
    "big_df = pd.read_csv(\n",
    "    \"gs://wagon-data-750-btc-sent-fc/input_data/input_data_1.csv\",\n",
    "    index_col=0,\n",
    "    parse_dates=True)"
   ]
  },
  {
   "cell_type": "code",
   "execution_count": 7,
   "id": "c9d1251f",
   "metadata": {
    "hidden": true
   },
   "outputs": [],
   "source": [
    "pipeline = clean_features(big_df)"
   ]
  },
  {
   "cell_type": "code",
   "execution_count": 48,
   "id": "10fcaeb0",
   "metadata": {
    "hidden": true
   },
   "outputs": [],
   "source": [
    "fake_1 = pd.read_csv(\"gs://wagon-data-750-btc-sent-fc/input_data/fake_1\",\n",
    "                     index_col=0,\n",
    "                     parse_dates=True)"
   ]
  },
  {
   "cell_type": "code",
   "execution_count": 49,
   "id": "77d1988a",
   "metadata": {
    "hidden": true
   },
   "outputs": [
    {
     "data": {
      "text/html": [
       "<div>\n",
       "<style scoped>\n",
       "    .dataframe tbody tr th:only-of-type {\n",
       "        vertical-align: middle;\n",
       "    }\n",
       "\n",
       "    .dataframe tbody tr th {\n",
       "        vertical-align: top;\n",
       "    }\n",
       "\n",
       "    .dataframe thead th {\n",
       "        text-align: right;\n",
       "    }\n",
       "</style>\n",
       "<table border=\"1\" class=\"dataframe\">\n",
       "  <thead>\n",
       "    <tr style=\"text-align: right;\">\n",
       "      <th></th>\n",
       "      <th>n-transactions-per-block</th>\n",
       "      <th>difficulty</th>\n",
       "      <th>utxo-count</th>\n",
       "      <th>mvrv</th>\n",
       "      <th>nvt</th>\n",
       "      <th>avg-block-size</th>\n",
       "      <th>n-transactions-excluding-popular</th>\n",
       "      <th>n-unique-addresses</th>\n",
       "      <th>median-confirmation-time</th>\n",
       "      <th>miners-revenue</th>\n",
       "      <th>...</th>\n",
       "      <th>S&amp;P U.S. TIPS 7-10 Year Index (USD)</th>\n",
       "      <th>S&amp;P U.S. Treasury Bond 3-5 Year Index</th>\n",
       "      <th>S&amp;P U.S. TIPS 3-5 Year Index (USD)</th>\n",
       "      <th>S&amp;P U.S. TIPS 1-3 Year Index (USD)</th>\n",
       "      <th>S&amp;P U.S. TIPS 5-7 Year Index (USD)</th>\n",
       "      <th>S&amp;P U.S. Treasury Bill 6-9 Month Index</th>\n",
       "      <th>tweets_sent</th>\n",
       "      <th>reddit_crypto_sent</th>\n",
       "      <th>reddit_econ_sent</th>\n",
       "      <th>volume_gross</th>\n",
       "    </tr>\n",
       "  </thead>\n",
       "  <tbody>\n",
       "    <tr>\n",
       "      <th>2021-08-25</th>\n",
       "      <td>-0.360762</td>\n",
       "      <td>0.861678</td>\n",
       "      <td>1.484932</td>\n",
       "      <td>0.663352</td>\n",
       "      <td>-2.406838</td>\n",
       "      <td>0.372842</td>\n",
       "      <td>-0.087721</td>\n",
       "      <td>0.715103</td>\n",
       "      <td>-1.810167</td>\n",
       "      <td>1.380860</td>\n",
       "      <td>...</td>\n",
       "      <td>2.015781</td>\n",
       "      <td>2.045013</td>\n",
       "      <td>1.966391</td>\n",
       "      <td>1.226304</td>\n",
       "      <td>-0.546254</td>\n",
       "      <td>0.923562</td>\n",
       "      <td>1.289873</td>\n",
       "      <td>0.009306</td>\n",
       "      <td>-0.657061</td>\n",
       "      <td>20.612995</td>\n",
       "    </tr>\n",
       "    <tr>\n",
       "      <th>2021-08-26</th>\n",
       "      <td>-0.319383</td>\n",
       "      <td>0.877497</td>\n",
       "      <td>1.488754</td>\n",
       "      <td>0.683136</td>\n",
       "      <td>-1.972124</td>\n",
       "      <td>0.195304</td>\n",
       "      <td>-0.376206</td>\n",
       "      <td>0.655029</td>\n",
       "      <td>-1.692510</td>\n",
       "      <td>1.350133</td>\n",
       "      <td>...</td>\n",
       "      <td>2.008967</td>\n",
       "      <td>2.046472</td>\n",
       "      <td>1.962435</td>\n",
       "      <td>1.226304</td>\n",
       "      <td>-0.403878</td>\n",
       "      <td>1.883524</td>\n",
       "      <td>3.509417</td>\n",
       "      <td>0.060181</td>\n",
       "      <td>-0.711166</td>\n",
       "      <td>20.825791</td>\n",
       "    </tr>\n",
       "    <tr>\n",
       "      <th>2021-08-27</th>\n",
       "      <td>-0.278358</td>\n",
       "      <td>0.892949</td>\n",
       "      <td>1.491011</td>\n",
       "      <td>0.702777</td>\n",
       "      <td>-1.616306</td>\n",
       "      <td>0.011533</td>\n",
       "      <td>-0.682608</td>\n",
       "      <td>0.257137</td>\n",
       "      <td>-1.579076</td>\n",
       "      <td>1.318399</td>\n",
       "      <td>...</td>\n",
       "      <td>2.067172</td>\n",
       "      <td>2.091647</td>\n",
       "      <td>2.027560</td>\n",
       "      <td>1.226304</td>\n",
       "      <td>-0.403878</td>\n",
       "      <td>-0.618229</td>\n",
       "      <td>0.266756</td>\n",
       "      <td>0.094336</td>\n",
       "      <td>-0.612330</td>\n",
       "      <td>20.563803</td>\n",
       "    </tr>\n",
       "    <tr>\n",
       "      <th>2021-08-28</th>\n",
       "      <td>-0.188108</td>\n",
       "      <td>0.908052</td>\n",
       "      <td>1.493268</td>\n",
       "      <td>0.682938</td>\n",
       "      <td>-1.624699</td>\n",
       "      <td>0.265408</td>\n",
       "      <td>-1.009301</td>\n",
       "      <td>-0.177081</td>\n",
       "      <td>-1.469574</td>\n",
       "      <td>1.297372</td>\n",
       "      <td>...</td>\n",
       "      <td>2.074213</td>\n",
       "      <td>2.101350</td>\n",
       "      <td>2.031989</td>\n",
       "      <td>1.226304</td>\n",
       "      <td>1.015435</td>\n",
       "      <td>1.268133</td>\n",
       "      <td>2.943081</td>\n",
       "      <td>0.147695</td>\n",
       "      <td>-0.699410</td>\n",
       "      <td>19.986069</td>\n",
       "    </tr>\n",
       "    <tr>\n",
       "      <th>2021-08-29</th>\n",
       "      <td>-0.099520</td>\n",
       "      <td>0.908052</td>\n",
       "      <td>1.495523</td>\n",
       "      <td>0.662954</td>\n",
       "      <td>-1.633128</td>\n",
       "      <td>0.507538</td>\n",
       "      <td>-0.625775</td>\n",
       "      <td>-0.654931</td>\n",
       "      <td>-1.212013</td>\n",
       "      <td>1.275878</td>\n",
       "      <td>...</td>\n",
       "      <td>2.081251</td>\n",
       "      <td>2.111049</td>\n",
       "      <td>2.036416</td>\n",
       "      <td>1.226304</td>\n",
       "      <td>-0.403878</td>\n",
       "      <td>0.545835</td>\n",
       "      <td>2.014416</td>\n",
       "      <td>0.201053</td>\n",
       "      <td>-0.702000</td>\n",
       "      <td>20.331581</td>\n",
       "    </tr>\n",
       "    <tr>\n",
       "      <th>...</th>\n",
       "      <td>...</td>\n",
       "      <td>...</td>\n",
       "      <td>...</td>\n",
       "      <td>...</td>\n",
       "      <td>...</td>\n",
       "      <td>...</td>\n",
       "      <td>...</td>\n",
       "      <td>...</td>\n",
       "      <td>...</td>\n",
       "      <td>...</td>\n",
       "      <td>...</td>\n",
       "      <td>...</td>\n",
       "      <td>...</td>\n",
       "      <td>...</td>\n",
       "      <td>...</td>\n",
       "      <td>...</td>\n",
       "      <td>...</td>\n",
       "      <td>...</td>\n",
       "      <td>...</td>\n",
       "      <td>...</td>\n",
       "      <td>...</td>\n",
       "    </tr>\n",
       "    <tr>\n",
       "      <th>2021-11-17</th>\n",
       "      <td>0.413307</td>\n",
       "      <td>1.076333</td>\n",
       "      <td>1.555998</td>\n",
       "      <td>0.785842</td>\n",
       "      <td>-3.293221</td>\n",
       "      <td>1.109824</td>\n",
       "      <td>0.416290</td>\n",
       "      <td>1.325137</td>\n",
       "      <td>-0.797349</td>\n",
       "      <td>1.544637</td>\n",
       "      <td>...</td>\n",
       "      <td>2.318785</td>\n",
       "      <td>2.537117</td>\n",
       "      <td>2.182636</td>\n",
       "      <td>1.229455</td>\n",
       "      <td>-0.377992</td>\n",
       "      <td>1.198626</td>\n",
       "      <td>0.174493</td>\n",
       "      <td>0.323869</td>\n",
       "      <td>-0.677891</td>\n",
       "      <td>21.638166</td>\n",
       "    </tr>\n",
       "    <tr>\n",
       "      <th>2021-11-18</th>\n",
       "      <td>0.468953</td>\n",
       "      <td>1.076333</td>\n",
       "      <td>1.553682</td>\n",
       "      <td>0.770169</td>\n",
       "      <td>-2.715368</td>\n",
       "      <td>1.132334</td>\n",
       "      <td>0.181801</td>\n",
       "      <td>1.360443</td>\n",
       "      <td>-0.911924</td>\n",
       "      <td>1.491252</td>\n",
       "      <td>...</td>\n",
       "      <td>2.302427</td>\n",
       "      <td>2.531405</td>\n",
       "      <td>2.171933</td>\n",
       "      <td>1.231031</td>\n",
       "      <td>-1.594652</td>\n",
       "      <td>0.764770</td>\n",
       "      <td>1.357496</td>\n",
       "      <td>0.323869</td>\n",
       "      <td>-0.555708</td>\n",
       "      <td>21.866546</td>\n",
       "    </tr>\n",
       "    <tr>\n",
       "      <th>2021-11-19</th>\n",
       "      <td>0.523962</td>\n",
       "      <td>1.076333</td>\n",
       "      <td>1.560422</td>\n",
       "      <td>0.754406</td>\n",
       "      <td>-2.269287</td>\n",
       "      <td>1.154748</td>\n",
       "      <td>-0.064390</td>\n",
       "      <td>1.046534</td>\n",
       "      <td>-1.030810</td>\n",
       "      <td>1.434753</td>\n",
       "      <td>...</td>\n",
       "      <td>2.224131</td>\n",
       "      <td>2.442695</td>\n",
       "      <td>2.113888</td>\n",
       "      <td>1.231031</td>\n",
       "      <td>0.561314</td>\n",
       "      <td>-0.276274</td>\n",
       "      <td>0.357381</td>\n",
       "      <td>0.323869</td>\n",
       "      <td>-0.620867</td>\n",
       "      <td>21.474563</td>\n",
       "    </tr>\n",
       "    <tr>\n",
       "      <th>2021-11-20</th>\n",
       "      <td>0.523962</td>\n",
       "      <td>1.076333</td>\n",
       "      <td>1.567154</td>\n",
       "      <td>0.738551</td>\n",
       "      <td>-1.905901</td>\n",
       "      <td>1.154748</td>\n",
       "      <td>-0.323510</td>\n",
       "      <td>0.710450</td>\n",
       "      <td>-1.154344</td>\n",
       "      <td>1.434753</td>\n",
       "      <td>...</td>\n",
       "      <td>2.199696</td>\n",
       "      <td>2.425485</td>\n",
       "      <td>2.084196</td>\n",
       "      <td>1.229455</td>\n",
       "      <td>2.495397</td>\n",
       "      <td>0.093599</td>\n",
       "      <td>-0.223311</td>\n",
       "      <td>0.323869</td>\n",
       "      <td>-0.686026</td>\n",
       "      <td>20.606285</td>\n",
       "    </tr>\n",
       "    <tr>\n",
       "      <th>2021-11-21</th>\n",
       "      <td>0.523962</td>\n",
       "      <td>1.076333</td>\n",
       "      <td>1.573877</td>\n",
       "      <td>0.738551</td>\n",
       "      <td>-1.905901</td>\n",
       "      <td>1.154748</td>\n",
       "      <td>-0.323510</td>\n",
       "      <td>0.348816</td>\n",
       "      <td>-1.154344</td>\n",
       "      <td>1.434753</td>\n",
       "      <td>...</td>\n",
       "      <td>2.175226</td>\n",
       "      <td>2.408263</td>\n",
       "      <td>2.054436</td>\n",
       "      <td>1.227880</td>\n",
       "      <td>-0.543665</td>\n",
       "      <td>1.396272</td>\n",
       "      <td>1.789930</td>\n",
       "      <td>0.323869</td>\n",
       "      <td>-0.694471</td>\n",
       "      <td>20.486826</td>\n",
       "    </tr>\n",
       "  </tbody>\n",
       "</table>\n",
       "<p>89 rows × 61 columns</p>\n",
       "</div>"
      ],
      "text/plain": [
       "            n-transactions-per-block  difficulty  utxo-count      mvrv  \\\n",
       "2021-08-25                 -0.360762    0.861678    1.484932  0.663352   \n",
       "2021-08-26                 -0.319383    0.877497    1.488754  0.683136   \n",
       "2021-08-27                 -0.278358    0.892949    1.491011  0.702777   \n",
       "2021-08-28                 -0.188108    0.908052    1.493268  0.682938   \n",
       "2021-08-29                 -0.099520    0.908052    1.495523  0.662954   \n",
       "...                              ...         ...         ...       ...   \n",
       "2021-11-17                  0.413307    1.076333    1.555998  0.785842   \n",
       "2021-11-18                  0.468953    1.076333    1.553682  0.770169   \n",
       "2021-11-19                  0.523962    1.076333    1.560422  0.754406   \n",
       "2021-11-20                  0.523962    1.076333    1.567154  0.738551   \n",
       "2021-11-21                  0.523962    1.076333    1.573877  0.738551   \n",
       "\n",
       "                 nvt  avg-block-size  n-transactions-excluding-popular  \\\n",
       "2021-08-25 -2.406838        0.372842                         -0.087721   \n",
       "2021-08-26 -1.972124        0.195304                         -0.376206   \n",
       "2021-08-27 -1.616306        0.011533                         -0.682608   \n",
       "2021-08-28 -1.624699        0.265408                         -1.009301   \n",
       "2021-08-29 -1.633128        0.507538                         -0.625775   \n",
       "...              ...             ...                               ...   \n",
       "2021-11-17 -3.293221        1.109824                          0.416290   \n",
       "2021-11-18 -2.715368        1.132334                          0.181801   \n",
       "2021-11-19 -2.269287        1.154748                         -0.064390   \n",
       "2021-11-20 -1.905901        1.154748                         -0.323510   \n",
       "2021-11-21 -1.905901        1.154748                         -0.323510   \n",
       "\n",
       "            n-unique-addresses  median-confirmation-time  miners-revenue  ...  \\\n",
       "2021-08-25            0.715103                 -1.810167        1.380860  ...   \n",
       "2021-08-26            0.655029                 -1.692510        1.350133  ...   \n",
       "2021-08-27            0.257137                 -1.579076        1.318399  ...   \n",
       "2021-08-28           -0.177081                 -1.469574        1.297372  ...   \n",
       "2021-08-29           -0.654931                 -1.212013        1.275878  ...   \n",
       "...                        ...                       ...             ...  ...   \n",
       "2021-11-17            1.325137                 -0.797349        1.544637  ...   \n",
       "2021-11-18            1.360443                 -0.911924        1.491252  ...   \n",
       "2021-11-19            1.046534                 -1.030810        1.434753  ...   \n",
       "2021-11-20            0.710450                 -1.154344        1.434753  ...   \n",
       "2021-11-21            0.348816                 -1.154344        1.434753  ...   \n",
       "\n",
       "            S&P U.S. TIPS 7-10 Year Index (USD)  \\\n",
       "2021-08-25                             2.015781   \n",
       "2021-08-26                             2.008967   \n",
       "2021-08-27                             2.067172   \n",
       "2021-08-28                             2.074213   \n",
       "2021-08-29                             2.081251   \n",
       "...                                         ...   \n",
       "2021-11-17                             2.318785   \n",
       "2021-11-18                             2.302427   \n",
       "2021-11-19                             2.224131   \n",
       "2021-11-20                             2.199696   \n",
       "2021-11-21                             2.175226   \n",
       "\n",
       "            S&P U.S. Treasury Bond 3-5 Year Index  \\\n",
       "2021-08-25                               2.045013   \n",
       "2021-08-26                               2.046472   \n",
       "2021-08-27                               2.091647   \n",
       "2021-08-28                               2.101350   \n",
       "2021-08-29                               2.111049   \n",
       "...                                           ...   \n",
       "2021-11-17                               2.537117   \n",
       "2021-11-18                               2.531405   \n",
       "2021-11-19                               2.442695   \n",
       "2021-11-20                               2.425485   \n",
       "2021-11-21                               2.408263   \n",
       "\n",
       "            S&P U.S. TIPS 3-5 Year Index (USD)  \\\n",
       "2021-08-25                            1.966391   \n",
       "2021-08-26                            1.962435   \n",
       "2021-08-27                            2.027560   \n",
       "2021-08-28                            2.031989   \n",
       "2021-08-29                            2.036416   \n",
       "...                                        ...   \n",
       "2021-11-17                            2.182636   \n",
       "2021-11-18                            2.171933   \n",
       "2021-11-19                            2.113888   \n",
       "2021-11-20                            2.084196   \n",
       "2021-11-21                            2.054436   \n",
       "\n",
       "            S&P U.S. TIPS 1-3 Year Index (USD)  \\\n",
       "2021-08-25                            1.226304   \n",
       "2021-08-26                            1.226304   \n",
       "2021-08-27                            1.226304   \n",
       "2021-08-28                            1.226304   \n",
       "2021-08-29                            1.226304   \n",
       "...                                        ...   \n",
       "2021-11-17                            1.229455   \n",
       "2021-11-18                            1.231031   \n",
       "2021-11-19                            1.231031   \n",
       "2021-11-20                            1.229455   \n",
       "2021-11-21                            1.227880   \n",
       "\n",
       "            S&P U.S. TIPS 5-7 Year Index (USD)  \\\n",
       "2021-08-25                           -0.546254   \n",
       "2021-08-26                           -0.403878   \n",
       "2021-08-27                           -0.403878   \n",
       "2021-08-28                            1.015435   \n",
       "2021-08-29                           -0.403878   \n",
       "...                                        ...   \n",
       "2021-11-17                           -0.377992   \n",
       "2021-11-18                           -1.594652   \n",
       "2021-11-19                            0.561314   \n",
       "2021-11-20                            2.495397   \n",
       "2021-11-21                           -0.543665   \n",
       "\n",
       "            S&P U.S. Treasury Bill 6-9 Month Index  tweets_sent  \\\n",
       "2021-08-25                                0.923562     1.289873   \n",
       "2021-08-26                                1.883524     3.509417   \n",
       "2021-08-27                               -0.618229     0.266756   \n",
       "2021-08-28                                1.268133     2.943081   \n",
       "2021-08-29                                0.545835     2.014416   \n",
       "...                                            ...          ...   \n",
       "2021-11-17                                1.198626     0.174493   \n",
       "2021-11-18                                0.764770     1.357496   \n",
       "2021-11-19                               -0.276274     0.357381   \n",
       "2021-11-20                                0.093599    -0.223311   \n",
       "2021-11-21                                1.396272     1.789930   \n",
       "\n",
       "            reddit_crypto_sent  reddit_econ_sent  volume_gross  \n",
       "2021-08-25            0.009306         -0.657061     20.612995  \n",
       "2021-08-26            0.060181         -0.711166     20.825791  \n",
       "2021-08-27            0.094336         -0.612330     20.563803  \n",
       "2021-08-28            0.147695         -0.699410     19.986069  \n",
       "2021-08-29            0.201053         -0.702000     20.331581  \n",
       "...                        ...               ...           ...  \n",
       "2021-11-17            0.323869         -0.677891     21.638166  \n",
       "2021-11-18            0.323869         -0.555708     21.866546  \n",
       "2021-11-19            0.323869         -0.620867     21.474563  \n",
       "2021-11-20            0.323869         -0.686026     20.606285  \n",
       "2021-11-21            0.323869         -0.694471     20.486826  \n",
       "\n",
       "[89 rows x 61 columns]"
      ]
     },
     "execution_count": 49,
     "metadata": {},
     "output_type": "execute_result"
    }
   ],
   "source": [
    "clean_test_features(fake_1)"
   ]
  },
  {
   "cell_type": "code",
   "execution_count": null,
   "id": "630944b1",
   "metadata": {
    "hidden": true
   },
   "outputs": [],
   "source": []
  },
  {
   "cell_type": "markdown",
   "id": "4301b0f9",
   "metadata": {},
   "source": [
    "# Placeholder prediction array"
   ]
  },
  {
   "cell_type": "code",
   "execution_count": null,
   "id": "e2883e65",
   "metadata": {},
   "outputs": [],
   "source": [
    "url = \"https://cloudsentiment-gijujv7fiq-ew.a.run.app/predict\""
   ]
  },
  {
   "cell_type": "code",
   "execution_count": 16,
   "id": "ebcfc9aa",
   "metadata": {},
   "outputs": [],
   "source": [
    "pred_df = df.interpolate(method='linear',axis=0)\n",
    "pred_df['volume_gross'] = np.log(pred_df['volume_gross'])"
   ]
  },
  {
   "cell_type": "code",
   "execution_count": 49,
   "id": "7d309cc4",
   "metadata": {},
   "outputs": [],
   "source": [
    "predict_placeholder = df[[\"volume_gross\"]].iloc[-31:]\n",
    "predict_placeholder.columns = [\"volume_actual\"]"
   ]
  },
  {
   "cell_type": "code",
   "execution_count": 50,
   "id": "b595814b",
   "metadata": {},
   "outputs": [],
   "source": [
    "predict_placeholder.loc[dt.datetime(2021, 11,\n",
    "                                    23)] = real_volume.loc[dt.datetime(\n",
    "                                        2021, 11, 23)][\"volume_gross\"]"
   ]
  },
  {
   "cell_type": "code",
   "execution_count": 53,
   "id": "57d4d243",
   "metadata": {},
   "outputs": [],
   "source": [
    "predict_placeholder.drop(dt.datetime(2021, 10,23), inplace = True)"
   ]
  },
  {
   "cell_type": "code",
   "execution_count": 55,
   "id": "82df6810",
   "metadata": {},
   "outputs": [
    {
     "data": {
      "text/html": [
       "<div>\n",
       "<style scoped>\n",
       "    .dataframe tbody tr th:only-of-type {\n",
       "        vertical-align: middle;\n",
       "    }\n",
       "\n",
       "    .dataframe tbody tr th {\n",
       "        vertical-align: top;\n",
       "    }\n",
       "\n",
       "    .dataframe thead th {\n",
       "        text-align: right;\n",
       "    }\n",
       "</style>\n",
       "<table border=\"1\" class=\"dataframe\">\n",
       "  <thead>\n",
       "    <tr style=\"text-align: right;\">\n",
       "      <th></th>\n",
       "      <th>volume_actual</th>\n",
       "    </tr>\n",
       "  </thead>\n",
       "  <tbody>\n",
       "    <tr>\n",
       "      <th>2021-10-24</th>\n",
       "      <td>1.037417e+09</td>\n",
       "    </tr>\n",
       "  </tbody>\n",
       "</table>\n",
       "</div>"
      ],
      "text/plain": [
       "            volume_actual\n",
       "2021-10-24   1.037417e+09"
      ]
     },
     "execution_count": 55,
     "metadata": {},
     "output_type": "execute_result"
    }
   ],
   "source": [
    "predict_placeholder.head(1)"
   ]
  },
  {
   "cell_type": "code",
   "execution_count": 56,
   "id": "df605b1c",
   "metadata": {},
   "outputs": [
    {
     "data": {
      "text/html": [
       "<div>\n",
       "<style scoped>\n",
       "    .dataframe tbody tr th:only-of-type {\n",
       "        vertical-align: middle;\n",
       "    }\n",
       "\n",
       "    .dataframe tbody tr th {\n",
       "        vertical-align: top;\n",
       "    }\n",
       "\n",
       "    .dataframe thead th {\n",
       "        text-align: right;\n",
       "    }\n",
       "</style>\n",
       "<table border=\"1\" class=\"dataframe\">\n",
       "  <thead>\n",
       "    <tr style=\"text-align: right;\">\n",
       "      <th></th>\n",
       "      <th>volume_actual</th>\n",
       "    </tr>\n",
       "  </thead>\n",
       "  <tbody>\n",
       "    <tr>\n",
       "      <th>2021-11-23</th>\n",
       "      <td>1.591829e+09</td>\n",
       "    </tr>\n",
       "  </tbody>\n",
       "</table>\n",
       "</div>"
      ],
      "text/plain": [
       "            volume_actual\n",
       "2021-11-23   1.591829e+09"
      ]
     },
     "execution_count": 56,
     "metadata": {},
     "output_type": "execute_result"
    }
   ],
   "source": [
    "predict_placeholder.tail(1)"
   ]
  },
  {
   "cell_type": "code",
   "execution_count": 23,
   "id": "db632330",
   "metadata": {},
   "outputs": [],
   "source": [
    "pred_df.iloc[-90:].to_csv(f\"gcs://wagon-data-750-btc-sent-fc/input_data/pred_1\")"
   ]
  },
  {
   "cell_type": "code",
   "execution_count": 24,
   "id": "d6afcc4a",
   "metadata": {},
   "outputs": [],
   "source": [
    "for i in range(1, 31):\n",
    "        pred_df.iloc[-(90+i):-i].to_csv(\n",
    "        f\"gcs://wagon-data-750-btc-sent-fc/input_data/pred_{i+1}\")  "
   ]
  },
  {
   "cell_type": "code",
   "execution_count": 32,
   "id": "55d2dbb3",
   "metadata": {},
   "outputs": [
    {
     "data": {
      "text/html": [
       "<div>\n",
       "<style scoped>\n",
       "    .dataframe tbody tr th:only-of-type {\n",
       "        vertical-align: middle;\n",
       "    }\n",
       "\n",
       "    .dataframe tbody tr th {\n",
       "        vertical-align: top;\n",
       "    }\n",
       "\n",
       "    .dataframe thead th {\n",
       "        text-align: right;\n",
       "    }\n",
       "</style>\n",
       "<table border=\"1\" class=\"dataframe\">\n",
       "  <thead>\n",
       "    <tr style=\"text-align: right;\">\n",
       "      <th></th>\n",
       "      <th>Unnamed: 0</th>\n",
       "      <th>n-transactions-per-block</th>\n",
       "      <th>difficulty</th>\n",
       "      <th>utxo-count</th>\n",
       "      <th>mvrv</th>\n",
       "      <th>nvt</th>\n",
       "      <th>avg-block-size</th>\n",
       "      <th>n-transactions-excluding-popular</th>\n",
       "      <th>n-unique-addresses</th>\n",
       "      <th>median-confirmation-time</th>\n",
       "      <th>...</th>\n",
       "      <th>tweets_sent</th>\n",
       "      <th>reddit_crypto_sent</th>\n",
       "      <th>reddit_econ_sent</th>\n",
       "      <th>volume_gross</th>\n",
       "      <th>crypto_pos</th>\n",
       "      <th>crypto_neg</th>\n",
       "      <th>crypto_neu</th>\n",
       "      <th>econ_pos</th>\n",
       "      <th>econ_neg</th>\n",
       "      <th>econ_neu</th>\n",
       "    </tr>\n",
       "  </thead>\n",
       "  <tbody>\n",
       "    <tr>\n",
       "      <th>0</th>\n",
       "      <td>2021-07-26</td>\n",
       "      <td>1293.883255</td>\n",
       "      <td>1.367259e+13</td>\n",
       "      <td>75958009.0</td>\n",
       "      <td>1.857413</td>\n",
       "      <td>9.785607</td>\n",
       "      <td>0.865762</td>\n",
       "      <td>259735.000000</td>\n",
       "      <td>566213.000000</td>\n",
       "      <td>7.350000</td>\n",
       "      <td>...</td>\n",
       "      <td>0.097578</td>\n",
       "      <td>0.103744</td>\n",
       "      <td>0.188968</td>\n",
       "      <td>21.829651</td>\n",
       "      <td>0.136405</td>\n",
       "      <td>0.144512</td>\n",
       "      <td>0.719083</td>\n",
       "      <td>0.105454</td>\n",
       "      <td>0.147643</td>\n",
       "      <td>0.746903</td>\n",
       "    </tr>\n",
       "    <tr>\n",
       "      <th>1</th>\n",
       "      <td>2021-07-27</td>\n",
       "      <td>1447.014876</td>\n",
       "      <td>1.367259e+13</td>\n",
       "      <td>75905730.5</td>\n",
       "      <td>1.930534</td>\n",
       "      <td>6.380761</td>\n",
       "      <td>0.938736</td>\n",
       "      <td>260035.333333</td>\n",
       "      <td>600692.000000</td>\n",
       "      <td>7.179167</td>\n",
       "      <td>...</td>\n",
       "      <td>-0.007788</td>\n",
       "      <td>0.033464</td>\n",
       "      <td>0.081632</td>\n",
       "      <td>21.341598</td>\n",
       "      <td>0.143291</td>\n",
       "      <td>0.117274</td>\n",
       "      <td>0.739435</td>\n",
       "      <td>0.070635</td>\n",
       "      <td>0.114133</td>\n",
       "      <td>0.815233</td>\n",
       "    </tr>\n",
       "    <tr>\n",
       "      <th>2</th>\n",
       "      <td>2021-07-28</td>\n",
       "      <td>1600.146497</td>\n",
       "      <td>1.367259e+13</td>\n",
       "      <td>75853452.0</td>\n",
       "      <td>2.003656</td>\n",
       "      <td>2.975915</td>\n",
       "      <td>1.011710</td>\n",
       "      <td>260335.666667</td>\n",
       "      <td>610429.000000</td>\n",
       "      <td>7.008333</td>\n",
       "      <td>...</td>\n",
       "      <td>0.076667</td>\n",
       "      <td>0.096188</td>\n",
       "      <td>0.153771</td>\n",
       "      <td>21.486302</td>\n",
       "      <td>0.183274</td>\n",
       "      <td>0.119879</td>\n",
       "      <td>0.696846</td>\n",
       "      <td>0.137066</td>\n",
       "      <td>0.152562</td>\n",
       "      <td>0.710372</td>\n",
       "    </tr>\n",
       "    <tr>\n",
       "      <th>3</th>\n",
       "      <td>2021-07-29</td>\n",
       "      <td>1504.207369</td>\n",
       "      <td>1.367259e+13</td>\n",
       "      <td>75921110.0</td>\n",
       "      <td>1.980998</td>\n",
       "      <td>5.679447</td>\n",
       "      <td>0.946334</td>\n",
       "      <td>260636.000000</td>\n",
       "      <td>620166.000000</td>\n",
       "      <td>6.837500</td>\n",
       "      <td>...</td>\n",
       "      <td>-0.175926</td>\n",
       "      <td>0.183428</td>\n",
       "      <td>0.124791</td>\n",
       "      <td>20.579537</td>\n",
       "      <td>0.115875</td>\n",
       "      <td>0.045261</td>\n",
       "      <td>0.838864</td>\n",
       "      <td>0.108908</td>\n",
       "      <td>0.148060</td>\n",
       "      <td>0.743032</td>\n",
       "    </tr>\n",
       "    <tr>\n",
       "      <th>4</th>\n",
       "      <td>2021-07-30</td>\n",
       "      <td>1408.268242</td>\n",
       "      <td>1.394721e+13</td>\n",
       "      <td>75988768.0</td>\n",
       "      <td>1.958339</td>\n",
       "      <td>8.382979</td>\n",
       "      <td>0.880959</td>\n",
       "      <td>235149.666667</td>\n",
       "      <td>629903.000000</td>\n",
       "      <td>6.169444</td>\n",
       "      <td>...</td>\n",
       "      <td>-0.101076</td>\n",
       "      <td>0.086728</td>\n",
       "      <td>0.145852</td>\n",
       "      <td>20.900512</td>\n",
       "      <td>0.156663</td>\n",
       "      <td>0.115445</td>\n",
       "      <td>0.727892</td>\n",
       "      <td>0.156430</td>\n",
       "      <td>0.096298</td>\n",
       "      <td>0.747272</td>\n",
       "    </tr>\n",
       "    <tr>\n",
       "      <th>...</th>\n",
       "      <td>...</td>\n",
       "      <td>...</td>\n",
       "      <td>...</td>\n",
       "      <td>...</td>\n",
       "      <td>...</td>\n",
       "      <td>...</td>\n",
       "      <td>...</td>\n",
       "      <td>...</td>\n",
       "      <td>...</td>\n",
       "      <td>...</td>\n",
       "      <td>...</td>\n",
       "      <td>...</td>\n",
       "      <td>...</td>\n",
       "      <td>...</td>\n",
       "      <td>...</td>\n",
       "      <td>...</td>\n",
       "      <td>...</td>\n",
       "      <td>...</td>\n",
       "      <td>...</td>\n",
       "      <td>...</td>\n",
       "      <td>...</td>\n",
       "    </tr>\n",
       "    <tr>\n",
       "      <th>85</th>\n",
       "      <td>2021-10-19</td>\n",
       "      <td>1755.407257</td>\n",
       "      <td>1.997239e+13</td>\n",
       "      <td>76251512.0</td>\n",
       "      <td>2.780441</td>\n",
       "      <td>2.970398</td>\n",
       "      <td>1.087210</td>\n",
       "      <td>294947.000000</td>\n",
       "      <td>743673.000000</td>\n",
       "      <td>8.275000</td>\n",
       "      <td>...</td>\n",
       "      <td>0.241818</td>\n",
       "      <td>0.082540</td>\n",
       "      <td>0.107039</td>\n",
       "      <td>21.506431</td>\n",
       "      <td>0.133719</td>\n",
       "      <td>0.126524</td>\n",
       "      <td>0.739757</td>\n",
       "      <td>0.076252</td>\n",
       "      <td>0.177214</td>\n",
       "      <td>0.746534</td>\n",
       "    </tr>\n",
       "    <tr>\n",
       "      <th>86</th>\n",
       "      <td>2021-10-20</td>\n",
       "      <td>1958.476510</td>\n",
       "      <td>2.002743e+13</td>\n",
       "      <td>76237416.0</td>\n",
       "      <td>2.773609</td>\n",
       "      <td>3.482061</td>\n",
       "      <td>1.179139</td>\n",
       "      <td>306557.000000</td>\n",
       "      <td>726887.333333</td>\n",
       "      <td>9.100000</td>\n",
       "      <td>...</td>\n",
       "      <td>0.090625</td>\n",
       "      <td>0.029120</td>\n",
       "      <td>0.079128</td>\n",
       "      <td>21.645026</td>\n",
       "      <td>0.128446</td>\n",
       "      <td>0.072574</td>\n",
       "      <td>0.798981</td>\n",
       "      <td>0.154970</td>\n",
       "      <td>0.058341</td>\n",
       "      <td>0.786689</td>\n",
       "    </tr>\n",
       "    <tr>\n",
       "      <th>87</th>\n",
       "      <td>2021-10-21</td>\n",
       "      <td>1820.457903</td>\n",
       "      <td>2.008246e+13</td>\n",
       "      <td>76223320.0</td>\n",
       "      <td>2.766777</td>\n",
       "      <td>3.993724</td>\n",
       "      <td>1.136540</td>\n",
       "      <td>318167.000000</td>\n",
       "      <td>710101.666667</td>\n",
       "      <td>9.925000</td>\n",
       "      <td>...</td>\n",
       "      <td>0.027778</td>\n",
       "      <td>0.078956</td>\n",
       "      <td>0.040688</td>\n",
       "      <td>21.827644</td>\n",
       "      <td>0.234220</td>\n",
       "      <td>0.177494</td>\n",
       "      <td>0.588286</td>\n",
       "      <td>0.208913</td>\n",
       "      <td>0.089557</td>\n",
       "      <td>0.701530</td>\n",
       "    </tr>\n",
       "    <tr>\n",
       "      <th>88</th>\n",
       "      <td>2021-10-22</td>\n",
       "      <td>1682.439296</td>\n",
       "      <td>2.008246e+13</td>\n",
       "      <td>76264780.0</td>\n",
       "      <td>2.739511</td>\n",
       "      <td>5.072266</td>\n",
       "      <td>1.093941</td>\n",
       "      <td>281934.666667</td>\n",
       "      <td>693316.000000</td>\n",
       "      <td>8.175000</td>\n",
       "      <td>...</td>\n",
       "      <td>-0.007143</td>\n",
       "      <td>0.043804</td>\n",
       "      <td>0.055732</td>\n",
       "      <td>21.478976</td>\n",
       "      <td>0.075995</td>\n",
       "      <td>0.140194</td>\n",
       "      <td>0.783811</td>\n",
       "      <td>0.095407</td>\n",
       "      <td>0.182553</td>\n",
       "      <td>0.722040</td>\n",
       "    </tr>\n",
       "    <tr>\n",
       "      <th>89</th>\n",
       "      <td>2021-10-23</td>\n",
       "      <td>1544.420690</td>\n",
       "      <td>2.008246e+13</td>\n",
       "      <td>76306240.0</td>\n",
       "      <td>2.712244</td>\n",
       "      <td>6.150809</td>\n",
       "      <td>1.051343</td>\n",
       "      <td>245702.333333</td>\n",
       "      <td>696933.000000</td>\n",
       "      <td>6.425000</td>\n",
       "      <td>...</td>\n",
       "      <td>0.000000</td>\n",
       "      <td>0.078360</td>\n",
       "      <td>0.017517</td>\n",
       "      <td>20.520776</td>\n",
       "      <td>0.127675</td>\n",
       "      <td>0.111661</td>\n",
       "      <td>0.760664</td>\n",
       "      <td>0.097312</td>\n",
       "      <td>0.131821</td>\n",
       "      <td>0.770867</td>\n",
       "    </tr>\n",
       "  </tbody>\n",
       "</table>\n",
       "<p>90 rows × 68 columns</p>\n",
       "</div>"
      ],
      "text/plain": [
       "    Unnamed: 0  n-transactions-per-block    difficulty  utxo-count      mvrv  \\\n",
       "0   2021-07-26               1293.883255  1.367259e+13  75958009.0  1.857413   \n",
       "1   2021-07-27               1447.014876  1.367259e+13  75905730.5  1.930534   \n",
       "2   2021-07-28               1600.146497  1.367259e+13  75853452.0  2.003656   \n",
       "3   2021-07-29               1504.207369  1.367259e+13  75921110.0  1.980998   \n",
       "4   2021-07-30               1408.268242  1.394721e+13  75988768.0  1.958339   \n",
       "..         ...                       ...           ...         ...       ...   \n",
       "85  2021-10-19               1755.407257  1.997239e+13  76251512.0  2.780441   \n",
       "86  2021-10-20               1958.476510  2.002743e+13  76237416.0  2.773609   \n",
       "87  2021-10-21               1820.457903  2.008246e+13  76223320.0  2.766777   \n",
       "88  2021-10-22               1682.439296  2.008246e+13  76264780.0  2.739511   \n",
       "89  2021-10-23               1544.420690  2.008246e+13  76306240.0  2.712244   \n",
       "\n",
       "         nvt  avg-block-size  n-transactions-excluding-popular  \\\n",
       "0   9.785607        0.865762                     259735.000000   \n",
       "1   6.380761        0.938736                     260035.333333   \n",
       "2   2.975915        1.011710                     260335.666667   \n",
       "3   5.679447        0.946334                     260636.000000   \n",
       "4   8.382979        0.880959                     235149.666667   \n",
       "..       ...             ...                               ...   \n",
       "85  2.970398        1.087210                     294947.000000   \n",
       "86  3.482061        1.179139                     306557.000000   \n",
       "87  3.993724        1.136540                     318167.000000   \n",
       "88  5.072266        1.093941                     281934.666667   \n",
       "89  6.150809        1.051343                     245702.333333   \n",
       "\n",
       "    n-unique-addresses  median-confirmation-time  ...  tweets_sent  \\\n",
       "0        566213.000000                  7.350000  ...     0.097578   \n",
       "1        600692.000000                  7.179167  ...    -0.007788   \n",
       "2        610429.000000                  7.008333  ...     0.076667   \n",
       "3        620166.000000                  6.837500  ...    -0.175926   \n",
       "4        629903.000000                  6.169444  ...    -0.101076   \n",
       "..                 ...                       ...  ...          ...   \n",
       "85       743673.000000                  8.275000  ...     0.241818   \n",
       "86       726887.333333                  9.100000  ...     0.090625   \n",
       "87       710101.666667                  9.925000  ...     0.027778   \n",
       "88       693316.000000                  8.175000  ...    -0.007143   \n",
       "89       696933.000000                  6.425000  ...     0.000000   \n",
       "\n",
       "    reddit_crypto_sent  reddit_econ_sent  volume_gross  crypto_pos  \\\n",
       "0             0.103744          0.188968     21.829651    0.136405   \n",
       "1             0.033464          0.081632     21.341598    0.143291   \n",
       "2             0.096188          0.153771     21.486302    0.183274   \n",
       "3             0.183428          0.124791     20.579537    0.115875   \n",
       "4             0.086728          0.145852     20.900512    0.156663   \n",
       "..                 ...               ...           ...         ...   \n",
       "85            0.082540          0.107039     21.506431    0.133719   \n",
       "86            0.029120          0.079128     21.645026    0.128446   \n",
       "87            0.078956          0.040688     21.827644    0.234220   \n",
       "88            0.043804          0.055732     21.478976    0.075995   \n",
       "89            0.078360          0.017517     20.520776    0.127675   \n",
       "\n",
       "    crypto_neg  crypto_neu  econ_pos  econ_neg  econ_neu  \n",
       "0     0.144512    0.719083  0.105454  0.147643  0.746903  \n",
       "1     0.117274    0.739435  0.070635  0.114133  0.815233  \n",
       "2     0.119879    0.696846  0.137066  0.152562  0.710372  \n",
       "3     0.045261    0.838864  0.108908  0.148060  0.743032  \n",
       "4     0.115445    0.727892  0.156430  0.096298  0.747272  \n",
       "..         ...         ...       ...       ...       ...  \n",
       "85    0.126524    0.739757  0.076252  0.177214  0.746534  \n",
       "86    0.072574    0.798981  0.154970  0.058341  0.786689  \n",
       "87    0.177494    0.588286  0.208913  0.089557  0.701530  \n",
       "88    0.140194    0.783811  0.095407  0.182553  0.722040  \n",
       "89    0.111661    0.760664  0.097312  0.131821  0.770867  \n",
       "\n",
       "[90 rows x 68 columns]"
      ]
     },
     "execution_count": 32,
     "metadata": {},
     "output_type": "execute_result"
    }
   ],
   "source": [
    "pd.read_csv(\"gcs://wagon-data-750-btc-sent-fc/input_data/pred_31\")"
   ]
  },
  {
   "cell_type": "code",
   "execution_count": 38,
   "id": "4547ed59",
   "metadata": {},
   "outputs": [
    {
     "name": "stderr",
     "output_type": "stream",
     "text": [
      "2021-12-02 09:35:16.534383: W tensorflow/stream_executor/platform/default/dso_loader.cc:64] Could not load dynamic library 'libcudart.so.11.0'; dlerror: libcudart.so.11.0: cannot open shared object file: No such file or directory\n",
      "2021-12-02 09:35:16.534441: I tensorflow/stream_executor/cuda/cudart_stub.cc:29] Ignore above cudart dlerror if you do not have a GPU set up on your machine.\n",
      "2021-12-02 09:35:21.155403: W tensorflow/stream_executor/platform/default/dso_loader.cc:64] Could not load dynamic library 'libcuda.so.1'; dlerror: libcuda.so.1: cannot open shared object file: No such file or directory\n",
      "2021-12-02 09:35:21.156522: W tensorflow/stream_executor/cuda/cuda_driver.cc:269] failed call to cuInit: UNKNOWN ERROR (303)\n",
      "2021-12-02 09:35:21.156942: I tensorflow/stream_executor/cuda/cuda_diagnostics.cc:156] kernel driver does not appear to be running on this host (LAPTOP-K4F4HQ1V): /proc/driver/nvidia/version does not exist\n",
      "2021-12-02 09:35:21.162761: I tensorflow/core/platform/cpu_feature_guard.cc:151] This TensorFlow binary is optimized with oneAPI Deep Neural Network Library (oneDNN) to use the following CPU instructions in performance-critical operations:  AVX2 FMA\n",
      "To enable them in other operations, rebuild TensorFlow with the appropriate compiler flags.\n"
     ]
    }
   ],
   "source": [
    "fs = gcsfs.GCSFileSystem()\n",
    "with fs.open(\"gcs://wagon-data-750-btc-sent-fc/model/midnight_RNN_7_log_vol.joblib\") as f:\n",
    "    model = joblib.load(f)"
   ]
  },
  {
   "cell_type": "code",
   "execution_count": 39,
   "id": "252acf2d",
   "metadata": {},
   "outputs": [],
   "source": [
    "def predict(file_name, shape=(1, 90, 67)):\n",
    "    \"\"\"model_name is a string - \"model_name.joblib\"\n",
    "    date is also a string - in the format \"yyyy_mm_dd\"\n",
    "    shape is a 3 part tuple with the input dimensions of the model\"\"\"\n",
    "    X_pred = np.zeros((1, 90, 67))\n",
    "    X_df = pd.read_csv(\n",
    "        f\"gcs://wagon-data-750-btc-sent-fc/input_data/{file_name}\",\n",
    "        index_col=0,\n",
    "        parse_dates=True)\n",
    "    X_pred[0] = X_df\n",
    "    y_pred = model.predict_on_batch(X_pred)\n",
    "    return np.exp(y_pred[0][0])"
   ]
  },
  {
   "cell_type": "code",
   "execution_count": 40,
   "id": "dca85879",
   "metadata": {},
   "outputs": [
    {
     "data": {
      "text/plain": [
       "279477120.0"
      ]
     },
     "execution_count": 40,
     "metadata": {},
     "output_type": "execute_result"
    }
   ],
   "source": [
    "predict(\"pred_1\")"
   ]
  },
  {
   "cell_type": "code",
   "execution_count": 42,
   "id": "1a5028fe",
   "metadata": {},
   "outputs": [],
   "source": [
    "predictions = []\n",
    "for i in range(1, 32):\n",
    "    predictions.append(predict(file_name=f\"pred_{i}\"))"
   ]
  },
  {
   "cell_type": "code",
   "execution_count": 43,
   "id": "d195cb8e",
   "metadata": {},
   "outputs": [
    {
     "data": {
      "text/html": [
       "<div>\n",
       "<style scoped>\n",
       "    .dataframe tbody tr th:only-of-type {\n",
       "        vertical-align: middle;\n",
       "    }\n",
       "\n",
       "    .dataframe tbody tr th {\n",
       "        vertical-align: top;\n",
       "    }\n",
       "\n",
       "    .dataframe thead th {\n",
       "        text-align: right;\n",
       "    }\n",
       "</style>\n",
       "<table border=\"1\" class=\"dataframe\">\n",
       "  <thead>\n",
       "    <tr style=\"text-align: right;\">\n",
       "      <th></th>\n",
       "      <th>volume_actual</th>\n",
       "    </tr>\n",
       "  </thead>\n",
       "  <tbody>\n",
       "    <tr>\n",
       "      <th>2021-10-23</th>\n",
       "      <td>20.520776</td>\n",
       "    </tr>\n",
       "    <tr>\n",
       "      <th>2021-10-24</th>\n",
       "      <td>20.760000</td>\n",
       "    </tr>\n",
       "    <tr>\n",
       "      <th>2021-10-25</th>\n",
       "      <td>20.994315</td>\n",
       "    </tr>\n",
       "    <tr>\n",
       "      <th>2021-10-26</th>\n",
       "      <td>21.130547</td>\n",
       "    </tr>\n",
       "    <tr>\n",
       "      <th>2021-10-27</th>\n",
       "      <td>21.532224</td>\n",
       "    </tr>\n",
       "    <tr>\n",
       "      <th>2021-10-28</th>\n",
       "      <td>21.568967</td>\n",
       "    </tr>\n",
       "    <tr>\n",
       "      <th>2021-10-29</th>\n",
       "      <td>21.369372</td>\n",
       "    </tr>\n",
       "    <tr>\n",
       "      <th>2021-10-30</th>\n",
       "      <td>20.544738</td>\n",
       "    </tr>\n",
       "    <tr>\n",
       "      <th>2021-10-31</th>\n",
       "      <td>20.746329</td>\n",
       "    </tr>\n",
       "    <tr>\n",
       "      <th>2021-11-01</th>\n",
       "      <td>21.082902</td>\n",
       "    </tr>\n",
       "    <tr>\n",
       "      <th>2021-11-02</th>\n",
       "      <td>21.263230</td>\n",
       "    </tr>\n",
       "    <tr>\n",
       "      <th>2021-11-03</th>\n",
       "      <td>21.200586</td>\n",
       "    </tr>\n",
       "    <tr>\n",
       "      <th>2021-11-04</th>\n",
       "      <td>21.035060</td>\n",
       "    </tr>\n",
       "    <tr>\n",
       "      <th>2021-11-05</th>\n",
       "      <td>20.989137</td>\n",
       "    </tr>\n",
       "    <tr>\n",
       "      <th>2021-11-06</th>\n",
       "      <td>20.468622</td>\n",
       "    </tr>\n",
       "    <tr>\n",
       "      <th>2021-11-07</th>\n",
       "      <td>20.362599</td>\n",
       "    </tr>\n",
       "    <tr>\n",
       "      <th>2021-11-08</th>\n",
       "      <td>21.563808</td>\n",
       "    </tr>\n",
       "    <tr>\n",
       "      <th>2021-11-09</th>\n",
       "      <td>21.427676</td>\n",
       "    </tr>\n",
       "    <tr>\n",
       "      <th>2021-11-10</th>\n",
       "      <td>21.648851</td>\n",
       "    </tr>\n",
       "    <tr>\n",
       "      <th>2021-11-11</th>\n",
       "      <td>21.009192</td>\n",
       "    </tr>\n",
       "    <tr>\n",
       "      <th>2021-11-12</th>\n",
       "      <td>21.279761</td>\n",
       "    </tr>\n",
       "    <tr>\n",
       "      <th>2021-11-13</th>\n",
       "      <td>20.456623</td>\n",
       "    </tr>\n",
       "    <tr>\n",
       "      <th>2021-11-14</th>\n",
       "      <td>20.481062</td>\n",
       "    </tr>\n",
       "    <tr>\n",
       "      <th>2021-11-15</th>\n",
       "      <td>21.024351</td>\n",
       "    </tr>\n",
       "    <tr>\n",
       "      <th>2021-11-16</th>\n",
       "      <td>21.834192</td>\n",
       "    </tr>\n",
       "    <tr>\n",
       "      <th>2021-11-17</th>\n",
       "      <td>21.638166</td>\n",
       "    </tr>\n",
       "    <tr>\n",
       "      <th>2021-11-18</th>\n",
       "      <td>21.866546</td>\n",
       "    </tr>\n",
       "    <tr>\n",
       "      <th>2021-11-19</th>\n",
       "      <td>21.474563</td>\n",
       "    </tr>\n",
       "    <tr>\n",
       "      <th>2021-11-20</th>\n",
       "      <td>20.606285</td>\n",
       "    </tr>\n",
       "    <tr>\n",
       "      <th>2021-11-21</th>\n",
       "      <td>20.486826</td>\n",
       "    </tr>\n",
       "    <tr>\n",
       "      <th>2021-11-22</th>\n",
       "      <td>21.324143</td>\n",
       "    </tr>\n",
       "  </tbody>\n",
       "</table>\n",
       "</div>"
      ],
      "text/plain": [
       "            volume_actual\n",
       "2021-10-23      20.520776\n",
       "2021-10-24      20.760000\n",
       "2021-10-25      20.994315\n",
       "2021-10-26      21.130547\n",
       "2021-10-27      21.532224\n",
       "2021-10-28      21.568967\n",
       "2021-10-29      21.369372\n",
       "2021-10-30      20.544738\n",
       "2021-10-31      20.746329\n",
       "2021-11-01      21.082902\n",
       "2021-11-02      21.263230\n",
       "2021-11-03      21.200586\n",
       "2021-11-04      21.035060\n",
       "2021-11-05      20.989137\n",
       "2021-11-06      20.468622\n",
       "2021-11-07      20.362599\n",
       "2021-11-08      21.563808\n",
       "2021-11-09      21.427676\n",
       "2021-11-10      21.648851\n",
       "2021-11-11      21.009192\n",
       "2021-11-12      21.279761\n",
       "2021-11-13      20.456623\n",
       "2021-11-14      20.481062\n",
       "2021-11-15      21.024351\n",
       "2021-11-16      21.834192\n",
       "2021-11-17      21.638166\n",
       "2021-11-18      21.866546\n",
       "2021-11-19      21.474563\n",
       "2021-11-20      20.606285\n",
       "2021-11-21      20.486826\n",
       "2021-11-22      21.324143"
      ]
     },
     "execution_count": 43,
     "metadata": {},
     "output_type": "execute_result"
    }
   ],
   "source": []
  },
  {
   "cell_type": "code",
   "execution_count": 57,
   "id": "01d21254",
   "metadata": {},
   "outputs": [],
   "source": [
    "predict_placeholder[\"volume_pred\"] = predictions"
   ]
  },
  {
   "cell_type": "code",
   "execution_count": 58,
   "id": "33646b66",
   "metadata": {},
   "outputs": [
    {
     "data": {
      "text/plain": [
       "(31, 2)"
      ]
     },
     "execution_count": 58,
     "metadata": {},
     "output_type": "execute_result"
    }
   ],
   "source": [
    "predict_placeholder.shape"
   ]
  },
  {
   "cell_type": "code",
   "execution_count": 69,
   "id": "06b56d14",
   "metadata": {},
   "outputs": [],
   "source": [
    "predict_placeholder.to_csv(\n",
    "    \"gcs://wagon-data-750-btc-sent-fc/website_data/pred_12_02.csv\")"
   ]
  },
  {
   "cell_type": "code",
   "execution_count": 68,
   "id": "b76be366",
   "metadata": {},
   "outputs": [],
   "source": [
    "predict_placeholder[\"pred_norm\"] = (predict_placeholder[\"volume_pred\"] -\n",
    "        np.mean(predict_placeholder[\"volume_pred\"])) / np.std(\n",
    "            predict_placeholder[\"volume_pred\"])"
   ]
  },
  {
   "cell_type": "code",
   "execution_count": 67,
   "id": "a2aab359",
   "metadata": {},
   "outputs": [],
   "source": [
    "predict_placeholder[\"actual_norm\"] = (predict_placeholder[\"volume_actual\"] -\n",
    "          np.mean(predict_placeholder[\"volume_actual\"])) / np.std(\n",
    "              predict_placeholder[\"volume_actual\"])"
   ]
  },
  {
   "cell_type": "code",
   "execution_count": 61,
   "id": "6cb2ddd5",
   "metadata": {},
   "outputs": [
    {
     "data": {
      "image/png": "[encoded data removed]",
      "text/plain": [
       "<Figure size 432x288 with 1 Axes>"
      ]
     },
     "metadata": {
      "needs_background": "light"
     },
     "output_type": "display_data"
    }
   ],
   "source": [
    "plt.plot(predict_placeholder[\"volume_actual\"])\n",
    "plt.plot(predict_placeholder[\"volume_pred\"])\n",
    "plt.show()"
   ]
  },
  {
   "cell_type": "code",
   "execution_count": 70,
   "id": "15e0459c",
   "metadata": {},
   "outputs": [
    {
     "data": {
      "image/png": "[encoded data removed]",
      "text/plain": [
       "<Figure size 432x288 with 1 Axes>"
      ]
     },
     "metadata": {
      "needs_background": "light"
     },
     "output_type": "display_data"
    }
   ],
   "source": [
    "plt.plot(actual)\n",
    "plt.plot(pred)\n",
    "plt.show()"
   ]
  },
  {
   "cell_type": "code",
   "execution_count": null,
   "id": "29ff18fd",
   "metadata": {},
   "outputs": [],
   "source": []
  },
  {
   "cell_type": "code",
   "execution_count": null,
   "id": "2bdad70b",
   "metadata": {},
   "outputs": [],
   "source": []
  },
  {
   "cell_type": "markdown",
   "id": "358b6ccb",
   "metadata": {},
   "source": [
    "## Getting actual value for the 23rd"
   ]
  },
  {
   "cell_type": "code",
   "execution_count": 4,
   "id": "50c7e446",
   "metadata": {},
   "outputs": [],
   "source": [
    "real_volume = pd.read_csv(\"../raw_data/coinbase_2021_11.csv\")"
   ]
  },
  {
   "cell_type": "code",
   "execution_count": 5,
   "id": "14e54c69",
   "metadata": {},
   "outputs": [],
   "source": [
    "real_volume.set_index(\"time\", inplace=True)"
   ]
  },
  {
   "cell_type": "code",
   "execution_count": 6,
   "id": "288018be",
   "metadata": {},
   "outputs": [],
   "source": [
    "real_volume.index = pd.to_datetime(real_volume.index)"
   ]
  },
  {
   "cell_type": "code",
   "execution_count": 9,
   "id": "fd728047",
   "metadata": {},
   "outputs": [
    {
     "data": {
      "text/html": [
       "<div>\n",
       "<style scoped>\n",
       "    .dataframe tbody tr th:only-of-type {\n",
       "        vertical-align: middle;\n",
       "    }\n",
       "\n",
       "    .dataframe tbody tr th {\n",
       "        vertical-align: top;\n",
       "    }\n",
       "\n",
       "    .dataframe thead th {\n",
       "        text-align: right;\n",
       "    }\n",
       "</style>\n",
       "<table border=\"1\" class=\"dataframe\">\n",
       "  <thead>\n",
       "    <tr style=\"text-align: right;\">\n",
       "      <th></th>\n",
       "      <th>close</th>\n",
       "      <th>high</th>\n",
       "      <th>low</th>\n",
       "      <th>open</th>\n",
       "      <th>volumefrom</th>\n",
       "      <th>volumeto</th>\n",
       "      <th>conversionType</th>\n",
       "      <th>conversionSymbol</th>\n",
       "      <th>mean_price</th>\n",
       "      <th>volumefrom_USD</th>\n",
       "      <th>volume_net</th>\n",
       "      <th>volume_gross</th>\n",
       "    </tr>\n",
       "    <tr>\n",
       "      <th>time</th>\n",
       "      <th></th>\n",
       "      <th></th>\n",
       "      <th></th>\n",
       "      <th></th>\n",
       "      <th></th>\n",
       "      <th></th>\n",
       "      <th></th>\n",
       "      <th></th>\n",
       "      <th></th>\n",
       "      <th></th>\n",
       "      <th></th>\n",
       "      <th></th>\n",
       "    </tr>\n",
       "  </thead>\n",
       "  <tbody>\n",
       "    <tr>\n",
       "      <th>2021-11-27</th>\n",
       "      <td>54759.05</td>\n",
       "      <td>55316.67</td>\n",
       "      <td>53642.58</td>\n",
       "      <td>53757.67</td>\n",
       "      <td>7897.81</td>\n",
       "      <td>4.316102e+08</td>\n",
       "      <td>force_direct</td>\n",
       "      <td>NaN</td>\n",
       "      <td>54479.625</td>\n",
       "      <td>4.302697e+08</td>\n",
       "      <td>1.340459e+06</td>\n",
       "      <td>8.618799e+08</td>\n",
       "    </tr>\n",
       "    <tr>\n",
       "      <th>2021-11-28</th>\n",
       "      <td>57317.17</td>\n",
       "      <td>57490.00</td>\n",
       "      <td>53327.00</td>\n",
       "      <td>54759.05</td>\n",
       "      <td>8220.95</td>\n",
       "      <td>4.518309e+08</td>\n",
       "      <td>force_direct</td>\n",
       "      <td>NaN</td>\n",
       "      <td>55408.500</td>\n",
       "      <td>4.555105e+08</td>\n",
       "      <td>-3.679643e+06</td>\n",
       "      <td>9.073414e+08</td>\n",
       "    </tr>\n",
       "    <tr>\n",
       "      <th>2021-11-29</th>\n",
       "      <td>57838.06</td>\n",
       "      <td>58908.27</td>\n",
       "      <td>56730.00</td>\n",
       "      <td>57317.17</td>\n",
       "      <td>13450.66</td>\n",
       "      <td>7.762893e+08</td>\n",
       "      <td>force_direct</td>\n",
       "      <td>NaN</td>\n",
       "      <td>57819.135</td>\n",
       "      <td>7.777055e+08</td>\n",
       "      <td>-1.416266e+06</td>\n",
       "      <td>1.553995e+09</td>\n",
       "    </tr>\n",
       "    <tr>\n",
       "      <th>2021-11-30</th>\n",
       "      <td>56987.97</td>\n",
       "      <td>59249.77</td>\n",
       "      <td>55910.33</td>\n",
       "      <td>57838.06</td>\n",
       "      <td>18034.28</td>\n",
       "      <td>1.036531e+09</td>\n",
       "      <td>force_direct</td>\n",
       "      <td>NaN</td>\n",
       "      <td>57580.050</td>\n",
       "      <td>1.038415e+09</td>\n",
       "      <td>-1.883843e+06</td>\n",
       "      <td>2.074946e+09</td>\n",
       "    </tr>\n",
       "    <tr>\n",
       "      <th>2021-12-01</th>\n",
       "      <td>58476.44</td>\n",
       "      <td>58602.95</td>\n",
       "      <td>56700.00</td>\n",
       "      <td>56987.97</td>\n",
       "      <td>8886.77</td>\n",
       "      <td>5.086704e+08</td>\n",
       "      <td>force_direct</td>\n",
       "      <td>NaN</td>\n",
       "      <td>57651.475</td>\n",
       "      <td>5.123354e+08</td>\n",
       "      <td>-3.664970e+06</td>\n",
       "      <td>1.021006e+09</td>\n",
       "    </tr>\n",
       "  </tbody>\n",
       "</table>\n",
       "</div>"
      ],
      "text/plain": [
       "               close      high       low      open  volumefrom      volumeto  \\\n",
       "time                                                                           \n",
       "2021-11-27  54759.05  55316.67  53642.58  53757.67     7897.81  4.316102e+08   \n",
       "2021-11-28  57317.17  57490.00  53327.00  54759.05     8220.95  4.518309e+08   \n",
       "2021-11-29  57838.06  58908.27  56730.00  57317.17    13450.66  7.762893e+08   \n",
       "2021-11-30  56987.97  59249.77  55910.33  57838.06    18034.28  1.036531e+09   \n",
       "2021-12-01  58476.44  58602.95  56700.00  56987.97     8886.77  5.086704e+08   \n",
       "\n",
       "           conversionType  conversionSymbol  mean_price  volumefrom_USD  \\\n",
       "time                                                                      \n",
       "2021-11-27   force_direct               NaN   54479.625    4.302697e+08   \n",
       "2021-11-28   force_direct               NaN   55408.500    4.555105e+08   \n",
       "2021-11-29   force_direct               NaN   57819.135    7.777055e+08   \n",
       "2021-11-30   force_direct               NaN   57580.050    1.038415e+09   \n",
       "2021-12-01   force_direct               NaN   57651.475    5.123354e+08   \n",
       "\n",
       "              volume_net  volume_gross  \n",
       "time                                    \n",
       "2021-11-27  1.340459e+06  8.618799e+08  \n",
       "2021-11-28 -3.679643e+06  9.073414e+08  \n",
       "2021-11-29 -1.416266e+06  1.553995e+09  \n",
       "2021-11-30 -1.883843e+06  2.074946e+09  \n",
       "2021-12-01 -3.664970e+06  1.021006e+09  "
      ]
     },
     "execution_count": 9,
     "metadata": {},
     "output_type": "execute_result"
    }
   ],
   "source": [
    "real_volume.tail()"
   ]
  },
  {
   "cell_type": "code",
   "execution_count": 57,
   "id": "ddb8d3d2",
   "metadata": {},
   "outputs": [
    {
     "data": {
      "text/plain": [
       "1823717234.0226"
      ]
     },
     "execution_count": 57,
     "metadata": {},
     "output_type": "execute_result"
    }
   ],
   "source": [
    "real_volume.loc[dt.datetime(2021, 11, 22)][\"volume_gross\"]"
   ]
  },
  {
   "cell_type": "markdown",
   "id": "4d964e5b",
   "metadata": {},
   "source": [
    "# Text-box stuff"
   ]
  },
  {
   "cell_type": "code",
   "execution_count": null,
   "id": "542c38cd",
   "metadata": {},
   "outputs": [],
   "source": [
    "tweet_df = pd.read_csv(\n",
    "    \"gs://wagon-data-750-btc-sent-fc/tweet_data/inflation_2021-11-22T00:00:00.000Z\"\n",
    ")"
   ]
  },
  {
   "cell_type": "code",
   "execution_count": null,
   "id": "a1c8712d",
   "metadata": {},
   "outputs": [],
   "source": [
    "inflation_tweet_text = tweet_df[\"clean_tweet\"]"
   ]
  },
  {
   "cell_type": "code",
   "execution_count": null,
   "id": "d561204e",
   "metadata": {},
   "outputs": [],
   "source": [
    "inflation_tweet_text[2]"
   ]
  },
  {
   "cell_type": "code",
   "execution_count": null,
   "id": "59fb49c5",
   "metadata": {},
   "outputs": [],
   "source": [
    "len(inflation_tweet_text)"
   ]
  },
  {
   "cell_type": "code",
   "execution_count": null,
   "id": "fa90c1ce",
   "metadata": {},
   "outputs": [],
   "source": [
    "crypto_reddit_df = pd.read_csv(\n",
    "    \"gs://wagon-data-750-btc-sent-fc/raw_data/crypto_reddit.csv\")\n",
    "crypto_reddit_df[\"date\"] = pd.to_datetime(crypto_reddit_df[\"date\"])"
   ]
  },
  {
   "cell_type": "code",
   "execution_count": null,
   "id": "e16b2de4",
   "metadata": {},
   "outputs": [],
   "source": [
    "crypto_reddit_df[crypto_reddit_df[\"date\"] > dt.datetime(2021, 11, 22)][\"title\"]"
   ]
  },
  {
   "cell_type": "code",
   "execution_count": null,
   "id": "3880be5e",
   "metadata": {},
   "outputs": [],
   "source": [
    "crypto_reddit_text = crypto_reddit_df[\n",
    "    crypto_reddit_df[\"date\"] > dt.datetime(2021, 11, 22)][\"title\"]\n",
    "len(crypto_reddit_text)"
   ]
  },
  {
   "cell_type": "code",
   "execution_count": null,
   "id": "633d2709",
   "metadata": {},
   "outputs": [],
   "source": [
    "econ_reddit_df = pd.read_csv(\n",
    "    \"gcs://wagon-data-750-btc-sent-fc/raw_data/reddit_econ_prelim.csv\")"
   ]
  },
  {
   "cell_type": "code",
   "execution_count": null,
   "id": "581a1cb2",
   "metadata": {},
   "outputs": [],
   "source": [
    "econ_reddit_df[\"date\"] = econ_reddit_df[\"date\"].map(to_readable_datetime)"
   ]
  },
  {
   "cell_type": "code",
   "execution_count": null,
   "id": "e9ce8b27",
   "metadata": {},
   "outputs": [],
   "source": [
    "econ_reddit_df[\"date\"] = pd.to_datetime(econ_reddit_df[\"date\"])"
   ]
  },
  {
   "cell_type": "code",
   "execution_count": null,
   "id": "952354ca",
   "metadata": {},
   "outputs": [],
   "source": [
    "econ_reddit_text = econ_reddit_df[\n",
    "    econ_reddit_df[\"date\"] > dt.datetime(2021, 11, 22)][\"title\"]"
   ]
  },
  {
   "cell_type": "code",
   "execution_count": null,
   "id": "afbb91c9",
   "metadata": {},
   "outputs": [],
   "source": [
    "len(econ_reddit_text)"
   ]
  },
  {
   "cell_type": "code",
   "execution_count": null,
   "id": "d284b742",
   "metadata": {},
   "outputs": [],
   "source": [
    "econ_reddit_text[1]"
   ]
  },
  {
   "cell_type": "code",
   "execution_count": null,
   "id": "02d0aabb",
   "metadata": {},
   "outputs": [],
   "source": [
    "text_string = \" \".join(i for i in econ_reddit_text)"
   ]
  },
  {
   "cell_type": "code",
   "execution_count": null,
   "id": "04cab2b6",
   "metadata": {},
   "outputs": [],
   "source": [
    "len(text_string)"
   ]
  },
  {
   "cell_type": "code",
   "execution_count": null,
   "id": "2b1ee587",
   "metadata": {},
   "outputs": [],
   "source": [
    "text_string_1 = \" \".join(i for i in crypto_reddit_text)"
   ]
  },
  {
   "cell_type": "code",
   "execution_count": null,
   "id": "c9268099",
   "metadata": {},
   "outputs": [],
   "source": [
    "len(text_string_1)"
   ]
  },
  {
   "cell_type": "code",
   "execution_count": null,
   "id": "c3cde732",
   "metadata": {},
   "outputs": [],
   "source": [
    "text_string_3 = \" \".join(i for i in inflation_tweet_text)"
   ]
  },
  {
   "cell_type": "code",
   "execution_count": null,
   "id": "14dfd748",
   "metadata": {},
   "outputs": [],
   "source": [
    "len(text_string_3)"
   ]
  },
  {
   "cell_type": "code",
   "execution_count": null,
   "id": "fa32ea19",
   "metadata": {},
   "outputs": [],
   "source": [
    "text_string_4 = text_string_1 + text_string_3 + text_string"
   ]
  },
  {
   "cell_type": "code",
   "execution_count": null,
   "id": "e225f3a5",
   "metadata": {},
   "outputs": [],
   "source": [
    "len(text_string_4)"
   ]
  },
  {
   "cell_type": "code",
   "execution_count": null,
   "id": "15f930c3",
   "metadata": {},
   "outputs": [],
   "source": [
    "text_string_4"
   ]
  },
  {
   "cell_type": "code",
   "execution_count": null,
   "id": "80034c23",
   "metadata": {},
   "outputs": [],
   "source": [
    "text_list = text_string_4.split()"
   ]
  },
  {
   "cell_type": "code",
   "execution_count": null,
   "id": "7ecc594b",
   "metadata": {},
   "outputs": [],
   "source": [
    "text_list"
   ]
  },
  {
   "cell_type": "code",
   "execution_count": null,
   "id": "99bb9aa7",
   "metadata": {},
   "outputs": [],
   "source": [
    "60 * 163"
   ]
  },
  {
   "cell_type": "code",
   "execution_count": null,
   "id": "efa7eaf9",
   "metadata": {},
   "outputs": [],
   "source": [
    "out_string = \", \".join(text_list)"
   ]
  },
  {
   "cell_type": "code",
   "execution_count": null,
   "id": "a2aa2fa5",
   "metadata": {},
   "outputs": [],
   "source": [
    "out_string[3]"
   ]
  },
  {
   "cell_type": "code",
   "execution_count": null,
   "id": "2600404e",
   "metadata": {},
   "outputs": [],
   "source": [
    "fs = gcsfs.GCSFileSystem()\n",
    "with fs.open(\n",
    "        'wagon-data-750-btc-sent-fc/website_data/word_text_2021_11_22.txt',\n",
    "        \"w\") as f:\n",
    "    f.write(out_string)"
   ]
  },
  {
   "cell_type": "code",
   "execution_count": null,
   "id": "df776a80",
   "metadata": {},
   "outputs": [],
   "source": [
    "from collections import Counter"
   ]
  },
  {
   "cell_type": "code",
   "execution_count": null,
   "id": "d43b5862",
   "metadata": {},
   "outputs": [],
   "source": [
    "l_sorted = Counter(text_list).most_common()"
   ]
  },
  {
   "cell_type": "code",
   "execution_count": null,
   "id": "e8da2613",
   "metadata": {},
   "outputs": [],
   "source": [
    "l_sorted"
   ]
  },
  {
   "cell_type": "code",
   "execution_count": null,
   "id": "76c1570a",
   "metadata": {},
   "outputs": [],
   "source": [
    "with fs.open(\n",
    "        'wagon-data-750-btc-sent-fc/website_data/word_text_2021_11_22.txt',\n",
    "        \"rb\") as f:\n",
    "    in_string = f.read().decode()"
   ]
  },
  {
   "cell_type": "code",
   "execution_count": null,
   "id": "9304a485",
   "metadata": {},
   "outputs": [],
   "source": [
    "import string"
   ]
  },
  {
   "cell_type": "code",
   "execution_count": null,
   "id": "1b8adfbe",
   "metadata": {},
   "outputs": [],
   "source": [
    "in_string[3]"
   ]
  },
  {
   "cell_type": "markdown",
   "id": "c493e5c2",
   "metadata": {},
   "source": [
    "# BTC DATA"
   ]
  },
  {
   "cell_type": "code",
   "execution_count": null,
   "id": "912f4fcc",
   "metadata": {},
   "outputs": [],
   "source": [
    "bitcoin_list = [\n",
    "    'n-transactions-per-block', 'difficulty', 'utxo-count', 'mvrv', 'nvt',\n",
    "    'avg-block-size', 'n-transactions-excluding-popular', 'n-unique-addresses',\n",
    "    'median-confirmation-time', 'miners-revenue', 'mempool-growth',\n",
    "    'mempool-size', 'blocks-size', 'hash-rate', 'n-transactions-total',\n",
    "    'avg-confirmation-time', 'nvts', 'transaction-fees-usd', 'active_account'\n",
    "]"
   ]
  },
  {
   "cell_type": "code",
   "execution_count": null,
   "id": "4ade48ba",
   "metadata": {},
   "outputs": [],
   "source": [
    "bitcoin_list"
   ]
  },
  {
   "cell_type": "markdown",
   "id": "1b4ac6b9",
   "metadata": {},
   "source": [
    "## Glassnode?"
   ]
  },
  {
   "cell_type": "code",
   "execution_count": null,
   "id": "66b2f9f2",
   "metadata": {},
   "outputs": [],
   "source": [
    "glassnode_url = \"https://api.glassnode.com/v2/metrics\""
   ]
  },
  {
   "cell_type": "code",
   "execution_count": null,
   "id": "6c185396",
   "metadata": {},
   "outputs": [],
   "source": [
    "active_account = \"addresses/active_count\""
   ]
  },
  {
   "cell_type": "code",
   "execution_count": null,
   "id": "9412f293",
   "metadata": {},
   "outputs": [],
   "source": [
    "import tensorflow as tf"
   ]
  },
  {
   "cell_type": "code",
   "execution_count": null,
   "id": "82171719",
   "metadata": {},
   "outputs": [],
   "source": []
  },
  {
   "cell_type": "code",
   "execution_count": null,
   "id": "168bb2ea",
   "metadata": {},
   "outputs": [],
   "source": [
    "loaded_model = joblib.load(\n",
    "    tf.io.gfile.GFile(\n",
    "        \"gs://wagon-data-750-btc-sent-fc/model/finbert_token.joblib\", \"rb\"))"
   ]
  },
  {
   "cell_type": "code",
   "execution_count": null,
   "id": "29a00da5",
   "metadata": {},
   "outputs": [],
   "source": [
    "loaded_model"
   ]
  },
  {
   "cell_type": "code",
   "execution_count": null,
   "id": "da85a451",
   "metadata": {},
   "outputs": [],
   "source": [
    "fs = gcsfs.GCSFileSystem()\n",
    "with fs.open('wagon-data-750-btc-sent-fc/model/finbert_token.joblib') as f:\n",
    "    model = joblib.load(f)"
   ]
  },
  {
   "cell_type": "code",
   "execution_count": null,
   "id": "a8e40477",
   "metadata": {},
   "outputs": [],
   "source": [
    "model"
   ]
  },
  {
   "cell_type": "code",
   "execution_count": null,
   "id": "ccdee386",
   "metadata": {},
   "outputs": [],
   "source": []
  },
  {
   "cell_type": "code",
   "execution_count": null,
   "id": "23f22849",
   "metadata": {},
   "outputs": [],
   "source": []
  },
  {
   "cell_type": "code",
   "execution_count": null,
   "id": "0bd5c222",
   "metadata": {},
   "outputs": [],
   "source": []
  },
  {
   "cell_type": "code",
   "execution_count": null,
   "id": "767e0d3e",
   "metadata": {},
   "outputs": [],
   "source": []
  },
  {
   "cell_type": "code",
   "execution_count": null,
   "id": "68e51cce",
   "metadata": {},
   "outputs": [],
   "source": [
    "pd.read_csv(\"gs://wagon-data-750-btc-sent-fc/input_data/test_2021_11_22.csv\")"
   ]
  }
 ],
 "metadata": {
  "kernelspec": {
   "display_name": "Python 3 (ipykernel)",
   "language": "python",
   "name": "python3"
  },
  "language_info": {
   "codemirror_mode": {
    "name": "ipython",
    "version": 3
   },
   "file_extension": ".py",
   "mimetype": "text/x-python",
   "name": "python",
   "nbconvert_exporter": "python",
   "pygments_lexer": "ipython3",
   "version": "3.8.12"
  },
  "toc": {
   "base_numbering": 1,
   "nav_menu": {},
   "number_sections": true,
   "sideBar": true,
   "skip_h1_title": false,
   "title_cell": "Table of Contents",
   "title_sidebar": "Contents",
   "toc_cell": false,
   "toc_position": {},
   "toc_section_display": true,
   "toc_window_display": false
  },
  "varInspector": {
   "cols": {
    "lenName": 16,
    "lenType": 16,
    "lenVar": 40
   },
   "kernels_config": {
    "python": {
     "delete_cmd_postfix": "",
     "delete_cmd_prefix": "del ",
     "library": "var_list.py",
     "varRefreshCmd": "print(var_dic_list())"
    },
    "r": {
     "delete_cmd_postfix": ") ",
     "delete_cmd_prefix": "rm(",
     "library": "var_list.r",
     "varRefreshCmd": "cat(var_dic_list()) "
    }
   },
   "types_to_exclude": [
    "module",
    "function",
    "builtin_function_or_method",
    "instance",
    "_Feature"
   ],
   "window_display": false
  }
 },
 "nbformat": 4,
 "nbformat_minor": 5
}
