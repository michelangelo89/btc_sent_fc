{
 "cells": [
  {
   "cell_type": "markdown",
   "id": "78765afa",
   "metadata": {},
   "source": [
    "# Streaming Data"
   ]
  },
  {
   "cell_type": "code",
   "execution_count": 1,
   "id": "32d7d353",
   "metadata": {},
   "outputs": [],
   "source": [
    "%load_ext autoreload"
   ]
  },
  {
   "cell_type": "code",
   "execution_count": 2,
   "id": "bc7c578f",
   "metadata": {},
   "outputs": [],
   "source": [
    "import requests\n",
    "import numpy as np\n",
    "import pandas as pd\n",
    "import gcsfs\n",
    "import joblib\n",
    "from google.cloud import storage\n",
    "import datetime as dt\n",
    "import matplotlib.pyplot as plt\n",
    "import dill"
   ]
  },
  {
   "cell_type": "code",
   "execution_count": 3,
   "id": "b55d6b0d",
   "metadata": {},
   "outputs": [],
   "source": [
    "def to_readable_datetime(x):\n",
    "    from datetime import datetime\n",
    "    return datetime.utcfromtimestamp(x).strftime('%Y-%m-%d %H:%M:%S')"
   ]
  },
  {
   "cell_type": "code",
   "execution_count": 10,
   "id": "b93f0083",
   "metadata": {},
   "outputs": [],
   "source": [
    "df = pd.read_csv(\"gcs://wagon-data-750-btc-sent-fc/input_data/input_data_1.csv\",\n",
    "                 index_col=0,\n",
    "                 parse_dates=True)"
   ]
  },
  {
   "cell_type": "code",
   "execution_count": 12,
   "id": "ba6530f8",
   "metadata": {},
   "outputs": [
    {
     "data": {
      "text/html": [
       "<div>\n",
       "<style scoped>\n",
       "    .dataframe tbody tr th:only-of-type {\n",
       "        vertical-align: middle;\n",
       "    }\n",
       "\n",
       "    .dataframe tbody tr th {\n",
       "        vertical-align: top;\n",
       "    }\n",
       "\n",
       "    .dataframe thead th {\n",
       "        text-align: right;\n",
       "    }\n",
       "</style>\n",
       "<table border=\"1\" class=\"dataframe\">\n",
       "  <thead>\n",
       "    <tr style=\"text-align: right;\">\n",
       "      <th></th>\n",
       "      <th>n-transactions-per-block</th>\n",
       "      <th>difficulty</th>\n",
       "      <th>utxo-count</th>\n",
       "      <th>mvrv</th>\n",
       "      <th>nvt</th>\n",
       "      <th>avg-block-size</th>\n",
       "      <th>n-transactions-excluding-popular</th>\n",
       "      <th>n-unique-addresses</th>\n",
       "      <th>median-confirmation-time</th>\n",
       "      <th>miners-revenue</th>\n",
       "      <th>...</th>\n",
       "      <th>tweets_sent</th>\n",
       "      <th>reddit_crypto_sent</th>\n",
       "      <th>reddit_econ_sent</th>\n",
       "      <th>volume_gross</th>\n",
       "      <th>crypto_pos</th>\n",
       "      <th>crypto_neg</th>\n",
       "      <th>crypto_neu</th>\n",
       "      <th>econ_pos</th>\n",
       "      <th>econ_neg</th>\n",
       "      <th>econ_neu</th>\n",
       "    </tr>\n",
       "  </thead>\n",
       "  <tbody>\n",
       "    <tr>\n",
       "      <th>2021-11-18</th>\n",
       "      <td>2054.611695</td>\n",
       "      <td>2.267415e+13</td>\n",
       "      <td>7.682603e+07</td>\n",
       "      <td>2.437422</td>\n",
       "      <td>2.814664</td>\n",
       "      <td>1.270386</td>\n",
       "      <td>275592.333333</td>\n",
       "      <td>725020.000000</td>\n",
       "      <td>7.297222</td>\n",
       "      <td>5.265043e+07</td>\n",
       "      <td>...</td>\n",
       "      <td>-0.191667</td>\n",
       "      <td>0.129760</td>\n",
       "      <td>0.164820</td>\n",
       "      <td>3.137042e+09</td>\n",
       "      <td>0.145112</td>\n",
       "      <td>0.081628</td>\n",
       "      <td>0.773259</td>\n",
       "      <td>0.130400</td>\n",
       "      <td>0.148810</td>\n",
       "      <td>0.720790</td>\n",
       "    </tr>\n",
       "    <tr>\n",
       "      <th>2021-11-19</th>\n",
       "      <td>2078.240876</td>\n",
       "      <td>2.267415e+13</td>\n",
       "      <td>7.692242e+07</td>\n",
       "      <td>2.423386</td>\n",
       "      <td>3.531133</td>\n",
       "      <td>1.275837</td>\n",
       "      <td>262180.666667</td>\n",
       "      <td>678741.666667</td>\n",
       "      <td>7.027778</td>\n",
       "      <td>4.966713e+07</td>\n",
       "      <td>...</td>\n",
       "      <td>0.155357</td>\n",
       "      <td>0.058168</td>\n",
       "      <td>0.069516</td>\n",
       "      <td>2.119749e+09</td>\n",
       "      <td>0.085474</td>\n",
       "      <td>0.135326</td>\n",
       "      <td>0.779201</td>\n",
       "      <td>0.125548</td>\n",
       "      <td>0.184152</td>\n",
       "      <td>0.690301</td>\n",
       "    </tr>\n",
       "    <tr>\n",
       "      <th>2021-11-20</th>\n",
       "      <td>2078.240876</td>\n",
       "      <td>2.267415e+13</td>\n",
       "      <td>7.701882e+07</td>\n",
       "      <td>2.409351</td>\n",
       "      <td>4.247603</td>\n",
       "      <td>1.275837</td>\n",
       "      <td>248769.000000</td>\n",
       "      <td>632463.333333</td>\n",
       "      <td>6.758333</td>\n",
       "      <td>4.966713e+07</td>\n",
       "      <td>...</td>\n",
       "      <td>0.466667</td>\n",
       "      <td>0.083604</td>\n",
       "      <td>0.014180</td>\n",
       "      <td>8.896024e+08</td>\n",
       "      <td>0.085734</td>\n",
       "      <td>0.178020</td>\n",
       "      <td>0.736247</td>\n",
       "      <td>0.127368</td>\n",
       "      <td>0.070532</td>\n",
       "      <td>0.802100</td>\n",
       "    </tr>\n",
       "    <tr>\n",
       "      <th>2021-11-21</th>\n",
       "      <td>2078.240876</td>\n",
       "      <td>2.267415e+13</td>\n",
       "      <td>7.711521e+07</td>\n",
       "      <td>2.409351</td>\n",
       "      <td>4.247603</td>\n",
       "      <td>1.275837</td>\n",
       "      <td>248769.000000</td>\n",
       "      <td>586185.000000</td>\n",
       "      <td>6.758333</td>\n",
       "      <td>4.966713e+07</td>\n",
       "      <td>...</td>\n",
       "      <td>-0.022500</td>\n",
       "      <td>0.173188</td>\n",
       "      <td>0.206028</td>\n",
       "      <td>7.894335e+08</td>\n",
       "      <td>0.203692</td>\n",
       "      <td>0.095910</td>\n",
       "      <td>0.700399</td>\n",
       "      <td>0.195318</td>\n",
       "      <td>0.055419</td>\n",
       "      <td>0.749263</td>\n",
       "    </tr>\n",
       "    <tr>\n",
       "      <th>2021-11-22</th>\n",
       "      <td>2078.240876</td>\n",
       "      <td>2.267415e+13</td>\n",
       "      <td>7.711521e+07</td>\n",
       "      <td>2.409351</td>\n",
       "      <td>4.247603</td>\n",
       "      <td>1.275837</td>\n",
       "      <td>248769.000000</td>\n",
       "      <td>586185.000000</td>\n",
       "      <td>6.758333</td>\n",
       "      <td>4.966713e+07</td>\n",
       "      <td>...</td>\n",
       "      <td>0.235000</td>\n",
       "      <td>0.159344</td>\n",
       "      <td>0.069456</td>\n",
       "      <td>1.823717e+09</td>\n",
       "      <td>0.103129</td>\n",
       "      <td>0.098261</td>\n",
       "      <td>0.798611</td>\n",
       "      <td>0.140787</td>\n",
       "      <td>0.260983</td>\n",
       "      <td>0.598230</td>\n",
       "    </tr>\n",
       "  </tbody>\n",
       "</table>\n",
       "<p>5 rows × 67 columns</p>\n",
       "</div>"
      ],
      "text/plain": [
       "            n-transactions-per-block    difficulty    utxo-count      mvrv  \\\n",
       "2021-11-18               2054.611695  2.267415e+13  7.682603e+07  2.437422   \n",
       "2021-11-19               2078.240876  2.267415e+13  7.692242e+07  2.423386   \n",
       "2021-11-20               2078.240876  2.267415e+13  7.701882e+07  2.409351   \n",
       "2021-11-21               2078.240876  2.267415e+13  7.711521e+07  2.409351   \n",
       "2021-11-22               2078.240876  2.267415e+13  7.711521e+07  2.409351   \n",
       "\n",
       "                 nvt  avg-block-size  n-transactions-excluding-popular  \\\n",
       "2021-11-18  2.814664        1.270386                     275592.333333   \n",
       "2021-11-19  3.531133        1.275837                     262180.666667   \n",
       "2021-11-20  4.247603        1.275837                     248769.000000   \n",
       "2021-11-21  4.247603        1.275837                     248769.000000   \n",
       "2021-11-22  4.247603        1.275837                     248769.000000   \n",
       "\n",
       "            n-unique-addresses  median-confirmation-time  miners-revenue  ...  \\\n",
       "2021-11-18       725020.000000                  7.297222    5.265043e+07  ...   \n",
       "2021-11-19       678741.666667                  7.027778    4.966713e+07  ...   \n",
       "2021-11-20       632463.333333                  6.758333    4.966713e+07  ...   \n",
       "2021-11-21       586185.000000                  6.758333    4.966713e+07  ...   \n",
       "2021-11-22       586185.000000                  6.758333    4.966713e+07  ...   \n",
       "\n",
       "            tweets_sent  reddit_crypto_sent  reddit_econ_sent  volume_gross  \\\n",
       "2021-11-18    -0.191667            0.129760          0.164820  3.137042e+09   \n",
       "2021-11-19     0.155357            0.058168          0.069516  2.119749e+09   \n",
       "2021-11-20     0.466667            0.083604          0.014180  8.896024e+08   \n",
       "2021-11-21    -0.022500            0.173188          0.206028  7.894335e+08   \n",
       "2021-11-22     0.235000            0.159344          0.069456  1.823717e+09   \n",
       "\n",
       "            crypto_pos  crypto_neg  crypto_neu  econ_pos  econ_neg  econ_neu  \n",
       "2021-11-18    0.145112    0.081628    0.773259  0.130400  0.148810  0.720790  \n",
       "2021-11-19    0.085474    0.135326    0.779201  0.125548  0.184152  0.690301  \n",
       "2021-11-20    0.085734    0.178020    0.736247  0.127368  0.070532  0.802100  \n",
       "2021-11-21    0.203692    0.095910    0.700399  0.195318  0.055419  0.749263  \n",
       "2021-11-22    0.103129    0.098261    0.798611  0.140787  0.260983  0.598230  \n",
       "\n",
       "[5 rows x 67 columns]"
      ]
     },
     "execution_count": 12,
     "metadata": {},
     "output_type": "execute_result"
    }
   ],
   "source": [
    "df.tail()"
   ]
  },
  {
   "cell_type": "markdown",
   "id": "8c911bb8",
   "metadata": {},
   "source": [
    "# NLP samples"
   ]
  },
  {
   "cell_type": "code",
   "execution_count": 185,
   "id": "a9d1431a",
   "metadata": {},
   "outputs": [],
   "source": [
    "storage_client = storage.Client()\n",
    "\n",
    "# Note: Client.list_blobs requires at least package version 1.17.0.\n",
    "blobs = storage_client.list_blobs(\"wagon-data-750-btc-sent-fc\",\n",
    "                                  prefix=f\"sent_data/tweet_inflation\")\n",
    "blob_list = [blob.name for blob in blobs]\n",
    "blob_list.sort()"
   ]
  },
  {
   "cell_type": "code",
   "execution_count": 210,
   "id": "04c19d2d",
   "metadata": {},
   "outputs": [],
   "source": [
    "out_df = pd.DataFrame()"
   ]
  },
  {
   "cell_type": "code",
   "execution_count": 193,
   "id": "dcab1ba9",
   "metadata": {},
   "outputs": [
    {
     "data": {
      "text/plain": [
       "'sent_data/tweet_inflation_2021-11-22T00:00:00.000Z_20.csv'"
      ]
     },
     "execution_count": 193,
     "metadata": {},
     "output_type": "execute_result"
    }
   ],
   "source": [
    "blob_list[-45]"
   ]
  },
  {
   "cell_type": "code",
   "execution_count": 194,
   "id": "3e23c4e4",
   "metadata": {},
   "outputs": [],
   "source": [
    "temp_df = pd.read_csv(f\"gcs://wagon-data-750-btc-sent-fc/{blob_list[-45]}\",\n",
    "                          index_col=0,\n",
    "                          parse_dates=True)"
   ]
  },
  {
   "cell_type": "code",
   "execution_count": 209,
   "id": "dd4108e1",
   "metadata": {},
   "outputs": [
    {
     "data": {
      "text/html": [
       "<div>\n",
       "<style scoped>\n",
       "    .dataframe tbody tr th:only-of-type {\n",
       "        vertical-align: middle;\n",
       "    }\n",
       "\n",
       "    .dataframe tbody tr th {\n",
       "        vertical-align: top;\n",
       "    }\n",
       "\n",
       "    .dataframe thead th {\n",
       "        text-align: right;\n",
       "    }\n",
       "</style>\n",
       "<table border=\"1\" class=\"dataframe\">\n",
       "  <thead>\n",
       "    <tr style=\"text-align: right;\">\n",
       "      <th></th>\n",
       "      <th>date</th>\n",
       "      <th>text</th>\n",
       "      <th>positive</th>\n",
       "      <th>negative</th>\n",
       "      <th>neutral</th>\n",
       "    </tr>\n",
       "  </thead>\n",
       "  <tbody>\n",
       "    <tr>\n",
       "      <th>6</th>\n",
       "      <td>2021-11-21T00:00:00.000Z</td>\n",
       "      <td>we are in a recession</td>\n",
       "      <td>0.030475</td>\n",
       "      <td>0.73442</td>\n",
       "      <td>0.235105</td>\n",
       "    </tr>\n",
       "  </tbody>\n",
       "</table>\n",
       "</div>"
      ],
      "text/plain": [
       "                       date                    text  positive  negative  \\\n",
       "6  2021-11-21T00:00:00.000Z   we are in a recession  0.030475   0.73442   \n",
       "\n",
       "    neutral  \n",
       "6  0.235105  "
      ]
     },
     "execution_count": 209,
     "metadata": {},
     "output_type": "execute_result"
    }
   ],
   "source": [
    "temp_df.iloc[[6]]"
   ]
  },
  {
   "cell_type": "code",
   "execution_count": null,
   "id": "d816612f",
   "metadata": {},
   "outputs": [],
   "source": [
    "tweet"
   ]
  },
  {
   "cell_type": "code",
   "execution_count": 373,
   "id": "be48e91f",
   "metadata": {},
   "outputs": [],
   "source": [
    "text_list = [\"BOOM President Biden attacks inflation crisis by freeing up gridlocked ports in Los Angeles! CEO of Walmart 'I would like to give the administration credit for helping get the ports open 24 hours a day RT if you would like to THANK @JoeBiden too\",\n",
    "            \"The U.S. Dollar is a shitcoin!!!!\"]"
   ]
  },
  {
   "cell_type": "code",
   "execution_count": 377,
   "id": "9bfb4e98",
   "metadata": {},
   "outputs": [
    {
     "data": {
      "text/plain": [
       "Unnamed: 0                                   4\n",
       "date                       2021-11-22 02:30:01\n",
       "text          The U.S. dollar is a shitcoin!!!\n",
       "positive                              0.018965\n",
       "negative                              0.874369\n",
       "neutral                               0.106666\n",
       "Name: 4, dtype: object"
      ]
     },
     "execution_count": 377,
     "metadata": {},
     "output_type": "execute_result"
    }
   ],
   "source": [
    "pd.read_csv(\"gcs://wagon-data-750-btc-sent-fc/sent_data/bert_test_0.csv\").loc[4]"
   ]
  },
  {
   "cell_type": "markdown",
   "id": "f48771ba",
   "metadata": {},
   "source": [
    "text          The U.S. dollar is a shitcoin!!!\n",
    "positive                              0.018965\n",
    "negative                              0.874369\n",
    "neutral                               0.106666"
   ]
  },
  {
   "cell_type": "code",
   "execution_count": 353,
   "id": "e45293f4",
   "metadata": {},
   "outputs": [
    {
     "name": "stdout",
     "output_type": "stream",
     "text": [
      "Object `bert` not found.\n"
     ]
    }
   ],
   "source": [
    "url = https://cloudsentiment-gijujv7fiq-ew.a.run.app/bert?"
   ]
  },
  {
   "cell_type": "code",
   "execution_count": 370,
   "id": "353b2080",
   "metadata": {},
   "outputs": [],
   "source": [
    "url = \"https://cloudsentiment-gijujv7fiq-ew.a.run.app/bert\""
   ]
  },
  {
   "cell_type": "code",
   "execution_count": 366,
   "id": "56d12bce",
   "metadata": {},
   "outputs": [],
   "source": [
    "params = {\"date_list\" : [1,2],\n",
    "         \"text_list\" : text_list}"
   ]
  },
  {
   "cell_type": "code",
   "execution_count": 374,
   "id": "613ce2a1",
   "metadata": {},
   "outputs": [],
   "source": [
    "request = requests.get(url = url, params = params)"
   ]
  },
  {
   "cell_type": "code",
   "execution_count": 372,
   "id": "ea1ba07a",
   "metadata": {},
   "outputs": [
    {
     "ename": "JSONDecodeError",
     "evalue": "Expecting value: line 1 column 1 (char 0)",
     "output_type": "error",
     "traceback": [
      "\u001b[0;31m---------------------------------------------------------------------------\u001b[0m",
      "\u001b[0;31mJSONDecodeError\u001b[0m                           Traceback (most recent call last)",
      "\u001b[0;32m/tmp/ipykernel_26579/1641143489.py\u001b[0m in \u001b[0;36m<module>\u001b[0;34m\u001b[0m\n\u001b[0;32m----> 1\u001b[0;31m \u001b[0mrequest\u001b[0m\u001b[0;34m.\u001b[0m\u001b[0mjson\u001b[0m\u001b[0;34m(\u001b[0m\u001b[0;34m)\u001b[0m\u001b[0;34m\u001b[0m\u001b[0;34m\u001b[0m\u001b[0m\n\u001b[0m",
      "\u001b[0;32m~/.pyenv/versions/3.8.12/envs/btc_sent_fc/lib/python3.8/site-packages/requests/models.py\u001b[0m in \u001b[0;36mjson\u001b[0;34m(self, **kwargs)\u001b[0m\n\u001b[1;32m    908\u001b[0m                     \u001b[0;31m# used.\u001b[0m\u001b[0;34m\u001b[0m\u001b[0;34m\u001b[0m\u001b[0;34m\u001b[0m\u001b[0m\n\u001b[1;32m    909\u001b[0m                     \u001b[0;32mpass\u001b[0m\u001b[0;34m\u001b[0m\u001b[0;34m\u001b[0m\u001b[0m\n\u001b[0;32m--> 910\u001b[0;31m         \u001b[0;32mreturn\u001b[0m \u001b[0mcomplexjson\u001b[0m\u001b[0;34m.\u001b[0m\u001b[0mloads\u001b[0m\u001b[0;34m(\u001b[0m\u001b[0mself\u001b[0m\u001b[0;34m.\u001b[0m\u001b[0mtext\u001b[0m\u001b[0;34m,\u001b[0m \u001b[0;34m**\u001b[0m\u001b[0mkwargs\u001b[0m\u001b[0;34m)\u001b[0m\u001b[0;34m\u001b[0m\u001b[0;34m\u001b[0m\u001b[0m\n\u001b[0m\u001b[1;32m    911\u001b[0m \u001b[0;34m\u001b[0m\u001b[0m\n\u001b[1;32m    912\u001b[0m     \u001b[0;34m@\u001b[0m\u001b[0mproperty\u001b[0m\u001b[0;34m\u001b[0m\u001b[0;34m\u001b[0m\u001b[0m\n",
      "\u001b[0;32m~/.pyenv/versions/3.8.12/lib/python3.8/json/__init__.py\u001b[0m in \u001b[0;36mloads\u001b[0;34m(s, cls, object_hook, parse_float, parse_int, parse_constant, object_pairs_hook, **kw)\u001b[0m\n\u001b[1;32m    355\u001b[0m             \u001b[0mparse_int\u001b[0m \u001b[0;32mis\u001b[0m \u001b[0;32mNone\u001b[0m \u001b[0;32mand\u001b[0m \u001b[0mparse_float\u001b[0m \u001b[0;32mis\u001b[0m \u001b[0;32mNone\u001b[0m \u001b[0;32mand\u001b[0m\u001b[0;34m\u001b[0m\u001b[0;34m\u001b[0m\u001b[0m\n\u001b[1;32m    356\u001b[0m             parse_constant is None and object_pairs_hook is None and not kw):\n\u001b[0;32m--> 357\u001b[0;31m         \u001b[0;32mreturn\u001b[0m \u001b[0m_default_decoder\u001b[0m\u001b[0;34m.\u001b[0m\u001b[0mdecode\u001b[0m\u001b[0;34m(\u001b[0m\u001b[0ms\u001b[0m\u001b[0;34m)\u001b[0m\u001b[0;34m\u001b[0m\u001b[0;34m\u001b[0m\u001b[0m\n\u001b[0m\u001b[1;32m    358\u001b[0m     \u001b[0;32mif\u001b[0m \u001b[0mcls\u001b[0m \u001b[0;32mis\u001b[0m \u001b[0;32mNone\u001b[0m\u001b[0;34m:\u001b[0m\u001b[0;34m\u001b[0m\u001b[0;34m\u001b[0m\u001b[0m\n\u001b[1;32m    359\u001b[0m         \u001b[0mcls\u001b[0m \u001b[0;34m=\u001b[0m \u001b[0mJSONDecoder\u001b[0m\u001b[0;34m\u001b[0m\u001b[0;34m\u001b[0m\u001b[0m\n",
      "\u001b[0;32m~/.pyenv/versions/3.8.12/lib/python3.8/json/decoder.py\u001b[0m in \u001b[0;36mdecode\u001b[0;34m(self, s, _w)\u001b[0m\n\u001b[1;32m    335\u001b[0m \u001b[0;34m\u001b[0m\u001b[0m\n\u001b[1;32m    336\u001b[0m         \"\"\"\n\u001b[0;32m--> 337\u001b[0;31m         \u001b[0mobj\u001b[0m\u001b[0;34m,\u001b[0m \u001b[0mend\u001b[0m \u001b[0;34m=\u001b[0m \u001b[0mself\u001b[0m\u001b[0;34m.\u001b[0m\u001b[0mraw_decode\u001b[0m\u001b[0;34m(\u001b[0m\u001b[0ms\u001b[0m\u001b[0;34m,\u001b[0m \u001b[0midx\u001b[0m\u001b[0;34m=\u001b[0m\u001b[0m_w\u001b[0m\u001b[0;34m(\u001b[0m\u001b[0ms\u001b[0m\u001b[0;34m,\u001b[0m \u001b[0;36m0\u001b[0m\u001b[0;34m)\u001b[0m\u001b[0;34m.\u001b[0m\u001b[0mend\u001b[0m\u001b[0;34m(\u001b[0m\u001b[0;34m)\u001b[0m\u001b[0;34m)\u001b[0m\u001b[0;34m\u001b[0m\u001b[0;34m\u001b[0m\u001b[0m\n\u001b[0m\u001b[1;32m    338\u001b[0m         \u001b[0mend\u001b[0m \u001b[0;34m=\u001b[0m \u001b[0m_w\u001b[0m\u001b[0;34m(\u001b[0m\u001b[0ms\u001b[0m\u001b[0;34m,\u001b[0m \u001b[0mend\u001b[0m\u001b[0;34m)\u001b[0m\u001b[0;34m.\u001b[0m\u001b[0mend\u001b[0m\u001b[0;34m(\u001b[0m\u001b[0;34m)\u001b[0m\u001b[0;34m\u001b[0m\u001b[0;34m\u001b[0m\u001b[0m\n\u001b[1;32m    339\u001b[0m         \u001b[0;32mif\u001b[0m \u001b[0mend\u001b[0m \u001b[0;34m!=\u001b[0m \u001b[0mlen\u001b[0m\u001b[0;34m(\u001b[0m\u001b[0ms\u001b[0m\u001b[0;34m)\u001b[0m\u001b[0;34m:\u001b[0m\u001b[0;34m\u001b[0m\u001b[0;34m\u001b[0m\u001b[0m\n",
      "\u001b[0;32m~/.pyenv/versions/3.8.12/lib/python3.8/json/decoder.py\u001b[0m in \u001b[0;36mraw_decode\u001b[0;34m(self, s, idx)\u001b[0m\n\u001b[1;32m    353\u001b[0m             \u001b[0mobj\u001b[0m\u001b[0;34m,\u001b[0m \u001b[0mend\u001b[0m \u001b[0;34m=\u001b[0m \u001b[0mself\u001b[0m\u001b[0;34m.\u001b[0m\u001b[0mscan_once\u001b[0m\u001b[0;34m(\u001b[0m\u001b[0ms\u001b[0m\u001b[0;34m,\u001b[0m \u001b[0midx\u001b[0m\u001b[0;34m)\u001b[0m\u001b[0;34m\u001b[0m\u001b[0;34m\u001b[0m\u001b[0m\n\u001b[1;32m    354\u001b[0m         \u001b[0;32mexcept\u001b[0m \u001b[0mStopIteration\u001b[0m \u001b[0;32mas\u001b[0m \u001b[0merr\u001b[0m\u001b[0;34m:\u001b[0m\u001b[0;34m\u001b[0m\u001b[0;34m\u001b[0m\u001b[0m\n\u001b[0;32m--> 355\u001b[0;31m             \u001b[0;32mraise\u001b[0m \u001b[0mJSONDecodeError\u001b[0m\u001b[0;34m(\u001b[0m\u001b[0;34m\"Expecting value\"\u001b[0m\u001b[0;34m,\u001b[0m \u001b[0ms\u001b[0m\u001b[0;34m,\u001b[0m \u001b[0merr\u001b[0m\u001b[0;34m.\u001b[0m\u001b[0mvalue\u001b[0m\u001b[0;34m)\u001b[0m \u001b[0;32mfrom\u001b[0m \u001b[0;32mNone\u001b[0m\u001b[0;34m\u001b[0m\u001b[0;34m\u001b[0m\u001b[0m\n\u001b[0m\u001b[1;32m    356\u001b[0m         \u001b[0;32mreturn\u001b[0m \u001b[0mobj\u001b[0m\u001b[0;34m,\u001b[0m \u001b[0mend\u001b[0m\u001b[0;34m\u001b[0m\u001b[0;34m\u001b[0m\u001b[0m\n",
      "\u001b[0;31mJSONDecodeError\u001b[0m: Expecting value: line 1 column 1 (char 0)"
     ]
    }
   ],
   "source": [
    "request.json()"
   ]
  },
  {
   "cell_type": "code",
   "execution_count": null,
   "id": "366b94cc",
   "metadata": {},
   "outputs": [],
   "source": []
  },
  {
   "cell_type": "code",
   "execution_count": null,
   "id": "74e99a38",
   "metadata": {},
   "outputs": [],
   "source": []
  },
  {
   "cell_type": "code",
   "execution_count": null,
   "id": "047cb4ba",
   "metadata": {},
   "outputs": [],
   "source": []
  },
  {
   "cell_type": "code",
   "execution_count": null,
   "id": "73e15c39",
   "metadata": {},
   "outputs": [],
   "source": []
  },
  {
   "cell_type": "code",
   "execution_count": null,
   "id": "99f460b8",
   "metadata": {},
   "outputs": [],
   "source": []
  },
  {
   "cell_type": "code",
   "execution_count": null,
   "id": "c52de4c8",
   "metadata": {},
   "outputs": [],
   "source": []
  },
  {
   "cell_type": "code",
   "execution_count": null,
   "id": "91f1f566",
   "metadata": {},
   "outputs": [],
   "source": []
  },
  {
   "cell_type": "code",
   "execution_count": null,
   "id": "bd885a00",
   "metadata": {},
   "outputs": [],
   "source": []
  },
  {
   "cell_type": "code",
   "execution_count": null,
   "id": "c1b4d066",
   "metadata": {},
   "outputs": [],
   "source": []
  },
  {
   "cell_type": "code",
   "execution_count": null,
   "id": "d8c298cf",
   "metadata": {},
   "outputs": [],
   "source": []
  },
  {
   "cell_type": "markdown",
   "id": "f5d06980",
   "metadata": {
    "heading_collapsed": true
   },
   "source": [
    "# Reddit Streaming"
   ]
  },
  {
   "cell_type": "code",
   "execution_count": null,
   "id": "14869dda",
   "metadata": {
    "hidden": true
   },
   "outputs": [],
   "source": [
    "file_name = \"../keys.json\"\n",
    "with open(file_name, \"r\") as key_file:\n",
    "    keys = json.load(key_file)"
   ]
  },
  {
   "cell_type": "code",
   "execution_count": null,
   "id": "36ba55ca",
   "metadata": {
    "hidden": true
   },
   "outputs": [],
   "source": [
    "# note that CLIENT_ID refers to 'personal use script' and SECRET_TOKEN to 'token'\n",
    "auth = requests.auth.HTTPBasicAuth(keys['REDDIT_SCRIPT'], keys[\"REDDIT_TOKEN\"])\n",
    "\n",
    "# here we pass our login method (password), username, and password\n",
    "data = {\n",
    "    'grant_type': 'password',\n",
    "    'username': keys['REDDIT_USERNAME'],\n",
    "    'password': keys['REDDIT_PASSWORD']\n",
    "}\n",
    "\n",
    "# setup our header info, which gives reddit a brief description of our app\n",
    "headers = {'User-Agent': 'MyBot/0.0.1'}\n",
    "\n",
    "# send our request for an OAuth token\n",
    "res = requests.post('https://www.reddit.com/api/v1/access_token',\n",
    "                    auth=auth,\n",
    "                    data=data,\n",
    "                    headers=headers)\n",
    "\n",
    "# convert response to JSON and pull access_token value\n",
    "TOKEN = res.json()['access_token']\n",
    "\n",
    "# add authorization to our headers dictionary\n",
    "headers = {**headers, **{'Authorization': f\"bearer {TOKEN}\"}}\n",
    "\n",
    "# while the token is valid (~2 hours) we just add headers=headers to our requests\n",
    "requests.get('https://oauth.reddit.com/api/v1/me', headers=headers)"
   ]
  },
  {
   "cell_type": "code",
   "execution_count": null,
   "id": "b8589fec",
   "metadata": {
    "hidden": true
   },
   "outputs": [],
   "source": [
    "crypto_url = \"https://oauth.reddit.com/r/CryptoCurrency/top/?sort=top&t=day\""
   ]
  },
  {
   "cell_type": "code",
   "execution_count": null,
   "id": "7de8a6a1",
   "metadata": {
    "hidden": true
   },
   "outputs": [],
   "source": [
    "crypto_req = requests.get(crypto_url, headers=headers)"
   ]
  },
  {
   "cell_type": "code",
   "execution_count": null,
   "id": "cd056594",
   "metadata": {
    "hidden": true
   },
   "outputs": [],
   "source": [
    "reddit_crypto_df = pd.DataFrame()\n",
    "for post in res.json()['data']['children']:\n",
    "    reddit_crypto_df = reddit_crypto_df.append(\n",
    "        {\n",
    "            'date': post[\"data\"][\"created_utc\"],\n",
    "            'subreddit': post['data']['subreddit'],\n",
    "            'title': post['data']['title'],\n",
    "            'selftext': post['data']['selftext'],\n",
    "            'upvote_ratio': post['data']['upvote_ratio'],\n",
    "            'ups': post['data']['ups'],\n",
    "            'downs': post['data']['downs'],\n",
    "            'score': post['data']['score']\n",
    "        },\n",
    "        ignore_index=True)"
   ]
  },
  {
   "cell_type": "code",
   "execution_count": null,
   "id": "8f707934",
   "metadata": {
    "hidden": true
   },
   "outputs": [],
   "source": [
    "reddit_crypto_df[\"date\"] = reddit_crypto_df[\"date\"].map(to_readable_datetime)"
   ]
  },
  {
   "cell_type": "code",
   "execution_count": null,
   "id": "7a1514f3",
   "metadata": {
    "hidden": true
   },
   "outputs": [],
   "source": [
    "econ_url = \"https://oauth.reddit.com/search?q=economy+OR+recession+OR+inflation+OR+shutdown+OR+infrastructure+OR+market+OR+retirement&restrict_sr=&sort=top&t=day\""
   ]
  },
  {
   "cell_type": "code",
   "execution_count": null,
   "id": "7cebbc04",
   "metadata": {
    "hidden": true
   },
   "outputs": [],
   "source": [
    "res = requests.get(econ_url, headers=headers)\n",
    "\n",
    "reddit_df = pd.DataFrame()\n",
    "for post in res.json()['data']['children']:\n",
    "    reddit_df = reddit_df.append(\n",
    "        {\n",
    "            'date': post[\"data\"][\"created_utc\"],\n",
    "            'subreddit': post['data']['subreddit'],\n",
    "            'title': post['data']['title'],\n",
    "            'selftext': post['data']['selftext'],\n",
    "            'upvote_ratio': post['data']['upvote_ratio'],\n",
    "            'ups': post['data']['ups'],\n",
    "            'downs': post['data']['downs'],\n",
    "            'score': post['data']['score']\n",
    "        },\n",
    "        ignore_index=True)\n",
    "reddit_econ_df[\"date\"] = reddit_econ_df[\"date\"]"
   ]
  },
  {
   "cell_type": "code",
   "execution_count": null,
   "id": "2c52589b",
   "metadata": {
    "hidden": true
   },
   "outputs": [],
   "source": [
    "reddit_df"
   ]
  },
  {
   "cell_type": "code",
   "execution_count": null,
   "id": "0eccc348",
   "metadata": {
    "hidden": true
   },
   "outputs": [],
   "source": []
  },
  {
   "cell_type": "code",
   "execution_count": null,
   "id": "817ec0ff",
   "metadata": {
    "hidden": true
   },
   "outputs": [],
   "source": []
  },
  {
   "cell_type": "code",
   "execution_count": null,
   "id": "2a142ffc",
   "metadata": {
    "hidden": true
   },
   "outputs": [],
   "source": [
    "econ_bert = pd.read_csv(\n",
    "    \"gs://wagon-data-750-btc-sent-fc/sent_processed/econ_bert.csv\")[[\n",
    "        \"date\", \"positive\", \"negative\", \"neutral\"\n",
    "    ]]"
   ]
  },
  {
   "cell_type": "code",
   "execution_count": null,
   "id": "eea7f140",
   "metadata": {
    "hidden": true
   },
   "outputs": [],
   "source": [
    "crypto_bert[\"compound\"]"
   ]
  },
  {
   "cell_type": "code",
   "execution_count": null,
   "id": "5163fd3f",
   "metadata": {
    "hidden": true
   },
   "outputs": [],
   "source": [
    "econ_bert[\"compound\"] = (econ_bert.positive - econ_bert.negative) / (\n",
    "    econ_bert.positive + econ_bert.negative)"
   ]
  },
  {
   "cell_type": "code",
   "execution_count": null,
   "id": "4b83cd65",
   "metadata": {
    "hidden": true
   },
   "outputs": [],
   "source": [
    "econ_bert.columns = [\"econ_pos\", \"econ_neg\", \"econ_neu\", \"econ_compound\"]"
   ]
  },
  {
   "cell_type": "code",
   "execution_count": null,
   "id": "da122d0c",
   "metadata": {
    "hidden": true
   },
   "outputs": [],
   "source": [
    "econ_bert.set_index(\"date\", inplace=True)"
   ]
  },
  {
   "cell_type": "code",
   "execution_count": null,
   "id": "a23d6b85",
   "metadata": {
    "hidden": true
   },
   "outputs": [],
   "source": [
    "econ_bert.index = pd.to_datetime(econ_bert.index)"
   ]
  },
  {
   "cell_type": "code",
   "execution_count": null,
   "id": "481b5ba5",
   "metadata": {
    "hidden": true
   },
   "outputs": [],
   "source": [
    "crypto_bert.index = pd.to_datetime(crypto_bert.index)"
   ]
  },
  {
   "cell_type": "code",
   "execution_count": null,
   "id": "0a1b79f7",
   "metadata": {
    "hidden": true
   },
   "outputs": [],
   "source": [
    "df_merge_two.columns"
   ]
  },
  {
   "cell_type": "code",
   "execution_count": null,
   "id": "d72db253",
   "metadata": {
    "hidden": true
   },
   "outputs": [],
   "source": [
    "df_merge_one = pd.merge(df,\n",
    "                        crypto_bert[[\"crypto_pos\", \"crypto_neg\",\n",
    "                                     \"crypto_neu\"]],\n",
    "                        how=\"left\",\n",
    "                        left_index=True,\n",
    "                        right_index=True)"
   ]
  },
  {
   "cell_type": "code",
   "execution_count": null,
   "id": "7fab0db6",
   "metadata": {
    "hidden": true
   },
   "outputs": [],
   "source": [
    "df_merge_two = pd.merge(df_merge_one,\n",
    "                        econ_bert[[\"econ_pos\", \"econ_neg\", \"econ_neu\"]],\n",
    "                        how=\"left\",\n",
    "                        left_index=True,\n",
    "                        right_index=True)"
   ]
  },
  {
   "cell_type": "code",
   "execution_count": null,
   "id": "13146562",
   "metadata": {
    "hidden": true
   },
   "outputs": [],
   "source": [
    "df_merge_two"
   ]
  },
  {
   "cell_type": "code",
   "execution_count": null,
   "id": "d193b101",
   "metadata": {
    "hidden": true
   },
   "outputs": [],
   "source": [
    "crypto_bert.to_csv(\n",
    "    \"gs://wagon-data-750-btc-sent-fc/sent_processed/crypto_bert.csv\")"
   ]
  },
  {
   "cell_type": "code",
   "execution_count": null,
   "id": "eff30a7d",
   "metadata": {
    "hidden": true
   },
   "outputs": [],
   "source": [
    "econ_bert.to_csv(\n",
    "    \"gs://wagon-data-750-btc-sent-fc/sent_processed/econ_bert.csv\")"
   ]
  },
  {
   "cell_type": "code",
   "execution_count": null,
   "id": "e8168268",
   "metadata": {
    "hidden": true
   },
   "outputs": [],
   "source": [
    "df_merge_two.to_csv(\"gs://wagon-750-btc-sent-fc/input_data/input_data_1.csv\")"
   ]
  },
  {
   "cell_type": "code",
   "execution_count": null,
   "id": "1dd8cd90",
   "metadata": {
    "hidden": true
   },
   "outputs": [],
   "source": [
    "economy_keywords = [\n",
    "    \"economy\", \"recession\", \"inflation\", \"shutdown\", \"infrastructure\",\n",
    "    \"market\", \"retirement\"\n",
    "]"
   ]
  },
  {
   "cell_type": "code",
   "execution_count": null,
   "id": "f1a12bbb",
   "metadata": {
    "hidden": true
   },
   "outputs": [],
   "source": [
    "econ_string = \"+OR+\".join(economy_keywords)"
   ]
  },
  {
   "cell_type": "code",
   "execution_count": null,
   "id": "a0602ed4",
   "metadata": {
    "hidden": true
   },
   "outputs": [],
   "source": [
    "econ_string"
   ]
  },
  {
   "cell_type": "code",
   "execution_count": null,
   "id": "54bb0da5",
   "metadata": {
    "hidden": true
   },
   "outputs": [],
   "source": [
    "econ_bert = pd.read_csv(\n",
    "    \"gs://wagon-data-750-btc-sent-fc/sent_processed/econ_bert.csv\",\n",
    "    index_col=0,\n",
    "    parse_dates=True)"
   ]
  },
  {
   "cell_type": "code",
   "execution_count": null,
   "id": "33fa9572",
   "metadata": {
    "hidden": true
   },
   "outputs": [],
   "source": []
  },
  {
   "cell_type": "markdown",
   "id": "dafdc1f9",
   "metadata": {
    "heading_collapsed": true
   },
   "source": [
    "# Twitter collating"
   ]
  },
  {
   "cell_type": "code",
   "execution_count": 74,
   "id": "a2dc49b7",
   "metadata": {
    "hidden": true
   },
   "outputs": [],
   "source": [
    "storage_client = storage.Client()\n",
    "\n",
    "# Note: Client.list_blobs requires at least package version 1.17.0.\n",
    "blobs = storage_client.list_blobs(\"wagon-data-750-btc-sent-fc\",\n",
    "                                  prefix=f\"sent_data/tweet_reccession\")\n",
    "blob_list = [blob.name for blob in blobs]\n",
    "blob_list.sort()"
   ]
  },
  {
   "cell_type": "code",
   "execution_count": 75,
   "id": "eb53ff51",
   "metadata": {
    "hidden": true
   },
   "outputs": [
    {
     "data": {
      "text/plain": [
       "[]"
      ]
     },
     "execution_count": 75,
     "metadata": {},
     "output_type": "execute_result"
    }
   ],
   "source": [
    "blob_list"
   ]
  },
  {
   "cell_type": "code",
   "execution_count": null,
   "id": "f7bdd8a4",
   "metadata": {
    "hidden": true
   },
   "outputs": [],
   "source": [
    "inflation_bert = pd.DataFrame()\n",
    "for blob in blob_list:\n",
    "    temp_df = pd.read_csv(f\"gcs://wagon-data-750-btc-sent-fc/{blob}\",\n",
    "                          index_col=0,\n",
    "                          parse_dates=True)\n",
    "    inflation_bert = inflation_bert.append(temp_df)"
   ]
  },
  {
   "cell_type": "code",
   "execution_count": null,
   "id": "907b4fa3",
   "metadata": {
    "hidden": true
   },
   "outputs": [],
   "source": [
    "inflation_bert[\"date\"] = pd.to_datetime(inflation_bert[\"date\"]).dt.date"
   ]
  },
  {
   "cell_type": "code",
   "execution_count": null,
   "id": "cf3c04d0",
   "metadata": {
    "hidden": true
   },
   "outputs": [],
   "source": [
    "inflation_grouped = inflation_bert.groupby(\"date\").mean()"
   ]
  },
  {
   "cell_type": "code",
   "execution_count": null,
   "id": "a20b1087",
   "metadata": {
    "hidden": true
   },
   "outputs": [],
   "source": [
    "inflation_grouped.columns = [\"inflation_pos\", \"inflation_neg\", \"inflation_neu\"]"
   ]
  },
  {
   "cell_type": "code",
   "execution_count": null,
   "id": "e3b14dbd",
   "metadata": {
    "hidden": true
   },
   "outputs": [],
   "source": [
    "df_merge_three = pd.merge(df_merge_two,\n",
    "                          inflation_grouped,\n",
    "                          how=\"left\",\n",
    "                          left_index=True,\n",
    "                          right_index=True)"
   ]
  },
  {
   "cell_type": "code",
   "execution_count": null,
   "id": "38e2e76a",
   "metadata": {
    "hidden": true
   },
   "outputs": [],
   "source": [
    "df_merge_three.to_csv(\"gs://wagon-750-btc-sent-fc/input_data/input_data_2.csv\")"
   ]
  },
  {
   "cell_type": "markdown",
   "id": "fd921fb9",
   "metadata": {
    "heading_collapsed": true
   },
   "source": [
    "# Sentiment DF for Website"
   ]
  },
  {
   "cell_type": "code",
   "execution_count": null,
   "id": "b88a985a",
   "metadata": {
    "hidden": true
   },
   "outputs": [],
   "source": [
    "sent_df = df_merge_three[[\n",
    "    \"reddit_econ_sent\", \"reddit_crypto_sent\", \"tweets_sent\"\n",
    "]]"
   ]
  },
  {
   "cell_type": "code",
   "execution_count": null,
   "id": "4d6c99d8",
   "metadata": {
    "hidden": true
   },
   "outputs": [],
   "source": [
    "inflation_bert[\"compound\"] = (inflation_bert.positive - inflation_bert.negative\n",
    "                              ) / (inflation_bert.positive +\n",
    "                                   inflation_bert.negative)"
   ]
  },
  {
   "cell_type": "code",
   "execution_count": null,
   "id": "11767a94",
   "metadata": {
    "hidden": true
   },
   "outputs": [],
   "source": [
    "inflation_grouped = inflation_bert.groupby(\"date\").mean()"
   ]
  },
  {
   "cell_type": "code",
   "execution_count": null,
   "id": "aa27b953",
   "metadata": {
    "hidden": true
   },
   "outputs": [],
   "source": [
    "inflation_grouped.columns = [\n",
    "    \"inflation_pos\", \"inflation_neg\", \"inflation_neu\", \"inflation_compound\"\n",
    "]"
   ]
  },
  {
   "cell_type": "code",
   "execution_count": null,
   "id": "5844c51a",
   "metadata": {
    "hidden": true
   },
   "outputs": [],
   "source": [
    "inflation_grouped.to_csv(\n",
    "    \"gs://wagon-data-750-btc-sent-fc/sent_processed/inflation_bert.csv\")"
   ]
  },
  {
   "cell_type": "code",
   "execution_count": null,
   "id": "a4ab1072",
   "metadata": {
    "hidden": true
   },
   "outputs": [],
   "source": [
    "sent_df_1 = sent_df.merge(inflation_grouped[\"inflation_compound\"],\n",
    "                          left_index=True,\n",
    "                          right_index=True).merge(\n",
    "                              econ_bert[[\"econ_compound\"]],\n",
    "                              left_index=True,\n",
    "                              right_index=True).merge(\n",
    "                                  crypto_bert[[\"crypto_compound\"]],\n",
    "                                  left_index=True,\n",
    "                                  right_index=True)"
   ]
  },
  {
   "cell_type": "code",
   "execution_count": null,
   "id": "fc95f351",
   "metadata": {
    "hidden": true
   },
   "outputs": [],
   "source": [
    "sent_df_1.columns"
   ]
  },
  {
   "cell_type": "code",
   "execution_count": null,
   "id": "1fd437f9",
   "metadata": {
    "hidden": true
   },
   "outputs": [],
   "source": [
    "sent_df_1.drop(\"reddit_econ_sent\", axis=1, inplace=True)\n",
    "sent_df_1.drop(\"reddit_crypto_sent\", axis=1, inplace=True)"
   ]
  },
  {
   "cell_type": "code",
   "execution_count": null,
   "id": "9d28a6dd",
   "metadata": {
    "hidden": true
   },
   "outputs": [],
   "source": [
    "sent_df_1[\"econ_compound\"] = (sent_df_1[\"tweets_sent\"] +\n",
    "                              sent_df_1[\"econ_compound\"]) / 2"
   ]
  },
  {
   "cell_type": "code",
   "execution_count": null,
   "id": "e59e0d31",
   "metadata": {
    "hidden": true
   },
   "outputs": [],
   "source": [
    "sent_df_1.drop(\"tweets_sent\", axis=1, inplace=True)"
   ]
  },
  {
   "cell_type": "code",
   "execution_count": null,
   "id": "f6faf1c3",
   "metadata": {
    "hidden": true
   },
   "outputs": [],
   "source": [
    "sent_df_1.to_csv(\n",
    "    \"gcs://wagon-data-750-btc-sent-fc/website_data/sent_data_1.csv\")"
   ]
  },
  {
   "cell_type": "code",
   "execution_count": null,
   "id": "55304108",
   "metadata": {
    "hidden": true
   },
   "outputs": [],
   "source": [
    "sent_df_1.merge(\n",
    "    df_merge_two[\"volume_gross\"], left_index=True, right_index=True).to_csv(\n",
    "        \"gcs://wagon-data-750-btc-sent-fc/website_data/chart_data_1.csv\")"
   ]
  },
  {
   "cell_type": "code",
   "execution_count": 347,
   "id": "bf2ee7c4",
   "metadata": {
    "hidden": true
   },
   "outputs": [
    {
     "name": "stderr",
     "output_type": "stream",
     "text": [
      "/tmp/ipykernel_26579/3535829392.py:1: FutureWarning: Dropping of nuisance columns in DataFrame reductions (with 'numeric_only=None') is deprecated; in a future version this will raise TypeError.  Select only valid columns before calling the reduction.\n",
      "  pd.read_csv(\"gcs://wagon-data-750-btc-sent-fc/sent_processed/inflation_bert.csv\").iloc[-38:-8].mean()\n"
     ]
    },
    {
     "data": {
      "text/plain": [
       "inflation_pos         0.110507\n",
       "inflation_neg         0.399176\n",
       "inflation_neu         0.490317\n",
       "inflation_compound   -0.396558\n",
       "dtype: float64"
      ]
     },
     "execution_count": 347,
     "metadata": {},
     "output_type": "execute_result"
    }
   ],
   "source": [
    "pd.read_csv(\"gcs://wagon-data-750-btc-sent-fc/sent_processed/inflation_bert.csv\").iloc[-38:-8].mean()"
   ]
  },
  {
   "cell_type": "code",
   "execution_count": 345,
   "id": "d6b6a79c",
   "metadata": {
    "hidden": true
   },
   "outputs": [
    {
     "data": {
      "text/html": [
       "<div>\n",
       "<style scoped>\n",
       "    .dataframe tbody tr th:only-of-type {\n",
       "        vertical-align: middle;\n",
       "    }\n",
       "\n",
       "    .dataframe tbody tr th {\n",
       "        vertical-align: top;\n",
       "    }\n",
       "\n",
       "    .dataframe thead th {\n",
       "        text-align: right;\n",
       "    }\n",
       "</style>\n",
       "<table border=\"1\" class=\"dataframe\">\n",
       "  <thead>\n",
       "    <tr style=\"text-align: right;\">\n",
       "      <th></th>\n",
       "      <th>date</th>\n",
       "      <th>crypto_pos</th>\n",
       "      <th>crypto_neg</th>\n",
       "      <th>crypto_neu</th>\n",
       "      <th>crypto_compound</th>\n",
       "    </tr>\n",
       "  </thead>\n",
       "  <tbody>\n",
       "    <tr>\n",
       "      <th>2153</th>\n",
       "      <td>2021-10-24</td>\n",
       "      <td>0.144458</td>\n",
       "      <td>0.137841</td>\n",
       "      <td>0.717701</td>\n",
       "      <td>0.023441</td>\n",
       "    </tr>\n",
       "    <tr>\n",
       "      <th>2154</th>\n",
       "      <td>2021-10-25</td>\n",
       "      <td>0.160414</td>\n",
       "      <td>0.164780</td>\n",
       "      <td>0.674805</td>\n",
       "      <td>-0.013425</td>\n",
       "    </tr>\n",
       "    <tr>\n",
       "      <th>2155</th>\n",
       "      <td>2021-10-26</td>\n",
       "      <td>0.166129</td>\n",
       "      <td>0.177104</td>\n",
       "      <td>0.656766</td>\n",
       "      <td>-0.031975</td>\n",
       "    </tr>\n",
       "    <tr>\n",
       "      <th>2156</th>\n",
       "      <td>2021-10-27</td>\n",
       "      <td>0.084918</td>\n",
       "      <td>0.157990</td>\n",
       "      <td>0.757092</td>\n",
       "      <td>-0.300821</td>\n",
       "    </tr>\n",
       "    <tr>\n",
       "      <th>2157</th>\n",
       "      <td>2021-10-28</td>\n",
       "      <td>0.098170</td>\n",
       "      <td>0.156627</td>\n",
       "      <td>0.745204</td>\n",
       "      <td>-0.229427</td>\n",
       "    </tr>\n",
       "    <tr>\n",
       "      <th>2158</th>\n",
       "      <td>2021-10-29</td>\n",
       "      <td>0.163806</td>\n",
       "      <td>0.185716</td>\n",
       "      <td>0.650478</td>\n",
       "      <td>-0.062688</td>\n",
       "    </tr>\n",
       "    <tr>\n",
       "      <th>2159</th>\n",
       "      <td>2021-10-30</td>\n",
       "      <td>0.110630</td>\n",
       "      <td>0.089443</td>\n",
       "      <td>0.799927</td>\n",
       "      <td>0.105892</td>\n",
       "    </tr>\n",
       "    <tr>\n",
       "      <th>2160</th>\n",
       "      <td>2021-10-31</td>\n",
       "      <td>0.065225</td>\n",
       "      <td>0.081533</td>\n",
       "      <td>0.853242</td>\n",
       "      <td>-0.111121</td>\n",
       "    </tr>\n",
       "    <tr>\n",
       "      <th>2161</th>\n",
       "      <td>2021-11-01</td>\n",
       "      <td>0.178182</td>\n",
       "      <td>0.067171</td>\n",
       "      <td>0.754647</td>\n",
       "      <td>0.452454</td>\n",
       "    </tr>\n",
       "    <tr>\n",
       "      <th>2162</th>\n",
       "      <td>2021-11-02</td>\n",
       "      <td>0.225506</td>\n",
       "      <td>0.059151</td>\n",
       "      <td>0.715343</td>\n",
       "      <td>0.584405</td>\n",
       "    </tr>\n",
       "    <tr>\n",
       "      <th>2163</th>\n",
       "      <td>2021-11-03</td>\n",
       "      <td>0.198620</td>\n",
       "      <td>0.059981</td>\n",
       "      <td>0.741399</td>\n",
       "      <td>0.536112</td>\n",
       "    </tr>\n",
       "    <tr>\n",
       "      <th>2164</th>\n",
       "      <td>2021-11-04</td>\n",
       "      <td>0.177589</td>\n",
       "      <td>0.132656</td>\n",
       "      <td>0.689755</td>\n",
       "      <td>0.144833</td>\n",
       "    </tr>\n",
       "    <tr>\n",
       "      <th>2165</th>\n",
       "      <td>2021-11-05</td>\n",
       "      <td>0.125172</td>\n",
       "      <td>0.106398</td>\n",
       "      <td>0.768430</td>\n",
       "      <td>0.081070</td>\n",
       "    </tr>\n",
       "    <tr>\n",
       "      <th>2166</th>\n",
       "      <td>2021-11-06</td>\n",
       "      <td>0.103893</td>\n",
       "      <td>0.122536</td>\n",
       "      <td>0.773571</td>\n",
       "      <td>-0.082336</td>\n",
       "    </tr>\n",
       "    <tr>\n",
       "      <th>2167</th>\n",
       "      <td>2021-11-07</td>\n",
       "      <td>0.116965</td>\n",
       "      <td>0.122617</td>\n",
       "      <td>0.760418</td>\n",
       "      <td>-0.023593</td>\n",
       "    </tr>\n",
       "    <tr>\n",
       "      <th>2168</th>\n",
       "      <td>2021-11-08</td>\n",
       "      <td>0.217862</td>\n",
       "      <td>0.097051</td>\n",
       "      <td>0.685087</td>\n",
       "      <td>0.383633</td>\n",
       "    </tr>\n",
       "    <tr>\n",
       "      <th>2169</th>\n",
       "      <td>2021-11-09</td>\n",
       "      <td>0.089389</td>\n",
       "      <td>0.195180</td>\n",
       "      <td>0.715431</td>\n",
       "      <td>-0.371759</td>\n",
       "    </tr>\n",
       "    <tr>\n",
       "      <th>2170</th>\n",
       "      <td>2021-11-10</td>\n",
       "      <td>0.157983</td>\n",
       "      <td>0.068053</td>\n",
       "      <td>0.773965</td>\n",
       "      <td>0.397859</td>\n",
       "    </tr>\n",
       "    <tr>\n",
       "      <th>2171</th>\n",
       "      <td>2021-11-11</td>\n",
       "      <td>0.133386</td>\n",
       "      <td>0.066259</td>\n",
       "      <td>0.800355</td>\n",
       "      <td>0.336229</td>\n",
       "    </tr>\n",
       "    <tr>\n",
       "      <th>2172</th>\n",
       "      <td>2021-11-12</td>\n",
       "      <td>0.114562</td>\n",
       "      <td>0.120642</td>\n",
       "      <td>0.764795</td>\n",
       "      <td>-0.025850</td>\n",
       "    </tr>\n",
       "    <tr>\n",
       "      <th>2173</th>\n",
       "      <td>2021-11-13</td>\n",
       "      <td>0.048921</td>\n",
       "      <td>0.147287</td>\n",
       "      <td>0.803792</td>\n",
       "      <td>-0.501336</td>\n",
       "    </tr>\n",
       "    <tr>\n",
       "      <th>2174</th>\n",
       "      <td>2021-11-14</td>\n",
       "      <td>0.110933</td>\n",
       "      <td>0.073305</td>\n",
       "      <td>0.815761</td>\n",
       "      <td>0.204235</td>\n",
       "    </tr>\n",
       "    <tr>\n",
       "      <th>2175</th>\n",
       "      <td>2021-11-15</td>\n",
       "      <td>0.078267</td>\n",
       "      <td>0.084267</td>\n",
       "      <td>0.837466</td>\n",
       "      <td>-0.036914</td>\n",
       "    </tr>\n",
       "    <tr>\n",
       "      <th>2176</th>\n",
       "      <td>2021-11-16</td>\n",
       "      <td>0.094864</td>\n",
       "      <td>0.112426</td>\n",
       "      <td>0.792710</td>\n",
       "      <td>-0.084725</td>\n",
       "    </tr>\n",
       "    <tr>\n",
       "      <th>2177</th>\n",
       "      <td>2021-11-17</td>\n",
       "      <td>0.121311</td>\n",
       "      <td>0.079810</td>\n",
       "      <td>0.798879</td>\n",
       "      <td>0.206348</td>\n",
       "    </tr>\n",
       "    <tr>\n",
       "      <th>2178</th>\n",
       "      <td>2021-11-18</td>\n",
       "      <td>0.145112</td>\n",
       "      <td>0.081628</td>\n",
       "      <td>0.773259</td>\n",
       "      <td>0.279984</td>\n",
       "    </tr>\n",
       "    <tr>\n",
       "      <th>2179</th>\n",
       "      <td>2021-11-19</td>\n",
       "      <td>0.085474</td>\n",
       "      <td>0.135326</td>\n",
       "      <td>0.779201</td>\n",
       "      <td>-0.225780</td>\n",
       "    </tr>\n",
       "    <tr>\n",
       "      <th>2180</th>\n",
       "      <td>2021-11-20</td>\n",
       "      <td>0.085734</td>\n",
       "      <td>0.178020</td>\n",
       "      <td>0.736247</td>\n",
       "      <td>-0.349896</td>\n",
       "    </tr>\n",
       "    <tr>\n",
       "      <th>2181</th>\n",
       "      <td>2021-11-21</td>\n",
       "      <td>0.203692</td>\n",
       "      <td>0.095910</td>\n",
       "      <td>0.700399</td>\n",
       "      <td>0.359751</td>\n",
       "    </tr>\n",
       "    <tr>\n",
       "      <th>2182</th>\n",
       "      <td>2021-11-22</td>\n",
       "      <td>0.103129</td>\n",
       "      <td>0.098261</td>\n",
       "      <td>0.798611</td>\n",
       "      <td>0.024174</td>\n",
       "    </tr>\n",
       "  </tbody>\n",
       "</table>\n",
       "</div>"
      ],
      "text/plain": [
       "            date  crypto_pos  crypto_neg  crypto_neu  crypto_compound\n",
       "2153  2021-10-24    0.144458    0.137841    0.717701         0.023441\n",
       "2154  2021-10-25    0.160414    0.164780    0.674805        -0.013425\n",
       "2155  2021-10-26    0.166129    0.177104    0.656766        -0.031975\n",
       "2156  2021-10-27    0.084918    0.157990    0.757092        -0.300821\n",
       "2157  2021-10-28    0.098170    0.156627    0.745204        -0.229427\n",
       "2158  2021-10-29    0.163806    0.185716    0.650478        -0.062688\n",
       "2159  2021-10-30    0.110630    0.089443    0.799927         0.105892\n",
       "2160  2021-10-31    0.065225    0.081533    0.853242        -0.111121\n",
       "2161  2021-11-01    0.178182    0.067171    0.754647         0.452454\n",
       "2162  2021-11-02    0.225506    0.059151    0.715343         0.584405\n",
       "2163  2021-11-03    0.198620    0.059981    0.741399         0.536112\n",
       "2164  2021-11-04    0.177589    0.132656    0.689755         0.144833\n",
       "2165  2021-11-05    0.125172    0.106398    0.768430         0.081070\n",
       "2166  2021-11-06    0.103893    0.122536    0.773571        -0.082336\n",
       "2167  2021-11-07    0.116965    0.122617    0.760418        -0.023593\n",
       "2168  2021-11-08    0.217862    0.097051    0.685087         0.383633\n",
       "2169  2021-11-09    0.089389    0.195180    0.715431        -0.371759\n",
       "2170  2021-11-10    0.157983    0.068053    0.773965         0.397859\n",
       "2171  2021-11-11    0.133386    0.066259    0.800355         0.336229\n",
       "2172  2021-11-12    0.114562    0.120642    0.764795        -0.025850\n",
       "2173  2021-11-13    0.048921    0.147287    0.803792        -0.501336\n",
       "2174  2021-11-14    0.110933    0.073305    0.815761         0.204235\n",
       "2175  2021-11-15    0.078267    0.084267    0.837466        -0.036914\n",
       "2176  2021-11-16    0.094864    0.112426    0.792710        -0.084725\n",
       "2177  2021-11-17    0.121311    0.079810    0.798879         0.206348\n",
       "2178  2021-11-18    0.145112    0.081628    0.773259         0.279984\n",
       "2179  2021-11-19    0.085474    0.135326    0.779201        -0.225780\n",
       "2180  2021-11-20    0.085734    0.178020    0.736247        -0.349896\n",
       "2181  2021-11-21    0.203692    0.095910    0.700399         0.359751\n",
       "2182  2021-11-22    0.103129    0.098261    0.798611         0.024174"
      ]
     },
     "execution_count": 345,
     "metadata": {},
     "output_type": "execute_result"
    }
   ],
   "source": [
    "pd.read_csv(\"gcs://wagon-data-750-btc-sent-fc/sent_processed/crypto_bert.csv\").iloc[-30:]"
   ]
  },
  {
   "cell_type": "markdown",
   "id": "0d0fa856",
   "metadata": {},
   "source": [
    "# Preproc Pipeline"
   ]
  },
  {
   "cell_type": "code",
   "execution_count": 5,
   "id": "21d76edd",
   "metadata": {},
   "outputs": [
    {
     "name": "stderr",
     "output_type": "stream",
     "text": [
      "2021-12-01 16:30:26.787751: W tensorflow/stream_executor/platform/default/dso_loader.cc:64] Could not load dynamic library 'libcudart.so.11.0'; dlerror: libcudart.so.11.0: cannot open shared object file: No such file or directory\n",
      "2021-12-01 16:30:26.787800: I tensorflow/stream_executor/cuda/cudart_stub.cc:29] Ignore above cudart dlerror if you do not have a GPU set up on your machine.\n"
     ]
    }
   ],
   "source": [
    "from Main_package.RNN_model.data import clean_features, clean_test_features"
   ]
  },
  {
   "cell_type": "code",
   "execution_count": 237,
   "id": "bf7becda",
   "metadata": {},
   "outputs": [],
   "source": [
    "big_df = pd.read_csv(\n",
    "    \"gs://wagon-data-750-btc-sent-fc/input_data/input_data_1.csv\",\n",
    "    index_col=0,\n",
    "    parse_dates=True)"
   ]
  },
  {
   "cell_type": "code",
   "execution_count": 7,
   "id": "c9d1251f",
   "metadata": {},
   "outputs": [],
   "source": [
    "pipeline = clean_features(big_df)"
   ]
  },
  {
   "cell_type": "code",
   "execution_count": 48,
   "id": "10fcaeb0",
   "metadata": {},
   "outputs": [],
   "source": [
    "fake_1 = pd.read_csv(\"gs://wagon-data-750-btc-sent-fc/input_data/fake_1\",\n",
    "                     index_col=0,\n",
    "                     parse_dates=True)"
   ]
  },
  {
   "cell_type": "code",
   "execution_count": 49,
   "id": "77d1988a",
   "metadata": {},
   "outputs": [
    {
     "data": {
      "text/html": [
       "<div>\n",
       "<style scoped>\n",
       "    .dataframe tbody tr th:only-of-type {\n",
       "        vertical-align: middle;\n",
       "    }\n",
       "\n",
       "    .dataframe tbody tr th {\n",
       "        vertical-align: top;\n",
       "    }\n",
       "\n",
       "    .dataframe thead th {\n",
       "        text-align: right;\n",
       "    }\n",
       "</style>\n",
       "<table border=\"1\" class=\"dataframe\">\n",
       "  <thead>\n",
       "    <tr style=\"text-align: right;\">\n",
       "      <th></th>\n",
       "      <th>n-transactions-per-block</th>\n",
       "      <th>difficulty</th>\n",
       "      <th>utxo-count</th>\n",
       "      <th>mvrv</th>\n",
       "      <th>nvt</th>\n",
       "      <th>avg-block-size</th>\n",
       "      <th>n-transactions-excluding-popular</th>\n",
       "      <th>n-unique-addresses</th>\n",
       "      <th>median-confirmation-time</th>\n",
       "      <th>miners-revenue</th>\n",
       "      <th>...</th>\n",
       "      <th>S&amp;P U.S. TIPS 7-10 Year Index (USD)</th>\n",
       "      <th>S&amp;P U.S. Treasury Bond 3-5 Year Index</th>\n",
       "      <th>S&amp;P U.S. TIPS 3-5 Year Index (USD)</th>\n",
       "      <th>S&amp;P U.S. TIPS 1-3 Year Index (USD)</th>\n",
       "      <th>S&amp;P U.S. TIPS 5-7 Year Index (USD)</th>\n",
       "      <th>S&amp;P U.S. Treasury Bill 6-9 Month Index</th>\n",
       "      <th>tweets_sent</th>\n",
       "      <th>reddit_crypto_sent</th>\n",
       "      <th>reddit_econ_sent</th>\n",
       "      <th>volume_gross</th>\n",
       "    </tr>\n",
       "  </thead>\n",
       "  <tbody>\n",
       "    <tr>\n",
       "      <th>2021-08-25</th>\n",
       "      <td>-0.360762</td>\n",
       "      <td>0.861678</td>\n",
       "      <td>1.484932</td>\n",
       "      <td>0.663352</td>\n",
       "      <td>-2.406838</td>\n",
       "      <td>0.372842</td>\n",
       "      <td>-0.087721</td>\n",
       "      <td>0.715103</td>\n",
       "      <td>-1.810167</td>\n",
       "      <td>1.380860</td>\n",
       "      <td>...</td>\n",
       "      <td>2.015781</td>\n",
       "      <td>2.045013</td>\n",
       "      <td>1.966391</td>\n",
       "      <td>1.226304</td>\n",
       "      <td>-0.546254</td>\n",
       "      <td>0.923562</td>\n",
       "      <td>1.289873</td>\n",
       "      <td>0.009306</td>\n",
       "      <td>-0.657061</td>\n",
       "      <td>20.612995</td>\n",
       "    </tr>\n",
       "    <tr>\n",
       "      <th>2021-08-26</th>\n",
       "      <td>-0.319383</td>\n",
       "      <td>0.877497</td>\n",
       "      <td>1.488754</td>\n",
       "      <td>0.683136</td>\n",
       "      <td>-1.972124</td>\n",
       "      <td>0.195304</td>\n",
       "      <td>-0.376206</td>\n",
       "      <td>0.655029</td>\n",
       "      <td>-1.692510</td>\n",
       "      <td>1.350133</td>\n",
       "      <td>...</td>\n",
       "      <td>2.008967</td>\n",
       "      <td>2.046472</td>\n",
       "      <td>1.962435</td>\n",
       "      <td>1.226304</td>\n",
       "      <td>-0.403878</td>\n",
       "      <td>1.883524</td>\n",
       "      <td>3.509417</td>\n",
       "      <td>0.060181</td>\n",
       "      <td>-0.711166</td>\n",
       "      <td>20.825791</td>\n",
       "    </tr>\n",
       "    <tr>\n",
       "      <th>2021-08-27</th>\n",
       "      <td>-0.278358</td>\n",
       "      <td>0.892949</td>\n",
       "      <td>1.491011</td>\n",
       "      <td>0.702777</td>\n",
       "      <td>-1.616306</td>\n",
       "      <td>0.011533</td>\n",
       "      <td>-0.682608</td>\n",
       "      <td>0.257137</td>\n",
       "      <td>-1.579076</td>\n",
       "      <td>1.318399</td>\n",
       "      <td>...</td>\n",
       "      <td>2.067172</td>\n",
       "      <td>2.091647</td>\n",
       "      <td>2.027560</td>\n",
       "      <td>1.226304</td>\n",
       "      <td>-0.403878</td>\n",
       "      <td>-0.618229</td>\n",
       "      <td>0.266756</td>\n",
       "      <td>0.094336</td>\n",
       "      <td>-0.612330</td>\n",
       "      <td>20.563803</td>\n",
       "    </tr>\n",
       "    <tr>\n",
       "      <th>2021-08-28</th>\n",
       "      <td>-0.188108</td>\n",
       "      <td>0.908052</td>\n",
       "      <td>1.493268</td>\n",
       "      <td>0.682938</td>\n",
       "      <td>-1.624699</td>\n",
       "      <td>0.265408</td>\n",
       "      <td>-1.009301</td>\n",
       "      <td>-0.177081</td>\n",
       "      <td>-1.469574</td>\n",
       "      <td>1.297372</td>\n",
       "      <td>...</td>\n",
       "      <td>2.074213</td>\n",
       "      <td>2.101350</td>\n",
       "      <td>2.031989</td>\n",
       "      <td>1.226304</td>\n",
       "      <td>1.015435</td>\n",
       "      <td>1.268133</td>\n",
       "      <td>2.943081</td>\n",
       "      <td>0.147695</td>\n",
       "      <td>-0.699410</td>\n",
       "      <td>19.986069</td>\n",
       "    </tr>\n",
       "    <tr>\n",
       "      <th>2021-08-29</th>\n",
       "      <td>-0.099520</td>\n",
       "      <td>0.908052</td>\n",
       "      <td>1.495523</td>\n",
       "      <td>0.662954</td>\n",
       "      <td>-1.633128</td>\n",
       "      <td>0.507538</td>\n",
       "      <td>-0.625775</td>\n",
       "      <td>-0.654931</td>\n",
       "      <td>-1.212013</td>\n",
       "      <td>1.275878</td>\n",
       "      <td>...</td>\n",
       "      <td>2.081251</td>\n",
       "      <td>2.111049</td>\n",
       "      <td>2.036416</td>\n",
       "      <td>1.226304</td>\n",
       "      <td>-0.403878</td>\n",
       "      <td>0.545835</td>\n",
       "      <td>2.014416</td>\n",
       "      <td>0.201053</td>\n",
       "      <td>-0.702000</td>\n",
       "      <td>20.331581</td>\n",
       "    </tr>\n",
       "    <tr>\n",
       "      <th>...</th>\n",
       "      <td>...</td>\n",
       "      <td>...</td>\n",
       "      <td>...</td>\n",
       "      <td>...</td>\n",
       "      <td>...</td>\n",
       "      <td>...</td>\n",
       "      <td>...</td>\n",
       "      <td>...</td>\n",
       "      <td>...</td>\n",
       "      <td>...</td>\n",
       "      <td>...</td>\n",
       "      <td>...</td>\n",
       "      <td>...</td>\n",
       "      <td>...</td>\n",
       "      <td>...</td>\n",
       "      <td>...</td>\n",
       "      <td>...</td>\n",
       "      <td>...</td>\n",
       "      <td>...</td>\n",
       "      <td>...</td>\n",
       "      <td>...</td>\n",
       "    </tr>\n",
       "    <tr>\n",
       "      <th>2021-11-17</th>\n",
       "      <td>0.413307</td>\n",
       "      <td>1.076333</td>\n",
       "      <td>1.555998</td>\n",
       "      <td>0.785842</td>\n",
       "      <td>-3.293221</td>\n",
       "      <td>1.109824</td>\n",
       "      <td>0.416290</td>\n",
       "      <td>1.325137</td>\n",
       "      <td>-0.797349</td>\n",
       "      <td>1.544637</td>\n",
       "      <td>...</td>\n",
       "      <td>2.318785</td>\n",
       "      <td>2.537117</td>\n",
       "      <td>2.182636</td>\n",
       "      <td>1.229455</td>\n",
       "      <td>-0.377992</td>\n",
       "      <td>1.198626</td>\n",
       "      <td>0.174493</td>\n",
       "      <td>0.323869</td>\n",
       "      <td>-0.677891</td>\n",
       "      <td>21.638166</td>\n",
       "    </tr>\n",
       "    <tr>\n",
       "      <th>2021-11-18</th>\n",
       "      <td>0.468953</td>\n",
       "      <td>1.076333</td>\n",
       "      <td>1.553682</td>\n",
       "      <td>0.770169</td>\n",
       "      <td>-2.715368</td>\n",
       "      <td>1.132334</td>\n",
       "      <td>0.181801</td>\n",
       "      <td>1.360443</td>\n",
       "      <td>-0.911924</td>\n",
       "      <td>1.491252</td>\n",
       "      <td>...</td>\n",
       "      <td>2.302427</td>\n",
       "      <td>2.531405</td>\n",
       "      <td>2.171933</td>\n",
       "      <td>1.231031</td>\n",
       "      <td>-1.594652</td>\n",
       "      <td>0.764770</td>\n",
       "      <td>1.357496</td>\n",
       "      <td>0.323869</td>\n",
       "      <td>-0.555708</td>\n",
       "      <td>21.866546</td>\n",
       "    </tr>\n",
       "    <tr>\n",
       "      <th>2021-11-19</th>\n",
       "      <td>0.523962</td>\n",
       "      <td>1.076333</td>\n",
       "      <td>1.560422</td>\n",
       "      <td>0.754406</td>\n",
       "      <td>-2.269287</td>\n",
       "      <td>1.154748</td>\n",
       "      <td>-0.064390</td>\n",
       "      <td>1.046534</td>\n",
       "      <td>-1.030810</td>\n",
       "      <td>1.434753</td>\n",
       "      <td>...</td>\n",
       "      <td>2.224131</td>\n",
       "      <td>2.442695</td>\n",
       "      <td>2.113888</td>\n",
       "      <td>1.231031</td>\n",
       "      <td>0.561314</td>\n",
       "      <td>-0.276274</td>\n",
       "      <td>0.357381</td>\n",
       "      <td>0.323869</td>\n",
       "      <td>-0.620867</td>\n",
       "      <td>21.474563</td>\n",
       "    </tr>\n",
       "    <tr>\n",
       "      <th>2021-11-20</th>\n",
       "      <td>0.523962</td>\n",
       "      <td>1.076333</td>\n",
       "      <td>1.567154</td>\n",
       "      <td>0.738551</td>\n",
       "      <td>-1.905901</td>\n",
       "      <td>1.154748</td>\n",
       "      <td>-0.323510</td>\n",
       "      <td>0.710450</td>\n",
       "      <td>-1.154344</td>\n",
       "      <td>1.434753</td>\n",
       "      <td>...</td>\n",
       "      <td>2.199696</td>\n",
       "      <td>2.425485</td>\n",
       "      <td>2.084196</td>\n",
       "      <td>1.229455</td>\n",
       "      <td>2.495397</td>\n",
       "      <td>0.093599</td>\n",
       "      <td>-0.223311</td>\n",
       "      <td>0.323869</td>\n",
       "      <td>-0.686026</td>\n",
       "      <td>20.606285</td>\n",
       "    </tr>\n",
       "    <tr>\n",
       "      <th>2021-11-21</th>\n",
       "      <td>0.523962</td>\n",
       "      <td>1.076333</td>\n",
       "      <td>1.573877</td>\n",
       "      <td>0.738551</td>\n",
       "      <td>-1.905901</td>\n",
       "      <td>1.154748</td>\n",
       "      <td>-0.323510</td>\n",
       "      <td>0.348816</td>\n",
       "      <td>-1.154344</td>\n",
       "      <td>1.434753</td>\n",
       "      <td>...</td>\n",
       "      <td>2.175226</td>\n",
       "      <td>2.408263</td>\n",
       "      <td>2.054436</td>\n",
       "      <td>1.227880</td>\n",
       "      <td>-0.543665</td>\n",
       "      <td>1.396272</td>\n",
       "      <td>1.789930</td>\n",
       "      <td>0.323869</td>\n",
       "      <td>-0.694471</td>\n",
       "      <td>20.486826</td>\n",
       "    </tr>\n",
       "  </tbody>\n",
       "</table>\n",
       "<p>89 rows × 61 columns</p>\n",
       "</div>"
      ],
      "text/plain": [
       "            n-transactions-per-block  difficulty  utxo-count      mvrv  \\\n",
       "2021-08-25                 -0.360762    0.861678    1.484932  0.663352   \n",
       "2021-08-26                 -0.319383    0.877497    1.488754  0.683136   \n",
       "2021-08-27                 -0.278358    0.892949    1.491011  0.702777   \n",
       "2021-08-28                 -0.188108    0.908052    1.493268  0.682938   \n",
       "2021-08-29                 -0.099520    0.908052    1.495523  0.662954   \n",
       "...                              ...         ...         ...       ...   \n",
       "2021-11-17                  0.413307    1.076333    1.555998  0.785842   \n",
       "2021-11-18                  0.468953    1.076333    1.553682  0.770169   \n",
       "2021-11-19                  0.523962    1.076333    1.560422  0.754406   \n",
       "2021-11-20                  0.523962    1.076333    1.567154  0.738551   \n",
       "2021-11-21                  0.523962    1.076333    1.573877  0.738551   \n",
       "\n",
       "                 nvt  avg-block-size  n-transactions-excluding-popular  \\\n",
       "2021-08-25 -2.406838        0.372842                         -0.087721   \n",
       "2021-08-26 -1.972124        0.195304                         -0.376206   \n",
       "2021-08-27 -1.616306        0.011533                         -0.682608   \n",
       "2021-08-28 -1.624699        0.265408                         -1.009301   \n",
       "2021-08-29 -1.633128        0.507538                         -0.625775   \n",
       "...              ...             ...                               ...   \n",
       "2021-11-17 -3.293221        1.109824                          0.416290   \n",
       "2021-11-18 -2.715368        1.132334                          0.181801   \n",
       "2021-11-19 -2.269287        1.154748                         -0.064390   \n",
       "2021-11-20 -1.905901        1.154748                         -0.323510   \n",
       "2021-11-21 -1.905901        1.154748                         -0.323510   \n",
       "\n",
       "            n-unique-addresses  median-confirmation-time  miners-revenue  ...  \\\n",
       "2021-08-25            0.715103                 -1.810167        1.380860  ...   \n",
       "2021-08-26            0.655029                 -1.692510        1.350133  ...   \n",
       "2021-08-27            0.257137                 -1.579076        1.318399  ...   \n",
       "2021-08-28           -0.177081                 -1.469574        1.297372  ...   \n",
       "2021-08-29           -0.654931                 -1.212013        1.275878  ...   \n",
       "...                        ...                       ...             ...  ...   \n",
       "2021-11-17            1.325137                 -0.797349        1.544637  ...   \n",
       "2021-11-18            1.360443                 -0.911924        1.491252  ...   \n",
       "2021-11-19            1.046534                 -1.030810        1.434753  ...   \n",
       "2021-11-20            0.710450                 -1.154344        1.434753  ...   \n",
       "2021-11-21            0.348816                 -1.154344        1.434753  ...   \n",
       "\n",
       "            S&P U.S. TIPS 7-10 Year Index (USD)  \\\n",
       "2021-08-25                             2.015781   \n",
       "2021-08-26                             2.008967   \n",
       "2021-08-27                             2.067172   \n",
       "2021-08-28                             2.074213   \n",
       "2021-08-29                             2.081251   \n",
       "...                                         ...   \n",
       "2021-11-17                             2.318785   \n",
       "2021-11-18                             2.302427   \n",
       "2021-11-19                             2.224131   \n",
       "2021-11-20                             2.199696   \n",
       "2021-11-21                             2.175226   \n",
       "\n",
       "            S&P U.S. Treasury Bond 3-5 Year Index  \\\n",
       "2021-08-25                               2.045013   \n",
       "2021-08-26                               2.046472   \n",
       "2021-08-27                               2.091647   \n",
       "2021-08-28                               2.101350   \n",
       "2021-08-29                               2.111049   \n",
       "...                                           ...   \n",
       "2021-11-17                               2.537117   \n",
       "2021-11-18                               2.531405   \n",
       "2021-11-19                               2.442695   \n",
       "2021-11-20                               2.425485   \n",
       "2021-11-21                               2.408263   \n",
       "\n",
       "            S&P U.S. TIPS 3-5 Year Index (USD)  \\\n",
       "2021-08-25                            1.966391   \n",
       "2021-08-26                            1.962435   \n",
       "2021-08-27                            2.027560   \n",
       "2021-08-28                            2.031989   \n",
       "2021-08-29                            2.036416   \n",
       "...                                        ...   \n",
       "2021-11-17                            2.182636   \n",
       "2021-11-18                            2.171933   \n",
       "2021-11-19                            2.113888   \n",
       "2021-11-20                            2.084196   \n",
       "2021-11-21                            2.054436   \n",
       "\n",
       "            S&P U.S. TIPS 1-3 Year Index (USD)  \\\n",
       "2021-08-25                            1.226304   \n",
       "2021-08-26                            1.226304   \n",
       "2021-08-27                            1.226304   \n",
       "2021-08-28                            1.226304   \n",
       "2021-08-29                            1.226304   \n",
       "...                                        ...   \n",
       "2021-11-17                            1.229455   \n",
       "2021-11-18                            1.231031   \n",
       "2021-11-19                            1.231031   \n",
       "2021-11-20                            1.229455   \n",
       "2021-11-21                            1.227880   \n",
       "\n",
       "            S&P U.S. TIPS 5-7 Year Index (USD)  \\\n",
       "2021-08-25                           -0.546254   \n",
       "2021-08-26                           -0.403878   \n",
       "2021-08-27                           -0.403878   \n",
       "2021-08-28                            1.015435   \n",
       "2021-08-29                           -0.403878   \n",
       "...                                        ...   \n",
       "2021-11-17                           -0.377992   \n",
       "2021-11-18                           -1.594652   \n",
       "2021-11-19                            0.561314   \n",
       "2021-11-20                            2.495397   \n",
       "2021-11-21                           -0.543665   \n",
       "\n",
       "            S&P U.S. Treasury Bill 6-9 Month Index  tweets_sent  \\\n",
       "2021-08-25                                0.923562     1.289873   \n",
       "2021-08-26                                1.883524     3.509417   \n",
       "2021-08-27                               -0.618229     0.266756   \n",
       "2021-08-28                                1.268133     2.943081   \n",
       "2021-08-29                                0.545835     2.014416   \n",
       "...                                            ...          ...   \n",
       "2021-11-17                                1.198626     0.174493   \n",
       "2021-11-18                                0.764770     1.357496   \n",
       "2021-11-19                               -0.276274     0.357381   \n",
       "2021-11-20                                0.093599    -0.223311   \n",
       "2021-11-21                                1.396272     1.789930   \n",
       "\n",
       "            reddit_crypto_sent  reddit_econ_sent  volume_gross  \n",
       "2021-08-25            0.009306         -0.657061     20.612995  \n",
       "2021-08-26            0.060181         -0.711166     20.825791  \n",
       "2021-08-27            0.094336         -0.612330     20.563803  \n",
       "2021-08-28            0.147695         -0.699410     19.986069  \n",
       "2021-08-29            0.201053         -0.702000     20.331581  \n",
       "...                        ...               ...           ...  \n",
       "2021-11-17            0.323869         -0.677891     21.638166  \n",
       "2021-11-18            0.323869         -0.555708     21.866546  \n",
       "2021-11-19            0.323869         -0.620867     21.474563  \n",
       "2021-11-20            0.323869         -0.686026     20.606285  \n",
       "2021-11-21            0.323869         -0.694471     20.486826  \n",
       "\n",
       "[89 rows x 61 columns]"
      ]
     },
     "execution_count": 49,
     "metadata": {},
     "output_type": "execute_result"
    }
   ],
   "source": [
    "clean_test_features(fake_1)"
   ]
  },
  {
   "cell_type": "code",
   "execution_count": null,
   "id": "630944b1",
   "metadata": {},
   "outputs": [],
   "source": []
  },
  {
   "cell_type": "markdown",
   "id": "4301b0f9",
   "metadata": {},
   "source": [
    "# Placeholder prediction array"
   ]
  },
  {
   "cell_type": "code",
   "execution_count": null,
   "id": "e2883e65",
   "metadata": {},
   "outputs": [],
   "source": [
    "url = \"https://cloudsentiment-gijujv7fiq-ew.a.run.app/predict\""
   ]
  },
  {
   "cell_type": "code",
   "execution_count": 109,
   "id": "5fbc7c3d",
   "metadata": {},
   "outputs": [],
   "source": [
    "pred_df = df.interpolate(method='linear',axis=0)\n",
    "pred_df['volume_gross'] = np.log(pred_df['volume_gross'])"
   ]
  },
  {
   "cell_type": "code",
   "execution_count": 235,
   "id": "6cc68741",
   "metadata": {},
   "outputs": [
    {
     "data": {
      "text/plain": [
       "1972"
      ]
     },
     "execution_count": 235,
     "metadata": {},
     "output_type": "execute_result"
    }
   ],
   "source": [
    "pred_df.shape[0]"
   ]
  },
  {
   "cell_type": "code",
   "execution_count": 244,
   "id": "7d309cc4",
   "metadata": {},
   "outputs": [],
   "source": [
    "pred_mape_4 = df[[\"volume_gross\"]].iloc[91:]\n",
    "pred_mape_4.columns = [\"volume_actual\"]"
   ]
  },
  {
   "cell_type": "code",
   "execution_count": 245,
   "id": "646d1356",
   "metadata": {},
   "outputs": [],
   "source": [
    "pred_mape_4.loc[dt.datetime(2021, 11,\n",
    "                                    23)] = real_volume.loc[dt.datetime(\n",
    "                                        2021, 11, 23)][\"volume_gross\"]"
   ]
  },
  {
   "cell_type": "code",
   "execution_count": 122,
   "id": "56eec5bd",
   "metadata": {},
   "outputs": [],
   "source": [
    "#pred_mape_2.drop(dt.datetime(2021, 10,23), inplace = True)"
   ]
  },
  {
   "cell_type": "code",
   "execution_count": 247,
   "id": "82df6810",
   "metadata": {},
   "outputs": [
    {
     "data": {
      "text/html": [
       "<div>\n",
       "<style scoped>\n",
       "    .dataframe tbody tr th:only-of-type {\n",
       "        vertical-align: middle;\n",
       "    }\n",
       "\n",
       "    .dataframe tbody tr th {\n",
       "        vertical-align: top;\n",
       "    }\n",
       "\n",
       "    .dataframe thead th {\n",
       "        text-align: right;\n",
       "    }\n",
       "</style>\n",
       "<table border=\"1\" class=\"dataframe\">\n",
       "  <thead>\n",
       "    <tr style=\"text-align: right;\">\n",
       "      <th></th>\n",
       "      <th>volume_actual</th>\n",
       "    </tr>\n",
       "  </thead>\n",
       "  <tbody>\n",
       "    <tr>\n",
       "      <th>2016-09-29</th>\n",
       "      <td>4.916548e+06</td>\n",
       "    </tr>\n",
       "  </tbody>\n",
       "</table>\n",
       "</div>"
      ],
      "text/plain": [
       "            volume_actual\n",
       "2016-09-29   4.916548e+06"
      ]
     },
     "execution_count": 247,
     "metadata": {},
     "output_type": "execute_result"
    }
   ],
   "source": [
    "pred_mape_4.head(1)"
   ]
  },
  {
   "cell_type": "code",
   "execution_count": 250,
   "id": "e1f0d2bb",
   "metadata": {},
   "outputs": [
    {
     "data": {
      "text/plain": [
       "(1882, 1)"
      ]
     },
     "execution_count": 250,
     "metadata": {},
     "output_type": "execute_result"
    }
   ],
   "source": [
    "pred_mape_4.shape"
   ]
  },
  {
   "cell_type": "code",
   "execution_count": 351,
   "id": "27cff674",
   "metadata": {},
   "outputs": [],
   "source": [
    "pred_df.iloc[-90:].to_csv(f\"gcs://wagon-data-750-btc-sent-fc/input_data/pred_1.csv\")"
   ]
  },
  {
   "cell_type": "code",
   "execution_count": 238,
   "id": "87be2391",
   "metadata": {},
   "outputs": [
    {
     "data": {
      "text/plain": [
       "1882"
      ]
     },
     "execution_count": 238,
     "metadata": {},
     "output_type": "execute_result"
    }
   ],
   "source": [
    "pred_df.shape[0]-90"
   ]
  },
  {
   "cell_type": "code",
   "execution_count": 380,
   "id": "d6afcc4a",
   "metadata": {},
   "outputs": [],
   "source": [
    "#for i in range(1, pred_df.shape[0]-90):\n",
    "#        pred_df.iloc[-(90+i):-i].to_csv(\n",
    "#        f\"gcs://wagon-data-750-btc-sent-fc/input_data/pred_{i+1}.csv\")  #"
   ]
  },
  {
   "cell_type": "code",
   "execution_count": 240,
   "id": "a101e400",
   "metadata": {},
   "outputs": [
    {
     "data": {
      "text/html": [
       "<div>\n",
       "<style scoped>\n",
       "    .dataframe tbody tr th:only-of-type {\n",
       "        vertical-align: middle;\n",
       "    }\n",
       "\n",
       "    .dataframe tbody tr th {\n",
       "        vertical-align: top;\n",
       "    }\n",
       "\n",
       "    .dataframe thead th {\n",
       "        text-align: right;\n",
       "    }\n",
       "</style>\n",
       "<table border=\"1\" class=\"dataframe\">\n",
       "  <thead>\n",
       "    <tr style=\"text-align: right;\">\n",
       "      <th></th>\n",
       "      <th>Unnamed: 0</th>\n",
       "      <th>n-transactions-per-block</th>\n",
       "      <th>difficulty</th>\n",
       "      <th>utxo-count</th>\n",
       "      <th>mvrv</th>\n",
       "      <th>nvt</th>\n",
       "      <th>avg-block-size</th>\n",
       "      <th>n-transactions-excluding-popular</th>\n",
       "      <th>n-unique-addresses</th>\n",
       "      <th>median-confirmation-time</th>\n",
       "      <th>...</th>\n",
       "      <th>tweets_sent</th>\n",
       "      <th>reddit_crypto_sent</th>\n",
       "      <th>reddit_econ_sent</th>\n",
       "      <th>volume_gross</th>\n",
       "      <th>crypto_pos</th>\n",
       "      <th>crypto_neg</th>\n",
       "      <th>crypto_neu</th>\n",
       "      <th>econ_pos</th>\n",
       "      <th>econ_neg</th>\n",
       "      <th>econ_neu</th>\n",
       "    </tr>\n",
       "  </thead>\n",
       "  <tbody>\n",
       "    <tr>\n",
       "      <th>0</th>\n",
       "      <td>2016-07-01</td>\n",
       "      <td>1414.325108</td>\n",
       "      <td>2.094532e+11</td>\n",
       "      <td>3.976440e+07</td>\n",
       "      <td>1.896975</td>\n",
       "      <td>7.678641</td>\n",
       "      <td>0.736557</td>\n",
       "      <td>202414.000000</td>\n",
       "      <td>356294.000000</td>\n",
       "      <td>8.166667</td>\n",
       "      <td>...</td>\n",
       "      <td>-0.283333</td>\n",
       "      <td>0.102044</td>\n",
       "      <td>0.078542</td>\n",
       "      <td>16.018265</td>\n",
       "      <td>0.086713</td>\n",
       "      <td>0.103169</td>\n",
       "      <td>0.810118</td>\n",
       "      <td>0.140822</td>\n",
       "      <td>0.150504</td>\n",
       "      <td>0.708674</td>\n",
       "    </tr>\n",
       "    <tr>\n",
       "      <th>1</th>\n",
       "      <td>2016-07-02</td>\n",
       "      <td>1282.250216</td>\n",
       "      <td>2.094880e+11</td>\n",
       "      <td>3.979276e+07</td>\n",
       "      <td>1.890508</td>\n",
       "      <td>7.786408</td>\n",
       "      <td>0.675603</td>\n",
       "      <td>205482.000000</td>\n",
       "      <td>348963.000000</td>\n",
       "      <td>7.988889</td>\n",
       "      <td>...</td>\n",
       "      <td>0.059091</td>\n",
       "      <td>-0.005800</td>\n",
       "      <td>-0.034312</td>\n",
       "      <td>15.728642</td>\n",
       "      <td>0.094833</td>\n",
       "      <td>0.084204</td>\n",
       "      <td>0.820962</td>\n",
       "      <td>0.085085</td>\n",
       "      <td>0.214815</td>\n",
       "      <td>0.700100</td>\n",
       "    </tr>\n",
       "    <tr>\n",
       "      <th>2</th>\n",
       "      <td>2016-07-03</td>\n",
       "      <td>1150.175325</td>\n",
       "      <td>2.095228e+11</td>\n",
       "      <td>3.982112e+07</td>\n",
       "      <td>1.884042</td>\n",
       "      <td>7.894175</td>\n",
       "      <td>0.614649</td>\n",
       "      <td>208550.000000</td>\n",
       "      <td>360712.666667</td>\n",
       "      <td>7.811111</td>\n",
       "      <td>...</td>\n",
       "      <td>0.000000</td>\n",
       "      <td>0.015013</td>\n",
       "      <td>0.020940</td>\n",
       "      <td>15.945403</td>\n",
       "      <td>0.126766</td>\n",
       "      <td>0.109568</td>\n",
       "      <td>0.763666</td>\n",
       "      <td>0.064866</td>\n",
       "      <td>0.215263</td>\n",
       "      <td>0.719870</td>\n",
       "    </tr>\n",
       "    <tr>\n",
       "      <th>3</th>\n",
       "      <td>2016-07-04</td>\n",
       "      <td>1277.952597</td>\n",
       "      <td>2.095577e+11</td>\n",
       "      <td>3.984947e+07</td>\n",
       "      <td>1.877575</td>\n",
       "      <td>8.001942</td>\n",
       "      <td>0.675615</td>\n",
       "      <td>211618.000000</td>\n",
       "      <td>372462.333333</td>\n",
       "      <td>7.633333</td>\n",
       "      <td>...</td>\n",
       "      <td>0.000000</td>\n",
       "      <td>0.040985</td>\n",
       "      <td>0.047200</td>\n",
       "      <td>15.544455</td>\n",
       "      <td>0.074235</td>\n",
       "      <td>0.126823</td>\n",
       "      <td>0.798941</td>\n",
       "      <td>0.060054</td>\n",
       "      <td>0.168777</td>\n",
       "      <td>0.771169</td>\n",
       "    </tr>\n",
       "    <tr>\n",
       "      <th>4</th>\n",
       "      <td>2016-07-05</td>\n",
       "      <td>1405.729870</td>\n",
       "      <td>2.108381e+11</td>\n",
       "      <td>3.988524e+07</td>\n",
       "      <td>1.843449</td>\n",
       "      <td>7.499257</td>\n",
       "      <td>0.736582</td>\n",
       "      <td>212097.000000</td>\n",
       "      <td>384212.000000</td>\n",
       "      <td>8.005556</td>\n",
       "      <td>...</td>\n",
       "      <td>0.121429</td>\n",
       "      <td>0.082286</td>\n",
       "      <td>-0.155104</td>\n",
       "      <td>15.749834</td>\n",
       "      <td>0.240535</td>\n",
       "      <td>0.064048</td>\n",
       "      <td>0.695417</td>\n",
       "      <td>0.100041</td>\n",
       "      <td>0.219965</td>\n",
       "      <td>0.679994</td>\n",
       "    </tr>\n",
       "    <tr>\n",
       "      <th>...</th>\n",
       "      <td>...</td>\n",
       "      <td>...</td>\n",
       "      <td>...</td>\n",
       "      <td>...</td>\n",
       "      <td>...</td>\n",
       "      <td>...</td>\n",
       "      <td>...</td>\n",
       "      <td>...</td>\n",
       "      <td>...</td>\n",
       "      <td>...</td>\n",
       "      <td>...</td>\n",
       "      <td>...</td>\n",
       "      <td>...</td>\n",
       "      <td>...</td>\n",
       "      <td>...</td>\n",
       "      <td>...</td>\n",
       "      <td>...</td>\n",
       "      <td>...</td>\n",
       "      <td>...</td>\n",
       "      <td>...</td>\n",
       "      <td>...</td>\n",
       "    </tr>\n",
       "    <tr>\n",
       "      <th>85</th>\n",
       "      <td>2016-09-24</td>\n",
       "      <td>1251.652150</td>\n",
       "      <td>2.309643e+11</td>\n",
       "      <td>4.186702e+07</td>\n",
       "      <td>1.614089</td>\n",
       "      <td>7.207065</td>\n",
       "      <td>0.634798</td>\n",
       "      <td>222425.333333</td>\n",
       "      <td>368915.000000</td>\n",
       "      <td>8.905556</td>\n",
       "      <td>...</td>\n",
       "      <td>0.011111</td>\n",
       "      <td>0.112856</td>\n",
       "      <td>-0.022875</td>\n",
       "      <td>14.982902</td>\n",
       "      <td>0.177192</td>\n",
       "      <td>0.070919</td>\n",
       "      <td>0.751889</td>\n",
       "      <td>0.053470</td>\n",
       "      <td>0.207262</td>\n",
       "      <td>0.739269</td>\n",
       "    </tr>\n",
       "    <tr>\n",
       "      <th>86</th>\n",
       "      <td>2016-09-25</td>\n",
       "      <td>1057.524324</td>\n",
       "      <td>2.360958e+11</td>\n",
       "      <td>4.187965e+07</td>\n",
       "      <td>1.613247</td>\n",
       "      <td>7.820541</td>\n",
       "      <td>0.570906</td>\n",
       "      <td>224970.666667</td>\n",
       "      <td>389109.666667</td>\n",
       "      <td>7.927778</td>\n",
       "      <td>...</td>\n",
       "      <td>0.000000</td>\n",
       "      <td>0.094548</td>\n",
       "      <td>0.128692</td>\n",
       "      <td>14.929592</td>\n",
       "      <td>0.248131</td>\n",
       "      <td>0.023046</td>\n",
       "      <td>0.728822</td>\n",
       "      <td>0.053173</td>\n",
       "      <td>0.102561</td>\n",
       "      <td>0.844266</td>\n",
       "    </tr>\n",
       "    <tr>\n",
       "      <th>87</th>\n",
       "      <td>2016-09-26</td>\n",
       "      <td>1234.284234</td>\n",
       "      <td>2.412272e+11</td>\n",
       "      <td>4.188610e+07</td>\n",
       "      <td>1.612405</td>\n",
       "      <td>8.434017</td>\n",
       "      <td>0.641373</td>\n",
       "      <td>227516.000000</td>\n",
       "      <td>409304.333333</td>\n",
       "      <td>6.950000</td>\n",
       "      <td>...</td>\n",
       "      <td>0.025000</td>\n",
       "      <td>0.063968</td>\n",
       "      <td>-0.132363</td>\n",
       "      <td>15.445899</td>\n",
       "      <td>0.190115</td>\n",
       "      <td>0.096993</td>\n",
       "      <td>0.712891</td>\n",
       "      <td>0.041662</td>\n",
       "      <td>0.280505</td>\n",
       "      <td>0.677833</td>\n",
       "    </tr>\n",
       "    <tr>\n",
       "      <th>88</th>\n",
       "      <td>2016-09-27</td>\n",
       "      <td>1411.044144</td>\n",
       "      <td>2.412272e+11</td>\n",
       "      <td>4.189255e+07</td>\n",
       "      <td>1.617083</td>\n",
       "      <td>7.122488</td>\n",
       "      <td>0.711839</td>\n",
       "      <td>230773.000000</td>\n",
       "      <td>429499.000000</td>\n",
       "      <td>7.750000</td>\n",
       "      <td>...</td>\n",
       "      <td>-0.083333</td>\n",
       "      <td>0.016500</td>\n",
       "      <td>0.014442</td>\n",
       "      <td>15.477224</td>\n",
       "      <td>0.101275</td>\n",
       "      <td>0.124623</td>\n",
       "      <td>0.774102</td>\n",
       "      <td>0.094356</td>\n",
       "      <td>0.238900</td>\n",
       "      <td>0.666744</td>\n",
       "    </tr>\n",
       "    <tr>\n",
       "      <th>89</th>\n",
       "      <td>2016-09-28</td>\n",
       "      <td>1587.804054</td>\n",
       "      <td>2.412272e+11</td>\n",
       "      <td>4.191430e+07</td>\n",
       "      <td>1.621761</td>\n",
       "      <td>5.810959</td>\n",
       "      <td>0.782306</td>\n",
       "      <td>234030.000000</td>\n",
       "      <td>435142.666667</td>\n",
       "      <td>8.550000</td>\n",
       "      <td>...</td>\n",
       "      <td>-0.166667</td>\n",
       "      <td>-0.011000</td>\n",
       "      <td>-0.027308</td>\n",
       "      <td>15.300533</td>\n",
       "      <td>0.104264</td>\n",
       "      <td>0.203178</td>\n",
       "      <td>0.692558</td>\n",
       "      <td>0.065252</td>\n",
       "      <td>0.237501</td>\n",
       "      <td>0.697247</td>\n",
       "    </tr>\n",
       "  </tbody>\n",
       "</table>\n",
       "<p>90 rows × 68 columns</p>\n",
       "</div>"
      ],
      "text/plain": [
       "    Unnamed: 0  n-transactions-per-block    difficulty    utxo-count  \\\n",
       "0   2016-07-01               1414.325108  2.094532e+11  3.976440e+07   \n",
       "1   2016-07-02               1282.250216  2.094880e+11  3.979276e+07   \n",
       "2   2016-07-03               1150.175325  2.095228e+11  3.982112e+07   \n",
       "3   2016-07-04               1277.952597  2.095577e+11  3.984947e+07   \n",
       "4   2016-07-05               1405.729870  2.108381e+11  3.988524e+07   \n",
       "..         ...                       ...           ...           ...   \n",
       "85  2016-09-24               1251.652150  2.309643e+11  4.186702e+07   \n",
       "86  2016-09-25               1057.524324  2.360958e+11  4.187965e+07   \n",
       "87  2016-09-26               1234.284234  2.412272e+11  4.188610e+07   \n",
       "88  2016-09-27               1411.044144  2.412272e+11  4.189255e+07   \n",
       "89  2016-09-28               1587.804054  2.412272e+11  4.191430e+07   \n",
       "\n",
       "        mvrv       nvt  avg-block-size  n-transactions-excluding-popular  \\\n",
       "0   1.896975  7.678641        0.736557                     202414.000000   \n",
       "1   1.890508  7.786408        0.675603                     205482.000000   \n",
       "2   1.884042  7.894175        0.614649                     208550.000000   \n",
       "3   1.877575  8.001942        0.675615                     211618.000000   \n",
       "4   1.843449  7.499257        0.736582                     212097.000000   \n",
       "..       ...       ...             ...                               ...   \n",
       "85  1.614089  7.207065        0.634798                     222425.333333   \n",
       "86  1.613247  7.820541        0.570906                     224970.666667   \n",
       "87  1.612405  8.434017        0.641373                     227516.000000   \n",
       "88  1.617083  7.122488        0.711839                     230773.000000   \n",
       "89  1.621761  5.810959        0.782306                     234030.000000   \n",
       "\n",
       "    n-unique-addresses  median-confirmation-time  ...  tweets_sent  \\\n",
       "0        356294.000000                  8.166667  ...    -0.283333   \n",
       "1        348963.000000                  7.988889  ...     0.059091   \n",
       "2        360712.666667                  7.811111  ...     0.000000   \n",
       "3        372462.333333                  7.633333  ...     0.000000   \n",
       "4        384212.000000                  8.005556  ...     0.121429   \n",
       "..                 ...                       ...  ...          ...   \n",
       "85       368915.000000                  8.905556  ...     0.011111   \n",
       "86       389109.666667                  7.927778  ...     0.000000   \n",
       "87       409304.333333                  6.950000  ...     0.025000   \n",
       "88       429499.000000                  7.750000  ...    -0.083333   \n",
       "89       435142.666667                  8.550000  ...    -0.166667   \n",
       "\n",
       "    reddit_crypto_sent  reddit_econ_sent  volume_gross  crypto_pos  \\\n",
       "0             0.102044          0.078542     16.018265    0.086713   \n",
       "1            -0.005800         -0.034312     15.728642    0.094833   \n",
       "2             0.015013          0.020940     15.945403    0.126766   \n",
       "3             0.040985          0.047200     15.544455    0.074235   \n",
       "4             0.082286         -0.155104     15.749834    0.240535   \n",
       "..                 ...               ...           ...         ...   \n",
       "85            0.112856         -0.022875     14.982902    0.177192   \n",
       "86            0.094548          0.128692     14.929592    0.248131   \n",
       "87            0.063968         -0.132363     15.445899    0.190115   \n",
       "88            0.016500          0.014442     15.477224    0.101275   \n",
       "89           -0.011000         -0.027308     15.300533    0.104264   \n",
       "\n",
       "    crypto_neg  crypto_neu  econ_pos  econ_neg  econ_neu  \n",
       "0     0.103169    0.810118  0.140822  0.150504  0.708674  \n",
       "1     0.084204    0.820962  0.085085  0.214815  0.700100  \n",
       "2     0.109568    0.763666  0.064866  0.215263  0.719870  \n",
       "3     0.126823    0.798941  0.060054  0.168777  0.771169  \n",
       "4     0.064048    0.695417  0.100041  0.219965  0.679994  \n",
       "..         ...         ...       ...       ...       ...  \n",
       "85    0.070919    0.751889  0.053470  0.207262  0.739269  \n",
       "86    0.023046    0.728822  0.053173  0.102561  0.844266  \n",
       "87    0.096993    0.712891  0.041662  0.280505  0.677833  \n",
       "88    0.124623    0.774102  0.094356  0.238900  0.666744  \n",
       "89    0.203178    0.692558  0.065252  0.237501  0.697247  \n",
       "\n",
       "[90 rows x 68 columns]"
      ]
     },
     "execution_count": 240,
     "metadata": {},
     "output_type": "execute_result"
    }
   ],
   "source": [
    "pd.read_csv(\"gcs://wagon-data-750-btc-sent-fc/input_data/pred_1882\")"
   ]
  },
  {
   "cell_type": "code",
   "execution_count": 379,
   "id": "ef5c5295",
   "metadata": {},
   "outputs": [
    {
     "data": {
      "text/plain": [
       "1682710000.0"
      ]
     },
     "execution_count": 379,
     "metadata": {},
     "output_type": "execute_result"
    }
   ],
   "source": [
    "predict(\"pred_1\")"
   ]
  },
  {
   "cell_type": "code",
   "execution_count": 115,
   "id": "4547ed59",
   "metadata": {},
   "outputs": [],
   "source": [
    "fs = gcsfs.GCSFileSystem()\n",
    "with fs.open(\"gcs://wagon-data-750-btc-sent-fc/model/RNN_2_MAPE_best.joblib\") as f:\n",
    "    model = joblib.load(f)"
   ]
  },
  {
   "cell_type": "code",
   "execution_count": 248,
   "id": "252acf2d",
   "metadata": {},
   "outputs": [],
   "source": [
    "def predict(file_name, shape=(1, 90, 67)):\n",
    "    \"\"\"model_name is a string - \"model_name.joblib\"\n",
    "    date is also a string - in the format \"yyyy_mm_dd\"\n",
    "    shape is a 3 part tuple with the input dimensions of the model\"\"\"\n",
    "    X_pred = np.zeros((1, 90, 67))\n",
    "    X_df = pd.read_csv(\n",
    "        f\"gcs://wagon-data-750-btc-sent-fc/input_data/{file_name}\",\n",
    "        index_col=0,\n",
    "        parse_dates=True)\n",
    "    X_pred[0] = X_df\n",
    "    y_pred = model.predict_on_batch(X_pred)\n",
    "    return np.exp(y_pred[0][0])"
   ]
  },
  {
   "cell_type": "code",
   "execution_count": 249,
   "id": "dca85879",
   "metadata": {},
   "outputs": [
    {
     "data": {
      "text/plain": [
       "949266240.0"
      ]
     },
     "execution_count": 249,
     "metadata": {},
     "output_type": "execute_result"
    }
   ],
   "source": [
    "predict(\"pred_170\")"
   ]
  },
  {
   "cell_type": "code",
   "execution_count": 251,
   "id": "1a5028fe",
   "metadata": {},
   "outputs": [],
   "source": [
    "predictions = []\n",
    "for i in range(1, 1883):\n",
    "    predictions.append(predict(file_name=f\"pred_{i}\"))"
   ]
  },
  {
   "cell_type": "code",
   "execution_count": 259,
   "id": "01d21254",
   "metadata": {},
   "outputs": [],
   "source": [
    "pred_mape_4[\"volume_pred\"] = list(reversed(predictions))"
   ]
  },
  {
   "cell_type": "code",
   "execution_count": 253,
   "id": "33646b66",
   "metadata": {},
   "outputs": [
    {
     "data": {
      "text/plain": [
       "(1882, 2)"
      ]
     },
     "execution_count": 253,
     "metadata": {},
     "output_type": "execute_result"
    }
   ],
   "source": [
    "pred_mape_4.shape"
   ]
  },
  {
   "cell_type": "code",
   "execution_count": 316,
   "id": "31ddbf43",
   "metadata": {},
   "outputs": [
    {
     "data": {
      "text/plain": [
       "[<matplotlib.lines.Line2D at 0x7f3ffae24820>]"
      ]
     },
     "execution_count": 316,
     "metadata": {},
     "output_type": "execute_result"
    },
    {
     "data": {
      "image/png": "[encoded data removed]",
      "text/plain": [
       "<Figure size 432x288 with 1 Axes>"
      ]
     },
     "metadata": {
      "needs_background": "light"
     },
     "output_type": "display_data"
    }
   ],
   "source": [
    "plt.plot(np.log(pred_mape_4[\"volume_actual\"]))\n",
    "plt.plot(np.log(pred_mape_4[\"volume_pred\"]))"
   ]
  },
  {
   "cell_type": "code",
   "execution_count": 261,
   "id": "53ab16f7",
   "metadata": {},
   "outputs": [],
   "source": [
    "pred_mape_4[\"pred_norm\"] = (pred_mape_4[\"volume_pred\"] -\n",
    "        np.mean(pred_mape_4[\"volume_pred\"])) / np.std(\n",
    "            pred_mape_4[\"volume_pred\"])\n",
    "pred_mape_4[\"actual_norm\"] = (pred_mape_4[\"volume_actual\"] -\n",
    "          np.mean(pred_mape_4[\"volume_actual\"])) / np.std(\n",
    "              pred_mape_4[\"volume_actual\"])"
   ]
  },
  {
   "cell_type": "code",
   "execution_count": 263,
   "id": "355b4b41",
   "metadata": {},
   "outputs": [
    {
     "data": {
      "text/plain": [
       "[<matplotlib.lines.Line2D at 0x7f3fbffd40d0>]"
      ]
     },
     "execution_count": 263,
     "metadata": {},
     "output_type": "execute_result"
    },
    {
     "data": {
      "image/png": "[encoded data removed]",
      "text/plain": [
       "<Figure size 432x288 with 1 Axes>"
      ]
     },
     "metadata": {
      "needs_background": "light"
     },
     "output_type": "display_data"
    }
   ],
   "source": [
    "plt.plot(pred_mape_4[\"actual_norm\"])\n",
    "plt.plot(pred_mape_4[\"pred_norm\"])"
   ]
  },
  {
   "cell_type": "code",
   "execution_count": null,
   "id": "c9466f3b",
   "metadata": {},
   "outputs": [],
   "source": [
    "np.sqrt(mse(pred_mape_4[\"volume_actual\"], pred_mape_4[\"volume_pred\"]))"
   ]
  },
  {
   "cell_type": "code",
   "execution_count": null,
   "id": "49c2a9a6",
   "metadata": {},
   "outputs": [],
   "source": [
    "mae(pred_mape_4[\"volume_actual\"], pred_mape_4[\"volume_actual_y\"])"
   ]
  },
  {
   "cell_type": "code",
   "execution_count": 317,
   "id": "0db1e0aa",
   "metadata": {},
   "outputs": [
    {
     "data": {
      "text/html": [
       "<div>\n",
       "<style scoped>\n",
       "    .dataframe tbody tr th:only-of-type {\n",
       "        vertical-align: middle;\n",
       "    }\n",
       "\n",
       "    .dataframe tbody tr th {\n",
       "        vertical-align: top;\n",
       "    }\n",
       "\n",
       "    .dataframe thead th {\n",
       "        text-align: right;\n",
       "    }\n",
       "</style>\n",
       "<table border=\"1\" class=\"dataframe\">\n",
       "  <thead>\n",
       "    <tr style=\"text-align: right;\">\n",
       "      <th></th>\n",
       "      <th>volume_actual</th>\n",
       "      <th>volume_pred</th>\n",
       "      <th>actual_norm</th>\n",
       "      <th>pred_norm</th>\n",
       "    </tr>\n",
       "  </thead>\n",
       "  <tbody>\n",
       "    <tr>\n",
       "      <th>2021-10-24</th>\n",
       "      <td>1.037417e+09</td>\n",
       "      <td>1.722125e+09</td>\n",
       "      <td>-0.853389</td>\n",
       "      <td>-0.540968</td>\n",
       "    </tr>\n",
       "    <tr>\n",
       "      <th>2021-10-25</th>\n",
       "      <td>1.311339e+09</td>\n",
       "      <td>1.731106e+09</td>\n",
       "      <td>-0.443150</td>\n",
       "      <td>-0.435833</td>\n",
       "    </tr>\n",
       "    <tr>\n",
       "      <th>2021-10-26</th>\n",
       "      <td>1.502727e+09</td>\n",
       "      <td>1.724136e+09</td>\n",
       "      <td>-0.156518</td>\n",
       "      <td>-0.517422</td>\n",
       "    </tr>\n",
       "    <tr>\n",
       "      <th>2021-10-27</th>\n",
       "      <td>2.245568e+09</td>\n",
       "      <td>1.802666e+09</td>\n",
       "      <td>0.955996</td>\n",
       "      <td>0.401918</td>\n",
       "    </tr>\n",
       "    <tr>\n",
       "      <th>2021-10-28</th>\n",
       "      <td>2.329611e+09</td>\n",
       "      <td>1.844662e+09</td>\n",
       "      <td>1.081862</td>\n",
       "      <td>0.893560</td>\n",
       "    </tr>\n",
       "    <tr>\n",
       "      <th>2021-10-29</th>\n",
       "      <td>1.908097e+09</td>\n",
       "      <td>1.984253e+09</td>\n",
       "      <td>0.450583</td>\n",
       "      <td>2.527738</td>\n",
       "    </tr>\n",
       "    <tr>\n",
       "      <th>2021-10-30</th>\n",
       "      <td>8.365006e+08</td>\n",
       "      <td>1.960227e+09</td>\n",
       "      <td>-1.154291</td>\n",
       "      <td>2.246468</td>\n",
       "    </tr>\n",
       "    <tr>\n",
       "      <th>2021-10-31</th>\n",
       "      <td>1.023331e+09</td>\n",
       "      <td>1.812412e+09</td>\n",
       "      <td>-0.874485</td>\n",
       "      <td>0.516017</td>\n",
       "    </tr>\n",
       "    <tr>\n",
       "      <th>2021-11-01</th>\n",
       "      <td>1.432807e+09</td>\n",
       "      <td>1.737732e+09</td>\n",
       "      <td>-0.261233</td>\n",
       "      <td>-0.358261</td>\n",
       "    </tr>\n",
       "    <tr>\n",
       "      <th>2021-11-02</th>\n",
       "      <td>1.715945e+09</td>\n",
       "      <td>1.753376e+09</td>\n",
       "      <td>0.162806</td>\n",
       "      <td>-0.175111</td>\n",
       "    </tr>\n",
       "    <tr>\n",
       "      <th>2021-11-03</th>\n",
       "      <td>1.611750e+09</td>\n",
       "      <td>1.766707e+09</td>\n",
       "      <td>0.006760</td>\n",
       "      <td>-0.019049</td>\n",
       "    </tr>\n",
       "    <tr>\n",
       "      <th>2021-11-04</th>\n",
       "      <td>1.365874e+09</td>\n",
       "      <td>1.766484e+09</td>\n",
       "      <td>-0.361476</td>\n",
       "      <td>-0.021655</td>\n",
       "    </tr>\n",
       "    <tr>\n",
       "      <th>2021-11-05</th>\n",
       "      <td>1.304567e+09</td>\n",
       "      <td>1.774163e+09</td>\n",
       "      <td>-0.453292</td>\n",
       "      <td>0.068238</td>\n",
       "    </tr>\n",
       "    <tr>\n",
       "      <th>2021-11-06</th>\n",
       "      <td>7.751926e+08</td>\n",
       "      <td>1.782630e+09</td>\n",
       "      <td>-1.246109</td>\n",
       "      <td>0.167353</td>\n",
       "    </tr>\n",
       "    <tr>\n",
       "      <th>2021-11-07</th>\n",
       "      <td>6.972109e+08</td>\n",
       "      <td>1.720378e+09</td>\n",
       "      <td>-1.362898</td>\n",
       "      <td>-0.561418</td>\n",
       "    </tr>\n",
       "    <tr>\n",
       "      <th>2021-11-08</th>\n",
       "      <td>2.317623e+09</td>\n",
       "      <td>1.745458e+09</td>\n",
       "      <td>1.063908</td>\n",
       "      <td>-0.267806</td>\n",
       "    </tr>\n",
       "    <tr>\n",
       "      <th>2021-11-09</th>\n",
       "      <td>2.022653e+09</td>\n",
       "      <td>1.858254e+09</td>\n",
       "      <td>0.622148</td>\n",
       "      <td>1.052682</td>\n",
       "    </tr>\n",
       "    <tr>\n",
       "      <th>2021-11-10</th>\n",
       "      <td>2.523344e+09</td>\n",
       "      <td>1.838550e+09</td>\n",
       "      <td>1.372007</td>\n",
       "      <td>0.822008</td>\n",
       "    </tr>\n",
       "    <tr>\n",
       "      <th>2021-11-11</th>\n",
       "      <td>1.330995e+09</td>\n",
       "      <td>1.923083e+09</td>\n",
       "      <td>-0.413713</td>\n",
       "      <td>1.811625</td>\n",
       "    </tr>\n",
       "    <tr>\n",
       "      <th>2021-11-12</th>\n",
       "      <td>1.744547e+09</td>\n",
       "      <td>1.777513e+09</td>\n",
       "      <td>0.205643</td>\n",
       "      <td>0.107455</td>\n",
       "    </tr>\n",
       "    <tr>\n",
       "      <th>2021-11-13</th>\n",
       "      <td>7.659467e+08</td>\n",
       "      <td>1.772482e+09</td>\n",
       "      <td>-1.259956</td>\n",
       "      <td>0.048556</td>\n",
       "    </tr>\n",
       "    <tr>\n",
       "      <th>2021-11-14</th>\n",
       "      <td>7.848963e+08</td>\n",
       "      <td>1.729422e+09</td>\n",
       "      <td>-1.231576</td>\n",
       "      <td>-0.455538</td>\n",
       "    </tr>\n",
       "    <tr>\n",
       "      <th>2021-11-15</th>\n",
       "      <td>1.351324e+09</td>\n",
       "      <td>1.665131e+09</td>\n",
       "      <td>-0.383267</td>\n",
       "      <td>-1.208192</td>\n",
       "    </tr>\n",
       "    <tr>\n",
       "      <th>2021-11-16</th>\n",
       "      <td>3.037169e+09</td>\n",
       "      <td>1.748894e+09</td>\n",
       "      <td>2.141536</td>\n",
       "      <td>-0.227584</td>\n",
       "    </tr>\n",
       "    <tr>\n",
       "      <th>2021-11-17</th>\n",
       "      <td>2.496525e+09</td>\n",
       "      <td>1.794984e+09</td>\n",
       "      <td>1.331841</td>\n",
       "      <td>0.311984</td>\n",
       "    </tr>\n",
       "    <tr>\n",
       "      <th>2021-11-18</th>\n",
       "      <td>3.137042e+09</td>\n",
       "      <td>1.746298e+09</td>\n",
       "      <td>2.291110</td>\n",
       "      <td>-0.257982</td>\n",
       "    </tr>\n",
       "    <tr>\n",
       "      <th>2021-11-19</th>\n",
       "      <td>2.119749e+09</td>\n",
       "      <td>1.755910e+09</td>\n",
       "      <td>0.767563</td>\n",
       "      <td>-0.145452</td>\n",
       "    </tr>\n",
       "    <tr>\n",
       "      <th>2021-11-20</th>\n",
       "      <td>8.896024e+08</td>\n",
       "      <td>1.713455e+09</td>\n",
       "      <td>-1.074763</td>\n",
       "      <td>-0.642461</td>\n",
       "    </tr>\n",
       "    <tr>\n",
       "      <th>2021-11-21</th>\n",
       "      <td>7.894335e+08</td>\n",
       "      <td>1.579045e+09</td>\n",
       "      <td>-1.224781</td>\n",
       "      <td>-2.215991</td>\n",
       "    </tr>\n",
       "    <tr>\n",
       "      <th>2021-11-22</th>\n",
       "      <td>1.823717e+09</td>\n",
       "      <td>1.604116e+09</td>\n",
       "      <td>0.324212</td>\n",
       "      <td>-1.922483</td>\n",
       "    </tr>\n",
       "    <tr>\n",
       "      <th>2021-11-23</th>\n",
       "      <td>1.591829e+09</td>\n",
       "      <td>1.682710e+09</td>\n",
       "      <td>-0.023075</td>\n",
       "      <td>-1.002395</td>\n",
       "    </tr>\n",
       "  </tbody>\n",
       "</table>\n",
       "</div>"
      ],
      "text/plain": [
       "            volume_actual   volume_pred  actual_norm  pred_norm\n",
       "2021-10-24   1.037417e+09  1.722125e+09    -0.853389  -0.540968\n",
       "2021-10-25   1.311339e+09  1.731106e+09    -0.443150  -0.435833\n",
       "2021-10-26   1.502727e+09  1.724136e+09    -0.156518  -0.517422\n",
       "2021-10-27   2.245568e+09  1.802666e+09     0.955996   0.401918\n",
       "2021-10-28   2.329611e+09  1.844662e+09     1.081862   0.893560\n",
       "2021-10-29   1.908097e+09  1.984253e+09     0.450583   2.527738\n",
       "2021-10-30   8.365006e+08  1.960227e+09    -1.154291   2.246468\n",
       "2021-10-31   1.023331e+09  1.812412e+09    -0.874485   0.516017\n",
       "2021-11-01   1.432807e+09  1.737732e+09    -0.261233  -0.358261\n",
       "2021-11-02   1.715945e+09  1.753376e+09     0.162806  -0.175111\n",
       "2021-11-03   1.611750e+09  1.766707e+09     0.006760  -0.019049\n",
       "2021-11-04   1.365874e+09  1.766484e+09    -0.361476  -0.021655\n",
       "2021-11-05   1.304567e+09  1.774163e+09    -0.453292   0.068238\n",
       "2021-11-06   7.751926e+08  1.782630e+09    -1.246109   0.167353\n",
       "2021-11-07   6.972109e+08  1.720378e+09    -1.362898  -0.561418\n",
       "2021-11-08   2.317623e+09  1.745458e+09     1.063908  -0.267806\n",
       "2021-11-09   2.022653e+09  1.858254e+09     0.622148   1.052682\n",
       "2021-11-10   2.523344e+09  1.838550e+09     1.372007   0.822008\n",
       "2021-11-11   1.330995e+09  1.923083e+09    -0.413713   1.811625\n",
       "2021-11-12   1.744547e+09  1.777513e+09     0.205643   0.107455\n",
       "2021-11-13   7.659467e+08  1.772482e+09    -1.259956   0.048556\n",
       "2021-11-14   7.848963e+08  1.729422e+09    -1.231576  -0.455538\n",
       "2021-11-15   1.351324e+09  1.665131e+09    -0.383267  -1.208192\n",
       "2021-11-16   3.037169e+09  1.748894e+09     2.141536  -0.227584\n",
       "2021-11-17   2.496525e+09  1.794984e+09     1.331841   0.311984\n",
       "2021-11-18   3.137042e+09  1.746298e+09     2.291110  -0.257982\n",
       "2021-11-19   2.119749e+09  1.755910e+09     0.767563  -0.145452\n",
       "2021-11-20   8.896024e+08  1.713455e+09    -1.074763  -0.642461\n",
       "2021-11-21   7.894335e+08  1.579045e+09    -1.224781  -2.215991\n",
       "2021-11-22   1.823717e+09  1.604116e+09     0.324212  -1.922483\n",
       "2021-11-23   1.591829e+09  1.682710e+09    -0.023075  -1.002395"
      ]
     },
     "execution_count": 317,
     "metadata": {},
     "output_type": "execute_result"
    }
   ],
   "source": [
    "pred_mape_2"
   ]
  },
  {
   "cell_type": "code",
   "execution_count": 320,
   "id": "3b6267a5",
   "metadata": {},
   "outputs": [
    {
     "data": {
      "image/png": "[encoded data removed]",
      "text/plain": [
       "<Figure size 432x288 with 1 Axes>"
      ]
     },
     "metadata": {
      "needs_background": "light"
     },
     "output_type": "display_data"
    }
   ],
   "source": [
    "plt.bar(predict_placeholder.index, pred_mape_2[\"actual_norm\"], alpha = 0.7)\n",
    "plt.bar(predict_placeholder.index, pred_mape_2[\"pred_norm\"], alpha = 0.7)\n",
    "plt.show()"
   ]
  },
  {
   "cell_type": "code",
   "execution_count": 315,
   "id": "d873e486",
   "metadata": {},
   "outputs": [
    {
     "data": {
      "text/plain": [
       "[<matplotlib.lines.Line2D at 0x7f3ffb2a91f0>]"
      ]
     },
     "execution_count": 315,
     "metadata": {},
     "output_type": "execute_result"
    },
    {
     "data": {
      "image/png": "[encoded data removed]",
      "text/plain": [
       "<Figure size 432x288 with 1 Axes>"
      ]
     },
     "metadata": {
      "needs_background": "light"
     },
     "output_type": "display_data"
    }
   ],
   "source": [
    "plt.plot(pred_mape_2[\"actual_norm\"])\n",
    "plt.plot(pred_mape_2[\"pred_norm\"])"
   ]
  },
  {
   "cell_type": "code",
   "execution_count": null,
   "id": "160a73cd",
   "metadata": {},
   "outputs": [],
   "source": []
  },
  {
   "cell_type": "code",
   "execution_count": null,
   "id": "03c3a23f",
   "metadata": {},
   "outputs": [],
   "source": []
  },
  {
   "cell_type": "code",
   "execution_count": null,
   "id": "48462a7a",
   "metadata": {},
   "outputs": [],
   "source": []
  },
  {
   "cell_type": "code",
   "execution_count": null,
   "id": "ddf9d190",
   "metadata": {},
   "outputs": [],
   "source": []
  },
  {
   "cell_type": "code",
   "execution_count": 69,
   "id": "06b56d14",
   "metadata": {},
   "outputs": [],
   "source": [
    "#predict_placeholder.to_csv(\n",
    "#   \"gcs://wagon-data-750-btc-sent-fc/website_data/pred_12_02.csv\")"
   ]
  },
  {
   "cell_type": "code",
   "execution_count": 278,
   "id": "0dd2b2f8",
   "metadata": {},
   "outputs": [],
   "source": [
    "pred_mape_2 = pd.read_csv(\"gcs://wagon-data-750-btc-sent-fc/website_data/pred_12_02_1.csv\",\n",
    "            index_col=0,\n",
    "            parse_dates=True)"
   ]
  },
  {
   "cell_type": "code",
   "execution_count": null,
   "id": "6951bd23",
   "metadata": {},
   "outputs": [],
   "source": []
  },
  {
   "cell_type": "code",
   "execution_count": 283,
   "id": "e56bdc9e",
   "metadata": {},
   "outputs": [
    {
     "data": {
      "text/plain": [
       "DatetimeIndex(['2021-10-24', '2021-10-25', '2021-10-26', '2021-10-27',\n",
       "               '2021-10-28', '2021-10-29', '2021-10-30', '2021-10-31',\n",
       "               '2021-11-01', '2021-11-02', '2021-11-03', '2021-11-04',\n",
       "               '2021-11-05', '2021-11-06', '2021-11-07', '2021-11-08',\n",
       "               '2021-11-09', '2021-11-10', '2021-11-11', '2021-11-12',\n",
       "               '2021-11-13', '2021-11-14', '2021-11-15', '2021-11-16',\n",
       "               '2021-11-17', '2021-11-18', '2021-11-19', '2021-11-20',\n",
       "               '2021-11-21', '2021-11-22', '2021-11-23'],\n",
       "              dtype='datetime64[ns]', freq=None)"
      ]
     },
     "execution_count": 283,
     "metadata": {},
     "output_type": "execute_result"
    }
   ],
   "source": [
    "pred_mape_2.index"
   ]
  },
  {
   "cell_type": "code",
   "execution_count": 285,
   "id": "4cd34f0c",
   "metadata": {},
   "outputs": [],
   "source": [
    "reverse = pd.Series(reversed(pred_mape_2[\"volume_pred\"]))#\n",
    "reverse.index = pred_mape_2.index"
   ]
  },
  {
   "cell_type": "code",
   "execution_count": 286,
   "id": "9dd51827",
   "metadata": {},
   "outputs": [],
   "source": [
    "pred_mape_2[\"volume_pred\"] = reverse"
   ]
  },
  {
   "cell_type": "code",
   "execution_count": 313,
   "id": "b76be366",
   "metadata": {},
   "outputs": [],
   "source": [
    "pred_mape_2[\"pred_norm\"] = (pred_mape_2[\"volume_pred\"] -\n",
    "        np.mean(pred_mape_2[\"volume_pred\"])) / np.std(\n",
    "            pred_mape_2[\"volume_pred\"])"
   ]
  },
  {
   "cell_type": "code",
   "execution_count": 314,
   "id": "a2aab359",
   "metadata": {},
   "outputs": [],
   "source": [
    "pred_mape_2[\"actual_norm\"] = (pred_mape_2[\"volume_actual\"] -\n",
    "          np.mean(pred_mape_2[\"volume_actual\"])) / np.std(\n",
    "              pred_mape_2[\"volume_actual\"])"
   ]
  },
  {
   "cell_type": "code",
   "execution_count": 312,
   "id": "9cea4177",
   "metadata": {},
   "outputs": [
    {
     "data": {
      "text/plain": [
       "(15.0, 25.0)"
      ]
     },
     "execution_count": 312,
     "metadata": {},
     "output_type": "execute_result"
    },
    {
     "data": {
      "image/png": "[encoded data removed]",
      "text/plain": [
       "<Figure size 432x288 with 1 Axes>"
      ]
     },
     "metadata": {
      "needs_background": "light"
     },
     "output_type": "display_data"
    }
   ],
   "source": [
    "\n",
    "plt.plot(np.log(pred_mape_2[\"volume_actual\"]))\n",
    "plt.plot(np.log(pred_mape_2[\"volume_pred\"]))\n",
    "plt.ylim((15,25))"
   ]
  },
  {
   "cell_type": "code",
   "execution_count": 177,
   "id": "4f7c1677",
   "metadata": {},
   "outputs": [],
   "source": [
    "from sklearn.metrics import mean_absolute_percentage_error as mape\n",
    "from sklearn.metrics import mean_absolute_error as mae\n",
    "from sklearn.metrics import mean_squared_error as mse"
   ]
  },
  {
   "cell_type": "code",
   "execution_count": null,
   "id": "22d31411",
   "metadata": {},
   "outputs": [],
   "source": [
    "pred_mape_2[]"
   ]
  },
  {
   "cell_type": "code",
   "execution_count": 290,
   "id": "36a3f218",
   "metadata": {},
   "outputs": [],
   "source": [
    "series = pred_mape_2[\"volume_actual\"]"
   ]
  },
  {
   "cell_type": "code",
   "execution_count": 291,
   "id": "25420655",
   "metadata": {},
   "outputs": [],
   "source": [
    "series.index = series.index + dt.timedelta(days=1)"
   ]
  },
  {
   "cell_type": "code",
   "execution_count": 292,
   "id": "10c21348",
   "metadata": {},
   "outputs": [],
   "source": [
    "pred_mape_3 = pred_mape_2.merge(series, how = \"outer\", left_index = True, right_index = True)"
   ]
  },
  {
   "cell_type": "code",
   "execution_count": 293,
   "id": "d4e83c03",
   "metadata": {},
   "outputs": [],
   "source": [
    "pred_mape_3.drop(dt.datetime(2021,11,24), inplace = True)"
   ]
  },
  {
   "cell_type": "code",
   "execution_count": 294,
   "id": "2ae9b627",
   "metadata": {},
   "outputs": [
    {
     "ename": "ValueError",
     "evalue": "Input contains NaN, infinity or a value too large for dtype('float64').",
     "output_type": "error",
     "traceback": [
      "\u001b[0;31m---------------------------------------------------------------------------\u001b[0m",
      "\u001b[0;31mValueError\u001b[0m                                Traceback (most recent call last)",
      "\u001b[0;32m/tmp/ipykernel_26579/292058279.py\u001b[0m in \u001b[0;36m<module>\u001b[0;34m\u001b[0m\n\u001b[0;32m----> 1\u001b[0;31m \u001b[0mnp\u001b[0m\u001b[0;34m.\u001b[0m\u001b[0msqrt\u001b[0m\u001b[0;34m(\u001b[0m\u001b[0mmse\u001b[0m\u001b[0;34m(\u001b[0m\u001b[0mpred_mape_3\u001b[0m\u001b[0;34m[\u001b[0m\u001b[0;34m\"volume_actual_x\"\u001b[0m\u001b[0;34m]\u001b[0m\u001b[0;34m,\u001b[0m \u001b[0mpred_mape_3\u001b[0m\u001b[0;34m[\u001b[0m\u001b[0;34m\"volume_actual_y\"\u001b[0m\u001b[0;34m]\u001b[0m\u001b[0;34m)\u001b[0m\u001b[0;34m)\u001b[0m\u001b[0;34m\u001b[0m\u001b[0;34m\u001b[0m\u001b[0m\n\u001b[0m",
      "\u001b[0;32m~/.pyenv/versions/3.8.12/envs/btc_sent_fc/lib/python3.8/site-packages/sklearn/metrics/_regression.py\u001b[0m in \u001b[0;36mmean_squared_error\u001b[0;34m(y_true, y_pred, sample_weight, multioutput, squared)\u001b[0m\n\u001b[1;32m    421\u001b[0m     \u001b[0;36m0.825\u001b[0m\u001b[0;34m...\u001b[0m\u001b[0;34m\u001b[0m\u001b[0;34m\u001b[0m\u001b[0m\n\u001b[1;32m    422\u001b[0m     \"\"\"\n\u001b[0;32m--> 423\u001b[0;31m     y_type, y_true, y_pred, multioutput = _check_reg_targets(\n\u001b[0m\u001b[1;32m    424\u001b[0m         \u001b[0my_true\u001b[0m\u001b[0;34m,\u001b[0m \u001b[0my_pred\u001b[0m\u001b[0;34m,\u001b[0m \u001b[0mmultioutput\u001b[0m\u001b[0;34m\u001b[0m\u001b[0;34m\u001b[0m\u001b[0m\n\u001b[1;32m    425\u001b[0m     )\n",
      "\u001b[0;32m~/.pyenv/versions/3.8.12/envs/btc_sent_fc/lib/python3.8/site-packages/sklearn/metrics/_regression.py\u001b[0m in \u001b[0;36m_check_reg_targets\u001b[0;34m(y_true, y_pred, multioutput, dtype)\u001b[0m\n\u001b[1;32m     89\u001b[0m     \u001b[0mcheck_consistent_length\u001b[0m\u001b[0;34m(\u001b[0m\u001b[0my_true\u001b[0m\u001b[0;34m,\u001b[0m \u001b[0my_pred\u001b[0m\u001b[0;34m)\u001b[0m\u001b[0;34m\u001b[0m\u001b[0;34m\u001b[0m\u001b[0m\n\u001b[1;32m     90\u001b[0m     \u001b[0my_true\u001b[0m \u001b[0;34m=\u001b[0m \u001b[0mcheck_array\u001b[0m\u001b[0;34m(\u001b[0m\u001b[0my_true\u001b[0m\u001b[0;34m,\u001b[0m \u001b[0mensure_2d\u001b[0m\u001b[0;34m=\u001b[0m\u001b[0;32mFalse\u001b[0m\u001b[0;34m,\u001b[0m \u001b[0mdtype\u001b[0m\u001b[0;34m=\u001b[0m\u001b[0mdtype\u001b[0m\u001b[0;34m)\u001b[0m\u001b[0;34m\u001b[0m\u001b[0;34m\u001b[0m\u001b[0m\n\u001b[0;32m---> 91\u001b[0;31m     \u001b[0my_pred\u001b[0m \u001b[0;34m=\u001b[0m \u001b[0mcheck_array\u001b[0m\u001b[0;34m(\u001b[0m\u001b[0my_pred\u001b[0m\u001b[0;34m,\u001b[0m \u001b[0mensure_2d\u001b[0m\u001b[0;34m=\u001b[0m\u001b[0;32mFalse\u001b[0m\u001b[0;34m,\u001b[0m \u001b[0mdtype\u001b[0m\u001b[0;34m=\u001b[0m\u001b[0mdtype\u001b[0m\u001b[0;34m)\u001b[0m\u001b[0;34m\u001b[0m\u001b[0;34m\u001b[0m\u001b[0m\n\u001b[0m\u001b[1;32m     92\u001b[0m \u001b[0;34m\u001b[0m\u001b[0m\n\u001b[1;32m     93\u001b[0m     \u001b[0;32mif\u001b[0m \u001b[0my_true\u001b[0m\u001b[0;34m.\u001b[0m\u001b[0mndim\u001b[0m \u001b[0;34m==\u001b[0m \u001b[0;36m1\u001b[0m\u001b[0;34m:\u001b[0m\u001b[0;34m\u001b[0m\u001b[0;34m\u001b[0m\u001b[0m\n",
      "\u001b[0;32m~/.pyenv/versions/3.8.12/envs/btc_sent_fc/lib/python3.8/site-packages/sklearn/utils/validation.py\u001b[0m in \u001b[0;36mcheck_array\u001b[0;34m(array, accept_sparse, accept_large_sparse, dtype, order, copy, force_all_finite, ensure_2d, allow_nd, ensure_min_samples, ensure_min_features, estimator)\u001b[0m\n\u001b[1;32m    790\u001b[0m \u001b[0;34m\u001b[0m\u001b[0m\n\u001b[1;32m    791\u001b[0m         \u001b[0;32mif\u001b[0m \u001b[0mforce_all_finite\u001b[0m\u001b[0;34m:\u001b[0m\u001b[0;34m\u001b[0m\u001b[0;34m\u001b[0m\u001b[0m\n\u001b[0;32m--> 792\u001b[0;31m             \u001b[0m_assert_all_finite\u001b[0m\u001b[0;34m(\u001b[0m\u001b[0marray\u001b[0m\u001b[0;34m,\u001b[0m \u001b[0mallow_nan\u001b[0m\u001b[0;34m=\u001b[0m\u001b[0mforce_all_finite\u001b[0m \u001b[0;34m==\u001b[0m \u001b[0;34m\"allow-nan\"\u001b[0m\u001b[0;34m)\u001b[0m\u001b[0;34m\u001b[0m\u001b[0;34m\u001b[0m\u001b[0m\n\u001b[0m\u001b[1;32m    793\u001b[0m \u001b[0;34m\u001b[0m\u001b[0m\n\u001b[1;32m    794\u001b[0m     \u001b[0;32mif\u001b[0m \u001b[0mensure_min_samples\u001b[0m \u001b[0;34m>\u001b[0m \u001b[0;36m0\u001b[0m\u001b[0;34m:\u001b[0m\u001b[0;34m\u001b[0m\u001b[0;34m\u001b[0m\u001b[0m\n",
      "\u001b[0;32m~/.pyenv/versions/3.8.12/envs/btc_sent_fc/lib/python3.8/site-packages/sklearn/utils/validation.py\u001b[0m in \u001b[0;36m_assert_all_finite\u001b[0;34m(X, allow_nan, msg_dtype)\u001b[0m\n\u001b[1;32m    112\u001b[0m         ):\n\u001b[1;32m    113\u001b[0m             \u001b[0mtype_err\u001b[0m \u001b[0;34m=\u001b[0m \u001b[0;34m\"infinity\"\u001b[0m \u001b[0;32mif\u001b[0m \u001b[0mallow_nan\u001b[0m \u001b[0;32melse\u001b[0m \u001b[0;34m\"NaN, infinity\"\u001b[0m\u001b[0;34m\u001b[0m\u001b[0;34m\u001b[0m\u001b[0m\n\u001b[0;32m--> 114\u001b[0;31m             raise ValueError(\n\u001b[0m\u001b[1;32m    115\u001b[0m                 msg_err.format(\n\u001b[1;32m    116\u001b[0m                     \u001b[0mtype_err\u001b[0m\u001b[0;34m,\u001b[0m \u001b[0mmsg_dtype\u001b[0m \u001b[0;32mif\u001b[0m \u001b[0mmsg_dtype\u001b[0m \u001b[0;32mis\u001b[0m \u001b[0;32mnot\u001b[0m \u001b[0;32mNone\u001b[0m \u001b[0;32melse\u001b[0m \u001b[0mX\u001b[0m\u001b[0;34m.\u001b[0m\u001b[0mdtype\u001b[0m\u001b[0;34m\u001b[0m\u001b[0;34m\u001b[0m\u001b[0m\n",
      "\u001b[0;31mValueError\u001b[0m: Input contains NaN, infinity or a value too large for dtype('float64')."
     ]
    }
   ],
   "source": [
    "np.sqrt(mse(pred_mape_3[\"volume_actual_x\"], pred_mape_3[\"volume_actual_y\"]))"
   ]
  },
  {
   "cell_type": "code",
   "execution_count": 174,
   "id": "ef1566aa",
   "metadata": {},
   "outputs": [
    {
     "data": {
      "text/plain": [
       "558340680.9362983"
      ]
     },
     "execution_count": 174,
     "metadata": {},
     "output_type": "execute_result"
    }
   ],
   "source": [
    "mae(pred_mape_3[\"volume_actual_x\"], pred_mape_3[\"volume_actual_y\"])"
   ]
  },
  {
   "cell_type": "code",
   "execution_count": 297,
   "id": "26345a1c",
   "metadata": {},
   "outputs": [
    {
     "ename": "ValueError",
     "evalue": "Input contains NaN, infinity or a value too large for dtype('float64').",
     "output_type": "error",
     "traceback": [
      "\u001b[0;31m---------------------------------------------------------------------------\u001b[0m",
      "\u001b[0;31mValueError\u001b[0m                                Traceback (most recent call last)",
      "\u001b[0;32m/tmp/ipykernel_26579/2987459340.py\u001b[0m in \u001b[0;36m<module>\u001b[0;34m\u001b[0m\n\u001b[0;32m----> 1\u001b[0;31m \u001b[0mmape\u001b[0m\u001b[0;34m(\u001b[0m\u001b[0mpred_mape_3\u001b[0m\u001b[0;34m[\u001b[0m\u001b[0;34m\"volume_actual_x\"\u001b[0m\u001b[0;34m]\u001b[0m\u001b[0;34m,\u001b[0m \u001b[0mpred_mape_3\u001b[0m\u001b[0;34m[\u001b[0m\u001b[0;34m\"volume_actual_y\"\u001b[0m\u001b[0;34m]\u001b[0m\u001b[0;34m)\u001b[0m\u001b[0;34m\u001b[0m\u001b[0;34m\u001b[0m\u001b[0m\n\u001b[0m",
      "\u001b[0;32m~/.pyenv/versions/3.8.12/envs/btc_sent_fc/lib/python3.8/site-packages/sklearn/metrics/_regression.py\u001b[0m in \u001b[0;36mmean_absolute_percentage_error\u001b[0;34m(y_true, y_pred, sample_weight, multioutput)\u001b[0m\n\u001b[1;32m    344\u001b[0m     \u001b[0;36m0.6198\u001b[0m\u001b[0;34m...\u001b[0m\u001b[0;34m\u001b[0m\u001b[0;34m\u001b[0m\u001b[0m\n\u001b[1;32m    345\u001b[0m     \"\"\"\n\u001b[0;32m--> 346\u001b[0;31m     y_type, y_true, y_pred, multioutput = _check_reg_targets(\n\u001b[0m\u001b[1;32m    347\u001b[0m         \u001b[0my_true\u001b[0m\u001b[0;34m,\u001b[0m \u001b[0my_pred\u001b[0m\u001b[0;34m,\u001b[0m \u001b[0mmultioutput\u001b[0m\u001b[0;34m\u001b[0m\u001b[0;34m\u001b[0m\u001b[0m\n\u001b[1;32m    348\u001b[0m     )\n",
      "\u001b[0;32m~/.pyenv/versions/3.8.12/envs/btc_sent_fc/lib/python3.8/site-packages/sklearn/metrics/_regression.py\u001b[0m in \u001b[0;36m_check_reg_targets\u001b[0;34m(y_true, y_pred, multioutput, dtype)\u001b[0m\n\u001b[1;32m     89\u001b[0m     \u001b[0mcheck_consistent_length\u001b[0m\u001b[0;34m(\u001b[0m\u001b[0my_true\u001b[0m\u001b[0;34m,\u001b[0m \u001b[0my_pred\u001b[0m\u001b[0;34m)\u001b[0m\u001b[0;34m\u001b[0m\u001b[0;34m\u001b[0m\u001b[0m\n\u001b[1;32m     90\u001b[0m     \u001b[0my_true\u001b[0m \u001b[0;34m=\u001b[0m \u001b[0mcheck_array\u001b[0m\u001b[0;34m(\u001b[0m\u001b[0my_true\u001b[0m\u001b[0;34m,\u001b[0m \u001b[0mensure_2d\u001b[0m\u001b[0;34m=\u001b[0m\u001b[0;32mFalse\u001b[0m\u001b[0;34m,\u001b[0m \u001b[0mdtype\u001b[0m\u001b[0;34m=\u001b[0m\u001b[0mdtype\u001b[0m\u001b[0;34m)\u001b[0m\u001b[0;34m\u001b[0m\u001b[0;34m\u001b[0m\u001b[0m\n\u001b[0;32m---> 91\u001b[0;31m     \u001b[0my_pred\u001b[0m \u001b[0;34m=\u001b[0m \u001b[0mcheck_array\u001b[0m\u001b[0;34m(\u001b[0m\u001b[0my_pred\u001b[0m\u001b[0;34m,\u001b[0m \u001b[0mensure_2d\u001b[0m\u001b[0;34m=\u001b[0m\u001b[0;32mFalse\u001b[0m\u001b[0;34m,\u001b[0m \u001b[0mdtype\u001b[0m\u001b[0;34m=\u001b[0m\u001b[0mdtype\u001b[0m\u001b[0;34m)\u001b[0m\u001b[0;34m\u001b[0m\u001b[0;34m\u001b[0m\u001b[0m\n\u001b[0m\u001b[1;32m     92\u001b[0m \u001b[0;34m\u001b[0m\u001b[0m\n\u001b[1;32m     93\u001b[0m     \u001b[0;32mif\u001b[0m \u001b[0my_true\u001b[0m\u001b[0;34m.\u001b[0m\u001b[0mndim\u001b[0m \u001b[0;34m==\u001b[0m \u001b[0;36m1\u001b[0m\u001b[0;34m:\u001b[0m\u001b[0;34m\u001b[0m\u001b[0;34m\u001b[0m\u001b[0m\n",
      "\u001b[0;32m~/.pyenv/versions/3.8.12/envs/btc_sent_fc/lib/python3.8/site-packages/sklearn/utils/validation.py\u001b[0m in \u001b[0;36mcheck_array\u001b[0;34m(array, accept_sparse, accept_large_sparse, dtype, order, copy, force_all_finite, ensure_2d, allow_nd, ensure_min_samples, ensure_min_features, estimator)\u001b[0m\n\u001b[1;32m    790\u001b[0m \u001b[0;34m\u001b[0m\u001b[0m\n\u001b[1;32m    791\u001b[0m         \u001b[0;32mif\u001b[0m \u001b[0mforce_all_finite\u001b[0m\u001b[0;34m:\u001b[0m\u001b[0;34m\u001b[0m\u001b[0;34m\u001b[0m\u001b[0m\n\u001b[0;32m--> 792\u001b[0;31m             \u001b[0m_assert_all_finite\u001b[0m\u001b[0;34m(\u001b[0m\u001b[0marray\u001b[0m\u001b[0;34m,\u001b[0m \u001b[0mallow_nan\u001b[0m\u001b[0;34m=\u001b[0m\u001b[0mforce_all_finite\u001b[0m \u001b[0;34m==\u001b[0m \u001b[0;34m\"allow-nan\"\u001b[0m\u001b[0;34m)\u001b[0m\u001b[0;34m\u001b[0m\u001b[0;34m\u001b[0m\u001b[0m\n\u001b[0m\u001b[1;32m    793\u001b[0m \u001b[0;34m\u001b[0m\u001b[0m\n\u001b[1;32m    794\u001b[0m     \u001b[0;32mif\u001b[0m \u001b[0mensure_min_samples\u001b[0m \u001b[0;34m>\u001b[0m \u001b[0;36m0\u001b[0m\u001b[0;34m:\u001b[0m\u001b[0;34m\u001b[0m\u001b[0;34m\u001b[0m\u001b[0m\n",
      "\u001b[0;32m~/.pyenv/versions/3.8.12/envs/btc_sent_fc/lib/python3.8/site-packages/sklearn/utils/validation.py\u001b[0m in \u001b[0;36m_assert_all_finite\u001b[0;34m(X, allow_nan, msg_dtype)\u001b[0m\n\u001b[1;32m    112\u001b[0m         ):\n\u001b[1;32m    113\u001b[0m             \u001b[0mtype_err\u001b[0m \u001b[0;34m=\u001b[0m \u001b[0;34m\"infinity\"\u001b[0m \u001b[0;32mif\u001b[0m \u001b[0mallow_nan\u001b[0m \u001b[0;32melse\u001b[0m \u001b[0;34m\"NaN, infinity\"\u001b[0m\u001b[0;34m\u001b[0m\u001b[0;34m\u001b[0m\u001b[0m\n\u001b[0;32m--> 114\u001b[0;31m             raise ValueError(\n\u001b[0m\u001b[1;32m    115\u001b[0m                 msg_err.format(\n\u001b[1;32m    116\u001b[0m                     \u001b[0mtype_err\u001b[0m\u001b[0;34m,\u001b[0m \u001b[0mmsg_dtype\u001b[0m \u001b[0;32mif\u001b[0m \u001b[0mmsg_dtype\u001b[0m \u001b[0;32mis\u001b[0m \u001b[0;32mnot\u001b[0m \u001b[0;32mNone\u001b[0m \u001b[0;32melse\u001b[0m \u001b[0mX\u001b[0m\u001b[0;34m.\u001b[0m\u001b[0mdtype\u001b[0m\u001b[0;34m\u001b[0m\u001b[0;34m\u001b[0m\u001b[0m\n",
      "\u001b[0;31mValueError\u001b[0m: Input contains NaN, infinity or a value too large for dtype('float64')."
     ]
    }
   ],
   "source": [
    "mape(pred_mape_3[\"volume_actual_x\"], pred_mape_3[\"volume_actual_y\"])"
   ]
  },
  {
   "cell_type": "code",
   "execution_count": 296,
   "id": "39119782",
   "metadata": {},
   "outputs": [
    {
     "data": {
      "text/plain": [
       "679980547.910075"
      ]
     },
     "execution_count": 296,
     "metadata": {},
     "output_type": "execute_result"
    }
   ],
   "source": [
    "np.sqrt(mse(pred_mape_2[\"volume_actual\"], pred_mape_2[\"volume_pred\"]))"
   ]
  },
  {
   "cell_type": "code",
   "execution_count": 295,
   "id": "8d5e184d",
   "metadata": {},
   "outputs": [
    {
     "data": {
      "text/plain": [
       "568401534.4722388"
      ]
     },
     "execution_count": 295,
     "metadata": {},
     "output_type": "execute_result"
    }
   ],
   "source": [
    "mae(pred_mape_2[\"volume_actual\"], pred_mape_2[\"volume_pred\"])"
   ]
  },
  {
   "cell_type": "code",
   "execution_count": 298,
   "id": "8e607297",
   "metadata": {},
   "outputs": [
    {
     "data": {
      "text/plain": [
       "0.4733977163898747"
      ]
     },
     "execution_count": 298,
     "metadata": {},
     "output_type": "execute_result"
    }
   ],
   "source": [
    "mape(pred_mape_2[\"volume_actual\"], pred_mape_2[\"volume_pred\"])"
   ]
  },
  {
   "cell_type": "code",
   "execution_count": 299,
   "id": "cf25e61d",
   "metadata": {},
   "outputs": [
    {
     "data": {
      "text/plain": [
       "1.3064852176704103"
      ]
     },
     "execution_count": 299,
     "metadata": {},
     "output_type": "execute_result"
    }
   ],
   "source": [
    "np.sqrt(mse(pred_mape_2[\"actual_norm\"], pred_mape_2[\"pred_norm\"]))"
   ]
  },
  {
   "cell_type": "code",
   "execution_count": 181,
   "id": "7aa15c28",
   "metadata": {},
   "outputs": [
    {
     "data": {
      "text/plain": [
       "2.6792077831631125"
      ]
     },
     "execution_count": 181,
     "metadata": {},
     "output_type": "execute_result"
    }
   ],
   "source": [
    "mape(pred_mape_2[\"actual_norm\"], pred_mape_2[\"pred_norm\"])"
   ]
  },
  {
   "cell_type": "code",
   "execution_count": 319,
   "id": "6cb2ddd5",
   "metadata": {},
   "outputs": [
    {
     "data": {
      "image/png": "[encoded data removed]",
      "text/plain": [
       "<Figure size 432x288 with 1 Axes>"
      ]
     },
     "metadata": {
      "needs_background": "light"
     },
     "output_type": "display_data"
    }
   ],
   "source": [
    "plt.bar(predict_placeholder.index, pred_mape_2[\"actual_norm\"], alpha = 0.7)\n",
    "plt.bar(predict_placeholder.index, pred_mape_2[\"pred_norm\"], alpha = 0.7)\n",
    "plt.show()"
   ]
  },
  {
   "cell_type": "code",
   "execution_count": 318,
   "id": "15e0459c",
   "metadata": {},
   "outputs": [
    {
     "data": {
      "image/png": "[encoded data removed]",
      "text/plain": [
       "<Figure size 432x288 with 1 Axes>"
      ]
     },
     "metadata": {
      "needs_background": "light"
     },
     "output_type": "display_data"
    }
   ],
   "source": [
    "plt.bar(pred_mape_2.index, pred_mape_2[\"actual_norm\"], alpha = 0.5)\n",
    "plt.bar(pred_mape_2.index, pred_mape_2[\"pred_norm\"], alpha = 0.5)\n",
    "plt.show()"
   ]
  },
  {
   "cell_type": "code",
   "execution_count": 98,
   "id": "29ff18fd",
   "metadata": {},
   "outputs": [
    {
     "data": {
      "image/png": "[encoded data removed]",
      "text/plain": [
       "<Figure size 432x288 with 1 Axes>"
      ]
     },
     "metadata": {
      "needs_background": "light"
     },
     "output_type": "display_data"
    }
   ],
   "source": [
    "plt.bar(predict_placeholder.index, actual+2, alpha = 0.5)\n",
    "plt.bar(predict_placeholder.index, pred+2, alpha = 0.5)\n",
    "plt.show()"
   ]
  },
  {
   "cell_type": "code",
   "execution_count": 232,
   "id": "6a81d4a3",
   "metadata": {},
   "outputs": [
    {
     "data": {
      "text/html": [
       "<div>\n",
       "<style scoped>\n",
       "    .dataframe tbody tr th:only-of-type {\n",
       "        vertical-align: middle;\n",
       "    }\n",
       "\n",
       "    .dataframe tbody tr th {\n",
       "        vertical-align: top;\n",
       "    }\n",
       "\n",
       "    .dataframe thead th {\n",
       "        text-align: right;\n",
       "    }\n",
       "</style>\n",
       "<table border=\"1\" class=\"dataframe\">\n",
       "  <thead>\n",
       "    <tr style=\"text-align: right;\">\n",
       "      <th></th>\n",
       "      <th>volume_actual</th>\n",
       "      <th>volume_pred</th>\n",
       "      <th>actual_norm</th>\n",
       "      <th>pred_norm</th>\n",
       "    </tr>\n",
       "  </thead>\n",
       "  <tbody>\n",
       "    <tr>\n",
       "      <th>2021-10-24</th>\n",
       "      <td>1.037417e+09</td>\n",
       "      <td>1.682710e+09</td>\n",
       "      <td>-0.853389</td>\n",
       "      <td>-1.002396</td>\n",
       "    </tr>\n",
       "    <tr>\n",
       "      <th>2021-10-25</th>\n",
       "      <td>1.311339e+09</td>\n",
       "      <td>1.604116e+09</td>\n",
       "      <td>-0.443150</td>\n",
       "      <td>-1.922484</td>\n",
       "    </tr>\n",
       "    <tr>\n",
       "      <th>2021-10-26</th>\n",
       "      <td>1.502727e+09</td>\n",
       "      <td>1.579045e+09</td>\n",
       "      <td>-0.156518</td>\n",
       "      <td>-2.215992</td>\n",
       "    </tr>\n",
       "    <tr>\n",
       "      <th>2021-10-27</th>\n",
       "      <td>2.245568e+09</td>\n",
       "      <td>1.713455e+09</td>\n",
       "      <td>0.955996</td>\n",
       "      <td>-0.642463</td>\n",
       "    </tr>\n",
       "    <tr>\n",
       "      <th>2021-10-28</th>\n",
       "      <td>2.329611e+09</td>\n",
       "      <td>1.755910e+09</td>\n",
       "      <td>1.081862</td>\n",
       "      <td>-0.145453</td>\n",
       "    </tr>\n",
       "    <tr>\n",
       "      <th>2021-10-29</th>\n",
       "      <td>1.908097e+09</td>\n",
       "      <td>1.746297e+09</td>\n",
       "      <td>0.450583</td>\n",
       "      <td>-0.257983</td>\n",
       "    </tr>\n",
       "    <tr>\n",
       "      <th>2021-10-30</th>\n",
       "      <td>8.365006e+08</td>\n",
       "      <td>1.794984e+09</td>\n",
       "      <td>-1.154291</td>\n",
       "      <td>0.311983</td>\n",
       "    </tr>\n",
       "    <tr>\n",
       "      <th>2021-10-31</th>\n",
       "      <td>1.023331e+09</td>\n",
       "      <td>1.748894e+09</td>\n",
       "      <td>-0.874485</td>\n",
       "      <td>-0.227585</td>\n",
       "    </tr>\n",
       "    <tr>\n",
       "      <th>2021-11-01</th>\n",
       "      <td>1.432807e+09</td>\n",
       "      <td>1.665131e+09</td>\n",
       "      <td>-0.261233</td>\n",
       "      <td>-1.208193</td>\n",
       "    </tr>\n",
       "    <tr>\n",
       "      <th>2021-11-02</th>\n",
       "      <td>1.715945e+09</td>\n",
       "      <td>1.729422e+09</td>\n",
       "      <td>0.162806</td>\n",
       "      <td>-0.455539</td>\n",
       "    </tr>\n",
       "    <tr>\n",
       "      <th>2021-11-03</th>\n",
       "      <td>1.611750e+09</td>\n",
       "      <td>1.772482e+09</td>\n",
       "      <td>0.006760</td>\n",
       "      <td>0.048555</td>\n",
       "    </tr>\n",
       "    <tr>\n",
       "      <th>2021-11-04</th>\n",
       "      <td>1.365874e+09</td>\n",
       "      <td>1.777513e+09</td>\n",
       "      <td>-0.361476</td>\n",
       "      <td>0.107453</td>\n",
       "    </tr>\n",
       "    <tr>\n",
       "      <th>2021-11-05</th>\n",
       "      <td>1.304567e+09</td>\n",
       "      <td>1.923083e+09</td>\n",
       "      <td>-0.453292</td>\n",
       "      <td>1.811624</td>\n",
       "    </tr>\n",
       "    <tr>\n",
       "      <th>2021-11-06</th>\n",
       "      <td>7.751926e+08</td>\n",
       "      <td>1.838550e+09</td>\n",
       "      <td>-1.246109</td>\n",
       "      <td>0.822007</td>\n",
       "    </tr>\n",
       "    <tr>\n",
       "      <th>2021-11-07</th>\n",
       "      <td>6.972109e+08</td>\n",
       "      <td>1.858254e+09</td>\n",
       "      <td>-1.362898</td>\n",
       "      <td>1.052680</td>\n",
       "    </tr>\n",
       "    <tr>\n",
       "      <th>2021-11-08</th>\n",
       "      <td>2.317623e+09</td>\n",
       "      <td>1.745458e+09</td>\n",
       "      <td>1.063908</td>\n",
       "      <td>-0.267808</td>\n",
       "    </tr>\n",
       "    <tr>\n",
       "      <th>2021-11-09</th>\n",
       "      <td>2.022653e+09</td>\n",
       "      <td>1.720378e+09</td>\n",
       "      <td>0.622148</td>\n",
       "      <td>-0.561419</td>\n",
       "    </tr>\n",
       "    <tr>\n",
       "      <th>2021-11-10</th>\n",
       "      <td>2.523344e+09</td>\n",
       "      <td>1.782630e+09</td>\n",
       "      <td>1.372007</td>\n",
       "      <td>0.167352</td>\n",
       "    </tr>\n",
       "    <tr>\n",
       "      <th>2021-11-11</th>\n",
       "      <td>1.330995e+09</td>\n",
       "      <td>1.774163e+09</td>\n",
       "      <td>-0.413713</td>\n",
       "      <td>0.068236</td>\n",
       "    </tr>\n",
       "    <tr>\n",
       "      <th>2021-11-12</th>\n",
       "      <td>1.744547e+09</td>\n",
       "      <td>1.766484e+09</td>\n",
       "      <td>0.205643</td>\n",
       "      <td>-0.021656</td>\n",
       "    </tr>\n",
       "    <tr>\n",
       "      <th>2021-11-13</th>\n",
       "      <td>7.659467e+08</td>\n",
       "      <td>1.766707e+09</td>\n",
       "      <td>-1.259956</td>\n",
       "      <td>-0.019050</td>\n",
       "    </tr>\n",
       "    <tr>\n",
       "      <th>2021-11-14</th>\n",
       "      <td>7.848963e+08</td>\n",
       "      <td>1.753376e+09</td>\n",
       "      <td>-1.231576</td>\n",
       "      <td>-0.175113</td>\n",
       "    </tr>\n",
       "    <tr>\n",
       "      <th>2021-11-15</th>\n",
       "      <td>1.351324e+09</td>\n",
       "      <td>1.737732e+09</td>\n",
       "      <td>-0.383267</td>\n",
       "      <td>-0.358262</td>\n",
       "    </tr>\n",
       "    <tr>\n",
       "      <th>2021-11-16</th>\n",
       "      <td>3.037169e+09</td>\n",
       "      <td>1.812412e+09</td>\n",
       "      <td>2.141536</td>\n",
       "      <td>0.516015</td>\n",
       "    </tr>\n",
       "    <tr>\n",
       "      <th>2021-11-17</th>\n",
       "      <td>2.496525e+09</td>\n",
       "      <td>1.960227e+09</td>\n",
       "      <td>1.331841</td>\n",
       "      <td>2.246467</td>\n",
       "    </tr>\n",
       "    <tr>\n",
       "      <th>2021-11-18</th>\n",
       "      <td>3.137042e+09</td>\n",
       "      <td>1.984253e+09</td>\n",
       "      <td>2.291110</td>\n",
       "      <td>2.527737</td>\n",
       "    </tr>\n",
       "    <tr>\n",
       "      <th>2021-11-19</th>\n",
       "      <td>2.119749e+09</td>\n",
       "      <td>1.844662e+09</td>\n",
       "      <td>0.767563</td>\n",
       "      <td>0.893558</td>\n",
       "    </tr>\n",
       "    <tr>\n",
       "      <th>2021-11-20</th>\n",
       "      <td>8.896024e+08</td>\n",
       "      <td>1.802666e+09</td>\n",
       "      <td>-1.074763</td>\n",
       "      <td>0.401916</td>\n",
       "    </tr>\n",
       "    <tr>\n",
       "      <th>2021-11-21</th>\n",
       "      <td>7.894335e+08</td>\n",
       "      <td>1.724136e+09</td>\n",
       "      <td>-1.224781</td>\n",
       "      <td>-0.517423</td>\n",
       "    </tr>\n",
       "    <tr>\n",
       "      <th>2021-11-22</th>\n",
       "      <td>1.823717e+09</td>\n",
       "      <td>1.731106e+09</td>\n",
       "      <td>0.324212</td>\n",
       "      <td>-0.435834</td>\n",
       "    </tr>\n",
       "    <tr>\n",
       "      <th>2021-11-23</th>\n",
       "      <td>1.591829e+09</td>\n",
       "      <td>1.722125e+09</td>\n",
       "      <td>-0.023075</td>\n",
       "      <td>-0.540969</td>\n",
       "    </tr>\n",
       "  </tbody>\n",
       "</table>\n",
       "</div>"
      ],
      "text/plain": [
       "            volume_actual   volume_pred  actual_norm  pred_norm\n",
       "2021-10-24   1.037417e+09  1.682710e+09    -0.853389  -1.002396\n",
       "2021-10-25   1.311339e+09  1.604116e+09    -0.443150  -1.922484\n",
       "2021-10-26   1.502727e+09  1.579045e+09    -0.156518  -2.215992\n",
       "2021-10-27   2.245568e+09  1.713455e+09     0.955996  -0.642463\n",
       "2021-10-28   2.329611e+09  1.755910e+09     1.081862  -0.145453\n",
       "2021-10-29   1.908097e+09  1.746297e+09     0.450583  -0.257983\n",
       "2021-10-30   8.365006e+08  1.794984e+09    -1.154291   0.311983\n",
       "2021-10-31   1.023331e+09  1.748894e+09    -0.874485  -0.227585\n",
       "2021-11-01   1.432807e+09  1.665131e+09    -0.261233  -1.208193\n",
       "2021-11-02   1.715945e+09  1.729422e+09     0.162806  -0.455539\n",
       "2021-11-03   1.611750e+09  1.772482e+09     0.006760   0.048555\n",
       "2021-11-04   1.365874e+09  1.777513e+09    -0.361476   0.107453\n",
       "2021-11-05   1.304567e+09  1.923083e+09    -0.453292   1.811624\n",
       "2021-11-06   7.751926e+08  1.838550e+09    -1.246109   0.822007\n",
       "2021-11-07   6.972109e+08  1.858254e+09    -1.362898   1.052680\n",
       "2021-11-08   2.317623e+09  1.745458e+09     1.063908  -0.267808\n",
       "2021-11-09   2.022653e+09  1.720378e+09     0.622148  -0.561419\n",
       "2021-11-10   2.523344e+09  1.782630e+09     1.372007   0.167352\n",
       "2021-11-11   1.330995e+09  1.774163e+09    -0.413713   0.068236\n",
       "2021-11-12   1.744547e+09  1.766484e+09     0.205643  -0.021656\n",
       "2021-11-13   7.659467e+08  1.766707e+09    -1.259956  -0.019050\n",
       "2021-11-14   7.848963e+08  1.753376e+09    -1.231576  -0.175113\n",
       "2021-11-15   1.351324e+09  1.737732e+09    -0.383267  -0.358262\n",
       "2021-11-16   3.037169e+09  1.812412e+09     2.141536   0.516015\n",
       "2021-11-17   2.496525e+09  1.960227e+09     1.331841   2.246467\n",
       "2021-11-18   3.137042e+09  1.984253e+09     2.291110   2.527737\n",
       "2021-11-19   2.119749e+09  1.844662e+09     0.767563   0.893558\n",
       "2021-11-20   8.896024e+08  1.802666e+09    -1.074763   0.401916\n",
       "2021-11-21   7.894335e+08  1.724136e+09    -1.224781  -0.517423\n",
       "2021-11-22   1.823717e+09  1.731106e+09     0.324212  -0.435834\n",
       "2021-11-23   1.591829e+09  1.722125e+09    -0.023075  -0.540969"
      ]
     },
     "execution_count": 232,
     "metadata": {},
     "output_type": "execute_result"
    }
   ],
   "source": [
    "pred_mape_2"
   ]
  },
  {
   "cell_type": "code",
   "execution_count": 302,
   "id": "2bdad70b",
   "metadata": {},
   "outputs": [],
   "source": [
    "pred_mape_2.to_csv(\n",
    "   \"gcs://wagon-data-750-btc-sent-fc/website_data/pred_12_02_1.csv\")"
   ]
  },
  {
   "cell_type": "markdown",
   "id": "358b6ccb",
   "metadata": {},
   "source": [
    "## Getting actual value for the 23rd"
   ]
  },
  {
   "cell_type": "code",
   "execution_count": 4,
   "id": "50c7e446",
   "metadata": {},
   "outputs": [],
   "source": [
    "real_volume = pd.read_csv(\"../raw_data/coinbase_2021_11.csv\")"
   ]
  },
  {
   "cell_type": "code",
   "execution_count": 5,
   "id": "14e54c69",
   "metadata": {},
   "outputs": [],
   "source": [
    "real_volume.set_index(\"time\", inplace=True)"
   ]
  },
  {
   "cell_type": "code",
   "execution_count": 6,
   "id": "288018be",
   "metadata": {},
   "outputs": [],
   "source": [
    "real_volume.index = pd.to_datetime(real_volume.index)"
   ]
  },
  {
   "cell_type": "code",
   "execution_count": 9,
   "id": "fd728047",
   "metadata": {},
   "outputs": [
    {
     "data": {
      "text/html": [
       "<div>\n",
       "<style scoped>\n",
       "    .dataframe tbody tr th:only-of-type {\n",
       "        vertical-align: middle;\n",
       "    }\n",
       "\n",
       "    .dataframe tbody tr th {\n",
       "        vertical-align: top;\n",
       "    }\n",
       "\n",
       "    .dataframe thead th {\n",
       "        text-align: right;\n",
       "    }\n",
       "</style>\n",
       "<table border=\"1\" class=\"dataframe\">\n",
       "  <thead>\n",
       "    <tr style=\"text-align: right;\">\n",
       "      <th></th>\n",
       "      <th>close</th>\n",
       "      <th>high</th>\n",
       "      <th>low</th>\n",
       "      <th>open</th>\n",
       "      <th>volumefrom</th>\n",
       "      <th>volumeto</th>\n",
       "      <th>conversionType</th>\n",
       "      <th>conversionSymbol</th>\n",
       "      <th>mean_price</th>\n",
       "      <th>volumefrom_USD</th>\n",
       "      <th>volume_net</th>\n",
       "      <th>volume_gross</th>\n",
       "    </tr>\n",
       "    <tr>\n",
       "      <th>time</th>\n",
       "      <th></th>\n",
       "      <th></th>\n",
       "      <th></th>\n",
       "      <th></th>\n",
       "      <th></th>\n",
       "      <th></th>\n",
       "      <th></th>\n",
       "      <th></th>\n",
       "      <th></th>\n",
       "      <th></th>\n",
       "      <th></th>\n",
       "      <th></th>\n",
       "    </tr>\n",
       "  </thead>\n",
       "  <tbody>\n",
       "    <tr>\n",
       "      <th>2021-11-27</th>\n",
       "      <td>54759.05</td>\n",
       "      <td>55316.67</td>\n",
       "      <td>53642.58</td>\n",
       "      <td>53757.67</td>\n",
       "      <td>7897.81</td>\n",
       "      <td>4.316102e+08</td>\n",
       "      <td>force_direct</td>\n",
       "      <td>NaN</td>\n",
       "      <td>54479.625</td>\n",
       "      <td>4.302697e+08</td>\n",
       "      <td>1.340459e+06</td>\n",
       "      <td>8.618799e+08</td>\n",
       "    </tr>\n",
       "    <tr>\n",
       "      <th>2021-11-28</th>\n",
       "      <td>57317.17</td>\n",
       "      <td>57490.00</td>\n",
       "      <td>53327.00</td>\n",
       "      <td>54759.05</td>\n",
       "      <td>8220.95</td>\n",
       "      <td>4.518309e+08</td>\n",
       "      <td>force_direct</td>\n",
       "      <td>NaN</td>\n",
       "      <td>55408.500</td>\n",
       "      <td>4.555105e+08</td>\n",
       "      <td>-3.679643e+06</td>\n",
       "      <td>9.073414e+08</td>\n",
       "    </tr>\n",
       "    <tr>\n",
       "      <th>2021-11-29</th>\n",
       "      <td>57838.06</td>\n",
       "      <td>58908.27</td>\n",
       "      <td>56730.00</td>\n",
       "      <td>57317.17</td>\n",
       "      <td>13450.66</td>\n",
       "      <td>7.762893e+08</td>\n",
       "      <td>force_direct</td>\n",
       "      <td>NaN</td>\n",
       "      <td>57819.135</td>\n",
       "      <td>7.777055e+08</td>\n",
       "      <td>-1.416266e+06</td>\n",
       "      <td>1.553995e+09</td>\n",
       "    </tr>\n",
       "    <tr>\n",
       "      <th>2021-11-30</th>\n",
       "      <td>56987.97</td>\n",
       "      <td>59249.77</td>\n",
       "      <td>55910.33</td>\n",
       "      <td>57838.06</td>\n",
       "      <td>18034.28</td>\n",
       "      <td>1.036531e+09</td>\n",
       "      <td>force_direct</td>\n",
       "      <td>NaN</td>\n",
       "      <td>57580.050</td>\n",
       "      <td>1.038415e+09</td>\n",
       "      <td>-1.883843e+06</td>\n",
       "      <td>2.074946e+09</td>\n",
       "    </tr>\n",
       "    <tr>\n",
       "      <th>2021-12-01</th>\n",
       "      <td>58476.44</td>\n",
       "      <td>58602.95</td>\n",
       "      <td>56700.00</td>\n",
       "      <td>56987.97</td>\n",
       "      <td>8886.77</td>\n",
       "      <td>5.086704e+08</td>\n",
       "      <td>force_direct</td>\n",
       "      <td>NaN</td>\n",
       "      <td>57651.475</td>\n",
       "      <td>5.123354e+08</td>\n",
       "      <td>-3.664970e+06</td>\n",
       "      <td>1.021006e+09</td>\n",
       "    </tr>\n",
       "  </tbody>\n",
       "</table>\n",
       "</div>"
      ],
      "text/plain": [
       "               close      high       low      open  volumefrom      volumeto  \\\n",
       "time                                                                           \n",
       "2021-11-27  54759.05  55316.67  53642.58  53757.67     7897.81  4.316102e+08   \n",
       "2021-11-28  57317.17  57490.00  53327.00  54759.05     8220.95  4.518309e+08   \n",
       "2021-11-29  57838.06  58908.27  56730.00  57317.17    13450.66  7.762893e+08   \n",
       "2021-11-30  56987.97  59249.77  55910.33  57838.06    18034.28  1.036531e+09   \n",
       "2021-12-01  58476.44  58602.95  56700.00  56987.97     8886.77  5.086704e+08   \n",
       "\n",
       "           conversionType  conversionSymbol  mean_price  volumefrom_USD  \\\n",
       "time                                                                      \n",
       "2021-11-27   force_direct               NaN   54479.625    4.302697e+08   \n",
       "2021-11-28   force_direct               NaN   55408.500    4.555105e+08   \n",
       "2021-11-29   force_direct               NaN   57819.135    7.777055e+08   \n",
       "2021-11-30   force_direct               NaN   57580.050    1.038415e+09   \n",
       "2021-12-01   force_direct               NaN   57651.475    5.123354e+08   \n",
       "\n",
       "              volume_net  volume_gross  \n",
       "time                                    \n",
       "2021-11-27  1.340459e+06  8.618799e+08  \n",
       "2021-11-28 -3.679643e+06  9.073414e+08  \n",
       "2021-11-29 -1.416266e+06  1.553995e+09  \n",
       "2021-11-30 -1.883843e+06  2.074946e+09  \n",
       "2021-12-01 -3.664970e+06  1.021006e+09  "
      ]
     },
     "execution_count": 9,
     "metadata": {},
     "output_type": "execute_result"
    }
   ],
   "source": [
    "real_volume.tail()"
   ]
  },
  {
   "cell_type": "code",
   "execution_count": 57,
   "id": "ddb8d3d2",
   "metadata": {},
   "outputs": [
    {
     "data": {
      "text/plain": [
       "1823717234.0226"
      ]
     },
     "execution_count": 57,
     "metadata": {},
     "output_type": "execute_result"
    }
   ],
   "source": [
    "real_volume.loc[dt.datetime(2021, 11, 22)][\"volume_gross\"]"
   ]
  },
  {
   "cell_type": "code",
   "execution_count": 303,
   "id": "93fd8c21",
   "metadata": {},
   "outputs": [],
   "source": [
    "real_volume.to_csv(\"gs://wagon-data-750-btc-sent-fc/website_data/actual_for_11.csv\")"
   ]
  },
  {
   "cell_type": "code",
   "execution_count": 304,
   "id": "cdeff63b",
   "metadata": {},
   "outputs": [],
   "source": [
    "real_volume.to_csv(\"../raw_data/actual_for_11.csv\")"
   ]
  },
  {
   "cell_type": "code",
   "execution_count": 306,
   "id": "791b514c",
   "metadata": {},
   "outputs": [],
   "source": [
    "pred_mape_2.to_csv(\"../raw_data/prediction_fin.csv\")"
   ]
  },
  {
   "cell_type": "markdown",
   "id": "4d964e5b",
   "metadata": {
    "heading_collapsed": true
   },
   "source": [
    "# Text-box stuff"
   ]
  },
  {
   "cell_type": "code",
   "execution_count": 211,
   "id": "542c38cd",
   "metadata": {
    "hidden": true
   },
   "outputs": [],
   "source": [
    "tweet_df = pd.read_csv(\n",
    "    \"gs://wagon-data-750-btc-sent-fc/tweet_data/inflation_2021-11-22T00:00:00.000Z\"\n",
    ")"
   ]
  },
  {
   "cell_type": "code",
   "execution_count": 212,
   "id": "a1c8712d",
   "metadata": {
    "hidden": true
   },
   "outputs": [],
   "source": [
    "inflation_tweet_text = tweet_df[\"clean_tweet\"]"
   ]
  },
  {
   "cell_type": "code",
   "execution_count": 231,
   "id": "d561204e",
   "metadata": {
    "hidden": true
   },
   "outputs": [
    {
     "data": {
      "text/html": [
       "<div>\n",
       "<style scoped>\n",
       "    .dataframe tbody tr th:only-of-type {\n",
       "        vertical-align: middle;\n",
       "    }\n",
       "\n",
       "    .dataframe tbody tr th {\n",
       "        vertical-align: top;\n",
       "    }\n",
       "\n",
       "    .dataframe thead th {\n",
       "        text-align: right;\n",
       "    }\n",
       "</style>\n",
       "<table border=\"1\" class=\"dataframe\">\n",
       "  <thead>\n",
       "    <tr style=\"text-align: right;\">\n",
       "      <th></th>\n",
       "      <th>Unnamed: 0</th>\n",
       "      <th>tweet</th>\n",
       "      <th>tweet_date</th>\n",
       "      <th>topic</th>\n",
       "      <th>tweet_id</th>\n",
       "      <th>clean_tweet</th>\n",
       "      <th>title</th>\n",
       "    </tr>\n",
       "  </thead>\n",
       "  <tbody>\n",
       "    <tr>\n",
       "      <th>62</th>\n",
       "      <td>96</td>\n",
       "      <td>RT @joncoopertweets: BOOM – President Biden at...</td>\n",
       "      <td>2021-11-23T00:00:00.000Z</td>\n",
       "      <td>inflation</td>\n",
       "      <td>1462933719199715330</td>\n",
       "      <td>rt  boom  president biden attacks inflation cr...</td>\n",
       "      <td>rt  boom  president biden attacks inflation cr...</td>\n",
       "    </tr>\n",
       "  </tbody>\n",
       "</table>\n",
       "</div>"
      ],
      "text/plain": [
       "    Unnamed: 0                                              tweet  \\\n",
       "62          96  RT @joncoopertweets: BOOM – President Biden at...   \n",
       "\n",
       "                  tweet_date      topic             tweet_id  \\\n",
       "62  2021-11-23T00:00:00.000Z  inflation  1462933719199715330   \n",
       "\n",
       "                                          clean_tweet  \\\n",
       "62  rt  boom  president biden attacks inflation cr...   \n",
       "\n",
       "                                                title  \n",
       "62  rt  boom  president biden attacks inflation cr...  "
      ]
     },
     "execution_count": 231,
     "metadata": {},
     "output_type": "execute_result"
    }
   ],
   "source": [
    "tweet_df.iloc[[-1]]"
   ]
  },
  {
   "cell_type": "code",
   "execution_count": null,
   "id": "59fb49c5",
   "metadata": {
    "hidden": true
   },
   "outputs": [],
   "source": [
    "len(inflation_tweet_text)"
   ]
  },
  {
   "cell_type": "code",
   "execution_count": null,
   "id": "fa90c1ce",
   "metadata": {
    "hidden": true
   },
   "outputs": [],
   "source": [
    "crypto_reddit_df = pd.read_csv(\n",
    "    \"gs://wagon-data-750-btc-sent-fc/raw_data/crypto_reddit.csv\")\n",
    "crypto_reddit_df[\"date\"] = pd.to_datetime(crypto_reddit_df[\"date\"])"
   ]
  },
  {
   "cell_type": "code",
   "execution_count": null,
   "id": "e16b2de4",
   "metadata": {
    "hidden": true
   },
   "outputs": [],
   "source": [
    "crypto_reddit_df[crypto_reddit_df[\"date\"] > dt.datetime(2021, 11, 22)][\"title\"]"
   ]
  },
  {
   "cell_type": "code",
   "execution_count": null,
   "id": "3880be5e",
   "metadata": {
    "hidden": true
   },
   "outputs": [],
   "source": [
    "crypto_reddit_text = crypto_reddit_df[\n",
    "    crypto_reddit_df[\"date\"] > dt.datetime(2021, 11, 22)][\"title\"]\n",
    "len(crypto_reddit_text)"
   ]
  },
  {
   "cell_type": "code",
   "execution_count": null,
   "id": "633d2709",
   "metadata": {
    "hidden": true
   },
   "outputs": [],
   "source": [
    "econ_reddit_df = pd.read_csv(\n",
    "    \"gcs://wagon-data-750-btc-sent-fc/raw_data/reddit_econ_prelim.csv\")"
   ]
  },
  {
   "cell_type": "code",
   "execution_count": null,
   "id": "581a1cb2",
   "metadata": {
    "hidden": true
   },
   "outputs": [],
   "source": [
    "econ_reddit_df[\"date\"] = econ_reddit_df[\"date\"].map(to_readable_datetime)"
   ]
  },
  {
   "cell_type": "code",
   "execution_count": null,
   "id": "e9ce8b27",
   "metadata": {
    "hidden": true
   },
   "outputs": [],
   "source": [
    "econ_reddit_df[\"date\"] = pd.to_datetime(econ_reddit_df[\"date\"])"
   ]
  },
  {
   "cell_type": "code",
   "execution_count": null,
   "id": "952354ca",
   "metadata": {
    "hidden": true
   },
   "outputs": [],
   "source": [
    "econ_reddit_text = econ_reddit_df[\n",
    "    econ_reddit_df[\"date\"] > dt.datetime(2021, 11, 22)][\"title\"]"
   ]
  },
  {
   "cell_type": "code",
   "execution_count": null,
   "id": "afbb91c9",
   "metadata": {
    "hidden": true
   },
   "outputs": [],
   "source": [
    "len(econ_reddit_text)"
   ]
  },
  {
   "cell_type": "code",
   "execution_count": null,
   "id": "d284b742",
   "metadata": {
    "hidden": true
   },
   "outputs": [],
   "source": [
    "econ_reddit_text[1]"
   ]
  },
  {
   "cell_type": "code",
   "execution_count": null,
   "id": "02d0aabb",
   "metadata": {
    "hidden": true
   },
   "outputs": [],
   "source": [
    "text_string = \" \".join(i for i in econ_reddit_text)"
   ]
  },
  {
   "cell_type": "code",
   "execution_count": null,
   "id": "04cab2b6",
   "metadata": {
    "hidden": true
   },
   "outputs": [],
   "source": [
    "len(text_string)"
   ]
  },
  {
   "cell_type": "code",
   "execution_count": null,
   "id": "2b1ee587",
   "metadata": {
    "hidden": true
   },
   "outputs": [],
   "source": [
    "text_string_1 = \" \".join(i for i in crypto_reddit_text)"
   ]
  },
  {
   "cell_type": "code",
   "execution_count": null,
   "id": "c9268099",
   "metadata": {
    "hidden": true
   },
   "outputs": [],
   "source": [
    "len(text_string_1)"
   ]
  },
  {
   "cell_type": "code",
   "execution_count": null,
   "id": "c3cde732",
   "metadata": {
    "hidden": true
   },
   "outputs": [],
   "source": [
    "text_string_3 = \" \".join(i for i in inflation_tweet_text)"
   ]
  },
  {
   "cell_type": "code",
   "execution_count": null,
   "id": "14dfd748",
   "metadata": {
    "hidden": true
   },
   "outputs": [],
   "source": [
    "len(text_string_3)"
   ]
  },
  {
   "cell_type": "code",
   "execution_count": null,
   "id": "fa32ea19",
   "metadata": {
    "hidden": true
   },
   "outputs": [],
   "source": [
    "text_string_4 = text_string_1 + text_string_3 + text_string"
   ]
  },
  {
   "cell_type": "code",
   "execution_count": null,
   "id": "e225f3a5",
   "metadata": {
    "hidden": true
   },
   "outputs": [],
   "source": [
    "len(text_string_4)"
   ]
  },
  {
   "cell_type": "code",
   "execution_count": null,
   "id": "15f930c3",
   "metadata": {
    "hidden": true
   },
   "outputs": [],
   "source": [
    "text_string_4"
   ]
  },
  {
   "cell_type": "code",
   "execution_count": null,
   "id": "80034c23",
   "metadata": {
    "hidden": true
   },
   "outputs": [],
   "source": [
    "text_list = text_string_4.split()"
   ]
  },
  {
   "cell_type": "code",
   "execution_count": null,
   "id": "7ecc594b",
   "metadata": {
    "hidden": true
   },
   "outputs": [],
   "source": [
    "text_list"
   ]
  },
  {
   "cell_type": "code",
   "execution_count": null,
   "id": "99bb9aa7",
   "metadata": {
    "hidden": true
   },
   "outputs": [],
   "source": [
    "60 * 163"
   ]
  },
  {
   "cell_type": "code",
   "execution_count": null,
   "id": "efa7eaf9",
   "metadata": {
    "hidden": true
   },
   "outputs": [],
   "source": [
    "out_string = \", \".join(text_list)"
   ]
  },
  {
   "cell_type": "code",
   "execution_count": null,
   "id": "a2aa2fa5",
   "metadata": {
    "hidden": true
   },
   "outputs": [],
   "source": [
    "out_string[3]"
   ]
  },
  {
   "cell_type": "code",
   "execution_count": null,
   "id": "2600404e",
   "metadata": {
    "hidden": true
   },
   "outputs": [],
   "source": [
    "fs = gcsfs.GCSFileSystem()\n",
    "with fs.open(\n",
    "        'wagon-data-750-btc-sent-fc/website_data/word_text_2021_11_22.txt',\n",
    "        \"w\") as f:\n",
    "    f.write(out_string)"
   ]
  },
  {
   "cell_type": "code",
   "execution_count": null,
   "id": "df776a80",
   "metadata": {
    "hidden": true
   },
   "outputs": [],
   "source": [
    "from collections import Counter"
   ]
  },
  {
   "cell_type": "code",
   "execution_count": null,
   "id": "d43b5862",
   "metadata": {
    "hidden": true
   },
   "outputs": [],
   "source": [
    "l_sorted = Counter(text_list).most_common()"
   ]
  },
  {
   "cell_type": "code",
   "execution_count": null,
   "id": "e8da2613",
   "metadata": {
    "hidden": true
   },
   "outputs": [],
   "source": [
    "l_sorted"
   ]
  },
  {
   "cell_type": "code",
   "execution_count": null,
   "id": "76c1570a",
   "metadata": {
    "hidden": true
   },
   "outputs": [],
   "source": [
    "with fs.open(\n",
    "        'wagon-data-750-btc-sent-fc/website_data/word_text_2021_11_22.txt',\n",
    "        \"rb\") as f:\n",
    "    in_string = f.read().decode()"
   ]
  },
  {
   "cell_type": "code",
   "execution_count": null,
   "id": "9304a485",
   "metadata": {
    "hidden": true
   },
   "outputs": [],
   "source": [
    "import string"
   ]
  },
  {
   "cell_type": "code",
   "execution_count": null,
   "id": "1b8adfbe",
   "metadata": {
    "hidden": true
   },
   "outputs": [],
   "source": [
    "in_string[3]"
   ]
  },
  {
   "cell_type": "markdown",
   "id": "c493e5c2",
   "metadata": {
    "heading_collapsed": true
   },
   "source": [
    "# BTC DATA"
   ]
  },
  {
   "cell_type": "code",
   "execution_count": null,
   "id": "912f4fcc",
   "metadata": {
    "hidden": true
   },
   "outputs": [],
   "source": [
    "bitcoin_list = [\n",
    "    'n-transactions-per-block', 'difficulty', 'utxo-count', 'mvrv', 'nvt',\n",
    "    'avg-block-size', 'n-transactions-excluding-popular', 'n-unique-addresses',\n",
    "    'median-confirmation-time', 'miners-revenue', 'mempool-growth',\n",
    "    'mempool-size', 'blocks-size', 'hash-rate', 'n-transactions-total',\n",
    "    'avg-confirmation-time', 'nvts', 'transaction-fees-usd', 'active_account'\n",
    "]"
   ]
  },
  {
   "cell_type": "code",
   "execution_count": null,
   "id": "4ade48ba",
   "metadata": {
    "hidden": true
   },
   "outputs": [],
   "source": [
    "bitcoin_list"
   ]
  },
  {
   "cell_type": "markdown",
   "id": "1b4ac6b9",
   "metadata": {
    "hidden": true
   },
   "source": [
    "## Glassnode?"
   ]
  },
  {
   "cell_type": "code",
   "execution_count": null,
   "id": "66b2f9f2",
   "metadata": {
    "hidden": true
   },
   "outputs": [],
   "source": [
    "glassnode_url = \"https://api.glassnode.com/v2/metrics\""
   ]
  },
  {
   "cell_type": "code",
   "execution_count": null,
   "id": "6c185396",
   "metadata": {
    "hidden": true
   },
   "outputs": [],
   "source": [
    "active_account = \"addresses/active_count\""
   ]
  },
  {
   "cell_type": "code",
   "execution_count": null,
   "id": "9412f293",
   "metadata": {
    "hidden": true
   },
   "outputs": [],
   "source": [
    "import tensorflow as tf"
   ]
  },
  {
   "cell_type": "code",
   "execution_count": null,
   "id": "82171719",
   "metadata": {
    "hidden": true
   },
   "outputs": [],
   "source": []
  },
  {
   "cell_type": "code",
   "execution_count": null,
   "id": "168bb2ea",
   "metadata": {
    "hidden": true
   },
   "outputs": [],
   "source": [
    "loaded_model = joblib.load(\n",
    "    tf.io.gfile.GFile(\n",
    "        \"gs://wagon-data-750-btc-sent-fc/model/finbert_token.joblib\", \"rb\"))"
   ]
  },
  {
   "cell_type": "code",
   "execution_count": null,
   "id": "29a00da5",
   "metadata": {
    "hidden": true
   },
   "outputs": [],
   "source": [
    "loaded_model"
   ]
  },
  {
   "cell_type": "code",
   "execution_count": null,
   "id": "da85a451",
   "metadata": {
    "hidden": true
   },
   "outputs": [],
   "source": [
    "fs = gcsfs.GCSFileSystem()\n",
    "with fs.open('wagon-data-750-btc-sent-fc/model/finbert_token.joblib') as f:\n",
    "    model = joblib.load(f)"
   ]
  },
  {
   "cell_type": "code",
   "execution_count": null,
   "id": "a8e40477",
   "metadata": {
    "hidden": true
   },
   "outputs": [],
   "source": [
    "model"
   ]
  },
  {
   "cell_type": "code",
   "execution_count": null,
   "id": "ccdee386",
   "metadata": {
    "hidden": true
   },
   "outputs": [],
   "source": []
  },
  {
   "cell_type": "code",
   "execution_count": null,
   "id": "23f22849",
   "metadata": {
    "hidden": true
   },
   "outputs": [],
   "source": []
  },
  {
   "cell_type": "code",
   "execution_count": null,
   "id": "0bd5c222",
   "metadata": {
    "hidden": true
   },
   "outputs": [],
   "source": []
  },
  {
   "cell_type": "code",
   "execution_count": null,
   "id": "767e0d3e",
   "metadata": {
    "hidden": true
   },
   "outputs": [],
   "source": []
  },
  {
   "cell_type": "code",
   "execution_count": null,
   "id": "68e51cce",
   "metadata": {
    "hidden": true
   },
   "outputs": [],
   "source": [
    "pd.read_csv(\"gs://wagon-data-750-btc-sent-fc/input_data/test_2021_11_22.csv\")"
   ]
  }
 ],
 "metadata": {
  "kernelspec": {
   "display_name": "Python 3 (ipykernel)",
   "language": "python",
   "name": "python3"
  },
  "language_info": {
   "codemirror_mode": {
    "name": "ipython",
    "version": 3
   },
   "file_extension": ".py",
   "mimetype": "text/x-python",
   "name": "python",
   "nbconvert_exporter": "python",
   "pygments_lexer": "ipython3",
   "version": "3.8.12"
  },
  "toc": {
   "base_numbering": 1,
   "nav_menu": {},
   "number_sections": true,
   "sideBar": true,
   "skip_h1_title": false,
   "title_cell": "Table of Contents",
   "title_sidebar": "Contents",
   "toc_cell": false,
   "toc_position": {},
   "toc_section_display": true,
   "toc_window_display": false
  },
  "varInspector": {
   "cols": {
    "lenName": 16,
    "lenType": 16,
    "lenVar": 40
   },
   "kernels_config": {
    "python": {
     "delete_cmd_postfix": "",
     "delete_cmd_prefix": "del ",
     "library": "var_list.py",
     "varRefreshCmd": "print(var_dic_list())"
    },
    "r": {
     "delete_cmd_postfix": ") ",
     "delete_cmd_prefix": "rm(",
     "library": "var_list.r",
     "varRefreshCmd": "cat(var_dic_list()) "
    }
   },
   "types_to_exclude": [
    "module",
    "function",
    "builtin_function_or_method",
    "instance",
    "_Feature"
   ],
   "window_display": false
  }
 },
 "nbformat": 4,
 "nbformat_minor": 5
}
