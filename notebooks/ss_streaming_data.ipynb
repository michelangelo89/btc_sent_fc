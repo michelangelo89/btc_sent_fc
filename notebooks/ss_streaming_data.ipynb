{
 "cells": [
  {
   "cell_type": "markdown",
   "id": "0af054b6",
   "metadata": {},
   "source": [
    "# STREAMING DATA"
   ]
  },
  {
   "cell_type": "markdown",
   "id": "d662ccdc",
   "metadata": {},
   "source": [
    "# Imports"
   ]
  },
  {
   "cell_type": "code",
   "execution_count": 2,
   "id": "0c4c8679",
   "metadata": {},
   "outputs": [],
   "source": [
    "import pandas as pd\n",
    "import numpy as np\n",
    "import requests\n",
    "import joblib"
   ]
  },
  {
   "cell_type": "markdown",
   "id": "f8a9d037",
   "metadata": {},
   "source": [
    "# Fin Data"
   ]
  },
  {
   "cell_type": "code",
   "execution_count": 3,
   "id": "351b8e98",
   "metadata": {},
   "outputs": [],
   "source": [
    "df = pd.read_csv(\"../raw_data/features_2016.csv\",\n",
    "                 index_col=0,\n",
    "                 parse_dates=True)"
   ]
  },
  {
   "cell_type": "code",
   "execution_count": 4,
   "id": "8febff60",
   "metadata": {},
   "outputs": [
    {
     "data": {
      "text/plain": [
       "Index(['n-transactions-per-block', 'difficulty', 'utxo-count', 'mvrv', 'nvt',\n",
       "       'avg-block-size', 'n-transactions-excluding-popular',\n",
       "       'n-unique-addresses', 'median-confirmation-time', 'miners-revenue',\n",
       "       'mempool-growth', 'mempool-size', 'blocks-size', 'hash-rate',\n",
       "       'n-transactions-total', 'avg-confirmation-time', 'nvts',\n",
       "       'transaction-fees-usd', 'active_account',\n",
       "       'Russell 2000 Index (RUT) - Index Value',\n",
       "       'CBOE Volatility S&P 500 Index (^VIX) - Index Value',\n",
       "       'S&P 500 (^SPX) - Index Value',\n",
       "       'NASDAQ Composite Index (^COMP) - Index Value',\n",
       "       'Dow Jones Industrial Average (^DJI) - Index Value', 'News Sentiment',\n",
       "       'S&P U.S. Treasury Bill 0-3 Month Index',\n",
       "       'S&P U.S. Treasury Bond 10+ Year Index',\n",
       "       'S&P U.S. TIPS 5+ Year Index (USD)',\n",
       "       'S&P U.S. Treasury Bond 1-3 Year Index',\n",
       "       'S&P Canada Treasury Bill Index',\n",
       "       'S&P U.S. Treasury Bond Current 30-Year Index',\n",
       "       'S&P U.S. Treasury Bond Current 5-Year Index',\n",
       "       'S&P Short Term Taxable Municipal Bond Index',\n",
       "       'S&P Taxable Municipal Bond Index',\n",
       "       'S&P U.S. Treasury Bond Current 2-Year Index',\n",
       "       'S&P U.S. Treasury Bond 7-10 Year Index',\n",
       "       'S&P U.S. TIPS 0-1 Year Index (USD)',\n",
       "       'S&P U.S. Treasury Bond 20+ Year Index',\n",
       "       'S&P U.S. Government & Corporate AAA-AA 1+ Year Bond Index',\n",
       "       'S&P Municipal Yield Index',\n",
       "       'S&P U.S. Treasury Bond Current 7-Year Index',\n",
       "       'S&P U.S. Treasury Bond Current 10-Year Index',\n",
       "       'S&P U.S. Treasury Bill 9-12 Month Index',\n",
       "       'S&P U.S. Treasury Bond Current 3-Year Index',\n",
       "       'S&P U.S. TIPS 30 Year Index (USD)',\n",
       "       'S&P U.S. Ultra Short Treasury Bill & Bond Index (USD)',\n",
       "       'S&P U.S. TIPS 15+ Year Index (USD)',\n",
       "       'S&P U.S. Treasury Bond 5-7 Year Index',\n",
       "       'S&P U.S. TIPS 10+ Year Index (USD)',\n",
       "       'S&P U.S. Treasury Bill 3-6 Month Index',\n",
       "       'S&P U.S. Treasury Bond 7-10 Year Index (TTM JPY)',\n",
       "       'S&P U.S. TIPS 7-10 Year Index (USD)',\n",
       "       'S&P U.S. Treasury Bond 3-5 Year Index',\n",
       "       'S&P U.S. TIPS 3-5 Year Index (USD)',\n",
       "       'S&P U.S. TIPS 1-3 Year Index (USD)',\n",
       "       'S&P U.S. TIPS 5-7 Year Index (USD)',\n",
       "       'S&P U.S. Treasury Bill 6-9 Month Index', 'tweets_sent',\n",
       "       'reddit_crypto_sent', 'reddit_econ_sent', 'volume_gross'],\n",
       "      dtype='object')"
      ]
     },
     "execution_count": 4,
     "metadata": {},
     "output_type": "execute_result"
    }
   ],
   "source": [
    "df.columns"
   ]
  },
  {
   "cell_type": "code",
   "execution_count": null,
   "id": "c02183c8",
   "metadata": {},
   "outputs": [],
   "source": []
  },
  {
   "cell_type": "code",
   "execution_count": null,
   "id": "362d4fc9",
   "metadata": {},
   "outputs": [],
   "source": []
  },
  {
   "cell_type": "code",
   "execution_count": null,
   "id": "df222161",
   "metadata": {},
   "outputs": [],
   "source": []
  },
  {
   "cell_type": "code",
   "execution_count": null,
   "id": "ce301883",
   "metadata": {},
   "outputs": [],
   "source": []
  },
  {
   "cell_type": "code",
   "execution_count": null,
   "id": "29c818fe",
   "metadata": {},
   "outputs": [],
   "source": []
  },
  {
   "cell_type": "code",
   "execution_count": null,
   "id": "8e31aa4f",
   "metadata": {},
   "outputs": [],
   "source": []
  },
  {
   "cell_type": "markdown",
   "id": "a330dfa8",
   "metadata": {},
   "source": [
    "# BTC Data"
   ]
  },
  {
   "cell_type": "code",
   "execution_count": null,
   "id": "6096af9a",
   "metadata": {},
   "outputs": [],
   "source": [
    "df"
   ]
  },
  {
   "cell_type": "code",
   "execution_count": null,
   "id": "666af148",
   "metadata": {},
   "outputs": [],
   "source": []
  },
  {
   "cell_type": "code",
   "execution_count": null,
   "id": "4e66eda2",
   "metadata": {},
   "outputs": [],
   "source": []
  },
  {
   "cell_type": "code",
   "execution_count": null,
   "id": "acd66d91",
   "metadata": {},
   "outputs": [],
   "source": []
  },
  {
   "cell_type": "code",
   "execution_count": null,
   "id": "c1dba11d",
   "metadata": {},
   "outputs": [],
   "source": []
  },
  {
   "cell_type": "code",
   "execution_count": null,
   "id": "1d220a39",
   "metadata": {},
   "outputs": [],
   "source": []
  },
  {
   "cell_type": "code",
   "execution_count": null,
   "id": "78843386",
   "metadata": {},
   "outputs": [],
   "source": []
  },
  {
   "cell_type": "code",
   "execution_count": null,
   "id": "9fac2a25",
   "metadata": {},
   "outputs": [],
   "source": []
  },
  {
   "cell_type": "code",
   "execution_count": null,
   "id": "914e9382",
   "metadata": {},
   "outputs": [],
   "source": []
  },
  {
   "cell_type": "code",
   "execution_count": null,
   "id": "376556b1",
   "metadata": {},
   "outputs": [],
   "source": []
  },
  {
   "cell_type": "code",
   "execution_count": null,
   "id": "d29e7fff",
   "metadata": {},
   "outputs": [],
   "source": []
  },
  {
   "cell_type": "code",
   "execution_count": null,
   "id": "7b9ff226",
   "metadata": {},
   "outputs": [],
   "source": []
  },
  {
   "cell_type": "code",
   "execution_count": null,
   "id": "7800a189",
   "metadata": {},
   "outputs": [],
   "source": []
  },
  {
   "cell_type": "code",
   "execution_count": null,
   "id": "2b69ae0b",
   "metadata": {},
   "outputs": [],
   "source": []
  },
  {
   "cell_type": "code",
   "execution_count": null,
   "id": "f91f8c12",
   "metadata": {},
   "outputs": [],
   "source": []
  },
  {
   "cell_type": "code",
   "execution_count": null,
   "id": "b8b61980",
   "metadata": {},
   "outputs": [],
   "source": []
  },
  {
   "cell_type": "code",
   "execution_count": null,
   "id": "748ccfa8",
   "metadata": {},
   "outputs": [],
   "source": []
  },
  {
   "cell_type": "code",
   "execution_count": null,
   "id": "80eb375d",
   "metadata": {},
   "outputs": [],
   "source": []
  },
  {
   "cell_type": "code",
   "execution_count": null,
   "id": "5e71aec7",
   "metadata": {},
   "outputs": [],
   "source": []
  },
  {
   "cell_type": "code",
   "execution_count": null,
   "id": "8e12cad3",
   "metadata": {},
   "outputs": [],
   "source": []
  },
  {
   "cell_type": "code",
   "execution_count": null,
   "id": "ef1934fe",
   "metadata": {},
   "outputs": [],
   "source": []
  },
  {
   "cell_type": "code",
   "execution_count": null,
   "id": "bdf479f3",
   "metadata": {},
   "outputs": [],
   "source": []
  },
  {
   "cell_type": "code",
   "execution_count": null,
   "id": "5754b0ff",
   "metadata": {},
   "outputs": [],
   "source": []
  },
  {
   "cell_type": "code",
   "execution_count": null,
   "id": "60a045c8",
   "metadata": {},
   "outputs": [],
   "source": []
  },
  {
   "cell_type": "code",
   "execution_count": null,
   "id": "6964ea48",
   "metadata": {},
   "outputs": [],
   "source": []
  },
  {
   "cell_type": "code",
   "execution_count": null,
   "id": "e9fe1086",
   "metadata": {},
   "outputs": [],
   "source": []
  },
  {
   "cell_type": "code",
   "execution_count": null,
   "id": "691430b6",
   "metadata": {},
   "outputs": [],
   "source": []
  },
  {
   "cell_type": "code",
   "execution_count": null,
   "id": "61804eab",
   "metadata": {},
   "outputs": [],
   "source": []
  },
  {
   "cell_type": "code",
   "execution_count": null,
   "id": "26204d8e",
   "metadata": {},
   "outputs": [],
   "source": []
  },
  {
   "cell_type": "code",
   "execution_count": null,
   "id": "908846fa",
   "metadata": {},
   "outputs": [],
   "source": []
  },
  {
   "cell_type": "code",
   "execution_count": null,
   "id": "ca976caa",
   "metadata": {},
   "outputs": [],
   "source": []
  },
  {
   "cell_type": "code",
   "execution_count": null,
   "id": "d8ef6e72",
   "metadata": {},
   "outputs": [],
   "source": []
  },
  {
   "cell_type": "code",
   "execution_count": null,
   "id": "d3b699a5",
   "metadata": {},
   "outputs": [],
   "source": []
  }
 ],
 "metadata": {
  "kernelspec": {
   "display_name": "Python 3 (ipykernel)",
   "language": "python",
   "name": "python3"
  },
  "language_info": {
   "codemirror_mode": {
    "name": "ipython",
    "version": 3
   },
   "file_extension": ".py",
   "mimetype": "text/x-python",
   "name": "python",
   "nbconvert_exporter": "python",
   "pygments_lexer": "ipython3",
   "version": "3.8.12"
  },
  "toc": {
   "base_numbering": 1,
   "nav_menu": {},
   "number_sections": true,
   "sideBar": true,
   "skip_h1_title": false,
   "title_cell": "Table of Contents",
   "title_sidebar": "Contents",
   "toc_cell": false,
   "toc_position": {},
   "toc_section_display": true,
   "toc_window_display": false
  },
  "varInspector": {
   "cols": {
    "lenName": 16,
    "lenType": 16,
    "lenVar": 40
   },
   "kernels_config": {
    "python": {
     "delete_cmd_postfix": "",
     "delete_cmd_prefix": "del ",
     "library": "var_list.py",
     "varRefreshCmd": "print(var_dic_list())"
    },
    "r": {
     "delete_cmd_postfix": ") ",
     "delete_cmd_prefix": "rm(",
     "library": "var_list.r",
     "varRefreshCmd": "cat(var_dic_list()) "
    }
   },
   "types_to_exclude": [
    "module",
    "function",
    "builtin_function_or_method",
    "instance",
    "_Feature"
   ],
   "window_display": false
  }
 },
 "nbformat": 4,
 "nbformat_minor": 5
}
